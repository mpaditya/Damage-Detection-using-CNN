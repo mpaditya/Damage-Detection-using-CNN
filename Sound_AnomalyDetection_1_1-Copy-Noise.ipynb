{
 "cells": [
  {
   "cell_type": "code",
   "execution_count": 1,
   "metadata": {},
   "outputs": [],
   "source": [
    "%matplotlib inline"
   ]
  },
  {
   "cell_type": "code",
   "execution_count": 2,
   "metadata": {
    "colab": {},
    "colab_type": "code",
    "id": "PJXSQt2C6ByW"
   },
   "outputs": [],
   "source": [
    "import warnings\n",
    "warnings.filterwarnings(\"ignore\")"
   ]
  },
  {
   "cell_type": "code",
   "execution_count": 3,
   "metadata": {
    "colab": {
     "base_uri": "https://localhost:8080/",
     "height": 121
    },
    "colab_type": "code",
    "id": "jTnAhpYRNoXF",
    "outputId": "47f75058-5977-4707-a85d-9a51a28a4165"
   },
   "outputs": [],
   "source": [
    "# from google.colab import drive\n",
    "# drive.mount('/content/gdrive',force_remount=True)\n",
    "# %reload_ext autoreload\n",
    "# %autoreload 2"
   ]
  },
  {
   "cell_type": "code",
   "execution_count": 215,
   "metadata": {
    "colab": {},
    "colab_type": "code",
    "id": "jV7AARuuA1iu"
   },
   "outputs": [],
   "source": [
    "import matplotlib.pyplot as plt\n",
    "import numpy as np\n",
    "import pandas as pd\n",
    "import cv2\n",
    "import csv\n",
    "import sys\n",
    "import glob\n",
    "import pickle\n",
    "import random\n",
    "import re\n",
    "import scipy\n",
    "from scipy import signal\n",
    "from scipy.signal import filtfilt\n",
    "import itertools\n",
    "from sklearn.preprocessing import LabelEncoder\n",
    "import os\n",
    "# import torch\n",
    "# import fastai\n",
    "import librosa\n",
    "import librosa.display\n",
    "import librosa.core, librosa.feature\n",
    "import yaml\n",
    "import time\n",
    "from sklearn import metrics\n",
    "from tqdm import tqdm\n",
    "# from fastai.vision import *\n",
    "np.random.seed(0)\n",
    "import seaborn as sns\n",
    "sns.set_palette(\"husl\") \n",
    "# from torchvision.models import resnet50\n",
    "# from torchvision.models import mobilenet_v2\n",
    "# from torchvision.models import vgg16\n",
    "# from fastai.callbacks import *\n",
    "\n",
    "from sklearn.preprocessing import minmax_scale\n",
    "from sklearn.metrics import accuracy_score\n",
    "from sklearn.metrics import confusion_matrix\n",
    "\n",
    "# from fastai import *\n",
    "# from fastai.dataset import ModelData,ArraysIndexDataset\n",
    "# from fastai.dataloader import DataLoader\n",
    "# from fastai.learner import Learner\n",
    "\n",
    "# import torch\n",
    "# import torch.nn as nn\n",
    "import keras.models\n",
    "from keras.models import Model\n",
    "from keras.callbacks import ModelCheckpoint\n",
    "from keras.layers import Input, Dense, BatchNormalization, Activation\n",
    "\n",
    "from IPython.core.interactiveshell import InteractiveShell\n",
    "InteractiveShell.ast_node_interactivity = \"all\""
   ]
  },
  {
   "cell_type": "code",
   "execution_count": 5,
   "metadata": {},
   "outputs": [
    {
     "data": {
      "text/plain": [
       "'C:\\\\Users\\\\DMT2KOR\\\\OneDrive - Robert Bosch GmbH\\\\Documents\\\\WORK\\\\PROJECTS\\\\PoCs\\\\Machine Sound Monitoring\\\\DATA\\\\DCASE2020'"
      ]
     },
     "execution_count": 5,
     "metadata": {},
     "output_type": "execute_result"
    }
   ],
   "source": [
    "os.getcwd()"
   ]
  },
  {
   "cell_type": "code",
   "execution_count": 6,
   "metadata": {},
   "outputs": [],
   "source": [
    "os.chdir(os.path.join(os.getcwd(), 'pump_basedir'))"
   ]
  },
  {
   "cell_type": "code",
   "execution_count": 7,
   "metadata": {
    "colab": {
     "base_uri": "https://localhost:8080/",
     "height": 35
    },
    "colab_type": "code",
    "id": "eF_jKR1AkCsY",
    "outputId": "968ef619-1acc-4a74-91a4-ee585f8bdaea"
   },
   "outputs": [],
   "source": [
    "directory = os.getcwd()\n",
    "os.makedirs(os.path.join(directory, 'dataset'), exist_ok=True)\n",
    "# os.makedirs(\"/content/models\", exist_ok=True)\n",
    "# os.makedirs(\"/content/plots\", exist_ok=True)\n",
    "# os.chdir(\"/content/gdrive/My Drive/Sound_Analytics/\")\n",
    "# os.getcwd()"
   ]
  },
  {
   "cell_type": "code",
   "execution_count": 8,
   "metadata": {
    "colab": {
     "base_uri": "https://localhost:8080/",
     "height": 50
    },
    "colab_type": "code",
    "id": "sCNiK4iXkJM6",
    "outputId": "0d14e235-cb01-4382-c7ac-9f1224a4f9eb"
   },
   "outputs": [],
   "source": [
    "# import zipfile\n",
    "\n",
    "# # \"dev_data_pump.zip\", \n",
    "# files_to_extract = [\"pump_basedir.zip\"]\n",
    "# for fp in files_to_extract:\n",
    "#   path_to_zip_file = f\"/content/gdrive/My Drive/Sound_Analytics/{fp}\"\n",
    "#   directory_to_extract_to = '/content/dataset/'\n",
    "#   print(\"Extracting zip file: %s\" % path_to_zip_file)\n",
    "#   with zipfile.ZipFile(path_to_zip_file, 'r') as zip_ref:\n",
    "#     zip_ref.extractall(directory_to_extract_to)\n",
    "#   print(\"Extracted at: %s\" % directory_to_extract_to)"
   ]
  },
  {
   "cell_type": "code",
   "execution_count": 9,
   "metadata": {},
   "outputs": [],
   "source": [
    "# !ls"
   ]
  },
  {
   "cell_type": "code",
   "execution_count": 10,
   "metadata": {
    "colab": {
     "base_uri": "https://localhost:8080/",
     "height": 34
    },
    "colab_type": "code",
    "id": "VQrq607FkgtV",
    "outputId": "9ee5d7f7-0a87-49c7-a8e5-a334c9c9e7e1"
   },
   "outputs": [],
   "source": [
    "# !nvidia-smi -L"
   ]
  },
  {
   "cell_type": "markdown",
   "metadata": {
    "colab_type": "text",
    "id": "Vty9zIeFdfM8"
   },
   "source": [
    "### Set up Logs"
   ]
  },
  {
   "cell_type": "code",
   "execution_count": 11,
   "metadata": {
    "colab": {
     "base_uri": "https://localhost:8080/",
     "height": 35
    },
    "colab_type": "code",
    "id": "0i-rBvyDdeAr",
    "outputId": "797b928d-38de-4f3f-d269-16af0522ccbc"
   },
   "outputs": [
    {
     "data": {
      "text/plain": [
       "'\\nStandard output is logged in \"baseline.log\".\\n'"
      ]
     },
     "execution_count": 11,
     "metadata": {},
     "output_type": "execute_result"
    }
   ],
   "source": [
    "########################################################################\n",
    "# setup STD I/O\n",
    "########################################################################\n",
    "\"\"\"\n",
    "Standard output is logged in \"baseline.log\".\n",
    "\"\"\"\n",
    "import logging\n",
    "\n",
    "logging.basicConfig(level=logging.DEBUG, filename=\"baseline.log\")\n",
    "logger = logging.getLogger(' ')\n",
    "handler = logging.StreamHandler()\n",
    "formatter = logging.Formatter('%(asctime)s - %(levelname)s - %(message)s')\n",
    "handler.setFormatter(formatter)\n",
    "logger.addHandler(handler)"
   ]
  },
  {
   "cell_type": "code",
   "execution_count": 12,
   "metadata": {
    "colab": {},
    "colab_type": "code",
    "id": "ynUBjfV1dloX"
   },
   "outputs": [],
   "source": [
    "########################################################################\n",
    "# argparse\n",
    "########################################################################\n",
    "import argparse\n",
    "def command_line_chk():\n",
    "    parser = argparse.ArgumentParser(description='Without option argument, it will not run properly.')\n",
    "    parser.add_argument('-v', '--version', action='store_true', help=\"show application version\")\n",
    "    parser.add_argument('-e', '--eval', action='store_true', help=\"run mode Evaluation\")\n",
    "    parser.add_argument('-d', '--dev', action='store_true', help=\"run mode Development\")\n",
    "    args = parser.parse_args()\n",
    "    if args.version:\n",
    "        print(\"===============================\")\n",
    "        print(\"DCASE 2020 task 2 baseline\\nversion {}\".format(__versions__))\n",
    "        print(\"===============================\\n\")\n",
    "    if args.eval ^ args.dev:\n",
    "        if args.dev:\n",
    "            flag = True\n",
    "        else:\n",
    "            flag = False\n",
    "    else:\n",
    "        flag = None\n",
    "        print(\"incorrect argument\")\n",
    "        print(\"please set option argument '--dev' or '--eval'\")\n",
    "    return flag\n",
    "########################################################################"
   ]
  },
  {
   "cell_type": "code",
   "execution_count": 13,
   "metadata": {
    "colab": {},
    "colab_type": "code",
    "id": "knVUMv7Zxfu2"
   },
   "outputs": [],
   "source": [
    "# load parameter yaml\n",
    "with open(\"baseline.yaml\") as stream:\n",
    "    param = yaml.safe_load(stream)"
   ]
  },
  {
   "cell_type": "code",
   "execution_count": 14,
   "metadata": {
    "colab": {},
    "colab_type": "code",
    "id": "gwM2wCp7A7FZ"
   },
   "outputs": [],
   "source": [
    "def file_load(wav_name, mono=False):\n",
    "    \"\"\"\n",
    "    load .wav file.\n",
    "\n",
    "    wav_name : str\n",
    "        target .wav file\n",
    "    sampling_rate : int\n",
    "        audio file sampling_rate\n",
    "    mono : boolean\n",
    "        When load a multi channels file and this param True, the returned data will be merged for mono data\n",
    "\n",
    "    return : np.array( float )\n",
    "    \"\"\"\n",
    "    try:\n",
    "        return librosa.load(wav_name, sr=None, mono=mono)\n",
    "        # frames = 5\n",
    "        # n_mels=64\n",
    "        # power = 2.0\n",
    "        # dims = n_mels * frames\n",
    "        # mel_spectrogram = librosa.feature.melspectrogram(y=y,\n",
    "        #                                                 n_fft=1024,\n",
    "        #                                                 hop_length=512,\n",
    "        #                                                 n_mels=n_mels,\n",
    "        #                                                 power=2.0)\n",
    "\n",
    "        # # 03 convert melspectrogram to log mel energy\n",
    "        # log_mel_spectrogram = 20.0 / power * np.log10(mel_spectrogram + sys.float_info.epsilon)\n",
    "\n",
    "        # # 04 calculate total vector size\n",
    "        # vectorarray_size = len(log_mel_spectrogram[0, :]) - frames + 1\n",
    "\n",
    "        # # 05 skip too short clips\n",
    "        # if vectorarray_size < 1:\n",
    "        #     return np.empty((0, dims), float)\n",
    "\n",
    "        # # 06 generate feature vectors by concatenating multi_frames\n",
    "        # vectorarray = np.zeros((vectorarray_size, dims), float)\n",
    "        # for t in range(frames):\n",
    "        #     vectorarray[:, n_mels * t: n_mels * (t + 1)] = log_mel_spectrogram[:, t: t + vectorarray_size].T\n",
    "        \n",
    "    except:\n",
    "        print(\"file_broken or not exists!! : {}\".format(wav_name))\n",
    "\n",
    "    "
   ]
  },
  {
   "cell_type": "markdown",
   "metadata": {
    "colab_type": "text",
    "id": "-hMBpt_-fRuz"
   },
   "source": [
    "Sample Test of Function"
   ]
  },
  {
   "cell_type": "code",
   "execution_count": 15,
   "metadata": {
    "colab": {},
    "colab_type": "code",
    "id": "32-JXSxDkS8r"
   },
   "outputs": [],
   "source": [
    "# y = librosa.load('/content/dataset/pump/train/normal_id_04_00000164.wav', sr=None, mono=True)[0]\n",
    "# frames = 5\n",
    "# n_mels=64\n",
    "# power = 2.0\n",
    "# dims = n_mels * frames\n",
    "# mel_spectrogram = librosa.feature.melspectrogram(y=y,\n",
    "#                                                 n_fft=1024,\n",
    "#                                                 hop_length=512,\n",
    "#                                                 n_mels=n_mels,\n",
    "#                                                 power=2.0)\n",
    "\n",
    "# # 03 convert melspectrogram to log mel energy\n",
    "# log_mel_spectrogram = 20.0 / power * np.log10(mel_spectrogram + sys.float_info.epsilon)\n",
    "# print ('Shape of log_mel_spectrogram is: ', log_mel_spectrogram.shape)\n",
    "\n",
    "# # 04 calculate total vector size\n",
    "# vectorarray_size = len(log_mel_spectrogram[0, :]) - frames + 1\n",
    "# print ('total vector size is: ', vectorarray_size)\n",
    "\n",
    "# # 05 skip too short clips\n",
    "# if vectorarray_size < 1:\n",
    "#     np.empty((0, dims), float)\n",
    "\n",
    "# # 06 generate feature vectors by concatenating multi_frames\n",
    "# vectorarray = np.zeros((vectorarray_size, dims), float)\n",
    "# print ('shape of vectorarray is: ', vectorarray.shape)\n",
    "# for t in range(frames):\n",
    "#     vectorarray[:, n_mels * t: n_mels * (t + 1)] = log_mel_spectrogram[:, t: t + vectorarray_size].T\n",
    "# print ('shape of vectorarray is: ', vectorarray.shape)"
   ]
  },
  {
   "cell_type": "code",
   "execution_count": 16,
   "metadata": {
    "colab": {},
    "colab_type": "code",
    "id": "Ly6xc8RN0OCD"
   },
   "outputs": [],
   "source": [
    "# # LOADING TRAINING DATA\n",
    "# directory = r'/content/dataset/pump/train'\n",
    "# root = [sound for sound in glob.glob(os.path.join(directory)+\"/*.wav\")]\n",
    "# filenames_train = [i for i in os.listdir(directory) if i.endswith(\".wav\")]\n",
    "\n",
    "# root.sort() # ADD THIS LINE\n",
    "\n",
    "# sounds_train = []\n",
    "\n",
    "# # for sound in root:\n",
    "# #     n= file_load(sound)\n",
    "# #     sounds_train.append(n)"
   ]
  },
  {
   "cell_type": "code",
   "execution_count": 17,
   "metadata": {
    "colab": {},
    "colab_type": "code",
    "id": "f-AALJ5L6eUL"
   },
   "outputs": [],
   "source": [
    "# sounds_train[0].shape"
   ]
  },
  {
   "cell_type": "code",
   "execution_count": 18,
   "metadata": {
    "colab": {},
    "colab_type": "code",
    "id": "WuiBX1W18EjZ"
   },
   "outputs": [],
   "source": [
    "# df_train = pd.DataFrame({'Filename': filenames, 'Sounds': sounds_train})"
   ]
  },
  {
   "cell_type": "code",
   "execution_count": 19,
   "metadata": {
    "colab": {},
    "colab_type": "code",
    "id": "SEllMJ6VHWqa"
   },
   "outputs": [],
   "source": [
    "# df_train.shape"
   ]
  },
  {
   "cell_type": "code",
   "execution_count": 20,
   "metadata": {
    "colab": {},
    "colab_type": "code",
    "id": "6cocOfmWHWqi"
   },
   "outputs": [],
   "source": [
    "# df_train.head(2)"
   ]
  },
  {
   "cell_type": "code",
   "execution_count": 21,
   "metadata": {
    "colab": {},
    "colab_type": "code",
    "id": "UnyEKq3k4jDC"
   },
   "outputs": [],
   "source": [
    "# # LOADING TEST DATA\n",
    "# directory = r'/content/dataset/pump/test/'\n",
    "# root = [sound for sound in glob.glob(os.path.join(directory)+\"/*.wav\")]\n",
    "# filenames_test = [i for i in os.listdir(directory) if i.endswith(\".wav\")]\n",
    "\n",
    "# root.sort() # ADD THIS LINE\n",
    "\n",
    "# sounds_test = []\n",
    "\n",
    "# # for sound in root:\n",
    "# #     n= file_load(sound)\n",
    "# #     sounds_test.append(n)"
   ]
  },
  {
   "cell_type": "code",
   "execution_count": 22,
   "metadata": {
    "colab": {},
    "colab_type": "code",
    "id": "6c78F4rJ6hQW"
   },
   "outputs": [],
   "source": [
    "# sounds_test[0].shape"
   ]
  },
  {
   "cell_type": "code",
   "execution_count": 23,
   "metadata": {
    "colab": {},
    "colab_type": "code",
    "id": "7eUM112r79tj"
   },
   "outputs": [],
   "source": [
    "# df_test = pd.DataFrame({'Filename': filenames, 'Sounds': sounds_test})"
   ]
  },
  {
   "cell_type": "code",
   "execution_count": 24,
   "metadata": {
    "colab": {},
    "colab_type": "code",
    "id": "gZ93N6Ga8Q2J"
   },
   "outputs": [],
   "source": [
    "# df_test.shape"
   ]
  },
  {
   "cell_type": "code",
   "execution_count": 25,
   "metadata": {
    "colab": {},
    "colab_type": "code",
    "id": "nn3rX50_8Q2L"
   },
   "outputs": [],
   "source": [
    "# df_test.head(2)"
   ]
  },
  {
   "cell_type": "code",
   "execution_count": 26,
   "metadata": {
    "colab": {},
    "colab_type": "code",
    "id": "rtPZ778hHWqr"
   },
   "outputs": [],
   "source": [
    "# df_test['Class'] = 'NA'\n",
    "# df_test.loc[(df_test['Filename'].str.contains('normal')), 'Class'] = 0\n",
    "# df_test.loc[(df_test['Filename'].str.contains('anomal')), 'Class'] = 1"
   ]
  },
  {
   "cell_type": "code",
   "execution_count": 27,
   "metadata": {
    "colab": {},
    "colab_type": "code",
    "id": "G-8HIErcHWqy"
   },
   "outputs": [],
   "source": [
    "# df_test['Class'].value_counts()"
   ]
  },
  {
   "cell_type": "code",
   "execution_count": 28,
   "metadata": {
    "colab": {},
    "colab_type": "code",
    "id": "hFUkjZ-gexf-"
   },
   "outputs": [],
   "source": [
    "# train_files = list(df_train['Filename'])\n",
    "# train_labels = list(df_train['Filename'])\n",
    "# test_files = list(df_test['Filename'])\n",
    "# test_labels = list(df_test['Filename'])"
   ]
  },
  {
   "cell_type": "code",
   "execution_count": 29,
   "metadata": {
    "colab": {},
    "colab_type": "code",
    "id": "nKSEr8VHfY_V"
   },
   "outputs": [],
   "source": [
    "# train_data = list_to_vector_array(train_files,\n",
    "#                                   msg=\"generate train_dataset\",\n",
    "#                                   n_mels=param[\"feature\"][\"n_mels\"],\n",
    "#                                   frames=param[\"feature\"][\"frames\"],\n",
    "#                                   n_fft=param[\"feature\"][\"n_fft\"],\n",
    "#                                   hop_length=param[\"feature\"][\"hop_length\"],\n",
    "#                                   power=param[\"feature\"][\"power\"])"
   ]
  },
  {
   "cell_type": "markdown",
   "metadata": {
    "colab_type": "text",
    "id": "oWnnwOfFY7f8"
   },
   "source": [
    "### Data Exploration Functions"
   ]
  },
  {
   "cell_type": "markdown",
   "metadata": {},
   "source": [
    "#### Noise Filter Functions"
   ]
  },
  {
   "cell_type": "code",
   "execution_count": 85,
   "metadata": {},
   "outputs": [],
   "source": [
    "def band_pass (wav_array, N=4, sr=16000):\n",
    "    nyq = 0.5 * sr\n",
    "    low = 100 / nyq\n",
    "    high = 500 / nyq\n",
    "    \n",
    "    b, a = signal.butter(N, [low, high], btype='band')\n",
    "    \n",
    "    # apply filter\n",
    "    output_signal = signal.filtfilt(b, a, wav_array)\n",
    "    \n",
    "    return output_signal"
   ]
  },
  {
   "cell_type": "code",
   "execution_count": 86,
   "metadata": {},
   "outputs": [],
   "source": [
    "def pre_emphasis(wav_array, coef = 0.97):\n",
    "    wav_array = librosa.effects.preemphasis(wav_array, coef=coef)\n",
    "    return wav_array"
   ]
  },
  {
   "cell_type": "markdown",
   "metadata": {},
   "source": [
    "Comparison of Sound File With & Without Pre-Emphasis"
   ]
  },
  {
   "cell_type": "code",
   "execution_count": 87,
   "metadata": {},
   "outputs": [
    {
     "data": {
      "text/plain": [
       "<matplotlib.collections.QuadMesh at 0x2088e07cc18>"
      ]
     },
     "execution_count": 87,
     "metadata": {},
     "output_type": "execute_result"
    },
    {
     "data": {
      "text/plain": [
       "Text(0.5, 1.0, 'Original signal')"
      ]
     },
     "execution_count": 87,
     "metadata": {},
     "output_type": "execute_result"
    },
    {
     "data": {
      "image/png": "[encoded data removed]",
      "text/plain": [
       "<Figure size 432x288 with 1 Axes>"
      ]
     },
     "metadata": {
      "needs_background": "light"
     },
     "output_type": "display_data"
    },
    {
     "data": {
      "text/plain": [
       "<matplotlib.collections.QuadMesh at 0x2088b8242e8>"
      ]
     },
     "execution_count": 87,
     "metadata": {},
     "output_type": "execute_result"
    },
    {
     "data": {
      "text/plain": [
       "Text(0.5, 1.0, 'Pre-emphasized signal')"
      ]
     },
     "execution_count": 87,
     "metadata": {},
     "output_type": "execute_result"
    },
    {
     "data": {
      "image/png": "[encoded data removed]",
      "text/plain": [
       "<Figure size 432x288 with 1 Axes>"
      ]
     },
     "metadata": {
      "needs_background": "light"
     },
     "output_type": "display_data"
    }
   ],
   "source": [
    "directory = r'C:\\Users\\DMT2KOR\\OneDrive - Robert Bosch GmbH\\Documents\\WORK\\PROJECTS\\PoCs\\Machine Sound Monitoring\\DATA\\DCASE2020\\pump_basedir\\dev_data\\pump\\train'\n",
    "filename = 'normal_id_04_00000164.wav'\n",
    "\n",
    "y, sr = file_load(os.path.join(directory, filename))\n",
    "y_filt = pre_emphasis(y, 0.98)\n",
    "# and plot the results for comparison\n",
    "S_orig = librosa.amplitude_to_db(np.abs(librosa.stft(y)), ref=np.max)\n",
    "S_preemph = librosa.amplitude_to_db(np.abs(librosa.stft(y_filt)), ref=np.max)\n",
    "\n",
    "# print(type(S_orig))\n",
    "librosa.display.specshow(S_orig, y_axis='log', x_axis='time')\n",
    "plt.title('Original signal')\n",
    "plt.show()\n",
    "#\n",
    "librosa.display.specshow(S_preemph, y_axis='log', x_axis='time')\n",
    "plt.title('Pre-emphasized signal')\n",
    "plt.show()"
   ]
  },
  {
   "cell_type": "code",
   "execution_count": 88,
   "metadata": {},
   "outputs": [
    {
     "data": {
      "text/plain": [
       "<Figure size 1008x360 with 0 Axes>"
      ]
     },
     "execution_count": 88,
     "metadata": {},
     "output_type": "execute_result"
    },
    {
     "data": {
      "text/plain": [
       "[<matplotlib.lines.Line2D at 0x2088b8a2ef0>]"
      ]
     },
     "execution_count": 88,
     "metadata": {},
     "output_type": "execute_result"
    },
    {
     "data": {
      "text/plain": [
       "Text(0.5, 1.0, 'Original signal')"
      ]
     },
     "execution_count": 88,
     "metadata": {},
     "output_type": "execute_result"
    },
    {
     "data": {
      "image/png": "[encoded data removed]",
      "text/plain": [
       "<Figure size 1008x360 with 1 Axes>"
      ]
     },
     "metadata": {
      "needs_background": "light"
     },
     "output_type": "display_data"
    },
    {
     "data": {
      "text/plain": [
       "<Figure size 1008x360 with 0 Axes>"
      ]
     },
     "execution_count": 88,
     "metadata": {},
     "output_type": "execute_result"
    },
    {
     "data": {
      "text/plain": [
       "[<matplotlib.lines.Line2D at 0x2088e08ddd8>]"
      ]
     },
     "execution_count": 88,
     "metadata": {},
     "output_type": "execute_result"
    },
    {
     "data": {
      "text/plain": [
       "Text(0.5, 1.0, 'Pre-emphasized signal')"
      ]
     },
     "execution_count": 88,
     "metadata": {},
     "output_type": "execute_result"
    },
    {
     "data": {
      "image/png": "[encoded data removed]",
      "text/plain": [
       "<Figure size 1008x360 with 1 Axes>"
      ]
     },
     "metadata": {
      "needs_background": "light"
     },
     "output_type": "display_data"
    }
   ],
   "source": [
    "plt.figure(figsize=(14, 5))\n",
    "plt.plot(y[0:16000])\n",
    "plt.title('Original signal')\n",
    "plt.show()\n",
    "\n",
    "# plt.figure(figsize=(14, 5))\n",
    "#plotting the sampled signal\n",
    "# librosa.display.waveplot(y)\n",
    "# plt.show()\n",
    "\n",
    "plt.figure(figsize=(14, 5))\n",
    "plt.plot(y_filt[0:16000])\n",
    "plt.title('Pre-emphasized signal')\n",
    "plt.show()"
   ]
  },
  {
   "cell_type": "code",
   "execution_count": 89,
   "metadata": {},
   "outputs": [
    {
     "data": {
      "text/plain": [
       "(160000,)"
      ]
     },
     "execution_count": 89,
     "metadata": {},
     "output_type": "execute_result"
    }
   ],
   "source": [
    "y.shape"
   ]
  },
  {
   "cell_type": "code",
   "execution_count": 90,
   "metadata": {},
   "outputs": [
    {
     "data": {
      "text/plain": [
       "(1025, 313)"
      ]
     },
     "execution_count": 90,
     "metadata": {},
     "output_type": "execute_result"
    }
   ],
   "source": [
    "S_preemph.shape"
   ]
  },
  {
   "cell_type": "code",
   "execution_count": 91,
   "metadata": {},
   "outputs": [],
   "source": [
    "def mean_normalization (wav_array, axis=0):\n",
    "    return minmax_scale(wav_array, axis=axis)\n",
    "\n",
    "# temp = mean_normalization(S_preemph)\n",
    "# temp.shape"
   ]
  },
  {
   "cell_type": "code",
   "execution_count": 92,
   "metadata": {
    "colab": {},
    "colab_type": "code",
    "id": "fUiEYATTY-c-"
   },
   "outputs": [],
   "source": [
    "def get_log_mel_spectrogram(filename, n_mels=64,\n",
    "                        n_fft=1024,\n",
    "                        hop_length=512,\n",
    "                        power=2.0):\n",
    "    wav, sampling_rate = file_load(filename)\n",
    "    mel_spectrogram = librosa.feature.melspectrogram(y=wav,\n",
    "                                                     sr=sampling_rate,\n",
    "                                                     n_fft=n_fft,\n",
    "                                                     hop_length=hop_length,\n",
    "                                                     n_mels=n_mels,\n",
    "                                                     power=power)\n",
    "    log_mel_spectrogram = 20.0 / power * np.log10(mel_spectrogram + sys.float_info.epsilon)\n",
    "    return log_mel_spectrogram"
   ]
  },
  {
   "cell_type": "code",
   "execution_count": 93,
   "metadata": {
    "colab": {},
    "colab_type": "code",
    "id": "lWmy7df2ZAOR"
   },
   "outputs": [],
   "source": [
    "def get_MFCCs(filename, n_mfcc=12,\n",
    "                        n_mels=128,\n",
    "                        n_fft=1024,\n",
    "                        hop_length=512,\n",
    "                        power=2.0):\n",
    "    wav, sampling_rate = file_load(filename)\n",
    "    mfcc = librosa.feature.mfcc(y=wav,n_mfcc=n_mfcc,\n",
    "                                 sr=sampling_rate,\n",
    "                                 n_fft=n_fft,\n",
    "                                 hop_length=hop_length,\n",
    "                                 n_mels=n_mels,\n",
    "                                 power=power)\n",
    "    \n",
    "    return mfcc"
   ]
  },
  {
   "cell_type": "code",
   "execution_count": 94,
   "metadata": {
    "colab": {},
    "colab_type": "code",
    "id": "uI_WWexGZD0Q"
   },
   "outputs": [],
   "source": [
    "def get_log_chroma_spectrogram(filename, n_chroma=64,\n",
    "                        n_fft=1024,\n",
    "                        hop_length=512,\n",
    "                        power=.0):\n",
    "    wav, sampling_rate = file_load(filename)\n",
    "    chroma_spectrogram = librosa.feature.chroma_stft(y=wav,\n",
    "                                                     sr=sampling_rate,\n",
    "                                                     n_fft=n_fft,\n",
    "                                                     hop_length=hop_length,\n",
    "                                                     n_chroma=n_chroma)\n",
    "    log_chroma_spectrogram = chroma_spectrogram\n",
    "    #log_mel_spectrogram = 20.0 / power * np.log10(mel_spectrogram + sys.float_info.epsilon)\n",
    "    return log_chroma_spectrogram"
   ]
  },
  {
   "cell_type": "code",
   "execution_count": 95,
   "metadata": {
    "colab": {},
    "colab_type": "code",
    "id": "umXGNkZ5ZH2B"
   },
   "outputs": [],
   "source": [
    "def get_gammatone(path2,nfilts=64, n_fft=1024, hop_length=512, power=2.0):\n",
    "    sr = librosa.get_samplerate(path2)\n",
    "    y, _ = librosa.load(path2, sr=sr)\n",
    "\n",
    "\n",
    "\n",
    "    S, n_fft = librosa.core.spectrum._spectrogram(y=y, S=None, n_fft=n_fft, hop_length=hop_length, power=power)\n",
    "    \n",
    "\n",
    "    filter_gammatone = spafe.fbanks.gammatone_fbanks.gammatone_filter_banks(nfilts=nfilts, nfft=n_fft, fs=sr)\n",
    "    gammatone_spec = np.dot(filter_gammatone, S)\n",
    "   \n",
    "\n",
    "    gammatone_spec = 20.0 / power * np.log10(gammatone_spec + sys.float_info.epsilon)\n",
    "\n",
    "    \n",
    "    return gammatone_spec"
   ]
  },
  {
   "cell_type": "markdown",
   "metadata": {},
   "source": [
    "LFCC implementation"
   ]
  },
  {
   "cell_type": "code",
   "execution_count": 221,
   "metadata": {},
   "outputs": [],
   "source": [
    "def lin(sr, n_fft, n_filter=128, fmin=0.0, fmax=None, dtype=np.float32):\n",
    "\n",
    "    if fmax is None:\n",
    "        fmax = float(sr) / 2\n",
    "    # Initialize the weights\n",
    "    n_filter = int(n_filter)\n",
    "    weights = np.zeros((n_filter, int(1 + n_fft // 2)), dtype=dtype)\n",
    "\n",
    "    # Center freqs of each FFT bin\n",
    "    fftfreqs = librosa.fft_frequencies(sr=sr, n_fft=n_fft)\n",
    "\n",
    "    # 'Center freqs' of liner bands - uniformly spaced between limits\n",
    "    linear_f = np.linspace(fmin, fmax, n_filter + 2)\n",
    "\n",
    "    fdiff = np.diff(linear_f)\n",
    "    ramps = np.subtract.outer(linear_f, fftfreqs)\n",
    "\n",
    "    for i in range(n_filter):\n",
    "        # lower and upper slopes for all bins\n",
    "        lower = -ramps[i] / fdiff[i]\n",
    "        upper = ramps[i + 2] / fdiff[i + 1]\n",
    "\n",
    "        # .. then intersect them with each other and zero\n",
    "        weights[i] = np.maximum(0, np.minimum(lower, upper))\n",
    "\n",
    "    return weights\n",
    "\n",
    "\n",
    "def linear_spec(y=None,\n",
    "                sr=22050,\n",
    "                n_fft=2048,\n",
    "                hop_length=512,\n",
    "                win_length=None,\n",
    "                window='hann',\n",
    "                center=True,\n",
    "                pad_mode='reflect',\n",
    "                power=2.0,\n",
    "                **kwargs):\n",
    "    S = np.abs(\n",
    "        librosa.core.stft(y=y,\n",
    "                          n_fft=n_fft,\n",
    "                          hop_length=hop_length,\n",
    "                          win_length=win_length,\n",
    "                          window=window,\n",
    "                          center=center,\n",
    "                          pad_mode=pad_mode))**power\n",
    "    filter = lin(sr=sr, n_fft=n_fft, **kwargs)\n",
    "    return np.dot(filter, S)\n",
    "\n",
    "\n",
    "def lfcc_calc(y=None,\n",
    "         sr=16000,\n",
    "         S=None,\n",
    "         n_lfcc=40,\n",
    "         dct_type=2,\n",
    "         norm='ortho',\n",
    "         **kwargs):\n",
    "    if S is None:\n",
    "        S = librosa.power_to_db(linear_spec(y=y, sr=sr, **kwargs))\n",
    "    M = scipy.fftpack.dct(S, axis=0, type=dct_type, norm=norm)[:n_lfcc]\n",
    "    return M"
   ]
  },
  {
   "cell_type": "code",
   "execution_count": 96,
   "metadata": {
    "colab": {},
    "colab_type": "code",
    "id": "pBhuwU1jZY32"
   },
   "outputs": [],
   "source": [
    "# directory = r'/content/dataset/pump/test'\n",
    "# for j in [0,1]:\n",
    "#   fig, ax = plt.subplots(1, 2, figsize = (15, 5))\n",
    "#   for i in range(0,2):\n",
    "#     temp = df_test[df_test['Class'] == j]\n",
    "#     sound = temp['Sounds'].iloc[i]\n",
    "#     file_name = temp['Filename'].iloc[i]\n",
    "#     ax[i].set_title(file_name)\n",
    "#     ax[i].imshow(sound)\n",
    "#     ax[i].axis('off')\n",
    "#   plt.show()"
   ]
  },
  {
   "cell_type": "code",
   "execution_count": 97,
   "metadata": {},
   "outputs": [
    {
     "data": {
      "text/plain": [
       "(-80.0, 0.0, -36.26435, 7.474259)"
      ]
     },
     "execution_count": 97,
     "metadata": {},
     "output_type": "execute_result"
    }
   ],
   "source": [
    "np.min(S_orig), np.max(S_orig), np.mean(S_orig), np.std(S_orig)"
   ]
  },
  {
   "cell_type": "code",
   "execution_count": 98,
   "metadata": {},
   "outputs": [
    {
     "data": {
      "text/plain": [
       "array([[-24.507034, -30.6956  , -62.056015, ..., -39.262184, -48.989243,\n",
       "        -30.132622],\n",
       "       [-24.23361 , -30.546999, -54.901947, ..., -37.45173 , -39.347427,\n",
       "        -28.335537],\n",
       "       [-22.519379, -28.23952 , -36.105473, ..., -47.132507, -32.962875,\n",
       "        -28.164957],\n",
       "       ...,\n",
       "       [-37.837708, -39.902435, -37.31244 , ..., -44.912075, -41.33954 ,\n",
       "        -49.292984],\n",
       "       [-33.187653, -34.851364, -39.340324, ..., -41.600563, -45.64037 ,\n",
       "        -41.899307],\n",
       "       [-32.859955, -45.69455 , -42.913902, ..., -44.7518  , -67.557076,\n",
       "        -43.13458 ]], dtype=float32)"
      ]
     },
     "execution_count": 98,
     "metadata": {},
     "output_type": "execute_result"
    }
   ],
   "source": [
    "S_orig"
   ]
  },
  {
   "cell_type": "code",
   "execution_count": 99,
   "metadata": {},
   "outputs": [
    {
     "data": {
      "text/plain": [
       "array([[0.7759744 , 0.6438367 , 0.12753344, ..., 0.5064296 , 0.3990268 ,\n",
       "        0.6244732 ],\n",
       "       [0.7797978 , 0.64646375, 0.24543715, ..., 0.533823  , 0.5230916 ,\n",
       "        0.64697754],\n",
       "       [0.8037684 , 0.6872576 , 0.5552155 , ..., 0.38734627, 0.605244  ,\n",
       "        0.64911366],\n",
       "       ...,\n",
       "       [0.5895677 , 0.48106945, 0.5353239 , ..., 0.4209429 , 0.4974584 ,\n",
       "        0.38453418],\n",
       "       [0.6545908 , 0.5703671 , 0.501903  , ..., 0.47104836, 0.442118  ,\n",
       "        0.47712278],\n",
       "       [0.6591731 , 0.37867093, 0.44300807, ..., 0.42336798, 0.16010773,\n",
       "        0.4616539 ]], dtype=float32)"
      ]
     },
     "execution_count": 99,
     "metadata": {},
     "output_type": "execute_result"
    }
   ],
   "source": [
    "minmax_scale(S_orig)"
   ]
  },
  {
   "cell_type": "code",
   "execution_count": 100,
   "metadata": {},
   "outputs": [
    {
     "data": {
      "text/plain": [
       "array([[-0.30633792, -0.45736605, -0.88912624, ..., -0.5398157 ,\n",
       "        -0.61236554, -0.37665778],\n",
       "       [-0.30292013, -0.45515186, -0.7866242 , ..., -0.5149238 ,\n",
       "        -0.49184284, -0.35419422],\n",
       "       [-0.28149223, -0.4207703 , -0.51731205, ..., -0.6480248 ,\n",
       "        -0.41203594, -0.35206196],\n",
       "       ...,\n",
       "       [-0.47297135, -0.59454834, -0.5346052 , ..., -0.6174961 ,\n",
       "        -0.51674426, -0.6161623 ],\n",
       "       [-0.41484565, -0.5192871 , -0.5636603 , ..., -0.5719661 ,\n",
       "        -0.5705046 , -0.52374136],\n",
       "       [-0.41074944, -0.68085116, -0.61486185, ..., -0.6152925 ,\n",
       "        -0.84446347, -0.53918225]], dtype=float32)"
      ]
     },
     "execution_count": 100,
     "metadata": {},
     "output_type": "execute_result"
    }
   ],
   "source": [
    "librosa.util.normalize(S_orig)"
   ]
  },
  {
   "cell_type": "markdown",
   "metadata": {
    "colab_type": "text",
    "id": "Za413GWTU0Ug"
   },
   "source": [
    "### Feature Extraction Functions"
   ]
  },
  {
   "cell_type": "code",
   "execution_count": 222,
   "metadata": {
    "colab": {},
    "colab_type": "code",
    "id": "zpc2vMMbba0g"
   },
   "outputs": [],
   "source": [
    "########################################################################\n",
    "# feature extractor\n",
    "########################################################################\n",
    "def file_to_vector_array(file_name,\n",
    "                         n_mels=64,\n",
    "                         frames=5,\n",
    "                         n_fft=1024,\n",
    "                         hop_length=512,\n",
    "                         power=2.0):\n",
    "    \"\"\"\n",
    "    convert file_name to a vector array.\n",
    "    file_name : str\n",
    "        target .wav file\n",
    "    return : np.array( np.array( float ) )\n",
    "        vector array\n",
    "        * dataset.shape = (dataset_size, feature_vector_length)\n",
    "    \"\"\"\n",
    "    # 01 calculate the number of dimensions\n",
    "    dims = n_mels * frames\n",
    "\n",
    "    # 02 generate melspectrogram using librosa\n",
    "    y, sr = file_load(file_name)\n",
    "    \n",
    "    # 02.5 use pre-emphasis high-pass filter\n",
    "#     y = pre_emphasis(y, 0.97)\n",
    "    \n",
    "    # 02.5 use mean normalization\n",
    "#     y = librosa.util.normalize(y) \n",
    "\n",
    "    # 02.5 Band Pass Filter\n",
    "    y = band_pass(y, N=4, sr=sr)\n",
    "    \n",
    "    stft = librosa.core.stft(y=y, n_fft=n_fft, hop_length=hop_length, win_length=n_fft, window='hann')\n",
    "    spectrogram = np.abs(stft)**2\n",
    "    stft = np.real(stft)\n",
    "    mel_spectrogram = librosa.feature.melspectrogram(y=y,\n",
    "                                                     sr=sr,\n",
    "                                                     n_fft=n_fft,\n",
    "                                                     hop_length=hop_length,\n",
    "                                                     n_mels=n_mels,\n",
    "                                                     power=power)\n",
    "\n",
    "    mfcc = librosa.feature.mfcc(y=y, sr=sr, n_mfcc=n_mels)\n",
    "    lfcc = lfcc_calc(y=y, sr=sr, n_lfcc=n_mels)\n",
    "        \n",
    "#     # 03 convert melspectrogram to log mel energy\n",
    "#     log_mel_spectrogram = 20.0 / power * np.log10(mel_spectrogram + sys.float_info.epsilon)\n",
    "    \n",
    "    # 03 This can also be written in one line using librosafunction - Convert to db scale\n",
    "    log_mel_spectrogram = librosa.core.power_to_db(mel_spectrogram)    \n",
    "    \n",
    "#     # 03.5 use mean normalization\n",
    "#     log_mel_spectrogram = librosa.util.normalize(log_mel_spectrogram)       \n",
    "\n",
    "#     vector_array = stft\n",
    "    \n",
    "    # 04 calculate total vector size\n",
    "    vector_array_size = len(log_mel_spectrogram[0, :]) - frames + 1\n",
    "\n",
    "    # 05 skip too short clips\n",
    "    if vector_array_size < 1:\n",
    "        return np.empty((0, dims))\n",
    "\n",
    "    # 06 generate feature vectors by concatenating multiframes\n",
    "    vector_array = np.zeros((vector_array_size, dims))\n",
    "    for t in range(frames):\n",
    "        vector_array[:, n_mels * t: n_mels * (t + 1)] = lfcc[:, t: t + vector_array_size].T\n",
    "\n",
    "    return vector_array, log_mel_spectrogram, mfcc, stft"
   ]
  },
  {
   "cell_type": "code",
   "execution_count": 223,
   "metadata": {},
   "outputs": [],
   "source": [
    "import pywt"
   ]
  },
  {
   "cell_type": "markdown",
   "metadata": {
    "colab_type": "text",
    "id": "P563In62fGSF"
   },
   "source": [
    "Sample Test of Function"
   ]
  },
  {
   "cell_type": "code",
   "execution_count": 224,
   "metadata": {
    "colab": {},
    "colab_type": "code",
    "id": "9ie7QKtclszP"
   },
   "outputs": [],
   "source": [
    "directory = r'C:\\Users\\DMT2KOR\\OneDrive - Robert Bosch GmbH\\Documents\\WORK\\PROJECTS\\PoCs\\Machine Sound Monitoring\\DATA\\DCASE2020\\pump_basedir\\dev_data\\pump\\train'\n",
    "filename = 'normal_id_04_00000164.wav'\n",
    "vector_array, log_mel_spectrogram, mfcc, stft = file_to_vector_array(os.path.join(directory, filename),\n",
    "                                    n_mels=64,\n",
    "                                    frames=5,\n",
    "                                    n_fft=1024,\n",
    "                                    hop_length=512,\n",
    "                                    power=2.0)"
   ]
  },
  {
   "cell_type": "code",
   "execution_count": 225,
   "metadata": {},
   "outputs": [
    {
     "data": {
      "text/plain": [
       "array([-0.00061035, -0.01025391, -0.00534058, ..., -0.0083313 ,\n",
       "       -0.00057983, -0.00039673], dtype=float32)"
      ]
     },
     "execution_count": 225,
     "metadata": {},
     "output_type": "execute_result"
    }
   ],
   "source": [
    "y"
   ]
  },
  {
   "cell_type": "code",
   "execution_count": 226,
   "metadata": {},
   "outputs": [],
   "source": [
    "# sampling information\n",
    "Fs = 16000 # sample rate\n",
    "T = 1/Fs # sampling period\n",
    "t = 10 # seconds of sampling\n",
    "N = Fs*t # total points in signal\n",
    "\n",
    "Y_k = np.fft.fft(y)[0:int(N/2)]/N # FFT function from numpy\n",
    "Y_k[1:] = 2*Y_k[1:] # need to take the single-sided spectrum only\n",
    "Pxx = np.abs(Y_k) # be sure to get rid of imaginary part\n",
    "\n",
    "f = Fs*np.arange((N/2))/N; # frequency vector"
   ]
  },
  {
   "cell_type": "code",
   "execution_count": 227,
   "metadata": {},
   "outputs": [
    {
     "data": {
      "text/plain": [
       "array([2.51026154e-06, 4.72562357e-06, 4.91219722e-06, ...,\n",
       "       2.03416121e-05, 4.58517011e-06, 2.41907000e-05])"
      ]
     },
     "execution_count": 227,
     "metadata": {},
     "output_type": "execute_result"
    }
   ],
   "source": [
    "Pxx"
   ]
  },
  {
   "cell_type": "code",
   "execution_count": 228,
   "metadata": {},
   "outputs": [
    {
     "data": {
      "text/plain": [
       "(1.337194260297894e-07, 3.0001560981976766e-05, 0.0023461455785661685)"
      ]
     },
     "execution_count": 228,
     "metadata": {},
     "output_type": "execute_result"
    }
   ],
   "source": [
    "np.min(Pxx), np.mean(Pxx), np.max(Pxx)"
   ]
  },
  {
   "cell_type": "code",
   "execution_count": 229,
   "metadata": {},
   "outputs": [
    {
     "data": {
      "text/plain": [
       "80000"
      ]
     },
     "execution_count": 229,
     "metadata": {},
     "output_type": "execute_result"
    }
   ],
   "source": [
    "len(temp)"
   ]
  },
  {
   "cell_type": "code",
   "execution_count": 230,
   "metadata": {},
   "outputs": [
    {
     "data": {
      "text/plain": [
       "array([0.40164185, 0.37804988, 0.39297578, ..., 1.627329  , 0.3668136 ,\n",
       "       1.935256  ], dtype=float32)"
      ]
     },
     "execution_count": 230,
     "metadata": {},
     "output_type": "execute_result"
    }
   ],
   "source": [
    "from scipy.fftpack import fft\n",
    "temp = scipy.fft(y)\n",
    "temp = np.abs(temp[: int(len(temp)/2)])\n",
    "temp"
   ]
  },
  {
   "cell_type": "code",
   "execution_count": 231,
   "metadata": {},
   "outputs": [
    {
     "data": {
      "text/plain": [
       "array([-0.40164185+0.j        , -0.37804204-0.00243523j,\n",
       "       -0.3925991 +0.01720186j, ..., -0.39463133+0.00499392j,\n",
       "       -0.3925991 -0.01720186j, -0.37804204+0.00243523j], dtype=complex64)"
      ]
     },
     "execution_count": 231,
     "metadata": {},
     "output_type": "execute_result"
    }
   ],
   "source": [
    "scipy.fft(y)"
   ]
  },
  {
   "cell_type": "code",
   "execution_count": 232,
   "metadata": {},
   "outputs": [
    {
     "data": {
      "text/plain": [
       "array([-0.40164185, -0.37804204, -0.3925991 , ..., -0.39463133,\n",
       "       -0.3925991 , -0.37804204], dtype=float32)"
      ]
     },
     "execution_count": 232,
     "metadata": {},
     "output_type": "execute_result"
    }
   ],
   "source": [
    "np.real(scipy.fft(y))"
   ]
  },
  {
   "cell_type": "code",
   "execution_count": 233,
   "metadata": {},
   "outputs": [
    {
     "data": {
      "text/plain": [
       "((-84.93565-29.748081j),\n",
       " (-0.00061035366+7.6293943e-10j),\n",
       " (140.64807+14.325135j))"
      ]
     },
     "execution_count": 233,
     "metadata": {},
     "output_type": "execute_result"
    }
   ],
   "source": [
    "np.min(scipy.fft(y)), np.mean(scipy.fft(y)), np.max(scipy.fft(y))"
   ]
  },
  {
   "cell_type": "code",
   "execution_count": 234,
   "metadata": {},
   "outputs": [
    {
     "data": {
      "text/plain": [
       "(513, 311)"
      ]
     },
     "execution_count": 234,
     "metadata": {},
     "output_type": "execute_result"
    }
   ],
   "source": [
    "librosa.core.stft(y=y, n_fft=1024, hop_length=512, win_length=1024, window='hann', center = False).shape"
   ]
  },
  {
   "cell_type": "code",
   "execution_count": 235,
   "metadata": {},
   "outputs": [
    {
     "data": {
      "text/plain": [
       "(-704.4427552672876, -4.081154316735933, 143.14126965615588)"
      ]
     },
     "execution_count": 235,
     "metadata": {},
     "output_type": "execute_result"
    }
   ],
   "source": [
    "np.min(vector_array), np.mean(vector_array), np.max(vector_array)"
   ]
  },
  {
   "cell_type": "code",
   "execution_count": 236,
   "metadata": {},
   "outputs": [
    {
     "data": {
      "text/plain": [
       "(309, 64)"
      ]
     },
     "execution_count": 236,
     "metadata": {},
     "output_type": "execute_result"
    }
   ],
   "source": [
    "t=0\n",
    "n_mels = 64\n",
    "vector_array[:, n_mels * t: n_mels * (t + 1)].shape"
   ]
  },
  {
   "cell_type": "code",
   "execution_count": 237,
   "metadata": {},
   "outputs": [
    {
     "data": {
      "text/plain": [
       "array([[-3.83581852e-01,  3.87851406e-01, -3.93033121e-01, ...,\n",
       "         1.20961799e-03, -1.20958430e-03,  1.20957223e-03],\n",
       "       [ 9.88946675e-04,  1.09630560e-03,  1.46398237e-03, ...,\n",
       "        -3.17672397e-09, -3.17636276e-09, -3.17624234e-09],\n",
       "       [-8.61101796e-04, -8.97901049e-04, -9.01331852e-04, ...,\n",
       "         1.12300136e-10,  1.12287933e-10,  1.12283894e-10],\n",
       "       ...,\n",
       "       [-6.59278370e-05, -5.92583240e-05, -2.49258767e-06, ...,\n",
       "         1.10819486e-09,  1.10806917e-09,  1.10802729e-09],\n",
       "       [-2.22585708e-04, -2.72497268e-04, -4.85984610e-04, ...,\n",
       "         6.25270561e-10,  6.25198733e-10,  6.25174812e-10],\n",
       "       [ 3.89979316e-04,  4.09573171e-04,  5.06384782e-04, ...,\n",
       "        -3.57728629e-10, -3.57688029e-10, -3.57674474e-10]])"
      ]
     },
     "execution_count": 237,
     "metadata": {},
     "output_type": "execute_result"
    }
   ],
   "source": [
    "stft[:, t: t + vector_array_size].T"
   ]
  },
  {
   "cell_type": "code",
   "execution_count": 238,
   "metadata": {},
   "outputs": [
    {
     "data": {
      "text/plain": [
       "array([[-3.83581852e-01,  9.88946675e-04, -8.61101796e-04, ...,\n",
       "        -3.47192884e-05, -1.50185889e-04, -3.44491839e-03],\n",
       "       [ 3.87851406e-01,  1.09630560e-03, -8.97901049e-04, ...,\n",
       "        -5.07486083e-05, -1.70152726e-04, -7.14957904e-04],\n",
       "       [-3.93033121e-01,  1.46398237e-03, -9.01331852e-04, ...,\n",
       "        -1.07694309e-04, -1.10162474e-04,  3.96199864e-03],\n",
       "       ...,\n",
       "       [ 1.20961799e-03, -3.17672397e-09,  1.12300136e-10, ...,\n",
       "        -6.61596869e-10, -2.40405488e-10, -2.82812309e-05],\n",
       "       [-1.20958430e-03, -3.17636276e-09,  1.12287933e-10, ...,\n",
       "        -6.61521920e-10, -2.40377416e-10, -1.71862231e-07],\n",
       "       [ 1.20957223e-03, -3.17624234e-09,  1.12283894e-10, ...,\n",
       "        -6.61496933e-10, -2.40368035e-10,  2.82845812e-05]])"
      ]
     },
     "execution_count": 238,
     "metadata": {},
     "output_type": "execute_result"
    }
   ],
   "source": [
    "np.real(stft)"
   ]
  },
  {
   "cell_type": "code",
   "execution_count": 239,
   "metadata": {},
   "outputs": [
    {
     "data": {
      "text/plain": [
       "(64, 313)"
      ]
     },
     "execution_count": 239,
     "metadata": {},
     "output_type": "execute_result"
    }
   ],
   "source": [
    "mfcc.shape"
   ]
  },
  {
   "cell_type": "code",
   "execution_count": 240,
   "metadata": {},
   "outputs": [
    {
     "data": {
      "text/plain": [
       "(64, 313)"
      ]
     },
     "execution_count": 240,
     "metadata": {},
     "output_type": "execute_result"
    }
   ],
   "source": [
    "log_mel_spectrogram.shape"
   ]
  },
  {
   "cell_type": "code",
   "execution_count": 241,
   "metadata": {},
   "outputs": [
    {
     "data": {
      "text/plain": [
       "(-89.22413835198792, -9.22413835198792)"
      ]
     },
     "execution_count": 241,
     "metadata": {},
     "output_type": "execute_result"
    }
   ],
   "source": [
    "np.min(log_mel_spectrogram), np.max(log_mel_spectrogram)"
   ]
  },
  {
   "cell_type": "code",
   "execution_count": 242,
   "metadata": {
    "colab": {},
    "colab_type": "code",
    "id": "h6O18xuYmhAl"
   },
   "outputs": [
    {
     "data": {
      "text/plain": [
       "(309, 320)"
      ]
     },
     "execution_count": 242,
     "metadata": {},
     "output_type": "execute_result"
    }
   ],
   "source": [
    "vector_array.shape"
   ]
  },
  {
   "cell_type": "code",
   "execution_count": 243,
   "metadata": {},
   "outputs": [],
   "source": [
    "# file_list = files\n",
    "# # calculate the number of dimensions\n",
    "# dims = 128 * 5"
   ]
  },
  {
   "cell_type": "code",
   "execution_count": 244,
   "metadata": {},
   "outputs": [],
   "source": [
    "# np.zeros((log_mel_spectrogram.shape[0] * len(file_list), dims), float).shape"
   ]
  },
  {
   "cell_type": "code",
   "execution_count": 245,
   "metadata": {},
   "outputs": [],
   "source": [
    "# if idx == 0:\n",
    "#     dataset = np.zeros((log_mel_spectrogram.shape[0] * len(file_list), dims), float)\n",
    "# dataset[log_mel_spectrogram.shape[0] * idx: log_mel_spectrogram.shape[0] * (idx + 1), :] = log_mel_spectrogram"
   ]
  },
  {
   "cell_type": "code",
   "execution_count": 247,
   "metadata": {
    "colab": {},
    "colab_type": "code",
    "id": "r2XC_w-PbVCM"
   },
   "outputs": [],
   "source": [
    "########################################################################\n",
    "\n",
    "def list_to_vector_array(file_list,\n",
    "                         msg=\"calc...\",\n",
    "                         n_mels=64,\n",
    "                         frames=5,\n",
    "                         n_fft=1024,\n",
    "                         hop_length=512,\n",
    "                         power=2.0):\n",
    "    \"\"\"\n",
    "    convert the file_list to a vector array.\n",
    "    file_to_vector_array() is iterated, and the output vector array is concatenated.\n",
    "    file_list : list [ str ]\n",
    "        .wav filename list of dataset\n",
    "    msg : str ( default = \"calc...\" )\n",
    "        description for tqdm.\n",
    "        this parameter will be input into \"desc\" param at tqdm.\n",
    "    return : np.array( np.array( float ) )\n",
    "        vector array for training (this function is not used for test.)\n",
    "        * dataset.shape = (number of feature vectors, dimensions of feature vectors)\n",
    "    \"\"\"\n",
    "    # calculate the number of dimensions\n",
    "    dims = n_mels * frames\n",
    "\n",
    "#     dataset = []\n",
    "    # iterate file_to_vector_array()\n",
    "    for idx in tqdm(range(len(file_list)), desc=msg):\n",
    "        vector_array, log_mel_spectrogram, mfcc, stft = file_to_vector_array(file_list[idx],\n",
    "                                                n_mels=n_mels,\n",
    "                                                frames=frames,\n",
    "                                                n_fft=n_fft,\n",
    "                                                hop_length=hop_length,\n",
    "                                                power=power)\n",
    "        if idx == 0:\n",
    "            dataset = np.zeros((vector_array.shape[0] * len(file_list), dims), float)\n",
    "        dataset[vector_array.shape[0] * idx: vector_array.shape[0] * (idx + 1), :] = vector_array\n",
    "\n",
    "#         dataset.append(vector_array)\n",
    "\n",
    "#     return np.array(dataset)\n",
    "    return dataset"
   ]
  },
  {
   "cell_type": "code",
   "execution_count": 248,
   "metadata": {},
   "outputs": [
    {
     "data": {
      "text/plain": [
       "309"
      ]
     },
     "execution_count": 248,
     "metadata": {},
     "output_type": "execute_result"
    }
   ],
   "source": [
    "vector_array.shape[0]"
   ]
  },
  {
   "cell_type": "code",
   "execution_count": 249,
   "metadata": {},
   "outputs": [
    {
     "data": {
      "text/plain": [
       "(1034841, 320)"
      ]
     },
     "execution_count": 249,
     "metadata": {},
     "output_type": "execute_result"
    }
   ],
   "source": [
    "n_mels = 64\n",
    "frames = 5\n",
    "dims = n_mels * frames\n",
    "np.zeros((vector_array.shape[0] * 3349, vector_array.shape[1]), float).shape"
   ]
  },
  {
   "cell_type": "markdown",
   "metadata": {
    "colab_type": "text",
    "id": "HjIRaxN9cp8S"
   },
   "source": [
    "### File List Generator"
   ]
  },
  {
   "cell_type": "code",
   "execution_count": 250,
   "metadata": {
    "colab": {},
    "colab_type": "code",
    "id": "C3Idb6KjnEfK"
   },
   "outputs": [],
   "source": [
    "def file_list_generator(target_dir,\n",
    "                        dir_name=\"train\",\n",
    "                        ext=\"wav\"):\n",
    "    \"\"\"\n",
    "    target_dir : str\n",
    "        base directory path of the dev_data or eval_data\n",
    "    dir_name : str (default=\"train\")\n",
    "        directory name containing training data\n",
    "    ext : str (default=\"wav\")\n",
    "        file extension of audio files\n",
    "    return :\n",
    "        train_files : list [ str ]\n",
    "            file list for training\n",
    "    \"\"\"\n",
    "    logger.info(\"target_dir : {}\".format(target_dir))\n",
    "\n",
    "    # generate training list\n",
    "    training_list_path = os.path.abspath(\"{dir}/{dir_name}/*.{ext}\".format(dir=target_dir, dir_name=dir_name, ext=ext))\n",
    "    files = sorted(glob.glob(training_list_path))\n",
    "    if len(files) == 0:\n",
    "        logger.exception(\"no_wav_file!!\")\n",
    "\n",
    "    logger.info(\"train_file num : {num}\".format(num=len(files)))\n",
    "    return files\n",
    "########################################################################"
   ]
  },
  {
   "cell_type": "code",
   "execution_count": 251,
   "metadata": {
    "colab": {},
    "colab_type": "code",
    "id": "nglirtvJwte7"
   },
   "outputs": [],
   "source": [
    "# load dataset\n",
    "def select_dirs(param, mode):\n",
    "    \"\"\"\n",
    "    param : dict\n",
    "        baseline.yaml data\n",
    "    return :\n",
    "        if active type the development :\n",
    "            dirs :  list [ str ]\n",
    "                load base directory list of dev_data\n",
    "        if active type the evaluation :\n",
    "            dirs : list [ str ]\n",
    "                load base directory list of eval_data\n",
    "    \"\"\"\n",
    "    if mode:\n",
    "        logger.info(\"load_directory <- development\")\n",
    "        dir_path = os.path.abspath(\"{base}/*\".format(base=param[\"dev_directory\"]))\n",
    "        dirs = sorted(glob.glob(dir_path))\n",
    "    else:\n",
    "        logger.info(\"load_directory <- evaluation\")\n",
    "        dir_path = os.path.abspath(\"{base}/*\".format(base=param[\"eval_directory\"]))\n",
    "        dirs = sorted(glob.glob(dir_path))\n",
    "    return dirs\n",
    "\n",
    "########################################################################"
   ]
  },
  {
   "cell_type": "markdown",
   "metadata": {
    "colab_type": "text",
    "id": "F9kzZOLahGsj"
   },
   "source": [
    "Sample Test of Function"
   ]
  },
  {
   "cell_type": "code",
   "execution_count": 252,
   "metadata": {
    "colab": {
     "base_uri": "https://localhost:8080/",
     "height": 34
    },
    "colab_type": "code",
    "id": "Z0LGhjPLoj4N",
    "outputId": "0e66c28e-221b-4e2e-e543-d13a430c24d5"
   },
   "outputs": [
    {
     "name": "stderr",
     "output_type": "stream",
     "text": [
      "2020-09-10 20:07:30,728 - INFO - load_directory <- development\n"
     ]
    }
   ],
   "source": [
    "# load base_directory list\n",
    "# dirs = sorted(glob.glob(os.path.abspath(\"/content/dataset/*\")))\n",
    "mode = True # For dev set\n",
    "dirs = select_dirs(param=param, mode=mode)\n",
    "dir_path = os.path.abspath(\"{base}/*\".format(base=param[\"dev_directory\"]))\n",
    "dirs = sorted(glob.glob(dir_path))"
   ]
  },
  {
   "cell_type": "code",
   "execution_count": 253,
   "metadata": {
    "colab": {
     "base_uri": "https://localhost:8080/",
     "height": 34
    },
    "colab_type": "code",
    "id": "0iM-UENgo6yw",
    "outputId": "a91eaf78-7248-40b9-c5e1-ab8f9243cd6d"
   },
   "outputs": [
    {
     "data": {
      "text/plain": [
       "['C:\\\\Users\\\\DMT2KOR\\\\OneDrive - Robert Bosch GmbH\\\\Documents\\\\WORK\\\\PROJECTS\\\\PoCs\\\\Machine Sound Monitoring\\\\DATA\\\\DCASE2020\\\\pump_basedir\\\\dev_data\\\\pump']"
      ]
     },
     "execution_count": 253,
     "metadata": {},
     "output_type": "execute_result"
    }
   ],
   "source": [
    "dirs"
   ]
  },
  {
   "cell_type": "code",
   "execution_count": 254,
   "metadata": {
    "colab": {
     "base_uri": "https://localhost:8080/",
     "height": 67
    },
    "colab_type": "code",
    "id": "KljAUbiKpYAN",
    "outputId": "07543316-3652-4e80-87a3-d6b645fd3c90"
   },
   "outputs": [
    {
     "name": "stdout",
     "output_type": "stream",
     "text": [
      "0\n",
      "===========================\n",
      "C:\\Users\\DMT2KOR\\OneDrive - Robert Bosch GmbH\\Documents\\WORK\\PROJECTS\\PoCs\\Machine Sound Monitoring\\DATA\\DCASE2020\\pump_basedir\\dev_data\\pump\n"
     ]
    }
   ],
   "source": [
    "# loop of the base directory\n",
    "for dir_idx, target_dir in enumerate(dirs):\n",
    "    print (dir_idx)\n",
    "    print(\"===========================\")\n",
    "    print (target_dir)"
   ]
  },
  {
   "cell_type": "markdown",
   "metadata": {
    "colab_type": "text",
    "id": "SEdusXCxuFL0"
   },
   "source": [
    "### Model Building"
   ]
  },
  {
   "cell_type": "code",
   "execution_count": 255,
   "metadata": {
    "colab": {
     "base_uri": "https://localhost:8080/",
     "height": 218
    },
    "colab_type": "code",
    "id": "rlNey2tZbLRk",
    "outputId": "e4bcad24-8f60-412c-ad8f-b6d6ff642028"
   },
   "outputs": [],
   "source": [
    "# class Autoencoder(nn.Module):\n",
    "#     def __init__(self, input_dim):\n",
    "#         super(Autoencoder, self).__init__()\n",
    "#         # encoder\n",
    "#         self.enc1 = nn.Linear(in_features=input_dim, out_features=256)\n",
    "#         self.enc1 = nn.BatchNorm1d(256)\n",
    "#         self.enc2 = nn.Linear(in_features=256, out_features=128)\n",
    "#         self.enc2 = nn.BatchNorm1d(256)\n",
    "#         self.enc3 = nn.Linear(in_features=128, out_features=64)\n",
    "#         self.enc3 = nn.BatchNorm1d(256)\n",
    "#         self.enc4 = nn.Linear(in_features=64, out_features=32)\n",
    "#         self.enc4 = nn.BatchNorm1d(256)\n",
    "#         self.enc5 = nn.Linear(in_features=32, out_features=16)\n",
    "#         self.enc5 = nn.BatchNorm1d(256)\n",
    "#         # decoder \n",
    "#         self.dec1 = nn.Linear(in_features=16, out_features=32)\n",
    "#         self.dec1 = nn.BatchNorm1d(256)\n",
    "#         self.dec2 = nn.Linear(in_features=32, out_features=64)\n",
    "#         self.dec2 = nn.BatchNorm1d(256)\n",
    "#         self.dec3 = nn.Linear(in_features=64, out_features=128)\n",
    "#         self.dec3 = nn.BatchNorm1d(256)\n",
    "#         self.dec4 = nn.Linear(in_features=128, out_features=256)\n",
    "#         self.dec4 = nn.BatchNorm1d(256)\n",
    "#         self.dec5 = nn.Linear(in_features=256, out_features=input_dim)\n",
    "#     def forward(self, x):\n",
    "#         x = F.relu(self.enc1(x))\n",
    "#         x = F.relu(self.enc2(x))\n",
    "#         x = F.relu(self.enc3(x))\n",
    "#         x = F.relu(self.enc4(x))\n",
    "#         x = F.relu(self.enc5(x))\n",
    "#         x = F.relu(self.dec1(x))\n",
    "#         x = F.relu(self.dec2(x))\n",
    "#         x = F.relu(self.dec3(x))\n",
    "#         x = F.relu(self.dec4(x))\n",
    "#         x = F.relu(self.dec5(x))\n",
    "#         return x\n",
    "\n",
    "# use_cuda = torch.cuda.is_available()\n",
    "# device = torch.device(\"cuda\" if use_cuda else \"cpu\")\n",
    "# net = Autoencoder(input_dim = 320).to(device)\n",
    "# print(net)"
   ]
  },
  {
   "cell_type": "markdown",
   "metadata": {
    "colab_type": "text",
    "id": "1y4wrcE8nEId"
   },
   "source": [
    "### Keras Model"
   ]
  },
  {
   "cell_type": "code",
   "execution_count": 256,
   "metadata": {},
   "outputs": [],
   "source": [
    "########################################################################\n",
    "# keras model\n",
    "########################################################################\n",
    "def get_model(inputDim):\n",
    "    \"\"\"\n",
    "    define the keras model\n",
    "    the model based on the simple dense auto encoder \n",
    "    (128*128*128*128*8*128*128*128*128)\n",
    "    \"\"\"\n",
    "    inputLayer = Input(shape=(inputDim,))\n",
    "\n",
    "    h = Dense(128)(inputLayer)\n",
    "    h = BatchNormalization()(h)\n",
    "    h = Activation('relu')(h)\n",
    "\n",
    "    h = Dense(128)(h)\n",
    "    h = BatchNormalization()(h)\n",
    "    h = Activation('relu')(h)\n",
    "\n",
    "    h = Dense(128)(h)\n",
    "    h = BatchNormalization()(h)\n",
    "    h = Activation('relu')(h)\n",
    "\n",
    "    h = Dense(128)(h)\n",
    "    h = BatchNormalization()(h)\n",
    "    h = Activation('relu')(h)\n",
    "    \n",
    "    h = Dense(8)(h)\n",
    "    h = BatchNormalization()(h)\n",
    "    h = Activation('relu')(h)\n",
    "\n",
    "    h = Dense(128)(h)\n",
    "    h = BatchNormalization()(h)\n",
    "    h = Activation('relu')(h)\n",
    "\n",
    "    h = Dense(128)(h)\n",
    "    h = BatchNormalization()(h)\n",
    "    h = Activation('relu')(h)\n",
    "\n",
    "    h = Dense(128)(h)\n",
    "    h = BatchNormalization()(h)\n",
    "    h = Activation('relu')(h)\n",
    "\n",
    "    h = Dense(128)(h)\n",
    "    h = BatchNormalization()(h)\n",
    "    h = Activation('relu')(h)\n",
    "\n",
    "    h = Dense(inputDim)(h)\n",
    "\n",
    "    return Model(inputs=inputLayer, outputs=h)\n",
    "#########################################################################\n",
    "\n",
    "\n",
    "def load_model(file_path):\n",
    "    return keras.models.load_model(file_path)"
   ]
  },
  {
   "cell_type": "code",
   "execution_count": 257,
   "metadata": {
    "colab": {},
    "colab_type": "code",
    "id": "RCNSGxz0kWBt"
   },
   "outputs": [],
   "source": [
    "# ########################################################################\n",
    "# # keras model\n",
    "# ########################################################################\n",
    "# def get_model(inputDim):\n",
    "#     \"\"\"\n",
    "#     define the keras model\n",
    "#     the model based on the simple dense auto encoder \n",
    "#     (128*128*128*128*8*128*128*128*128)\n",
    "#     \"\"\"\n",
    "#     # ENCODER\n",
    "#     input_sig = Input(batch_shape=(None,128,313))\n",
    "#     x = Conv1D(128,3, activation='relu', padding='valid')(input_sig)\n",
    "#     x1 = MaxPooling1D(2)(x)\n",
    "#     x2 = Conv1D(64,3, activation='relu', padding='valid')(x1)\n",
    "#     x3 = MaxPooling1D(2)(x2)\n",
    "#     flat = Flatten()(x3)\n",
    "#     encoded = Dense(32,activation = 'relu')(flat)\n",
    "#     #encoded = Reshape((32,1))(encoded)\n",
    "\n",
    "#     print(\"shape of encoded {}\".format(K.int_shape(encoded)))\n",
    "\n",
    "#     # DECODER \n",
    "#     x2_ = Conv1D(32, 3, activation='relu', padding='valid')(x3)\n",
    "#     x1_ = UpSampling1D(2)(x2_)\n",
    "#     x_ = Conv1D(64, 3, activation='relu', padding='valid')(x1_)\n",
    "#     upsamp = UpSampling1D(2)(x_)\n",
    "#     flat = Flatten()(upsamp)\n",
    "#     decoded = Dense(1389,activation = 'relu')(flat)\n",
    "#     decoded = Reshape((1389,))(decoded)\n",
    "\n",
    "#     return Model(inputs=inputLayer, outputs=h)\n",
    "# #########################################################################\n",
    "\n",
    "\n",
    "# def load_model(file_path):\n",
    "#     return keras.models.load_model(file_path)"
   ]
  },
  {
   "cell_type": "markdown",
   "metadata": {
    "colab_type": "text",
    "id": "pOKgRu4xcbwm"
   },
   "source": [
    "### Visualize Results"
   ]
  },
  {
   "cell_type": "code",
   "execution_count": 258,
   "metadata": {
    "colab": {},
    "colab_type": "code",
    "id": "uLHTA4_qcYhs"
   },
   "outputs": [],
   "source": [
    "class Visualizer(object):\n",
    "    def __init__(self):\n",
    "        import matplotlib.pyplot as plt\n",
    "        self.plt = plt\n",
    "        self.fig = self.plt.figure(figsize=(30, 10))\n",
    "        self.plt.subplots_adjust(wspace=0.3, hspace=0.3)\n",
    "\n",
    "    def loss_plot(self, loss, val_loss):\n",
    "        \"\"\"\n",
    "        Plot loss curve.\n",
    "        loss : list [ float ]\n",
    "            training loss time series.\n",
    "        val_loss : list [ float ]\n",
    "            validation loss time series.\n",
    "        return   : None\n",
    "        \"\"\"\n",
    "        ax = self.fig.add_subplot(1, 1, 1)\n",
    "        ax.cla()\n",
    "        ax.plot(loss)\n",
    "        ax.plot(val_loss)\n",
    "        ax.set_title(\"Model loss\")\n",
    "        ax.set_xlabel(\"Epoch\")\n",
    "        ax.set_ylabel(\"Loss\")\n",
    "        ax.legend([\"Train\", \"Validation\"], loc=\"upper right\")\n",
    "        plt.show()\n",
    "\n",
    "    def save_figure(self, name):\n",
    "        \"\"\"\n",
    "        Save figure.\n",
    "        name : str\n",
    "            save png file path.\n",
    "        return : None\n",
    "        \"\"\"\n",
    "        self.plt.savefig(name)\n",
    "\n",
    "\n",
    "########################################################################\n"
   ]
  },
  {
   "cell_type": "markdown",
   "metadata": {
    "colab_type": "text",
    "id": "R5YwART0heDb"
   },
   "source": [
    "## Main Code Invoking the Functions"
   ]
  },
  {
   "cell_type": "code",
   "execution_count": 259,
   "metadata": {
    "colab": {},
    "colab_type": "code",
    "id": "0I9uFztOkl6p"
   },
   "outputs": [],
   "source": [
    "# make output directory\n",
    "os.makedirs(param[\"model_directory\"], exist_ok=True)"
   ]
  },
  {
   "cell_type": "code",
   "execution_count": 260,
   "metadata": {
    "colab": {
     "base_uri": "https://localhost:8080/",
     "height": 34
    },
    "colab_type": "code",
    "id": "a22KypQclH02",
    "outputId": "6bb6f363-935e-4aa8-b422-baf687bc51d2"
   },
   "outputs": [
    {
     "data": {
      "text/plain": [
       "<Figure size 2160x720 with 0 Axes>"
      ]
     },
     "metadata": {},
     "output_type": "display_data"
    }
   ],
   "source": [
    "# initialize the visualizer\n",
    "visualizer = Visualizer()"
   ]
  },
  {
   "cell_type": "code",
   "execution_count": 261,
   "metadata": {
    "colab": {
     "base_uri": "https://localhost:8080/",
     "height": 34
    },
    "colab_type": "code",
    "id": "FaDhEV8SlO1M",
    "outputId": "139adbbc-ae59-4d8e-aa90-0e75f61348ec"
   },
   "outputs": [
    {
     "name": "stderr",
     "output_type": "stream",
     "text": [
      "2020-09-10 20:07:34,129 - INFO - load_directory <- development\n"
     ]
    }
   ],
   "source": [
    "# load base_directory list\n",
    "mode = True  # mode is True for dev set and False for eval set\n",
    "dirs = select_dirs(param=param, mode=mode)"
   ]
  },
  {
   "cell_type": "code",
   "execution_count": 262,
   "metadata": {},
   "outputs": [
    {
     "data": {
      "text/plain": [
       "'C:\\\\Users\\\\DMT2KOR\\\\OneDrive - Robert Bosch GmbH\\\\Documents\\\\WORK\\\\PROJECTS\\\\PoCs\\\\Machine Sound Monitoring\\\\DATA\\\\DCASE2020\\\\pump_basedir'"
      ]
     },
     "execution_count": 262,
     "metadata": {},
     "output_type": "execute_result"
    }
   ],
   "source": [
    "os.getcwd()"
   ]
  },
  {
   "cell_type": "code",
   "execution_count": 263,
   "metadata": {
    "colab": {
     "base_uri": "https://localhost:8080/",
     "height": 34
    },
    "colab_type": "code",
    "id": "w0GRxJ1Fu6tw",
    "outputId": "0e0ae3be-25ab-4067-d92a-daa500ccf4b6"
   },
   "outputs": [
    {
     "data": {
      "text/plain": [
       "['C:\\\\Users\\\\DMT2KOR\\\\OneDrive - Robert Bosch GmbH\\\\Documents\\\\WORK\\\\PROJECTS\\\\PoCs\\\\Machine Sound Monitoring\\\\DATA\\\\DCASE2020\\\\pump_basedir\\\\dev_data\\\\pump']"
      ]
     },
     "execution_count": 263,
     "metadata": {},
     "output_type": "execute_result"
    }
   ],
   "source": [
    "dirs"
   ]
  },
  {
   "cell_type": "code",
   "execution_count": 264,
   "metadata": {},
   "outputs": [
    {
     "name": "stderr",
     "output_type": "stream",
     "text": [
      "2020-09-10 20:08:53,176 - INFO - target_dir : C:\\Users\\DMT2KOR\\OneDrive - Robert Bosch GmbH\\Documents\\WORK\\PROJECTS\\PoCs\\Machine Sound Monitoring\\DATA\\DCASE2020\\pump_basedir\\dev_data\\pump\n",
      "2020-09-10 20:08:53,208 - INFO - train_file num : 3349\n"
     ]
    }
   ],
   "source": [
    "for idx, target_dir in enumerate(dirs):\n",
    "    files = file_list_generator(target_dir)"
   ]
  },
  {
   "cell_type": "code",
   "execution_count": 265,
   "metadata": {},
   "outputs": [
    {
     "data": {
      "text/plain": [
       "'C:\\\\Users\\\\DMT2KOR\\\\OneDrive - Robert Bosch GmbH\\\\Documents\\\\WORK\\\\PROJECTS\\\\PoCs\\\\Machine Sound Monitoring\\\\DATA\\\\DCASE2020\\\\pump_basedir\\\\dev_data\\\\pump\\\\train\\\\normal_id_00_00000000.wav'"
      ]
     },
     "execution_count": 265,
     "metadata": {},
     "output_type": "execute_result"
    }
   ],
   "source": [
    "files[0]"
   ]
  },
  {
   "cell_type": "code",
   "execution_count": 266,
   "metadata": {},
   "outputs": [
    {
     "name": "stderr",
     "output_type": "stream",
     "text": [
      "generate train_dataset: 100%|██████████████████████████████████████████████████████| 3349/3349 [08:40<00:00,  6.77it/s]\n"
     ]
    }
   ],
   "source": [
    "train_data = list_to_vector_array(files,\n",
    "                                  msg=\"generate train_dataset\",\n",
    "                                  n_mels=param[\"feature\"][\"n_mels\"],\n",
    "                                  frames=param[\"feature\"][\"frames\"],\n",
    "                                  n_fft=param[\"feature\"][\"n_fft\"],\n",
    "                                  hop_length=param[\"feature\"][\"hop_length\"],\n",
    "                                  power=param[\"feature\"][\"power\"])"
   ]
  },
  {
   "cell_type": "code",
   "execution_count": 267,
   "metadata": {},
   "outputs": [
    {
     "data": {
      "text/plain": [
       "(1034841, 640)"
      ]
     },
     "execution_count": 267,
     "metadata": {},
     "output_type": "execute_result"
    }
   ],
   "source": [
    "train_data.shape"
   ]
  },
  {
   "cell_type": "code",
   "execution_count": 268,
   "metadata": {},
   "outputs": [],
   "source": [
    "# Store train_data to pickle to directly read if run gets interrupted\n",
    "out_directory = os.getcwd()\n",
    "data_name = \"pump_train_data_lfcc.pkl\"\n",
    "pickle.dump(train_data, open(os.path.join(out_directory, data_name), \"wb\"), protocol=4)"
   ]
  },
  {
   "cell_type": "code",
   "execution_count": 164,
   "metadata": {
    "colab": {
     "base_uri": "https://localhost:8080/",
     "height": 134
    },
    "colab_type": "code",
    "id": "lDvPBKZD5Y8P",
    "outputId": "318355c4-2c8c-44d3-ee6f-55d8cd267d69",
    "scrolled": true
   },
   "outputs": [
    {
     "name": "stdout",
     "output_type": "stream",
     "text": [
      "\n",
      "===========================\n",
      "[1/1] C:\\Users\\DMT2KOR\\OneDrive - Robert Bosch GmbH\\Documents\\WORK\\PROJECTS\\PoCs\\Machine Sound Monitoring\\DATA\\DCASE2020\\pump_basedir\\dev_data\\pump\n",
      "============== DATASET_GENERATOR ==============\n"
     ]
    },
    {
     "name": "stderr",
     "output_type": "stream",
     "text": [
      "2020-09-09 11:48:38,223 - INFO - target_dir : C:\\Users\\DMT2KOR\\OneDrive - Robert Bosch GmbH\\Documents\\WORK\\PROJECTS\\PoCs\\Machine Sound Monitoring\\DATA\\DCASE2020\\pump_basedir\\dev_data\\pump\n",
      "2020-09-09 11:48:38,262 - INFO - train_file num : 3349\n",
      "generate train_dataset: 100%|██████████████████████████████████████████████████████| 3349/3349 [03:12<00:00, 17.38it/s]\n"
     ]
    },
    {
     "name": "stdout",
     "output_type": "stream",
     "text": [
      "============== MODEL TRAINING ==============\n",
      "Model: \"model_1\"\n",
      "_________________________________________________________________\n",
      "Layer (type)                 Output Shape              Param #   \n",
      "=================================================================\n",
      "input_1 (InputLayer)         (None, 513)               0         \n",
      "_________________________________________________________________\n",
      "dense_1 (Dense)              (None, 128)               65792     \n",
      "_________________________________________________________________\n",
      "batch_normalization_1 (Batch (None, 128)               512       \n",
      "_________________________________________________________________\n",
      "activation_1 (Activation)    (None, 128)               0         \n",
      "_________________________________________________________________\n",
      "dense_2 (Dense)              (None, 128)               16512     \n",
      "_________________________________________________________________\n",
      "batch_normalization_2 (Batch (None, 128)               512       \n",
      "_________________________________________________________________\n",
      "activation_2 (Activation)    (None, 128)               0         \n",
      "_________________________________________________________________\n",
      "dense_3 (Dense)              (None, 128)               16512     \n",
      "_________________________________________________________________\n",
      "batch_normalization_3 (Batch (None, 128)               512       \n",
      "_________________________________________________________________\n",
      "activation_3 (Activation)    (None, 128)               0         \n",
      "_________________________________________________________________\n",
      "dense_4 (Dense)              (None, 128)               16512     \n",
      "_________________________________________________________________\n",
      "batch_normalization_4 (Batch (None, 128)               512       \n",
      "_________________________________________________________________\n",
      "activation_4 (Activation)    (None, 128)               0         \n",
      "_________________________________________________________________\n",
      "dense_5 (Dense)              (None, 8)                 1032      \n",
      "_________________________________________________________________\n",
      "batch_normalization_5 (Batch (None, 8)                 32        \n",
      "_________________________________________________________________\n",
      "activation_5 (Activation)    (None, 8)                 0         \n",
      "_________________________________________________________________\n",
      "dense_6 (Dense)              (None, 128)               1152      \n",
      "_________________________________________________________________\n",
      "batch_normalization_6 (Batch (None, 128)               512       \n",
      "_________________________________________________________________\n",
      "activation_6 (Activation)    (None, 128)               0         \n",
      "_________________________________________________________________\n",
      "dense_7 (Dense)              (None, 128)               16512     \n",
      "_________________________________________________________________\n",
      "batch_normalization_7 (Batch (None, 128)               512       \n",
      "_________________________________________________________________\n",
      "activation_7 (Activation)    (None, 128)               0         \n",
      "_________________________________________________________________\n",
      "dense_8 (Dense)              (None, 128)               16512     \n",
      "_________________________________________________________________\n",
      "batch_normalization_8 (Batch (None, 128)               512       \n",
      "_________________________________________________________________\n",
      "activation_8 (Activation)    (None, 128)               0         \n",
      "_________________________________________________________________\n",
      "dense_9 (Dense)              (None, 128)               16512     \n",
      "_________________________________________________________________\n",
      "batch_normalization_9 (Batch (None, 128)               512       \n",
      "_________________________________________________________________\n",
      "activation_9 (Activation)    (None, 128)               0         \n",
      "_________________________________________________________________\n",
      "dense_10 (Dense)             (None, 513)               66177     \n",
      "=================================================================\n",
      "Total params: 237,353\n",
      "Trainable params: 235,289\n",
      "Non-trainable params: 2,064\n",
      "_________________________________________________________________\n"
     ]
    },
    {
     "ename": "ValueError",
     "evalue": "Error when checking input: expected input_1 to have shape (513,) but got array with shape (313,)",
     "output_type": "error",
     "traceback": [
      "\u001b[1;31m---------------------------------------------------------------------------\u001b[0m",
      "\u001b[1;31mValueError\u001b[0m                                Traceback (most recent call last)",
      "\u001b[1;32m<ipython-input-164-145f3d4fdcfe>\u001b[0m in \u001b[0;36m<module>\u001b[1;34m\u001b[0m\n\u001b[0;32m     46\u001b[0m                         \u001b[0mshuffle\u001b[0m\u001b[1;33m=\u001b[0m\u001b[0mparam\u001b[0m\u001b[1;33m[\u001b[0m\u001b[1;34m\"fit\"\u001b[0m\u001b[1;33m]\u001b[0m\u001b[1;33m[\u001b[0m\u001b[1;34m\"shuffle\"\u001b[0m\u001b[1;33m]\u001b[0m\u001b[1;33m,\u001b[0m\u001b[1;33m\u001b[0m\u001b[1;33m\u001b[0m\u001b[0m\n\u001b[0;32m     47\u001b[0m                         \u001b[0mvalidation_split\u001b[0m\u001b[1;33m=\u001b[0m\u001b[0mparam\u001b[0m\u001b[1;33m[\u001b[0m\u001b[1;34m\"fit\"\u001b[0m\u001b[1;33m]\u001b[0m\u001b[1;33m[\u001b[0m\u001b[1;34m\"validation_split\"\u001b[0m\u001b[1;33m]\u001b[0m\u001b[1;33m,\u001b[0m\u001b[1;33m\u001b[0m\u001b[1;33m\u001b[0m\u001b[0m\n\u001b[1;32m---> 48\u001b[1;33m                         verbose=param[\"fit\"][\"verbose\"], callbacks=[checkpoint])\n\u001b[0m\u001b[0;32m     49\u001b[0m \u001b[1;33m\u001b[0m\u001b[0m\n\u001b[0;32m     50\u001b[0m     \u001b[0mvisualizer\u001b[0m\u001b[1;33m.\u001b[0m\u001b[0mloss_plot\u001b[0m\u001b[1;33m(\u001b[0m\u001b[0mhistory\u001b[0m\u001b[1;33m.\u001b[0m\u001b[0mhistory\u001b[0m\u001b[1;33m[\u001b[0m\u001b[1;34m\"loss\"\u001b[0m\u001b[1;33m]\u001b[0m\u001b[1;33m,\u001b[0m \u001b[0mhistory\u001b[0m\u001b[1;33m.\u001b[0m\u001b[0mhistory\u001b[0m\u001b[1;33m[\u001b[0m\u001b[1;34m\"val_loss\"\u001b[0m\u001b[1;33m]\u001b[0m\u001b[1;33m)\u001b[0m\u001b[1;33m\u001b[0m\u001b[1;33m\u001b[0m\u001b[0m\n",
      "\u001b[1;32m~\\AppData\\Local\\Continuum\\anaconda3\\lib\\site-packages\\keras\\engine\\training.py\u001b[0m in \u001b[0;36mfit\u001b[1;34m(self, x, y, batch_size, epochs, verbose, callbacks, validation_split, validation_data, shuffle, class_weight, sample_weight, initial_epoch, steps_per_epoch, validation_steps, validation_freq, max_queue_size, workers, use_multiprocessing, **kwargs)\u001b[0m\n\u001b[0;32m   1152\u001b[0m             \u001b[0msample_weight\u001b[0m\u001b[1;33m=\u001b[0m\u001b[0msample_weight\u001b[0m\u001b[1;33m,\u001b[0m\u001b[1;33m\u001b[0m\u001b[1;33m\u001b[0m\u001b[0m\n\u001b[0;32m   1153\u001b[0m             \u001b[0mclass_weight\u001b[0m\u001b[1;33m=\u001b[0m\u001b[0mclass_weight\u001b[0m\u001b[1;33m,\u001b[0m\u001b[1;33m\u001b[0m\u001b[1;33m\u001b[0m\u001b[0m\n\u001b[1;32m-> 1154\u001b[1;33m             batch_size=batch_size)\n\u001b[0m\u001b[0;32m   1155\u001b[0m \u001b[1;33m\u001b[0m\u001b[0m\n\u001b[0;32m   1156\u001b[0m         \u001b[1;31m# Prepare validation data.\u001b[0m\u001b[1;33m\u001b[0m\u001b[1;33m\u001b[0m\u001b[1;33m\u001b[0m\u001b[0m\n",
      "\u001b[1;32m~\\AppData\\Local\\Continuum\\anaconda3\\lib\\site-packages\\keras\\engine\\training.py\u001b[0m in \u001b[0;36m_standardize_user_data\u001b[1;34m(self, x, y, sample_weight, class_weight, check_array_lengths, batch_size)\u001b[0m\n\u001b[0;32m    577\u001b[0m             \u001b[0mfeed_input_shapes\u001b[0m\u001b[1;33m,\u001b[0m\u001b[1;33m\u001b[0m\u001b[1;33m\u001b[0m\u001b[0m\n\u001b[0;32m    578\u001b[0m             \u001b[0mcheck_batch_axis\u001b[0m\u001b[1;33m=\u001b[0m\u001b[1;32mFalse\u001b[0m\u001b[1;33m,\u001b[0m  \u001b[1;31m# Don't enforce the batch size.\u001b[0m\u001b[1;33m\u001b[0m\u001b[1;33m\u001b[0m\u001b[0m\n\u001b[1;32m--> 579\u001b[1;33m             exception_prefix='input')\n\u001b[0m\u001b[0;32m    580\u001b[0m \u001b[1;33m\u001b[0m\u001b[0m\n\u001b[0;32m    581\u001b[0m         \u001b[1;32mif\u001b[0m \u001b[0my\u001b[0m \u001b[1;32mis\u001b[0m \u001b[1;32mnot\u001b[0m \u001b[1;32mNone\u001b[0m\u001b[1;33m:\u001b[0m\u001b[1;33m\u001b[0m\u001b[1;33m\u001b[0m\u001b[0m\n",
      "\u001b[1;32m~\\AppData\\Local\\Continuum\\anaconda3\\lib\\site-packages\\keras\\engine\\training_utils.py\u001b[0m in \u001b[0;36mstandardize_input_data\u001b[1;34m(data, names, shapes, check_batch_axis, exception_prefix)\u001b[0m\n\u001b[0;32m    143\u001b[0m                             \u001b[1;34m': expected '\u001b[0m \u001b[1;33m+\u001b[0m \u001b[0mnames\u001b[0m\u001b[1;33m[\u001b[0m\u001b[0mi\u001b[0m\u001b[1;33m]\u001b[0m \u001b[1;33m+\u001b[0m \u001b[1;34m' to have shape '\u001b[0m \u001b[1;33m+\u001b[0m\u001b[1;33m\u001b[0m\u001b[1;33m\u001b[0m\u001b[0m\n\u001b[0;32m    144\u001b[0m                             \u001b[0mstr\u001b[0m\u001b[1;33m(\u001b[0m\u001b[0mshape\u001b[0m\u001b[1;33m)\u001b[0m \u001b[1;33m+\u001b[0m \u001b[1;34m' but got array with shape '\u001b[0m \u001b[1;33m+\u001b[0m\u001b[1;33m\u001b[0m\u001b[1;33m\u001b[0m\u001b[0m\n\u001b[1;32m--> 145\u001b[1;33m                             str(data_shape))\n\u001b[0m\u001b[0;32m    146\u001b[0m     \u001b[1;32mreturn\u001b[0m \u001b[0mdata\u001b[0m\u001b[1;33m\u001b[0m\u001b[1;33m\u001b[0m\u001b[0m\n\u001b[0;32m    147\u001b[0m \u001b[1;33m\u001b[0m\u001b[0m\n",
      "\u001b[1;31mValueError\u001b[0m: Error when checking input: expected input_1 to have shape (513,) but got array with shape (313,)"
     ]
    }
   ],
   "source": [
    "# loop of the base directory\n",
    "for idx, target_dir in enumerate(dirs):\n",
    "    print(\"\\n===========================\")\n",
    "    print(\"[{idx}/{total}] {dirname}\".format(dirname=target_dir, idx=idx+1, total=len(dirs)))\n",
    "\n",
    "    # set path\n",
    "    machine_type = os.path.split(target_dir)[1]\n",
    "    model_file_path = \"{model}/model_{machine_type}.hdf5\".format(model=param[\"model_directory\"],\n",
    "                                                                  machine_type=machine_type)\n",
    "    history_img = \"{model}/history_{machine_type}.png\".format(model=param[\"model_directory\"],\n",
    "                                                              machine_type=machine_type)\n",
    "\n",
    "    if os.path.exists(model_file_path):\n",
    "        logger.info(\"model exists\")\n",
    "        continue\n",
    "\n",
    "    # generate dataset\n",
    "    print(\"============== DATASET_GENERATOR ==============\")\n",
    "    files = file_list_generator(target_dir)\n",
    "    train_data = list_to_vector_array(files,\n",
    "                                      msg=\"generate train_dataset\",\n",
    "                                      n_mels=param[\"feature\"][\"n_mels\"],\n",
    "                                      frames=param[\"feature\"][\"frames\"],\n",
    "                                      n_fft=param[\"feature\"][\"n_fft\"],\n",
    "                                      hop_length=param[\"feature\"][\"hop_length\"],\n",
    "                                      power=param[\"feature\"][\"power\"])\n",
    "\n",
    "    # Store train_data to pickle to directly read if run gets interrupted\n",
    "    out_directory = os.getcwd()\n",
    "    data_name = \"pump_train_data_spectrogram_best_model.pkl\"\n",
    "    pickle.dump(train_data, open(os.path.join(out_directory, data_name), \"wb\"), protocol=4)\n",
    "    \n",
    "    checkpoint = ModelCheckpoint(\"pump_spectrogram_best_model.hdf5\", monitor='loss', verbose=1,\n",
    "    save_best_only=True, mode='auto', period=1)\n",
    "    \n",
    "    # train model\n",
    "    print(\"============== MODEL TRAINING ==============\")\n",
    "    model = get_model(vector_array.shape[1])\n",
    "    model.summary()\n",
    "\n",
    "    model.compile(**param[\"fit\"][\"compile\"])\n",
    "    history = model.fit(train_data,\n",
    "                        train_data,\n",
    "                        epochs=15,\n",
    "                        batch_size=param[\"fit\"][\"batch_size\"],\n",
    "                        shuffle=param[\"fit\"][\"shuffle\"],\n",
    "                        validation_split=param[\"fit\"][\"validation_split\"],\n",
    "                        verbose=param[\"fit\"][\"verbose\"], callbacks=[checkpoint])\n",
    "    \n",
    "    visualizer.loss_plot(history.history[\"loss\"], history.history[\"val_loss\"])\n",
    "    visualizer.save_figure(history_img)\n",
    "    model.save(model_file_path)\n",
    "    logger.info(\"save_model -> {}\".format(model_file_path))\n",
    "    print(\"============== END TRAINING ==============\")"
   ]
  },
  {
   "cell_type": "code",
   "execution_count": 55,
   "metadata": {
    "colab": {
     "base_uri": "https://localhost:8080/",
     "height": 195
    },
    "colab_type": "code",
    "id": "TQPxXRJ0aKGn",
    "outputId": "12d6e2ea-e52a-4257-e552-2fda71afa4cb"
   },
   "outputs": [],
   "source": [
    "# IF JOB FAILED, LOAD PICKLE FILE DIRECTLY AND TRAIN\n",
    "import joblib\n",
    "# train_data = joblib.load('pump_train_data.pkl')"
   ]
  },
  {
   "cell_type": "code",
   "execution_count": 56,
   "metadata": {},
   "outputs": [
    {
     "name": "stdout",
     "output_type": "stream",
     "text": [
      "[name: \"/device:CPU:0\"\n",
      "device_type: \"CPU\"\n",
      "memory_limit: 268435456\n",
      "locality {\n",
      "}\n",
      "incarnation: 15994198007775668090\n",
      "]\n"
     ]
    }
   ],
   "source": [
    "from tensorflow.python.client import device_lib\n",
    "print(device_lib.list_local_devices())"
   ]
  },
  {
   "cell_type": "code",
   "execution_count": 10,
   "metadata": {},
   "outputs": [
    {
     "data": {
      "text/plain": [
       "[]"
      ]
     },
     "execution_count": 10,
     "metadata": {},
     "output_type": "execute_result"
    }
   ],
   "source": [
    "from keras import backend as K \n",
    "K.tensorflow_backend._get_available_gpus() "
   ]
  },
  {
   "cell_type": "code",
   "execution_count": 166,
   "metadata": {
    "colab": {
     "base_uri": "https://localhost:8080/",
     "height": 229
    },
    "colab_type": "code",
    "id": "5lqUPjEk_x6i",
    "outputId": "32b2e71f-22dd-4a1d-dbe9-35aa6af3ad75",
    "scrolled": true
   },
   "outputs": [
    {
     "name": "stdout",
     "output_type": "stream",
     "text": [
      "============== MODEL TRAINING ==============\n",
      "Model: \"model_2\"\n",
      "_________________________________________________________________\n",
      "Layer (type)                 Output Shape              Param #   \n",
      "=================================================================\n",
      "input_2 (InputLayer)         (None, 313)               0         \n",
      "_________________________________________________________________\n",
      "dense_11 (Dense)             (None, 128)               40192     \n",
      "_________________________________________________________________\n",
      "batch_normalization_10 (Batc (None, 128)               512       \n",
      "_________________________________________________________________\n",
      "activation_10 (Activation)   (None, 128)               0         \n",
      "_________________________________________________________________\n",
      "dense_12 (Dense)             (None, 128)               16512     \n",
      "_________________________________________________________________\n",
      "batch_normalization_11 (Batc (None, 128)               512       \n",
      "_________________________________________________________________\n",
      "activation_11 (Activation)   (None, 128)               0         \n",
      "_________________________________________________________________\n",
      "dense_13 (Dense)             (None, 128)               16512     \n",
      "_________________________________________________________________\n",
      "batch_normalization_12 (Batc (None, 128)               512       \n",
      "_________________________________________________________________\n",
      "activation_12 (Activation)   (None, 128)               0         \n",
      "_________________________________________________________________\n",
      "dense_14 (Dense)             (None, 128)               16512     \n",
      "_________________________________________________________________\n",
      "batch_normalization_13 (Batc (None, 128)               512       \n",
      "_________________________________________________________________\n",
      "activation_13 (Activation)   (None, 128)               0         \n",
      "_________________________________________________________________\n",
      "dense_15 (Dense)             (None, 8)                 1032      \n",
      "_________________________________________________________________\n",
      "batch_normalization_14 (Batc (None, 8)                 32        \n",
      "_________________________________________________________________\n",
      "activation_14 (Activation)   (None, 8)                 0         \n",
      "_________________________________________________________________\n",
      "dense_16 (Dense)             (None, 128)               1152      \n",
      "_________________________________________________________________\n",
      "batch_normalization_15 (Batc (None, 128)               512       \n",
      "_________________________________________________________________\n",
      "activation_15 (Activation)   (None, 128)               0         \n",
      "_________________________________________________________________\n",
      "dense_17 (Dense)             (None, 128)               16512     \n",
      "_________________________________________________________________\n",
      "batch_normalization_16 (Batc (None, 128)               512       \n",
      "_________________________________________________________________\n",
      "activation_16 (Activation)   (None, 128)               0         \n",
      "_________________________________________________________________\n",
      "dense_18 (Dense)             (None, 128)               16512     \n",
      "_________________________________________________________________\n",
      "batch_normalization_17 (Batc (None, 128)               512       \n",
      "_________________________________________________________________\n",
      "activation_17 (Activation)   (None, 128)               0         \n",
      "_________________________________________________________________\n",
      "dense_19 (Dense)             (None, 128)               16512     \n",
      "_________________________________________________________________\n",
      "batch_normalization_18 (Batc (None, 128)               512       \n",
      "_________________________________________________________________\n",
      "activation_18 (Activation)   (None, 128)               0         \n",
      "_________________________________________________________________\n",
      "dense_20 (Dense)             (None, 313)               40377     \n",
      "=================================================================\n",
      "Total params: 185,953\n",
      "Trainable params: 183,889\n",
      "Non-trainable params: 2,064\n",
      "_________________________________________________________________\n",
      "WARNING:tensorflow:From C:\\Users\\DMT2KOR\\AppData\\Local\\Continuum\\anaconda3\\lib\\site-packages\\keras\\backend\\tensorflow_backend.py:422: The name tf.global_variables is deprecated. Please use tf.compat.v1.global_variables instead.\n",
      "\n",
      "Train on 1546233 samples, validate on 171804 samples\n",
      "Epoch 1/15\n",
      "  11776/1546233 [..............................] - ETA: 6:00:45 - loss: 0.31 - ETA: 3:07:46 - loss: 0.28 - ETA: 2:10:27 - loss: 0.25 - ETA: 1:41:25 - loss: 0.25 - ETA: 1:24:23 - loss: 0.23 - ETA: 1:12:35 - loss: 0.22 - ETA: 1:04:24 - loss: 0.20 - ETA: 57:53 - loss: 0.1988 - ETA: 53:25 - loss: 0.19 - ETA: 49:35 - loss: 0.18 - ETA: 46:01 - loss: 0.18 - ETA: 42:46 - loss: 0.17 - ETA: 40:38 - loss: 0.17 - ETA: 38:53 - loss: 0.17 - ETA: 37:12 - loss: 0.17 - ETA: 35:19 - loss: 0.16 - ETA: 33:36 - loss: 0.15 - ETA: 32:01 - loss: 0.15 - ETA: 30:34 - loss: 0.15 - ETA: 29:21 - loss: 0.14 - ETA: 28:18 - loss: 0.14 - ETA: 27:22 - loss: 0.13 - ETA: 26:26 - loss: 0.1364"
     ]
    },
    {
     "ename": "KeyboardInterrupt",
     "evalue": "",
     "output_type": "error",
     "traceback": [
      "\u001b[1;31m---------------------------------------------------------------------------\u001b[0m",
      "\u001b[1;31mKeyboardInterrupt\u001b[0m                         Traceback (most recent call last)",
      "\u001b[1;32m<ipython-input-166-28a211d63c30>\u001b[0m in \u001b[0;36m<module>\u001b[1;34m\u001b[0m\n\u001b[0;32m     14\u001b[0m                     \u001b[0mshuffle\u001b[0m\u001b[1;33m=\u001b[0m\u001b[0mparam\u001b[0m\u001b[1;33m[\u001b[0m\u001b[1;34m\"fit\"\u001b[0m\u001b[1;33m]\u001b[0m\u001b[1;33m[\u001b[0m\u001b[1;34m\"shuffle\"\u001b[0m\u001b[1;33m]\u001b[0m\u001b[1;33m,\u001b[0m\u001b[1;33m\u001b[0m\u001b[1;33m\u001b[0m\u001b[0m\n\u001b[0;32m     15\u001b[0m                     \u001b[0mvalidation_split\u001b[0m\u001b[1;33m=\u001b[0m\u001b[0mparam\u001b[0m\u001b[1;33m[\u001b[0m\u001b[1;34m\"fit\"\u001b[0m\u001b[1;33m]\u001b[0m\u001b[1;33m[\u001b[0m\u001b[1;34m\"validation_split\"\u001b[0m\u001b[1;33m]\u001b[0m\u001b[1;33m,\u001b[0m\u001b[1;33m\u001b[0m\u001b[1;33m\u001b[0m\u001b[0m\n\u001b[1;32m---> 16\u001b[1;33m                     verbose=param[\"fit\"][\"verbose\"], callbacks=[checkpoint])\n\u001b[0m\u001b[0;32m     17\u001b[0m \u001b[1;33m\u001b[0m\u001b[0m\n\u001b[0;32m     18\u001b[0m \u001b[0mvisualizer\u001b[0m\u001b[1;33m.\u001b[0m\u001b[0mloss_plot\u001b[0m\u001b[1;33m(\u001b[0m\u001b[0mhistory\u001b[0m\u001b[1;33m.\u001b[0m\u001b[0mhistory\u001b[0m\u001b[1;33m[\u001b[0m\u001b[1;34m\"loss\"\u001b[0m\u001b[1;33m]\u001b[0m\u001b[1;33m,\u001b[0m \u001b[0mhistory\u001b[0m\u001b[1;33m.\u001b[0m\u001b[0mhistory\u001b[0m\u001b[1;33m[\u001b[0m\u001b[1;34m\"val_loss\"\u001b[0m\u001b[1;33m]\u001b[0m\u001b[1;33m)\u001b[0m\u001b[1;33m\u001b[0m\u001b[1;33m\u001b[0m\u001b[0m\n",
      "\u001b[1;32m~\\AppData\\Local\\Continuum\\anaconda3\\lib\\site-packages\\keras\\engine\\training.py\u001b[0m in \u001b[0;36mfit\u001b[1;34m(self, x, y, batch_size, epochs, verbose, callbacks, validation_split, validation_data, shuffle, class_weight, sample_weight, initial_epoch, steps_per_epoch, validation_steps, validation_freq, max_queue_size, workers, use_multiprocessing, **kwargs)\u001b[0m\n\u001b[0;32m   1237\u001b[0m                                         \u001b[0msteps_per_epoch\u001b[0m\u001b[1;33m=\u001b[0m\u001b[0msteps_per_epoch\u001b[0m\u001b[1;33m,\u001b[0m\u001b[1;33m\u001b[0m\u001b[1;33m\u001b[0m\u001b[0m\n\u001b[0;32m   1238\u001b[0m                                         \u001b[0mvalidation_steps\u001b[0m\u001b[1;33m=\u001b[0m\u001b[0mvalidation_steps\u001b[0m\u001b[1;33m,\u001b[0m\u001b[1;33m\u001b[0m\u001b[1;33m\u001b[0m\u001b[0m\n\u001b[1;32m-> 1239\u001b[1;33m                                         validation_freq=validation_freq)\n\u001b[0m\u001b[0;32m   1240\u001b[0m \u001b[1;33m\u001b[0m\u001b[0m\n\u001b[0;32m   1241\u001b[0m     def evaluate(self,\n",
      "\u001b[1;32m~\\AppData\\Local\\Continuum\\anaconda3\\lib\\site-packages\\keras\\engine\\training_arrays.py\u001b[0m in \u001b[0;36mfit_loop\u001b[1;34m(model, fit_function, fit_inputs, out_labels, batch_size, epochs, verbose, callbacks, val_function, val_inputs, shuffle, initial_epoch, steps_per_epoch, validation_steps, validation_freq)\u001b[0m\n\u001b[0;32m    194\u001b[0m                     \u001b[0mins_batch\u001b[0m\u001b[1;33m[\u001b[0m\u001b[0mi\u001b[0m\u001b[1;33m]\u001b[0m \u001b[1;33m=\u001b[0m \u001b[0mins_batch\u001b[0m\u001b[1;33m[\u001b[0m\u001b[0mi\u001b[0m\u001b[1;33m]\u001b[0m\u001b[1;33m.\u001b[0m\u001b[0mtoarray\u001b[0m\u001b[1;33m(\u001b[0m\u001b[1;33m)\u001b[0m\u001b[1;33m\u001b[0m\u001b[1;33m\u001b[0m\u001b[0m\n\u001b[0;32m    195\u001b[0m \u001b[1;33m\u001b[0m\u001b[0m\n\u001b[1;32m--> 196\u001b[1;33m                 \u001b[0mouts\u001b[0m \u001b[1;33m=\u001b[0m \u001b[0mfit_function\u001b[0m\u001b[1;33m(\u001b[0m\u001b[0mins_batch\u001b[0m\u001b[1;33m)\u001b[0m\u001b[1;33m\u001b[0m\u001b[1;33m\u001b[0m\u001b[0m\n\u001b[0m\u001b[0;32m    197\u001b[0m                 \u001b[0mouts\u001b[0m \u001b[1;33m=\u001b[0m \u001b[0mto_list\u001b[0m\u001b[1;33m(\u001b[0m\u001b[0mouts\u001b[0m\u001b[1;33m)\u001b[0m\u001b[1;33m\u001b[0m\u001b[1;33m\u001b[0m\u001b[0m\n\u001b[0;32m    198\u001b[0m                 \u001b[1;32mfor\u001b[0m \u001b[0ml\u001b[0m\u001b[1;33m,\u001b[0m \u001b[0mo\u001b[0m \u001b[1;32min\u001b[0m \u001b[0mzip\u001b[0m\u001b[1;33m(\u001b[0m\u001b[0mout_labels\u001b[0m\u001b[1;33m,\u001b[0m \u001b[0mouts\u001b[0m\u001b[1;33m)\u001b[0m\u001b[1;33m:\u001b[0m\u001b[1;33m\u001b[0m\u001b[1;33m\u001b[0m\u001b[0m\n",
      "\u001b[1;32m~\\AppData\\Local\\Continuum\\anaconda3\\lib\\site-packages\\tensorflow\\python\\keras\\backend.py\u001b[0m in \u001b[0;36m__call__\u001b[1;34m(self, inputs)\u001b[0m\n\u001b[0;32m   3290\u001b[0m \u001b[1;33m\u001b[0m\u001b[0m\n\u001b[0;32m   3291\u001b[0m     fetched = self._callable_fn(*array_vals,\n\u001b[1;32m-> 3292\u001b[1;33m                                 run_metadata=self.run_metadata)\n\u001b[0m\u001b[0;32m   3293\u001b[0m     \u001b[0mself\u001b[0m\u001b[1;33m.\u001b[0m\u001b[0m_call_fetch_callbacks\u001b[0m\u001b[1;33m(\u001b[0m\u001b[0mfetched\u001b[0m\u001b[1;33m[\u001b[0m\u001b[1;33m-\u001b[0m\u001b[0mlen\u001b[0m\u001b[1;33m(\u001b[0m\u001b[0mself\u001b[0m\u001b[1;33m.\u001b[0m\u001b[0m_fetches\u001b[0m\u001b[1;33m)\u001b[0m\u001b[1;33m:\u001b[0m\u001b[1;33m]\u001b[0m\u001b[1;33m)\u001b[0m\u001b[1;33m\u001b[0m\u001b[1;33m\u001b[0m\u001b[0m\n\u001b[0;32m   3294\u001b[0m     output_structure = nest.pack_sequence_as(\n",
      "\u001b[1;32m~\\AppData\\Local\\Continuum\\anaconda3\\lib\\site-packages\\tensorflow\\python\\client\\session.py\u001b[0m in \u001b[0;36m__call__\u001b[1;34m(self, *args, **kwargs)\u001b[0m\n\u001b[0;32m   1456\u001b[0m         ret = tf_session.TF_SessionRunCallable(self._session._session,\n\u001b[0;32m   1457\u001b[0m                                                \u001b[0mself\u001b[0m\u001b[1;33m.\u001b[0m\u001b[0m_handle\u001b[0m\u001b[1;33m,\u001b[0m \u001b[0margs\u001b[0m\u001b[1;33m,\u001b[0m\u001b[1;33m\u001b[0m\u001b[1;33m\u001b[0m\u001b[0m\n\u001b[1;32m-> 1458\u001b[1;33m                                                run_metadata_ptr)\n\u001b[0m\u001b[0;32m   1459\u001b[0m         \u001b[1;32mif\u001b[0m \u001b[0mrun_metadata\u001b[0m\u001b[1;33m:\u001b[0m\u001b[1;33m\u001b[0m\u001b[1;33m\u001b[0m\u001b[0m\n\u001b[0;32m   1460\u001b[0m           \u001b[0mproto_data\u001b[0m \u001b[1;33m=\u001b[0m \u001b[0mtf_session\u001b[0m\u001b[1;33m.\u001b[0m\u001b[0mTF_GetBuffer\u001b[0m\u001b[1;33m(\u001b[0m\u001b[0mrun_metadata_ptr\u001b[0m\u001b[1;33m)\u001b[0m\u001b[1;33m\u001b[0m\u001b[1;33m\u001b[0m\u001b[0m\n",
      "\u001b[1;31mKeyboardInterrupt\u001b[0m: "
     ]
    }
   ],
   "source": [
    "checkpoint = ModelCheckpoint(\"pump_spectrogram_best_model.hdf5\", monitor='loss', verbose=1,\n",
    "save_best_only=True, mode='auto', period=1)\n",
    "\n",
    "# train model\n",
    "print(\"============== MODEL TRAINING ==============\")\n",
    "model = get_model(vector_array.shape[1])\n",
    "model.summary()\n",
    "\n",
    "model.compile(**param[\"fit\"][\"compile\"])\n",
    "history = model.fit(train_data,\n",
    "                    train_data,\n",
    "                    epochs=15,\n",
    "                    batch_size=param[\"fit\"][\"batch_size\"],\n",
    "                    shuffle=param[\"fit\"][\"shuffle\"],\n",
    "                    validation_split=param[\"fit\"][\"validation_split\"],\n",
    "                    verbose=param[\"fit\"][\"verbose\"], callbacks=[checkpoint])\n",
    "\n",
    "visualizer.loss_plot(history.history[\"loss\"], history.history[\"val_loss\"])\n",
    "visualizer.save_figure(history_img)\n",
    "model.save(model_file_path)\n",
    "logger.info(\"save_model -> {}\".format(model_file_path))\n",
    "print(\"============== END TRAINING ==============\")"
   ]
  },
  {
   "cell_type": "code",
   "execution_count": 381,
   "metadata": {},
   "outputs": [
    {
     "data": {
      "text/plain": [
       "[<matplotlib.lines.Line2D at 0x28924d46eb8>]"
      ]
     },
     "execution_count": 381,
     "metadata": {},
     "output_type": "execute_result"
    },
    {
     "data": {
      "text/plain": [
       "[<matplotlib.lines.Line2D at 0x2890fb05438>]"
      ]
     },
     "execution_count": 381,
     "metadata": {},
     "output_type": "execute_result"
    },
    {
     "data": {
      "text/plain": [
       "Text(0.5, 1.0, 'Model loss')"
      ]
     },
     "execution_count": 381,
     "metadata": {},
     "output_type": "execute_result"
    },
    {
     "data": {
      "text/plain": [
       "Text(0, 0.5, 'Loss')"
      ]
     },
     "execution_count": 381,
     "metadata": {},
     "output_type": "execute_result"
    },
    {
     "data": {
      "text/plain": [
       "Text(0.5, 0, 'Epoch')"
      ]
     },
     "execution_count": 381,
     "metadata": {},
     "output_type": "execute_result"
    },
    {
     "data": {
      "text/plain": [
       "<matplotlib.legend.Legend at 0x28924cd2240>"
      ]
     },
     "execution_count": 381,
     "metadata": {},
     "output_type": "execute_result"
    },
    {
     "data": {
      "image/png": "[encoded data removed]",
      "text/plain": [
       "<Figure size 720x360 with 1 Axes>"
      ]
     },
     "metadata": {
      "needs_background": "light"
     },
     "output_type": "display_data"
    }
   ],
   "source": [
    "fig, ax = plt.subplots(figsize=(10,5))\n",
    "ax.plot(history.history['loss'])\n",
    "ax.plot(history.history['val_loss'])\n",
    "ax.set_title('Model loss')\n",
    "ax.set_ylabel('Loss')\n",
    "ax.set_xlabel('Epoch')\n",
    "ax.legend(['Training Loss', 'Validation Loss'], loc='upper right')"
   ]
  },
  {
   "cell_type": "markdown",
   "metadata": {
    "colab_type": "text",
    "id": "gQ10FDztnN5f"
   },
   "source": [
    "### Predictions on Test Data in Dev Dataset"
   ]
  },
  {
   "cell_type": "code",
   "execution_count": 269,
   "metadata": {},
   "outputs": [],
   "source": [
    "n_mels = param[\"feature\"][\"n_mels\"]\n",
    "frames = param[\"feature\"][\"frames\"]\n",
    "model = get_model(n_mels * frames)"
   ]
  },
  {
   "cell_type": "code",
   "execution_count": 270,
   "metadata": {
    "colab": {},
    "colab_type": "code",
    "id": "AX_apPZUnGJI"
   },
   "outputs": [],
   "source": [
    "def save_csv(save_file_path,\n",
    "             save_data):\n",
    "    with open(save_file_path, \"w\", newline=\"\") as f:\n",
    "        writer = csv.writer(f, lineterminator='\\n')\n",
    "        writer.writerows(save_data)"
   ]
  },
  {
   "cell_type": "code",
   "execution_count": 271,
   "metadata": {},
   "outputs": [],
   "source": [
    "def get_machine_id_list_for_test(target_dir,\n",
    "                                 dir_name=\"test\",\n",
    "                                 ext=\"wav\"):\n",
    "    \"\"\"\n",
    "    target_dir : str\n",
    "        base directory path of \"dev_data\" or \"eval_data\"\n",
    "    test_dir_name : str (default=\"test\")\n",
    "        directory containing test data\n",
    "    ext : str (default=\"wav)\n",
    "        file extension of audio files\n",
    "    return :\n",
    "        machine_id_list : list [ str ]\n",
    "            list of machine IDs extracted from the names of test files\n",
    "    \"\"\"\n",
    "    # create test files\n",
    "    dir_path = os.path.abspath(\"{dir}/{dir_name}/*.{ext}\".format(dir=target_dir, dir_name=dir_name, ext=ext))\n",
    "    file_paths = sorted(glob.glob(dir_path))\n",
    "    # extract id\n",
    "    machine_id_list = sorted(list(set(itertools.chain.from_iterable(\n",
    "        [re.findall('id_[0-9][0-9]', ext_id) for ext_id in file_paths]))))\n",
    "    return machine_id_list"
   ]
  },
  {
   "cell_type": "code",
   "execution_count": 160,
   "metadata": {},
   "outputs": [],
   "source": [
    "def test_file_list_generator(target_dir,\n",
    "                             id_name,\n",
    "                             dir_name=\"test\",\n",
    "                             prefix_normal=\"normal\",\n",
    "                             prefix_anomaly=\"anomaly\",\n",
    "                             ext=\"wav\"):\n",
    "    \"\"\"\n",
    "    target_dir : str\n",
    "        base directory path of the dev_data or eval_data\n",
    "    id_name : str\n",
    "        id of wav file in <<test_dir_name>> directory\n",
    "    dir_name : str (default=\"test\")\n",
    "        directory containing test data\n",
    "    prefix_normal : str (default=\"normal\")\n",
    "        normal directory name\n",
    "    prefix_anomaly : str (default=\"anomaly\")\n",
    "        anomaly directory name\n",
    "    ext : str (default=\"wav\")\n",
    "        file extension of audio files\n",
    "    return :\n",
    "        if the mode is \"development\":\n",
    "            test_files : list [ str ]\n",
    "                file list for test\n",
    "            test_labels : list [ boolean ]\n",
    "                label info. list for test\n",
    "                * normal/anomaly = 0/1\n",
    "        if the mode is \"evaluation\":\n",
    "            test_files : list [ str ]\n",
    "                file list for test\n",
    "    \"\"\"\n",
    "    logger.info(\"target_dir : {}\".format(target_dir+\"_\"+id_name))\n",
    "\n",
    "    # development\n",
    "    if mode:\n",
    "        normal_files = sorted(\n",
    "            glob.glob(\"{dir}/{dir_name}/{prefix_normal}_{id_name}*.{ext}\".format(dir=target_dir,\n",
    "                                                                                 dir_name=dir_name,\n",
    "                                                                                 prefix_normal=prefix_normal,\n",
    "                                                                                 id_name=id_name,\n",
    "                                                                                 ext=ext)))\n",
    "        normal_labels = np.zeros(len(normal_files))\n",
    "        anomaly_files = sorted(\n",
    "            glob.glob(\"{dir}/{dir_name}/{prefix_anomaly}_{id_name}*.{ext}\".format(dir=target_dir,\n",
    "                                                                                  dir_name=dir_name,\n",
    "                                                                                  prefix_anomaly=prefix_anomaly,\n",
    "                                                                                  id_name=id_name,\n",
    "                                                                                  ext=ext)))\n",
    "        anomaly_labels = np.ones(len(anomaly_files))\n",
    "        files = np.concatenate((normal_files, anomaly_files), axis=0)\n",
    "        labels = np.concatenate((normal_labels, anomaly_labels), axis=0)\n",
    "        logger.info(\"test_file  num : {num}\".format(num=len(files)))\n",
    "        if len(files) == 0:\n",
    "            logger.exception(\"no_wav_file!!\")\n",
    "        print(\"\\n========================================\")\n",
    "\n",
    "    # evaluation\n",
    "    else:\n",
    "        files = sorted(\n",
    "            glob.glob(\"{dir}/{dir_name}/*{id_name}*.{ext}\".format(dir=target_dir,\n",
    "                                                                  dir_name=dir_name,\n",
    "                                                                  id_name=id_name,\n",
    "                                                                  ext=ext)))\n",
    "        labels = None\n",
    "        logger.info(\"test_file  num : {num}\".format(num=len(files)))\n",
    "        if len(files) == 0:\n",
    "            logger.exception(\"no_wav_file!!\")\n",
    "        print(\"\\n=========================================\")\n",
    "\n",
    "    return files, labels\n",
    "########################################################################"
   ]
  },
  {
   "cell_type": "code",
   "execution_count": 273,
   "metadata": {
    "scrolled": true
   },
   "outputs": [
    {
     "name": "stderr",
     "output_type": "stream",
     "text": [
      "2020-09-10 22:17:38,209 - INFO - load_directory <- development\n"
     ]
    },
    {
     "name": "stdout",
     "output_type": "stream",
     "text": [
      "\n",
      "===========================\n",
      "[1/1] C:\\Users\\DMT2KOR\\OneDrive - Robert Bosch GmbH\\Documents\\WORK\\PROJECTS\\PoCs\\Machine Sound Monitoring\\DATA\\DCASE2020\\pump_basedir\\dev_data\\pump\n",
      "============== MODEL LOAD ==============\n",
      "Model: \"model_8\"\n",
      "_________________________________________________________________\n",
      "Layer (type)                 Output Shape              Param #   \n",
      "=================================================================\n",
      "input_8 (InputLayer)         (None, 640)               0         \n",
      "_________________________________________________________________\n",
      "dense_71 (Dense)             (None, 128)               82048     \n",
      "_________________________________________________________________\n",
      "batch_normalization_64 (Batc (None, 128)               512       \n",
      "_________________________________________________________________\n",
      "activation_64 (Activation)   (None, 128)               0         \n",
      "_________________________________________________________________\n",
      "dense_72 (Dense)             (None, 128)               16512     \n",
      "_________________________________________________________________\n",
      "batch_normalization_65 (Batc (None, 128)               512       \n",
      "_________________________________________________________________\n",
      "activation_65 (Activation)   (None, 128)               0         \n",
      "_________________________________________________________________\n",
      "dense_73 (Dense)             (None, 128)               16512     \n",
      "_________________________________________________________________\n",
      "batch_normalization_66 (Batc (None, 128)               512       \n",
      "_________________________________________________________________\n",
      "activation_66 (Activation)   (None, 128)               0         \n",
      "_________________________________________________________________\n",
      "dense_74 (Dense)             (None, 128)               16512     \n",
      "_________________________________________________________________\n",
      "batch_normalization_67 (Batc (None, 128)               512       \n",
      "_________________________________________________________________\n",
      "activation_67 (Activation)   (None, 128)               0         \n",
      "_________________________________________________________________\n",
      "dense_75 (Dense)             (None, 8)                 1032      \n",
      "_________________________________________________________________\n",
      "batch_normalization_68 (Batc (None, 8)                 32        \n",
      "_________________________________________________________________\n",
      "activation_68 (Activation)   (None, 8)                 0         \n",
      "_________________________________________________________________\n",
      "dense_76 (Dense)             (None, 128)               1152      \n",
      "_________________________________________________________________\n",
      "batch_normalization_69 (Batc (None, 128)               512       \n",
      "_________________________________________________________________\n",
      "activation_69 (Activation)   (None, 128)               0         \n",
      "_________________________________________________________________\n",
      "dense_77 (Dense)             (None, 128)               16512     \n",
      "_________________________________________________________________\n",
      "batch_normalization_70 (Batc (None, 128)               512       \n",
      "_________________________________________________________________\n",
      "activation_70 (Activation)   (None, 128)               0         \n",
      "_________________________________________________________________\n",
      "dense_78 (Dense)             (None, 128)               16512     \n",
      "_________________________________________________________________\n",
      "batch_normalization_71 (Batc (None, 128)               512       \n",
      "_________________________________________________________________\n",
      "activation_71 (Activation)   (None, 128)               0         \n",
      "_________________________________________________________________\n",
      "dense_79 (Dense)             (None, 128)               16512     \n",
      "_________________________________________________________________\n",
      "batch_normalization_72 (Batc (None, 128)               512       \n",
      "_________________________________________________________________\n",
      "activation_72 (Activation)   (None, 128)               0         \n",
      "_________________________________________________________________\n",
      "dense_80 (Dense)             (None, 640)               82560     \n",
      "=================================================================\n",
      "Total params: 269,992\n",
      "Trainable params: 267,928\n",
      "Non-trainable params: 2,064\n",
      "_________________________________________________________________\n"
     ]
    },
    {
     "name": "stderr",
     "output_type": "stream",
     "text": [
      "2020-09-10 22:17:43,600 - INFO - target_dir : C:\\Users\\DMT2KOR\\OneDrive - Robert Bosch GmbH\\Documents\\WORK\\PROJECTS\\PoCs\\Machine Sound Monitoring\\DATA\\DCASE2020\\pump_basedir\\dev_data\\pump_id_00\n",
      "2020-09-10 22:17:43,608 - INFO - test_file  num : 243\n"
     ]
    },
    {
     "name": "stdout",
     "output_type": "stream",
     "text": [
      "\n",
      "========================================\n",
      "\n",
      "============== BEGIN TEST FOR A MACHINE ID ==============\n"
     ]
    },
    {
     "name": "stderr",
     "output_type": "stream",
     "text": [
      "100%|████████████████████████████████████████████████████████████████████████████████| 243/243 [00:45<00:00,  9.24it/s]\n",
      "2020-09-10 22:18:29,369 - INFO - anomaly score result ->  ./result/anomaly_score_pump_id_00.csv\n",
      "2020-09-10 22:18:29,377 - INFO - AUC : 0.7523776223776224\n",
      "2020-09-10 22:18:29,378 - INFO - pAUC : 0.7103422892896577\n"
     ]
    },
    {
     "name": "stdout",
     "output_type": "stream",
     "text": [
      "\n",
      "============ END OF TEST FOR A MACHINE ID ============\n"
     ]
    },
    {
     "name": "stderr",
     "output_type": "stream",
     "text": [
      "2020-09-10 22:18:29,380 - INFO - target_dir : C:\\Users\\DMT2KOR\\OneDrive - Robert Bosch GmbH\\Documents\\WORK\\PROJECTS\\PoCs\\Machine Sound Monitoring\\DATA\\DCASE2020\\pump_basedir\\dev_data\\pump_id_02\n",
      "2020-09-10 22:18:29,389 - INFO - test_file  num : 211\n"
     ]
    },
    {
     "name": "stdout",
     "output_type": "stream",
     "text": [
      "\n",
      "========================================\n",
      "\n",
      "============== BEGIN TEST FOR A MACHINE ID ==============\n"
     ]
    },
    {
     "name": "stderr",
     "output_type": "stream",
     "text": [
      "100%|████████████████████████████████████████████████████████████████████████████████| 211/211 [00:23<00:00,  8.61it/s]\n",
      "2020-09-10 22:18:52,878 - INFO - anomaly score result ->  ./result/anomaly_score_pump_id_02.csv\n",
      "2020-09-10 22:18:52,880 - INFO - AUC : 0.6432432432432432\n",
      "2020-09-10 22:18:52,882 - INFO - pAUC : 0.5723091512565197\n"
     ]
    },
    {
     "name": "stdout",
     "output_type": "stream",
     "text": [
      "\n",
      "============ END OF TEST FOR A MACHINE ID ============\n"
     ]
    },
    {
     "name": "stderr",
     "output_type": "stream",
     "text": [
      "2020-09-10 22:18:52,883 - INFO - target_dir : C:\\Users\\DMT2KOR\\OneDrive - Robert Bosch GmbH\\Documents\\WORK\\PROJECTS\\PoCs\\Machine Sound Monitoring\\DATA\\DCASE2020\\pump_basedir\\dev_data\\pump_id_04\n",
      "2020-09-10 22:18:52,892 - INFO - test_file  num : 200\n"
     ]
    },
    {
     "name": "stdout",
     "output_type": "stream",
     "text": [
      "\n",
      "========================================\n",
      "\n",
      "============== BEGIN TEST FOR A MACHINE ID ==============\n"
     ]
    },
    {
     "name": "stderr",
     "output_type": "stream",
     "text": [
      "100%|████████████████████████████████████████████████████████████████████████████████| 200/200 [00:21<00:00,  9.38it/s]\n",
      "2020-09-10 22:19:14,229 - INFO - anomaly score result ->  ./result/anomaly_score_pump_id_04.csv\n",
      "2020-09-10 22:19:14,234 - INFO - AUC : 0.4712\n",
      "2020-09-10 22:19:14,235 - INFO - pAUC : 0.5\n"
     ]
    },
    {
     "name": "stdout",
     "output_type": "stream",
     "text": [
      "\n",
      "============ END OF TEST FOR A MACHINE ID ============\n"
     ]
    },
    {
     "name": "stderr",
     "output_type": "stream",
     "text": [
      "2020-09-10 22:19:14,237 - INFO - target_dir : C:\\Users\\DMT2KOR\\OneDrive - Robert Bosch GmbH\\Documents\\WORK\\PROJECTS\\PoCs\\Machine Sound Monitoring\\DATA\\DCASE2020\\pump_basedir\\dev_data\\pump_id_06\n",
      "2020-09-10 22:19:14,249 - INFO - test_file  num : 202\n"
     ]
    },
    {
     "name": "stdout",
     "output_type": "stream",
     "text": [
      "\n",
      "========================================\n",
      "\n",
      "============== BEGIN TEST FOR A MACHINE ID ==============\n"
     ]
    },
    {
     "name": "stderr",
     "output_type": "stream",
     "text": [
      "100%|████████████████████████████████████████████████████████████████████████████████| 202/202 [00:21<00:00,  9.46it/s]\n",
      "2020-09-10 22:19:35,301 - INFO - anomaly score result ->  ./result/anomaly_score_pump_id_06.csv\n",
      "2020-09-10 22:19:35,305 - INFO - AUC : 0.6308823529411764\n",
      "2020-09-10 22:19:35,306 - INFO - pAUC : 0.5454076367389061\n"
     ]
    },
    {
     "name": "stdout",
     "output_type": "stream",
     "text": [
      "\n",
      "============ END OF TEST FOR A MACHINE ID ============\n"
     ]
    },
    {
     "name": "stderr",
     "output_type": "stream",
     "text": [
      "2020-09-10 22:19:35,308 - INFO - AUC and pAUC results -> ./result/result.csv\n"
     ]
    }
   ],
   "source": [
    "# make output result directory\n",
    "os.makedirs(param[\"result_directory\"], exist_ok=True)\n",
    "\n",
    "mode = True  # mode is False for Eval dataset and True for Dev dataset\n",
    "# load base directory\n",
    "dirs = select_dirs(param=param, mode=mode)\n",
    "\n",
    "# initialize lines in csv for AUC and pAUC\n",
    "csv_lines = []\n",
    "\n",
    "# loop of the base directory\n",
    "for idx, target_dir in enumerate(dirs):\n",
    "    print(\"\\n===========================\")\n",
    "    print(\"[{idx}/{total}] {dirname}\".format(dirname=target_dir, idx=idx+1, total=len(dirs)))\n",
    "    machine_type = os.path.split(target_dir)[1]\n",
    "\n",
    "    print(\"============== MODEL LOAD ==============\")\n",
    "    # set model path\n",
    "    model_file = \"{model}/model_{machine_type}.hdf5\".format(model=param[\"model_directory\"],\n",
    "                                                            machine_type=machine_type)\n",
    "\n",
    "    # load model file\n",
    "    if not os.path.exists(model_file):\n",
    "        logger.error(\"{} model not found \".format(machine_type))\n",
    "        sys.exit(-1)\n",
    "#     model = load_model(model_file)\n",
    "#     model.load_wights(model_file)\n",
    "    n_mels = param[\"feature\"][\"n_mels\"]\n",
    "    frames = param[\"feature\"][\"frames\"]\n",
    "    model = get_model(n_mels * frames)\n",
    "    model.load_weights(model_file)\n",
    "    model.summary()\n",
    "\n",
    "#     mode = True\n",
    "    if mode:\n",
    "        # results by type\n",
    "        csv_lines.append([machine_type])\n",
    "        csv_lines.append([\"id\", \"AUC\", \"pAUC\"])\n",
    "        performance = []\n",
    "\n",
    "    machine_id_list = get_machine_id_list_for_test(target_dir)\n",
    "\n",
    "    for id_str in machine_id_list:\n",
    "        # load test file\n",
    "        test_files, y_true = test_file_list_generator(target_dir, id_str)\n",
    "\n",
    "        # setup anomaly score file path\n",
    "        anomaly_score_csv = \"{result}/anomaly_score_{machine_type}_{id_str}.csv\".format(\n",
    "                                                                                 result=param[\"result_directory\"],\n",
    "                                                                                 machine_type=machine_type,\n",
    "                                                                                 id_str=id_str)\n",
    "        anomaly_score_list = []\n",
    "\n",
    "        print(\"\\n============== BEGIN TEST FOR A MACHINE ID ==============\")\n",
    "        y_pred = [0. for k in test_files]\n",
    "        for file_idx, file_path in tqdm(enumerate(test_files), total=len(test_files)):\n",
    "            try:\n",
    "                data, log_mel_spectrogram, mfcc, spectrogram = file_to_vector_array(file_path,\n",
    "                                                n_mels=param[\"feature\"][\"n_mels\"],\n",
    "                                                frames=param[\"feature\"][\"frames\"],\n",
    "                                                n_fft=param[\"feature\"][\"n_fft\"],\n",
    "                                                hop_length=param[\"feature\"][\"hop_length\"],\n",
    "                                                power=param[\"feature\"][\"power\"])\n",
    "                errors = np.mean(np.square(data - model.predict(data)), axis=1)\n",
    "                y_pred[file_idx] = np.mean(errors)\n",
    "                anomaly_score_list.append([os.path.basename(file_path), y_pred[file_idx]])\n",
    "            except:\n",
    "                logger.error(\"file broken!!: {}\".format(file_path))\n",
    "\n",
    "        # save anomaly score\n",
    "        save_csv(save_file_path=anomaly_score_csv, save_data=anomaly_score_list)\n",
    "        logger.info(\"anomaly score result ->  {}\".format(anomaly_score_csv))\n",
    "\n",
    "        if mode:\n",
    "            # append AUC and pAUC to lists\n",
    "            auc = metrics.roc_auc_score(y_true, y_pred)\n",
    "            p_auc = metrics.roc_auc_score(y_true, y_pred, max_fpr=param[\"max_fpr\"])\n",
    "            csv_lines.append([id_str.split(\"_\", 1)[1], auc, p_auc])\n",
    "            performance.append([auc, p_auc])\n",
    "            logger.info(\"AUC : {}\".format(auc))\n",
    "            logger.info(\"pAUC : {}\".format(p_auc))\n",
    "\n",
    "        print(\"\\n============ END OF TEST FOR A MACHINE ID ============\")\n",
    "\n",
    "    if mode:\n",
    "        # calculate averages for AUCs and pAUCs\n",
    "        averaged_performance = np.mean(np.array(performance, dtype=float), axis=0)\n",
    "        csv_lines.append([\"Average\"] + list(averaged_performance))\n",
    "        csv_lines.append([])\n",
    "\n",
    "if mode:\n",
    "    # output results\n",
    "    result_path = \"{result}/{file_name}\".format(result=param[\"result_directory\"], file_name=param[\"result_file\"])\n",
    "    logger.info(\"AUC and pAUC results -> {}\".format(result_path))\n",
    "    save_csv(save_file_path=result_path, save_data=csv_lines)"
   ]
  },
  {
   "cell_type": "code",
   "execution_count": 274,
   "metadata": {},
   "outputs": [
    {
     "data": {
      "text/plain": [
       "'C:\\\\Users\\\\DMT2KOR\\\\OneDrive - Robert Bosch GmbH\\\\Documents\\\\WORK\\\\PROJECTS\\\\PoCs\\\\Machine Sound Monitoring\\\\DATA\\\\DCASE2020\\\\pump_basedir\\\\dev_data\\\\pump'"
      ]
     },
     "execution_count": 274,
     "metadata": {},
     "output_type": "execute_result"
    }
   ],
   "source": [
    "target_dir"
   ]
  },
  {
   "cell_type": "code",
   "execution_count": 275,
   "metadata": {},
   "outputs": [],
   "source": [
    "dir_name=\"test\"\n",
    "prefix_normal=\"normal\"\n",
    "prefix_anomaly=\"anomaly\"\n",
    "ext=\"wav\"\n",
    "# create test files\n",
    "dir_path = os.path.abspath(\"{dir}/{dir_name}/*.{ext}\".format(dir=target_dir, dir_name=dir_name, ext=ext))\n",
    "file_paths = sorted(glob.glob(dir_path))\n",
    "# extract id\n",
    "machine_id_list = sorted(list(set(itertools.chain.from_iterable(\n",
    "    [re.findall('id_[0-9][0-9]', ext_id) for ext_id in file_paths]))))"
   ]
  },
  {
   "cell_type": "code",
   "execution_count": 276,
   "metadata": {},
   "outputs": [
    {
     "data": {
      "text/plain": [
       "'C:\\\\Users\\\\DMT2KOR\\\\OneDrive - Robert Bosch GmbH\\\\Documents\\\\WORK\\\\PROJECTS\\\\PoCs\\\\Machine Sound Monitoring\\\\DATA\\\\DCASE2020\\\\pump_basedir\\\\dev_data\\\\pump\\\\test\\\\*.wav'"
      ]
     },
     "execution_count": 276,
     "metadata": {},
     "output_type": "execute_result"
    }
   ],
   "source": [
    "dir_path"
   ]
  },
  {
   "cell_type": "code",
   "execution_count": 277,
   "metadata": {},
   "outputs": [
    {
     "data": {
      "text/plain": [
       "['C:\\\\Users\\\\DMT2KOR\\\\OneDrive - Robert Bosch GmbH\\\\Documents\\\\WORK\\\\PROJECTS\\\\PoCs\\\\Machine Sound Monitoring\\\\DATA\\\\DCASE2020\\\\pump_basedir\\\\dev_data\\\\pump\\\\test\\\\anomaly_id_00_00000000.wav',\n",
       " 'C:\\\\Users\\\\DMT2KOR\\\\OneDrive - Robert Bosch GmbH\\\\Documents\\\\WORK\\\\PROJECTS\\\\PoCs\\\\Machine Sound Monitoring\\\\DATA\\\\DCASE2020\\\\pump_basedir\\\\dev_data\\\\pump\\\\test\\\\anomaly_id_00_00000001.wav',\n",
       " 'C:\\\\Users\\\\DMT2KOR\\\\OneDrive - Robert Bosch GmbH\\\\Documents\\\\WORK\\\\PROJECTS\\\\PoCs\\\\Machine Sound Monitoring\\\\DATA\\\\DCASE2020\\\\pump_basedir\\\\dev_data\\\\pump\\\\test\\\\anomaly_id_00_00000002.wav',\n",
       " 'C:\\\\Users\\\\DMT2KOR\\\\OneDrive - Robert Bosch GmbH\\\\Documents\\\\WORK\\\\PROJECTS\\\\PoCs\\\\Machine Sound Monitoring\\\\DATA\\\\DCASE2020\\\\pump_basedir\\\\dev_data\\\\pump\\\\test\\\\anomaly_id_00_00000003.wav',\n",
       " 'C:\\\\Users\\\\DMT2KOR\\\\OneDrive - Robert Bosch GmbH\\\\Documents\\\\WORK\\\\PROJECTS\\\\PoCs\\\\Machine Sound Monitoring\\\\DATA\\\\DCASE2020\\\\pump_basedir\\\\dev_data\\\\pump\\\\test\\\\anomaly_id_00_00000004.wav',\n",
       " 'C:\\\\Users\\\\DMT2KOR\\\\OneDrive - Robert Bosch GmbH\\\\Documents\\\\WORK\\\\PROJECTS\\\\PoCs\\\\Machine Sound Monitoring\\\\DATA\\\\DCASE2020\\\\pump_basedir\\\\dev_data\\\\pump\\\\test\\\\anomaly_id_00_00000005.wav',\n",
       " 'C:\\\\Users\\\\DMT2KOR\\\\OneDrive - Robert Bosch GmbH\\\\Documents\\\\WORK\\\\PROJECTS\\\\PoCs\\\\Machine Sound Monitoring\\\\DATA\\\\DCASE2020\\\\pump_basedir\\\\dev_data\\\\pump\\\\test\\\\anomaly_id_00_00000006.wav',\n",
       " 'C:\\\\Users\\\\DMT2KOR\\\\OneDrive - Robert Bosch GmbH\\\\Documents\\\\WORK\\\\PROJECTS\\\\PoCs\\\\Machine Sound Monitoring\\\\DATA\\\\DCASE2020\\\\pump_basedir\\\\dev_data\\\\pump\\\\test\\\\anomaly_id_00_00000007.wav',\n",
       " 'C:\\\\Users\\\\DMT2KOR\\\\OneDrive - Robert Bosch GmbH\\\\Documents\\\\WORK\\\\PROJECTS\\\\PoCs\\\\Machine Sound Monitoring\\\\DATA\\\\DCASE2020\\\\pump_basedir\\\\dev_data\\\\pump\\\\test\\\\anomaly_id_00_00000008.wav',\n",
       " 'C:\\\\Users\\\\DMT2KOR\\\\OneDrive - Robert Bosch GmbH\\\\Documents\\\\WORK\\\\PROJECTS\\\\PoCs\\\\Machine Sound Monitoring\\\\DATA\\\\DCASE2020\\\\pump_basedir\\\\dev_data\\\\pump\\\\test\\\\anomaly_id_00_00000009.wav',\n",
       " 'C:\\\\Users\\\\DMT2KOR\\\\OneDrive - Robert Bosch GmbH\\\\Documents\\\\WORK\\\\PROJECTS\\\\PoCs\\\\Machine Sound Monitoring\\\\DATA\\\\DCASE2020\\\\pump_basedir\\\\dev_data\\\\pump\\\\test\\\\anomaly_id_00_00000010.wav',\n",
       " 'C:\\\\Users\\\\DMT2KOR\\\\OneDrive - Robert Bosch GmbH\\\\Documents\\\\WORK\\\\PROJECTS\\\\PoCs\\\\Machine Sound Monitoring\\\\DATA\\\\DCASE2020\\\\pump_basedir\\\\dev_data\\\\pump\\\\test\\\\anomaly_id_00_00000011.wav',\n",
       " 'C:\\\\Users\\\\DMT2KOR\\\\OneDrive - Robert Bosch GmbH\\\\Documents\\\\WORK\\\\PROJECTS\\\\PoCs\\\\Machine Sound Monitoring\\\\DATA\\\\DCASE2020\\\\pump_basedir\\\\dev_data\\\\pump\\\\test\\\\anomaly_id_00_00000012.wav',\n",
       " 'C:\\\\Users\\\\DMT2KOR\\\\OneDrive - Robert Bosch GmbH\\\\Documents\\\\WORK\\\\PROJECTS\\\\PoCs\\\\Machine Sound Monitoring\\\\DATA\\\\DCASE2020\\\\pump_basedir\\\\dev_data\\\\pump\\\\test\\\\anomaly_id_00_00000013.wav',\n",
       " 'C:\\\\Users\\\\DMT2KOR\\\\OneDrive - Robert Bosch GmbH\\\\Documents\\\\WORK\\\\PROJECTS\\\\PoCs\\\\Machine Sound Monitoring\\\\DATA\\\\DCASE2020\\\\pump_basedir\\\\dev_data\\\\pump\\\\test\\\\anomaly_id_00_00000014.wav',\n",
       " 'C:\\\\Users\\\\DMT2KOR\\\\OneDrive - Robert Bosch GmbH\\\\Documents\\\\WORK\\\\PROJECTS\\\\PoCs\\\\Machine Sound Monitoring\\\\DATA\\\\DCASE2020\\\\pump_basedir\\\\dev_data\\\\pump\\\\test\\\\anomaly_id_00_00000015.wav',\n",
       " 'C:\\\\Users\\\\DMT2KOR\\\\OneDrive - Robert Bosch GmbH\\\\Documents\\\\WORK\\\\PROJECTS\\\\PoCs\\\\Machine Sound Monitoring\\\\DATA\\\\DCASE2020\\\\pump_basedir\\\\dev_data\\\\pump\\\\test\\\\anomaly_id_00_00000016.wav',\n",
       " 'C:\\\\Users\\\\DMT2KOR\\\\OneDrive - Robert Bosch GmbH\\\\Documents\\\\WORK\\\\PROJECTS\\\\PoCs\\\\Machine Sound Monitoring\\\\DATA\\\\DCASE2020\\\\pump_basedir\\\\dev_data\\\\pump\\\\test\\\\anomaly_id_00_00000017.wav',\n",
       " 'C:\\\\Users\\\\DMT2KOR\\\\OneDrive - Robert Bosch GmbH\\\\Documents\\\\WORK\\\\PROJECTS\\\\PoCs\\\\Machine Sound Monitoring\\\\DATA\\\\DCASE2020\\\\pump_basedir\\\\dev_data\\\\pump\\\\test\\\\anomaly_id_00_00000018.wav',\n",
       " 'C:\\\\Users\\\\DMT2KOR\\\\OneDrive - Robert Bosch GmbH\\\\Documents\\\\WORK\\\\PROJECTS\\\\PoCs\\\\Machine Sound Monitoring\\\\DATA\\\\DCASE2020\\\\pump_basedir\\\\dev_data\\\\pump\\\\test\\\\anomaly_id_00_00000019.wav',\n",
       " 'C:\\\\Users\\\\DMT2KOR\\\\OneDrive - Robert Bosch GmbH\\\\Documents\\\\WORK\\\\PROJECTS\\\\PoCs\\\\Machine Sound Monitoring\\\\DATA\\\\DCASE2020\\\\pump_basedir\\\\dev_data\\\\pump\\\\test\\\\anomaly_id_00_00000020.wav',\n",
       " 'C:\\\\Users\\\\DMT2KOR\\\\OneDrive - Robert Bosch GmbH\\\\Documents\\\\WORK\\\\PROJECTS\\\\PoCs\\\\Machine Sound Monitoring\\\\DATA\\\\DCASE2020\\\\pump_basedir\\\\dev_data\\\\pump\\\\test\\\\anomaly_id_00_00000021.wav',\n",
       " 'C:\\\\Users\\\\DMT2KOR\\\\OneDrive - Robert Bosch GmbH\\\\Documents\\\\WORK\\\\PROJECTS\\\\PoCs\\\\Machine Sound Monitoring\\\\DATA\\\\DCASE2020\\\\pump_basedir\\\\dev_data\\\\pump\\\\test\\\\anomaly_id_00_00000022.wav',\n",
       " 'C:\\\\Users\\\\DMT2KOR\\\\OneDrive - Robert Bosch GmbH\\\\Documents\\\\WORK\\\\PROJECTS\\\\PoCs\\\\Machine Sound Monitoring\\\\DATA\\\\DCASE2020\\\\pump_basedir\\\\dev_data\\\\pump\\\\test\\\\anomaly_id_00_00000023.wav',\n",
       " 'C:\\\\Users\\\\DMT2KOR\\\\OneDrive - Robert Bosch GmbH\\\\Documents\\\\WORK\\\\PROJECTS\\\\PoCs\\\\Machine Sound Monitoring\\\\DATA\\\\DCASE2020\\\\pump_basedir\\\\dev_data\\\\pump\\\\test\\\\anomaly_id_00_00000024.wav',\n",
       " 'C:\\\\Users\\\\DMT2KOR\\\\OneDrive - Robert Bosch GmbH\\\\Documents\\\\WORK\\\\PROJECTS\\\\PoCs\\\\Machine Sound Monitoring\\\\DATA\\\\DCASE2020\\\\pump_basedir\\\\dev_data\\\\pump\\\\test\\\\anomaly_id_00_00000025.wav',\n",
       " 'C:\\\\Users\\\\DMT2KOR\\\\OneDrive - Robert Bosch GmbH\\\\Documents\\\\WORK\\\\PROJECTS\\\\PoCs\\\\Machine Sound Monitoring\\\\DATA\\\\DCASE2020\\\\pump_basedir\\\\dev_data\\\\pump\\\\test\\\\anomaly_id_00_00000026.wav',\n",
       " 'C:\\\\Users\\\\DMT2KOR\\\\OneDrive - Robert Bosch GmbH\\\\Documents\\\\WORK\\\\PROJECTS\\\\PoCs\\\\Machine Sound Monitoring\\\\DATA\\\\DCASE2020\\\\pump_basedir\\\\dev_data\\\\pump\\\\test\\\\anomaly_id_00_00000027.wav',\n",
       " 'C:\\\\Users\\\\DMT2KOR\\\\OneDrive - Robert Bosch GmbH\\\\Documents\\\\WORK\\\\PROJECTS\\\\PoCs\\\\Machine Sound Monitoring\\\\DATA\\\\DCASE2020\\\\pump_basedir\\\\dev_data\\\\pump\\\\test\\\\anomaly_id_00_00000028.wav',\n",
       " 'C:\\\\Users\\\\DMT2KOR\\\\OneDrive - Robert Bosch GmbH\\\\Documents\\\\WORK\\\\PROJECTS\\\\PoCs\\\\Machine Sound Monitoring\\\\DATA\\\\DCASE2020\\\\pump_basedir\\\\dev_data\\\\pump\\\\test\\\\anomaly_id_00_00000029.wav',\n",
       " 'C:\\\\Users\\\\DMT2KOR\\\\OneDrive - Robert Bosch GmbH\\\\Documents\\\\WORK\\\\PROJECTS\\\\PoCs\\\\Machine Sound Monitoring\\\\DATA\\\\DCASE2020\\\\pump_basedir\\\\dev_data\\\\pump\\\\test\\\\anomaly_id_00_00000030.wav',\n",
       " 'C:\\\\Users\\\\DMT2KOR\\\\OneDrive - Robert Bosch GmbH\\\\Documents\\\\WORK\\\\PROJECTS\\\\PoCs\\\\Machine Sound Monitoring\\\\DATA\\\\DCASE2020\\\\pump_basedir\\\\dev_data\\\\pump\\\\test\\\\anomaly_id_00_00000031.wav',\n",
       " 'C:\\\\Users\\\\DMT2KOR\\\\OneDrive - Robert Bosch GmbH\\\\Documents\\\\WORK\\\\PROJECTS\\\\PoCs\\\\Machine Sound Monitoring\\\\DATA\\\\DCASE2020\\\\pump_basedir\\\\dev_data\\\\pump\\\\test\\\\anomaly_id_00_00000032.wav',\n",
       " 'C:\\\\Users\\\\DMT2KOR\\\\OneDrive - Robert Bosch GmbH\\\\Documents\\\\WORK\\\\PROJECTS\\\\PoCs\\\\Machine Sound Monitoring\\\\DATA\\\\DCASE2020\\\\pump_basedir\\\\dev_data\\\\pump\\\\test\\\\anomaly_id_00_00000033.wav',\n",
       " 'C:\\\\Users\\\\DMT2KOR\\\\OneDrive - Robert Bosch GmbH\\\\Documents\\\\WORK\\\\PROJECTS\\\\PoCs\\\\Machine Sound Monitoring\\\\DATA\\\\DCASE2020\\\\pump_basedir\\\\dev_data\\\\pump\\\\test\\\\anomaly_id_00_00000034.wav',\n",
       " 'C:\\\\Users\\\\DMT2KOR\\\\OneDrive - Robert Bosch GmbH\\\\Documents\\\\WORK\\\\PROJECTS\\\\PoCs\\\\Machine Sound Monitoring\\\\DATA\\\\DCASE2020\\\\pump_basedir\\\\dev_data\\\\pump\\\\test\\\\anomaly_id_00_00000035.wav',\n",
       " 'C:\\\\Users\\\\DMT2KOR\\\\OneDrive - Robert Bosch GmbH\\\\Documents\\\\WORK\\\\PROJECTS\\\\PoCs\\\\Machine Sound Monitoring\\\\DATA\\\\DCASE2020\\\\pump_basedir\\\\dev_data\\\\pump\\\\test\\\\anomaly_id_00_00000036.wav',\n",
       " 'C:\\\\Users\\\\DMT2KOR\\\\OneDrive - Robert Bosch GmbH\\\\Documents\\\\WORK\\\\PROJECTS\\\\PoCs\\\\Machine Sound Monitoring\\\\DATA\\\\DCASE2020\\\\pump_basedir\\\\dev_data\\\\pump\\\\test\\\\anomaly_id_00_00000037.wav',\n",
       " 'C:\\\\Users\\\\DMT2KOR\\\\OneDrive - Robert Bosch GmbH\\\\Documents\\\\WORK\\\\PROJECTS\\\\PoCs\\\\Machine Sound Monitoring\\\\DATA\\\\DCASE2020\\\\pump_basedir\\\\dev_data\\\\pump\\\\test\\\\anomaly_id_00_00000038.wav',\n",
       " 'C:\\\\Users\\\\DMT2KOR\\\\OneDrive - Robert Bosch GmbH\\\\Documents\\\\WORK\\\\PROJECTS\\\\PoCs\\\\Machine Sound Monitoring\\\\DATA\\\\DCASE2020\\\\pump_basedir\\\\dev_data\\\\pump\\\\test\\\\anomaly_id_00_00000039.wav',\n",
       " 'C:\\\\Users\\\\DMT2KOR\\\\OneDrive - Robert Bosch GmbH\\\\Documents\\\\WORK\\\\PROJECTS\\\\PoCs\\\\Machine Sound Monitoring\\\\DATA\\\\DCASE2020\\\\pump_basedir\\\\dev_data\\\\pump\\\\test\\\\anomaly_id_00_00000040.wav',\n",
       " 'C:\\\\Users\\\\DMT2KOR\\\\OneDrive - Robert Bosch GmbH\\\\Documents\\\\WORK\\\\PROJECTS\\\\PoCs\\\\Machine Sound Monitoring\\\\DATA\\\\DCASE2020\\\\pump_basedir\\\\dev_data\\\\pump\\\\test\\\\anomaly_id_00_00000041.wav',\n",
       " 'C:\\\\Users\\\\DMT2KOR\\\\OneDrive - Robert Bosch GmbH\\\\Documents\\\\WORK\\\\PROJECTS\\\\PoCs\\\\Machine Sound Monitoring\\\\DATA\\\\DCASE2020\\\\pump_basedir\\\\dev_data\\\\pump\\\\test\\\\anomaly_id_00_00000042.wav',\n",
       " 'C:\\\\Users\\\\DMT2KOR\\\\OneDrive - Robert Bosch GmbH\\\\Documents\\\\WORK\\\\PROJECTS\\\\PoCs\\\\Machine Sound Monitoring\\\\DATA\\\\DCASE2020\\\\pump_basedir\\\\dev_data\\\\pump\\\\test\\\\anomaly_id_00_00000043.wav',\n",
       " 'C:\\\\Users\\\\DMT2KOR\\\\OneDrive - Robert Bosch GmbH\\\\Documents\\\\WORK\\\\PROJECTS\\\\PoCs\\\\Machine Sound Monitoring\\\\DATA\\\\DCASE2020\\\\pump_basedir\\\\dev_data\\\\pump\\\\test\\\\anomaly_id_00_00000044.wav',\n",
       " 'C:\\\\Users\\\\DMT2KOR\\\\OneDrive - Robert Bosch GmbH\\\\Documents\\\\WORK\\\\PROJECTS\\\\PoCs\\\\Machine Sound Monitoring\\\\DATA\\\\DCASE2020\\\\pump_basedir\\\\dev_data\\\\pump\\\\test\\\\anomaly_id_00_00000045.wav',\n",
       " 'C:\\\\Users\\\\DMT2KOR\\\\OneDrive - Robert Bosch GmbH\\\\Documents\\\\WORK\\\\PROJECTS\\\\PoCs\\\\Machine Sound Monitoring\\\\DATA\\\\DCASE2020\\\\pump_basedir\\\\dev_data\\\\pump\\\\test\\\\anomaly_id_00_00000046.wav',\n",
       " 'C:\\\\Users\\\\DMT2KOR\\\\OneDrive - Robert Bosch GmbH\\\\Documents\\\\WORK\\\\PROJECTS\\\\PoCs\\\\Machine Sound Monitoring\\\\DATA\\\\DCASE2020\\\\pump_basedir\\\\dev_data\\\\pump\\\\test\\\\anomaly_id_00_00000047.wav',\n",
       " 'C:\\\\Users\\\\DMT2KOR\\\\OneDrive - Robert Bosch GmbH\\\\Documents\\\\WORK\\\\PROJECTS\\\\PoCs\\\\Machine Sound Monitoring\\\\DATA\\\\DCASE2020\\\\pump_basedir\\\\dev_data\\\\pump\\\\test\\\\anomaly_id_00_00000048.wav',\n",
       " 'C:\\\\Users\\\\DMT2KOR\\\\OneDrive - Robert Bosch GmbH\\\\Documents\\\\WORK\\\\PROJECTS\\\\PoCs\\\\Machine Sound Monitoring\\\\DATA\\\\DCASE2020\\\\pump_basedir\\\\dev_data\\\\pump\\\\test\\\\anomaly_id_00_00000049.wav',\n",
       " 'C:\\\\Users\\\\DMT2KOR\\\\OneDrive - Robert Bosch GmbH\\\\Documents\\\\WORK\\\\PROJECTS\\\\PoCs\\\\Machine Sound Monitoring\\\\DATA\\\\DCASE2020\\\\pump_basedir\\\\dev_data\\\\pump\\\\test\\\\anomaly_id_00_00000050.wav',\n",
       " 'C:\\\\Users\\\\DMT2KOR\\\\OneDrive - Robert Bosch GmbH\\\\Documents\\\\WORK\\\\PROJECTS\\\\PoCs\\\\Machine Sound Monitoring\\\\DATA\\\\DCASE2020\\\\pump_basedir\\\\dev_data\\\\pump\\\\test\\\\anomaly_id_00_00000051.wav',\n",
       " 'C:\\\\Users\\\\DMT2KOR\\\\OneDrive - Robert Bosch GmbH\\\\Documents\\\\WORK\\\\PROJECTS\\\\PoCs\\\\Machine Sound Monitoring\\\\DATA\\\\DCASE2020\\\\pump_basedir\\\\dev_data\\\\pump\\\\test\\\\anomaly_id_00_00000052.wav',\n",
       " 'C:\\\\Users\\\\DMT2KOR\\\\OneDrive - Robert Bosch GmbH\\\\Documents\\\\WORK\\\\PROJECTS\\\\PoCs\\\\Machine Sound Monitoring\\\\DATA\\\\DCASE2020\\\\pump_basedir\\\\dev_data\\\\pump\\\\test\\\\anomaly_id_00_00000053.wav',\n",
       " 'C:\\\\Users\\\\DMT2KOR\\\\OneDrive - Robert Bosch GmbH\\\\Documents\\\\WORK\\\\PROJECTS\\\\PoCs\\\\Machine Sound Monitoring\\\\DATA\\\\DCASE2020\\\\pump_basedir\\\\dev_data\\\\pump\\\\test\\\\anomaly_id_00_00000054.wav',\n",
       " 'C:\\\\Users\\\\DMT2KOR\\\\OneDrive - Robert Bosch GmbH\\\\Documents\\\\WORK\\\\PROJECTS\\\\PoCs\\\\Machine Sound Monitoring\\\\DATA\\\\DCASE2020\\\\pump_basedir\\\\dev_data\\\\pump\\\\test\\\\anomaly_id_00_00000055.wav',\n",
       " 'C:\\\\Users\\\\DMT2KOR\\\\OneDrive - Robert Bosch GmbH\\\\Documents\\\\WORK\\\\PROJECTS\\\\PoCs\\\\Machine Sound Monitoring\\\\DATA\\\\DCASE2020\\\\pump_basedir\\\\dev_data\\\\pump\\\\test\\\\anomaly_id_00_00000056.wav',\n",
       " 'C:\\\\Users\\\\DMT2KOR\\\\OneDrive - Robert Bosch GmbH\\\\Documents\\\\WORK\\\\PROJECTS\\\\PoCs\\\\Machine Sound Monitoring\\\\DATA\\\\DCASE2020\\\\pump_basedir\\\\dev_data\\\\pump\\\\test\\\\anomaly_id_00_00000057.wav',\n",
       " 'C:\\\\Users\\\\DMT2KOR\\\\OneDrive - Robert Bosch GmbH\\\\Documents\\\\WORK\\\\PROJECTS\\\\PoCs\\\\Machine Sound Monitoring\\\\DATA\\\\DCASE2020\\\\pump_basedir\\\\dev_data\\\\pump\\\\test\\\\anomaly_id_00_00000058.wav',\n",
       " 'C:\\\\Users\\\\DMT2KOR\\\\OneDrive - Robert Bosch GmbH\\\\Documents\\\\WORK\\\\PROJECTS\\\\PoCs\\\\Machine Sound Monitoring\\\\DATA\\\\DCASE2020\\\\pump_basedir\\\\dev_data\\\\pump\\\\test\\\\anomaly_id_00_00000059.wav',\n",
       " 'C:\\\\Users\\\\DMT2KOR\\\\OneDrive - Robert Bosch GmbH\\\\Documents\\\\WORK\\\\PROJECTS\\\\PoCs\\\\Machine Sound Monitoring\\\\DATA\\\\DCASE2020\\\\pump_basedir\\\\dev_data\\\\pump\\\\test\\\\anomaly_id_00_00000060.wav',\n",
       " 'C:\\\\Users\\\\DMT2KOR\\\\OneDrive - Robert Bosch GmbH\\\\Documents\\\\WORK\\\\PROJECTS\\\\PoCs\\\\Machine Sound Monitoring\\\\DATA\\\\DCASE2020\\\\pump_basedir\\\\dev_data\\\\pump\\\\test\\\\anomaly_id_00_00000061.wav',\n",
       " 'C:\\\\Users\\\\DMT2KOR\\\\OneDrive - Robert Bosch GmbH\\\\Documents\\\\WORK\\\\PROJECTS\\\\PoCs\\\\Machine Sound Monitoring\\\\DATA\\\\DCASE2020\\\\pump_basedir\\\\dev_data\\\\pump\\\\test\\\\anomaly_id_00_00000062.wav',\n",
       " 'C:\\\\Users\\\\DMT2KOR\\\\OneDrive - Robert Bosch GmbH\\\\Documents\\\\WORK\\\\PROJECTS\\\\PoCs\\\\Machine Sound Monitoring\\\\DATA\\\\DCASE2020\\\\pump_basedir\\\\dev_data\\\\pump\\\\test\\\\anomaly_id_00_00000063.wav',\n",
       " 'C:\\\\Users\\\\DMT2KOR\\\\OneDrive - Robert Bosch GmbH\\\\Documents\\\\WORK\\\\PROJECTS\\\\PoCs\\\\Machine Sound Monitoring\\\\DATA\\\\DCASE2020\\\\pump_basedir\\\\dev_data\\\\pump\\\\test\\\\anomaly_id_00_00000064.wav',\n",
       " 'C:\\\\Users\\\\DMT2KOR\\\\OneDrive - Robert Bosch GmbH\\\\Documents\\\\WORK\\\\PROJECTS\\\\PoCs\\\\Machine Sound Monitoring\\\\DATA\\\\DCASE2020\\\\pump_basedir\\\\dev_data\\\\pump\\\\test\\\\anomaly_id_00_00000065.wav',\n",
       " 'C:\\\\Users\\\\DMT2KOR\\\\OneDrive - Robert Bosch GmbH\\\\Documents\\\\WORK\\\\PROJECTS\\\\PoCs\\\\Machine Sound Monitoring\\\\DATA\\\\DCASE2020\\\\pump_basedir\\\\dev_data\\\\pump\\\\test\\\\anomaly_id_00_00000066.wav',\n",
       " 'C:\\\\Users\\\\DMT2KOR\\\\OneDrive - Robert Bosch GmbH\\\\Documents\\\\WORK\\\\PROJECTS\\\\PoCs\\\\Machine Sound Monitoring\\\\DATA\\\\DCASE2020\\\\pump_basedir\\\\dev_data\\\\pump\\\\test\\\\anomaly_id_00_00000067.wav',\n",
       " 'C:\\\\Users\\\\DMT2KOR\\\\OneDrive - Robert Bosch GmbH\\\\Documents\\\\WORK\\\\PROJECTS\\\\PoCs\\\\Machine Sound Monitoring\\\\DATA\\\\DCASE2020\\\\pump_basedir\\\\dev_data\\\\pump\\\\test\\\\anomaly_id_00_00000068.wav',\n",
       " 'C:\\\\Users\\\\DMT2KOR\\\\OneDrive - Robert Bosch GmbH\\\\Documents\\\\WORK\\\\PROJECTS\\\\PoCs\\\\Machine Sound Monitoring\\\\DATA\\\\DCASE2020\\\\pump_basedir\\\\dev_data\\\\pump\\\\test\\\\anomaly_id_00_00000069.wav',\n",
       " 'C:\\\\Users\\\\DMT2KOR\\\\OneDrive - Robert Bosch GmbH\\\\Documents\\\\WORK\\\\PROJECTS\\\\PoCs\\\\Machine Sound Monitoring\\\\DATA\\\\DCASE2020\\\\pump_basedir\\\\dev_data\\\\pump\\\\test\\\\anomaly_id_00_00000070.wav',\n",
       " 'C:\\\\Users\\\\DMT2KOR\\\\OneDrive - Robert Bosch GmbH\\\\Documents\\\\WORK\\\\PROJECTS\\\\PoCs\\\\Machine Sound Monitoring\\\\DATA\\\\DCASE2020\\\\pump_basedir\\\\dev_data\\\\pump\\\\test\\\\anomaly_id_00_00000071.wav',\n",
       " 'C:\\\\Users\\\\DMT2KOR\\\\OneDrive - Robert Bosch GmbH\\\\Documents\\\\WORK\\\\PROJECTS\\\\PoCs\\\\Machine Sound Monitoring\\\\DATA\\\\DCASE2020\\\\pump_basedir\\\\dev_data\\\\pump\\\\test\\\\anomaly_id_00_00000072.wav',\n",
       " 'C:\\\\Users\\\\DMT2KOR\\\\OneDrive - Robert Bosch GmbH\\\\Documents\\\\WORK\\\\PROJECTS\\\\PoCs\\\\Machine Sound Monitoring\\\\DATA\\\\DCASE2020\\\\pump_basedir\\\\dev_data\\\\pump\\\\test\\\\anomaly_id_00_00000073.wav',\n",
       " 'C:\\\\Users\\\\DMT2KOR\\\\OneDrive - Robert Bosch GmbH\\\\Documents\\\\WORK\\\\PROJECTS\\\\PoCs\\\\Machine Sound Monitoring\\\\DATA\\\\DCASE2020\\\\pump_basedir\\\\dev_data\\\\pump\\\\test\\\\anomaly_id_00_00000074.wav',\n",
       " 'C:\\\\Users\\\\DMT2KOR\\\\OneDrive - Robert Bosch GmbH\\\\Documents\\\\WORK\\\\PROJECTS\\\\PoCs\\\\Machine Sound Monitoring\\\\DATA\\\\DCASE2020\\\\pump_basedir\\\\dev_data\\\\pump\\\\test\\\\anomaly_id_00_00000075.wav',\n",
       " 'C:\\\\Users\\\\DMT2KOR\\\\OneDrive - Robert Bosch GmbH\\\\Documents\\\\WORK\\\\PROJECTS\\\\PoCs\\\\Machine Sound Monitoring\\\\DATA\\\\DCASE2020\\\\pump_basedir\\\\dev_data\\\\pump\\\\test\\\\anomaly_id_00_00000076.wav',\n",
       " 'C:\\\\Users\\\\DMT2KOR\\\\OneDrive - Robert Bosch GmbH\\\\Documents\\\\WORK\\\\PROJECTS\\\\PoCs\\\\Machine Sound Monitoring\\\\DATA\\\\DCASE2020\\\\pump_basedir\\\\dev_data\\\\pump\\\\test\\\\anomaly_id_00_00000077.wav',\n",
       " 'C:\\\\Users\\\\DMT2KOR\\\\OneDrive - Robert Bosch GmbH\\\\Documents\\\\WORK\\\\PROJECTS\\\\PoCs\\\\Machine Sound Monitoring\\\\DATA\\\\DCASE2020\\\\pump_basedir\\\\dev_data\\\\pump\\\\test\\\\anomaly_id_00_00000078.wav',\n",
       " 'C:\\\\Users\\\\DMT2KOR\\\\OneDrive - Robert Bosch GmbH\\\\Documents\\\\WORK\\\\PROJECTS\\\\PoCs\\\\Machine Sound Monitoring\\\\DATA\\\\DCASE2020\\\\pump_basedir\\\\dev_data\\\\pump\\\\test\\\\anomaly_id_00_00000079.wav',\n",
       " 'C:\\\\Users\\\\DMT2KOR\\\\OneDrive - Robert Bosch GmbH\\\\Documents\\\\WORK\\\\PROJECTS\\\\PoCs\\\\Machine Sound Monitoring\\\\DATA\\\\DCASE2020\\\\pump_basedir\\\\dev_data\\\\pump\\\\test\\\\anomaly_id_00_00000080.wav',\n",
       " 'C:\\\\Users\\\\DMT2KOR\\\\OneDrive - Robert Bosch GmbH\\\\Documents\\\\WORK\\\\PROJECTS\\\\PoCs\\\\Machine Sound Monitoring\\\\DATA\\\\DCASE2020\\\\pump_basedir\\\\dev_data\\\\pump\\\\test\\\\anomaly_id_00_00000081.wav',\n",
       " 'C:\\\\Users\\\\DMT2KOR\\\\OneDrive - Robert Bosch GmbH\\\\Documents\\\\WORK\\\\PROJECTS\\\\PoCs\\\\Machine Sound Monitoring\\\\DATA\\\\DCASE2020\\\\pump_basedir\\\\dev_data\\\\pump\\\\test\\\\anomaly_id_00_00000082.wav',\n",
       " 'C:\\\\Users\\\\DMT2KOR\\\\OneDrive - Robert Bosch GmbH\\\\Documents\\\\WORK\\\\PROJECTS\\\\PoCs\\\\Machine Sound Monitoring\\\\DATA\\\\DCASE2020\\\\pump_basedir\\\\dev_data\\\\pump\\\\test\\\\anomaly_id_00_00000083.wav',\n",
       " 'C:\\\\Users\\\\DMT2KOR\\\\OneDrive - Robert Bosch GmbH\\\\Documents\\\\WORK\\\\PROJECTS\\\\PoCs\\\\Machine Sound Monitoring\\\\DATA\\\\DCASE2020\\\\pump_basedir\\\\dev_data\\\\pump\\\\test\\\\anomaly_id_00_00000084.wav',\n",
       " 'C:\\\\Users\\\\DMT2KOR\\\\OneDrive - Robert Bosch GmbH\\\\Documents\\\\WORK\\\\PROJECTS\\\\PoCs\\\\Machine Sound Monitoring\\\\DATA\\\\DCASE2020\\\\pump_basedir\\\\dev_data\\\\pump\\\\test\\\\anomaly_id_00_00000085.wav',\n",
       " 'C:\\\\Users\\\\DMT2KOR\\\\OneDrive - Robert Bosch GmbH\\\\Documents\\\\WORK\\\\PROJECTS\\\\PoCs\\\\Machine Sound Monitoring\\\\DATA\\\\DCASE2020\\\\pump_basedir\\\\dev_data\\\\pump\\\\test\\\\anomaly_id_00_00000086.wav',\n",
       " 'C:\\\\Users\\\\DMT2KOR\\\\OneDrive - Robert Bosch GmbH\\\\Documents\\\\WORK\\\\PROJECTS\\\\PoCs\\\\Machine Sound Monitoring\\\\DATA\\\\DCASE2020\\\\pump_basedir\\\\dev_data\\\\pump\\\\test\\\\anomaly_id_00_00000087.wav',\n",
       " 'C:\\\\Users\\\\DMT2KOR\\\\OneDrive - Robert Bosch GmbH\\\\Documents\\\\WORK\\\\PROJECTS\\\\PoCs\\\\Machine Sound Monitoring\\\\DATA\\\\DCASE2020\\\\pump_basedir\\\\dev_data\\\\pump\\\\test\\\\anomaly_id_00_00000088.wav',\n",
       " 'C:\\\\Users\\\\DMT2KOR\\\\OneDrive - Robert Bosch GmbH\\\\Documents\\\\WORK\\\\PROJECTS\\\\PoCs\\\\Machine Sound Monitoring\\\\DATA\\\\DCASE2020\\\\pump_basedir\\\\dev_data\\\\pump\\\\test\\\\anomaly_id_00_00000089.wav',\n",
       " 'C:\\\\Users\\\\DMT2KOR\\\\OneDrive - Robert Bosch GmbH\\\\Documents\\\\WORK\\\\PROJECTS\\\\PoCs\\\\Machine Sound Monitoring\\\\DATA\\\\DCASE2020\\\\pump_basedir\\\\dev_data\\\\pump\\\\test\\\\anomaly_id_00_00000090.wav',\n",
       " 'C:\\\\Users\\\\DMT2KOR\\\\OneDrive - Robert Bosch GmbH\\\\Documents\\\\WORK\\\\PROJECTS\\\\PoCs\\\\Machine Sound Monitoring\\\\DATA\\\\DCASE2020\\\\pump_basedir\\\\dev_data\\\\pump\\\\test\\\\anomaly_id_00_00000091.wav',\n",
       " 'C:\\\\Users\\\\DMT2KOR\\\\OneDrive - Robert Bosch GmbH\\\\Documents\\\\WORK\\\\PROJECTS\\\\PoCs\\\\Machine Sound Monitoring\\\\DATA\\\\DCASE2020\\\\pump_basedir\\\\dev_data\\\\pump\\\\test\\\\anomaly_id_00_00000092.wav',\n",
       " 'C:\\\\Users\\\\DMT2KOR\\\\OneDrive - Robert Bosch GmbH\\\\Documents\\\\WORK\\\\PROJECTS\\\\PoCs\\\\Machine Sound Monitoring\\\\DATA\\\\DCASE2020\\\\pump_basedir\\\\dev_data\\\\pump\\\\test\\\\anomaly_id_00_00000093.wav',\n",
       " 'C:\\\\Users\\\\DMT2KOR\\\\OneDrive - Robert Bosch GmbH\\\\Documents\\\\WORK\\\\PROJECTS\\\\PoCs\\\\Machine Sound Monitoring\\\\DATA\\\\DCASE2020\\\\pump_basedir\\\\dev_data\\\\pump\\\\test\\\\anomaly_id_00_00000094.wav',\n",
       " 'C:\\\\Users\\\\DMT2KOR\\\\OneDrive - Robert Bosch GmbH\\\\Documents\\\\WORK\\\\PROJECTS\\\\PoCs\\\\Machine Sound Monitoring\\\\DATA\\\\DCASE2020\\\\pump_basedir\\\\dev_data\\\\pump\\\\test\\\\anomaly_id_00_00000095.wav',\n",
       " 'C:\\\\Users\\\\DMT2KOR\\\\OneDrive - Robert Bosch GmbH\\\\Documents\\\\WORK\\\\PROJECTS\\\\PoCs\\\\Machine Sound Monitoring\\\\DATA\\\\DCASE2020\\\\pump_basedir\\\\dev_data\\\\pump\\\\test\\\\anomaly_id_00_00000096.wav',\n",
       " 'C:\\\\Users\\\\DMT2KOR\\\\OneDrive - Robert Bosch GmbH\\\\Documents\\\\WORK\\\\PROJECTS\\\\PoCs\\\\Machine Sound Monitoring\\\\DATA\\\\DCASE2020\\\\pump_basedir\\\\dev_data\\\\pump\\\\test\\\\anomaly_id_00_00000097.wav',\n",
       " 'C:\\\\Users\\\\DMT2KOR\\\\OneDrive - Robert Bosch GmbH\\\\Documents\\\\WORK\\\\PROJECTS\\\\PoCs\\\\Machine Sound Monitoring\\\\DATA\\\\DCASE2020\\\\pump_basedir\\\\dev_data\\\\pump\\\\test\\\\anomaly_id_00_00000098.wav',\n",
       " 'C:\\\\Users\\\\DMT2KOR\\\\OneDrive - Robert Bosch GmbH\\\\Documents\\\\WORK\\\\PROJECTS\\\\PoCs\\\\Machine Sound Monitoring\\\\DATA\\\\DCASE2020\\\\pump_basedir\\\\dev_data\\\\pump\\\\test\\\\anomaly_id_00_00000099.wav',\n",
       " 'C:\\\\Users\\\\DMT2KOR\\\\OneDrive - Robert Bosch GmbH\\\\Documents\\\\WORK\\\\PROJECTS\\\\PoCs\\\\Machine Sound Monitoring\\\\DATA\\\\DCASE2020\\\\pump_basedir\\\\dev_data\\\\pump\\\\test\\\\anomaly_id_00_00000100.wav',\n",
       " 'C:\\\\Users\\\\DMT2KOR\\\\OneDrive - Robert Bosch GmbH\\\\Documents\\\\WORK\\\\PROJECTS\\\\PoCs\\\\Machine Sound Monitoring\\\\DATA\\\\DCASE2020\\\\pump_basedir\\\\dev_data\\\\pump\\\\test\\\\anomaly_id_00_00000101.wav',\n",
       " 'C:\\\\Users\\\\DMT2KOR\\\\OneDrive - Robert Bosch GmbH\\\\Documents\\\\WORK\\\\PROJECTS\\\\PoCs\\\\Machine Sound Monitoring\\\\DATA\\\\DCASE2020\\\\pump_basedir\\\\dev_data\\\\pump\\\\test\\\\anomaly_id_00_00000102.wav',\n",
       " 'C:\\\\Users\\\\DMT2KOR\\\\OneDrive - Robert Bosch GmbH\\\\Documents\\\\WORK\\\\PROJECTS\\\\PoCs\\\\Machine Sound Monitoring\\\\DATA\\\\DCASE2020\\\\pump_basedir\\\\dev_data\\\\pump\\\\test\\\\anomaly_id_00_00000103.wav',\n",
       " 'C:\\\\Users\\\\DMT2KOR\\\\OneDrive - Robert Bosch GmbH\\\\Documents\\\\WORK\\\\PROJECTS\\\\PoCs\\\\Machine Sound Monitoring\\\\DATA\\\\DCASE2020\\\\pump_basedir\\\\dev_data\\\\pump\\\\test\\\\anomaly_id_00_00000104.wav',\n",
       " 'C:\\\\Users\\\\DMT2KOR\\\\OneDrive - Robert Bosch GmbH\\\\Documents\\\\WORK\\\\PROJECTS\\\\PoCs\\\\Machine Sound Monitoring\\\\DATA\\\\DCASE2020\\\\pump_basedir\\\\dev_data\\\\pump\\\\test\\\\anomaly_id_00_00000105.wav',\n",
       " 'C:\\\\Users\\\\DMT2KOR\\\\OneDrive - Robert Bosch GmbH\\\\Documents\\\\WORK\\\\PROJECTS\\\\PoCs\\\\Machine Sound Monitoring\\\\DATA\\\\DCASE2020\\\\pump_basedir\\\\dev_data\\\\pump\\\\test\\\\anomaly_id_00_00000106.wav',\n",
       " 'C:\\\\Users\\\\DMT2KOR\\\\OneDrive - Robert Bosch GmbH\\\\Documents\\\\WORK\\\\PROJECTS\\\\PoCs\\\\Machine Sound Monitoring\\\\DATA\\\\DCASE2020\\\\pump_basedir\\\\dev_data\\\\pump\\\\test\\\\anomaly_id_00_00000107.wav',\n",
       " 'C:\\\\Users\\\\DMT2KOR\\\\OneDrive - Robert Bosch GmbH\\\\Documents\\\\WORK\\\\PROJECTS\\\\PoCs\\\\Machine Sound Monitoring\\\\DATA\\\\DCASE2020\\\\pump_basedir\\\\dev_data\\\\pump\\\\test\\\\anomaly_id_00_00000108.wav',\n",
       " 'C:\\\\Users\\\\DMT2KOR\\\\OneDrive - Robert Bosch GmbH\\\\Documents\\\\WORK\\\\PROJECTS\\\\PoCs\\\\Machine Sound Monitoring\\\\DATA\\\\DCASE2020\\\\pump_basedir\\\\dev_data\\\\pump\\\\test\\\\anomaly_id_00_00000109.wav',\n",
       " 'C:\\\\Users\\\\DMT2KOR\\\\OneDrive - Robert Bosch GmbH\\\\Documents\\\\WORK\\\\PROJECTS\\\\PoCs\\\\Machine Sound Monitoring\\\\DATA\\\\DCASE2020\\\\pump_basedir\\\\dev_data\\\\pump\\\\test\\\\anomaly_id_00_00000110.wav',\n",
       " 'C:\\\\Users\\\\DMT2KOR\\\\OneDrive - Robert Bosch GmbH\\\\Documents\\\\WORK\\\\PROJECTS\\\\PoCs\\\\Machine Sound Monitoring\\\\DATA\\\\DCASE2020\\\\pump_basedir\\\\dev_data\\\\pump\\\\test\\\\anomaly_id_00_00000111.wav',\n",
       " 'C:\\\\Users\\\\DMT2KOR\\\\OneDrive - Robert Bosch GmbH\\\\Documents\\\\WORK\\\\PROJECTS\\\\PoCs\\\\Machine Sound Monitoring\\\\DATA\\\\DCASE2020\\\\pump_basedir\\\\dev_data\\\\pump\\\\test\\\\anomaly_id_00_00000112.wav',\n",
       " 'C:\\\\Users\\\\DMT2KOR\\\\OneDrive - Robert Bosch GmbH\\\\Documents\\\\WORK\\\\PROJECTS\\\\PoCs\\\\Machine Sound Monitoring\\\\DATA\\\\DCASE2020\\\\pump_basedir\\\\dev_data\\\\pump\\\\test\\\\anomaly_id_00_00000113.wav',\n",
       " 'C:\\\\Users\\\\DMT2KOR\\\\OneDrive - Robert Bosch GmbH\\\\Documents\\\\WORK\\\\PROJECTS\\\\PoCs\\\\Machine Sound Monitoring\\\\DATA\\\\DCASE2020\\\\pump_basedir\\\\dev_data\\\\pump\\\\test\\\\anomaly_id_00_00000114.wav',\n",
       " 'C:\\\\Users\\\\DMT2KOR\\\\OneDrive - Robert Bosch GmbH\\\\Documents\\\\WORK\\\\PROJECTS\\\\PoCs\\\\Machine Sound Monitoring\\\\DATA\\\\DCASE2020\\\\pump_basedir\\\\dev_data\\\\pump\\\\test\\\\anomaly_id_00_00000115.wav',\n",
       " 'C:\\\\Users\\\\DMT2KOR\\\\OneDrive - Robert Bosch GmbH\\\\Documents\\\\WORK\\\\PROJECTS\\\\PoCs\\\\Machine Sound Monitoring\\\\DATA\\\\DCASE2020\\\\pump_basedir\\\\dev_data\\\\pump\\\\test\\\\anomaly_id_00_00000116.wav',\n",
       " 'C:\\\\Users\\\\DMT2KOR\\\\OneDrive - Robert Bosch GmbH\\\\Documents\\\\WORK\\\\PROJECTS\\\\PoCs\\\\Machine Sound Monitoring\\\\DATA\\\\DCASE2020\\\\pump_basedir\\\\dev_data\\\\pump\\\\test\\\\anomaly_id_00_00000117.wav',\n",
       " 'C:\\\\Users\\\\DMT2KOR\\\\OneDrive - Robert Bosch GmbH\\\\Documents\\\\WORK\\\\PROJECTS\\\\PoCs\\\\Machine Sound Monitoring\\\\DATA\\\\DCASE2020\\\\pump_basedir\\\\dev_data\\\\pump\\\\test\\\\anomaly_id_00_00000118.wav',\n",
       " 'C:\\\\Users\\\\DMT2KOR\\\\OneDrive - Robert Bosch GmbH\\\\Documents\\\\WORK\\\\PROJECTS\\\\PoCs\\\\Machine Sound Monitoring\\\\DATA\\\\DCASE2020\\\\pump_basedir\\\\dev_data\\\\pump\\\\test\\\\anomaly_id_00_00000119.wav',\n",
       " 'C:\\\\Users\\\\DMT2KOR\\\\OneDrive - Robert Bosch GmbH\\\\Documents\\\\WORK\\\\PROJECTS\\\\PoCs\\\\Machine Sound Monitoring\\\\DATA\\\\DCASE2020\\\\pump_basedir\\\\dev_data\\\\pump\\\\test\\\\anomaly_id_00_00000120.wav',\n",
       " 'C:\\\\Users\\\\DMT2KOR\\\\OneDrive - Robert Bosch GmbH\\\\Documents\\\\WORK\\\\PROJECTS\\\\PoCs\\\\Machine Sound Monitoring\\\\DATA\\\\DCASE2020\\\\pump_basedir\\\\dev_data\\\\pump\\\\test\\\\anomaly_id_00_00000121.wav',\n",
       " 'C:\\\\Users\\\\DMT2KOR\\\\OneDrive - Robert Bosch GmbH\\\\Documents\\\\WORK\\\\PROJECTS\\\\PoCs\\\\Machine Sound Monitoring\\\\DATA\\\\DCASE2020\\\\pump_basedir\\\\dev_data\\\\pump\\\\test\\\\anomaly_id_00_00000122.wav',\n",
       " 'C:\\\\Users\\\\DMT2KOR\\\\OneDrive - Robert Bosch GmbH\\\\Documents\\\\WORK\\\\PROJECTS\\\\PoCs\\\\Machine Sound Monitoring\\\\DATA\\\\DCASE2020\\\\pump_basedir\\\\dev_data\\\\pump\\\\test\\\\anomaly_id_00_00000123.wav',\n",
       " 'C:\\\\Users\\\\DMT2KOR\\\\OneDrive - Robert Bosch GmbH\\\\Documents\\\\WORK\\\\PROJECTS\\\\PoCs\\\\Machine Sound Monitoring\\\\DATA\\\\DCASE2020\\\\pump_basedir\\\\dev_data\\\\pump\\\\test\\\\anomaly_id_00_00000124.wav',\n",
       " 'C:\\\\Users\\\\DMT2KOR\\\\OneDrive - Robert Bosch GmbH\\\\Documents\\\\WORK\\\\PROJECTS\\\\PoCs\\\\Machine Sound Monitoring\\\\DATA\\\\DCASE2020\\\\pump_basedir\\\\dev_data\\\\pump\\\\test\\\\anomaly_id_00_00000125.wav',\n",
       " 'C:\\\\Users\\\\DMT2KOR\\\\OneDrive - Robert Bosch GmbH\\\\Documents\\\\WORK\\\\PROJECTS\\\\PoCs\\\\Machine Sound Monitoring\\\\DATA\\\\DCASE2020\\\\pump_basedir\\\\dev_data\\\\pump\\\\test\\\\anomaly_id_00_00000126.wav',\n",
       " 'C:\\\\Users\\\\DMT2KOR\\\\OneDrive - Robert Bosch GmbH\\\\Documents\\\\WORK\\\\PROJECTS\\\\PoCs\\\\Machine Sound Monitoring\\\\DATA\\\\DCASE2020\\\\pump_basedir\\\\dev_data\\\\pump\\\\test\\\\anomaly_id_00_00000127.wav',\n",
       " 'C:\\\\Users\\\\DMT2KOR\\\\OneDrive - Robert Bosch GmbH\\\\Documents\\\\WORK\\\\PROJECTS\\\\PoCs\\\\Machine Sound Monitoring\\\\DATA\\\\DCASE2020\\\\pump_basedir\\\\dev_data\\\\pump\\\\test\\\\anomaly_id_00_00000128.wav',\n",
       " 'C:\\\\Users\\\\DMT2KOR\\\\OneDrive - Robert Bosch GmbH\\\\Documents\\\\WORK\\\\PROJECTS\\\\PoCs\\\\Machine Sound Monitoring\\\\DATA\\\\DCASE2020\\\\pump_basedir\\\\dev_data\\\\pump\\\\test\\\\anomaly_id_00_00000129.wav',\n",
       " 'C:\\\\Users\\\\DMT2KOR\\\\OneDrive - Robert Bosch GmbH\\\\Documents\\\\WORK\\\\PROJECTS\\\\PoCs\\\\Machine Sound Monitoring\\\\DATA\\\\DCASE2020\\\\pump_basedir\\\\dev_data\\\\pump\\\\test\\\\anomaly_id_00_00000130.wav',\n",
       " 'C:\\\\Users\\\\DMT2KOR\\\\OneDrive - Robert Bosch GmbH\\\\Documents\\\\WORK\\\\PROJECTS\\\\PoCs\\\\Machine Sound Monitoring\\\\DATA\\\\DCASE2020\\\\pump_basedir\\\\dev_data\\\\pump\\\\test\\\\anomaly_id_00_00000131.wav',\n",
       " 'C:\\\\Users\\\\DMT2KOR\\\\OneDrive - Robert Bosch GmbH\\\\Documents\\\\WORK\\\\PROJECTS\\\\PoCs\\\\Machine Sound Monitoring\\\\DATA\\\\DCASE2020\\\\pump_basedir\\\\dev_data\\\\pump\\\\test\\\\anomaly_id_00_00000132.wav',\n",
       " 'C:\\\\Users\\\\DMT2KOR\\\\OneDrive - Robert Bosch GmbH\\\\Documents\\\\WORK\\\\PROJECTS\\\\PoCs\\\\Machine Sound Monitoring\\\\DATA\\\\DCASE2020\\\\pump_basedir\\\\dev_data\\\\pump\\\\test\\\\anomaly_id_00_00000133.wav',\n",
       " 'C:\\\\Users\\\\DMT2KOR\\\\OneDrive - Robert Bosch GmbH\\\\Documents\\\\WORK\\\\PROJECTS\\\\PoCs\\\\Machine Sound Monitoring\\\\DATA\\\\DCASE2020\\\\pump_basedir\\\\dev_data\\\\pump\\\\test\\\\anomaly_id_00_00000134.wav',\n",
       " 'C:\\\\Users\\\\DMT2KOR\\\\OneDrive - Robert Bosch GmbH\\\\Documents\\\\WORK\\\\PROJECTS\\\\PoCs\\\\Machine Sound Monitoring\\\\DATA\\\\DCASE2020\\\\pump_basedir\\\\dev_data\\\\pump\\\\test\\\\anomaly_id_00_00000135.wav',\n",
       " 'C:\\\\Users\\\\DMT2KOR\\\\OneDrive - Robert Bosch GmbH\\\\Documents\\\\WORK\\\\PROJECTS\\\\PoCs\\\\Machine Sound Monitoring\\\\DATA\\\\DCASE2020\\\\pump_basedir\\\\dev_data\\\\pump\\\\test\\\\anomaly_id_00_00000136.wav',\n",
       " 'C:\\\\Users\\\\DMT2KOR\\\\OneDrive - Robert Bosch GmbH\\\\Documents\\\\WORK\\\\PROJECTS\\\\PoCs\\\\Machine Sound Monitoring\\\\DATA\\\\DCASE2020\\\\pump_basedir\\\\dev_data\\\\pump\\\\test\\\\anomaly_id_00_00000137.wav',\n",
       " 'C:\\\\Users\\\\DMT2KOR\\\\OneDrive - Robert Bosch GmbH\\\\Documents\\\\WORK\\\\PROJECTS\\\\PoCs\\\\Machine Sound Monitoring\\\\DATA\\\\DCASE2020\\\\pump_basedir\\\\dev_data\\\\pump\\\\test\\\\anomaly_id_00_00000138.wav',\n",
       " 'C:\\\\Users\\\\DMT2KOR\\\\OneDrive - Robert Bosch GmbH\\\\Documents\\\\WORK\\\\PROJECTS\\\\PoCs\\\\Machine Sound Monitoring\\\\DATA\\\\DCASE2020\\\\pump_basedir\\\\dev_data\\\\pump\\\\test\\\\anomaly_id_00_00000139.wav',\n",
       " 'C:\\\\Users\\\\DMT2KOR\\\\OneDrive - Robert Bosch GmbH\\\\Documents\\\\WORK\\\\PROJECTS\\\\PoCs\\\\Machine Sound Monitoring\\\\DATA\\\\DCASE2020\\\\pump_basedir\\\\dev_data\\\\pump\\\\test\\\\anomaly_id_00_00000140.wav',\n",
       " 'C:\\\\Users\\\\DMT2KOR\\\\OneDrive - Robert Bosch GmbH\\\\Documents\\\\WORK\\\\PROJECTS\\\\PoCs\\\\Machine Sound Monitoring\\\\DATA\\\\DCASE2020\\\\pump_basedir\\\\dev_data\\\\pump\\\\test\\\\anomaly_id_00_00000141.wav',\n",
       " 'C:\\\\Users\\\\DMT2KOR\\\\OneDrive - Robert Bosch GmbH\\\\Documents\\\\WORK\\\\PROJECTS\\\\PoCs\\\\Machine Sound Monitoring\\\\DATA\\\\DCASE2020\\\\pump_basedir\\\\dev_data\\\\pump\\\\test\\\\anomaly_id_00_00000142.wav',\n",
       " 'C:\\\\Users\\\\DMT2KOR\\\\OneDrive - Robert Bosch GmbH\\\\Documents\\\\WORK\\\\PROJECTS\\\\PoCs\\\\Machine Sound Monitoring\\\\DATA\\\\DCASE2020\\\\pump_basedir\\\\dev_data\\\\pump\\\\test\\\\anomaly_id_02_00000000.wav',\n",
       " 'C:\\\\Users\\\\DMT2KOR\\\\OneDrive - Robert Bosch GmbH\\\\Documents\\\\WORK\\\\PROJECTS\\\\PoCs\\\\Machine Sound Monitoring\\\\DATA\\\\DCASE2020\\\\pump_basedir\\\\dev_data\\\\pump\\\\test\\\\anomaly_id_02_00000001.wav',\n",
       " 'C:\\\\Users\\\\DMT2KOR\\\\OneDrive - Robert Bosch GmbH\\\\Documents\\\\WORK\\\\PROJECTS\\\\PoCs\\\\Machine Sound Monitoring\\\\DATA\\\\DCASE2020\\\\pump_basedir\\\\dev_data\\\\pump\\\\test\\\\anomaly_id_02_00000002.wav',\n",
       " 'C:\\\\Users\\\\DMT2KOR\\\\OneDrive - Robert Bosch GmbH\\\\Documents\\\\WORK\\\\PROJECTS\\\\PoCs\\\\Machine Sound Monitoring\\\\DATA\\\\DCASE2020\\\\pump_basedir\\\\dev_data\\\\pump\\\\test\\\\anomaly_id_02_00000003.wav',\n",
       " 'C:\\\\Users\\\\DMT2KOR\\\\OneDrive - Robert Bosch GmbH\\\\Documents\\\\WORK\\\\PROJECTS\\\\PoCs\\\\Machine Sound Monitoring\\\\DATA\\\\DCASE2020\\\\pump_basedir\\\\dev_data\\\\pump\\\\test\\\\anomaly_id_02_00000004.wav',\n",
       " 'C:\\\\Users\\\\DMT2KOR\\\\OneDrive - Robert Bosch GmbH\\\\Documents\\\\WORK\\\\PROJECTS\\\\PoCs\\\\Machine Sound Monitoring\\\\DATA\\\\DCASE2020\\\\pump_basedir\\\\dev_data\\\\pump\\\\test\\\\anomaly_id_02_00000005.wav',\n",
       " 'C:\\\\Users\\\\DMT2KOR\\\\OneDrive - Robert Bosch GmbH\\\\Documents\\\\WORK\\\\PROJECTS\\\\PoCs\\\\Machine Sound Monitoring\\\\DATA\\\\DCASE2020\\\\pump_basedir\\\\dev_data\\\\pump\\\\test\\\\anomaly_id_02_00000006.wav',\n",
       " 'C:\\\\Users\\\\DMT2KOR\\\\OneDrive - Robert Bosch GmbH\\\\Documents\\\\WORK\\\\PROJECTS\\\\PoCs\\\\Machine Sound Monitoring\\\\DATA\\\\DCASE2020\\\\pump_basedir\\\\dev_data\\\\pump\\\\test\\\\anomaly_id_02_00000007.wav',\n",
       " 'C:\\\\Users\\\\DMT2KOR\\\\OneDrive - Robert Bosch GmbH\\\\Documents\\\\WORK\\\\PROJECTS\\\\PoCs\\\\Machine Sound Monitoring\\\\DATA\\\\DCASE2020\\\\pump_basedir\\\\dev_data\\\\pump\\\\test\\\\anomaly_id_02_00000008.wav',\n",
       " 'C:\\\\Users\\\\DMT2KOR\\\\OneDrive - Robert Bosch GmbH\\\\Documents\\\\WORK\\\\PROJECTS\\\\PoCs\\\\Machine Sound Monitoring\\\\DATA\\\\DCASE2020\\\\pump_basedir\\\\dev_data\\\\pump\\\\test\\\\anomaly_id_02_00000009.wav',\n",
       " 'C:\\\\Users\\\\DMT2KOR\\\\OneDrive - Robert Bosch GmbH\\\\Documents\\\\WORK\\\\PROJECTS\\\\PoCs\\\\Machine Sound Monitoring\\\\DATA\\\\DCASE2020\\\\pump_basedir\\\\dev_data\\\\pump\\\\test\\\\anomaly_id_02_00000010.wav',\n",
       " 'C:\\\\Users\\\\DMT2KOR\\\\OneDrive - Robert Bosch GmbH\\\\Documents\\\\WORK\\\\PROJECTS\\\\PoCs\\\\Machine Sound Monitoring\\\\DATA\\\\DCASE2020\\\\pump_basedir\\\\dev_data\\\\pump\\\\test\\\\anomaly_id_02_00000011.wav',\n",
       " 'C:\\\\Users\\\\DMT2KOR\\\\OneDrive - Robert Bosch GmbH\\\\Documents\\\\WORK\\\\PROJECTS\\\\PoCs\\\\Machine Sound Monitoring\\\\DATA\\\\DCASE2020\\\\pump_basedir\\\\dev_data\\\\pump\\\\test\\\\anomaly_id_02_00000012.wav',\n",
       " 'C:\\\\Users\\\\DMT2KOR\\\\OneDrive - Robert Bosch GmbH\\\\Documents\\\\WORK\\\\PROJECTS\\\\PoCs\\\\Machine Sound Monitoring\\\\DATA\\\\DCASE2020\\\\pump_basedir\\\\dev_data\\\\pump\\\\test\\\\anomaly_id_02_00000013.wav',\n",
       " 'C:\\\\Users\\\\DMT2KOR\\\\OneDrive - Robert Bosch GmbH\\\\Documents\\\\WORK\\\\PROJECTS\\\\PoCs\\\\Machine Sound Monitoring\\\\DATA\\\\DCASE2020\\\\pump_basedir\\\\dev_data\\\\pump\\\\test\\\\anomaly_id_02_00000014.wav',\n",
       " 'C:\\\\Users\\\\DMT2KOR\\\\OneDrive - Robert Bosch GmbH\\\\Documents\\\\WORK\\\\PROJECTS\\\\PoCs\\\\Machine Sound Monitoring\\\\DATA\\\\DCASE2020\\\\pump_basedir\\\\dev_data\\\\pump\\\\test\\\\anomaly_id_02_00000015.wav',\n",
       " 'C:\\\\Users\\\\DMT2KOR\\\\OneDrive - Robert Bosch GmbH\\\\Documents\\\\WORK\\\\PROJECTS\\\\PoCs\\\\Machine Sound Monitoring\\\\DATA\\\\DCASE2020\\\\pump_basedir\\\\dev_data\\\\pump\\\\test\\\\anomaly_id_02_00000016.wav',\n",
       " 'C:\\\\Users\\\\DMT2KOR\\\\OneDrive - Robert Bosch GmbH\\\\Documents\\\\WORK\\\\PROJECTS\\\\PoCs\\\\Machine Sound Monitoring\\\\DATA\\\\DCASE2020\\\\pump_basedir\\\\dev_data\\\\pump\\\\test\\\\anomaly_id_02_00000017.wav',\n",
       " 'C:\\\\Users\\\\DMT2KOR\\\\OneDrive - Robert Bosch GmbH\\\\Documents\\\\WORK\\\\PROJECTS\\\\PoCs\\\\Machine Sound Monitoring\\\\DATA\\\\DCASE2020\\\\pump_basedir\\\\dev_data\\\\pump\\\\test\\\\anomaly_id_02_00000018.wav',\n",
       " 'C:\\\\Users\\\\DMT2KOR\\\\OneDrive - Robert Bosch GmbH\\\\Documents\\\\WORK\\\\PROJECTS\\\\PoCs\\\\Machine Sound Monitoring\\\\DATA\\\\DCASE2020\\\\pump_basedir\\\\dev_data\\\\pump\\\\test\\\\anomaly_id_02_00000019.wav',\n",
       " 'C:\\\\Users\\\\DMT2KOR\\\\OneDrive - Robert Bosch GmbH\\\\Documents\\\\WORK\\\\PROJECTS\\\\PoCs\\\\Machine Sound Monitoring\\\\DATA\\\\DCASE2020\\\\pump_basedir\\\\dev_data\\\\pump\\\\test\\\\anomaly_id_02_00000020.wav',\n",
       " 'C:\\\\Users\\\\DMT2KOR\\\\OneDrive - Robert Bosch GmbH\\\\Documents\\\\WORK\\\\PROJECTS\\\\PoCs\\\\Machine Sound Monitoring\\\\DATA\\\\DCASE2020\\\\pump_basedir\\\\dev_data\\\\pump\\\\test\\\\anomaly_id_02_00000021.wav',\n",
       " 'C:\\\\Users\\\\DMT2KOR\\\\OneDrive - Robert Bosch GmbH\\\\Documents\\\\WORK\\\\PROJECTS\\\\PoCs\\\\Machine Sound Monitoring\\\\DATA\\\\DCASE2020\\\\pump_basedir\\\\dev_data\\\\pump\\\\test\\\\anomaly_id_02_00000022.wav',\n",
       " 'C:\\\\Users\\\\DMT2KOR\\\\OneDrive - Robert Bosch GmbH\\\\Documents\\\\WORK\\\\PROJECTS\\\\PoCs\\\\Machine Sound Monitoring\\\\DATA\\\\DCASE2020\\\\pump_basedir\\\\dev_data\\\\pump\\\\test\\\\anomaly_id_02_00000023.wav',\n",
       " 'C:\\\\Users\\\\DMT2KOR\\\\OneDrive - Robert Bosch GmbH\\\\Documents\\\\WORK\\\\PROJECTS\\\\PoCs\\\\Machine Sound Monitoring\\\\DATA\\\\DCASE2020\\\\pump_basedir\\\\dev_data\\\\pump\\\\test\\\\anomaly_id_02_00000024.wav',\n",
       " 'C:\\\\Users\\\\DMT2KOR\\\\OneDrive - Robert Bosch GmbH\\\\Documents\\\\WORK\\\\PROJECTS\\\\PoCs\\\\Machine Sound Monitoring\\\\DATA\\\\DCASE2020\\\\pump_basedir\\\\dev_data\\\\pump\\\\test\\\\anomaly_id_02_00000025.wav',\n",
       " 'C:\\\\Users\\\\DMT2KOR\\\\OneDrive - Robert Bosch GmbH\\\\Documents\\\\WORK\\\\PROJECTS\\\\PoCs\\\\Machine Sound Monitoring\\\\DATA\\\\DCASE2020\\\\pump_basedir\\\\dev_data\\\\pump\\\\test\\\\anomaly_id_02_00000026.wav',\n",
       " 'C:\\\\Users\\\\DMT2KOR\\\\OneDrive - Robert Bosch GmbH\\\\Documents\\\\WORK\\\\PROJECTS\\\\PoCs\\\\Machine Sound Monitoring\\\\DATA\\\\DCASE2020\\\\pump_basedir\\\\dev_data\\\\pump\\\\test\\\\anomaly_id_02_00000027.wav',\n",
       " 'C:\\\\Users\\\\DMT2KOR\\\\OneDrive - Robert Bosch GmbH\\\\Documents\\\\WORK\\\\PROJECTS\\\\PoCs\\\\Machine Sound Monitoring\\\\DATA\\\\DCASE2020\\\\pump_basedir\\\\dev_data\\\\pump\\\\test\\\\anomaly_id_02_00000028.wav',\n",
       " 'C:\\\\Users\\\\DMT2KOR\\\\OneDrive - Robert Bosch GmbH\\\\Documents\\\\WORK\\\\PROJECTS\\\\PoCs\\\\Machine Sound Monitoring\\\\DATA\\\\DCASE2020\\\\pump_basedir\\\\dev_data\\\\pump\\\\test\\\\anomaly_id_02_00000029.wav',\n",
       " 'C:\\\\Users\\\\DMT2KOR\\\\OneDrive - Robert Bosch GmbH\\\\Documents\\\\WORK\\\\PROJECTS\\\\PoCs\\\\Machine Sound Monitoring\\\\DATA\\\\DCASE2020\\\\pump_basedir\\\\dev_data\\\\pump\\\\test\\\\anomaly_id_02_00000030.wav',\n",
       " 'C:\\\\Users\\\\DMT2KOR\\\\OneDrive - Robert Bosch GmbH\\\\Documents\\\\WORK\\\\PROJECTS\\\\PoCs\\\\Machine Sound Monitoring\\\\DATA\\\\DCASE2020\\\\pump_basedir\\\\dev_data\\\\pump\\\\test\\\\anomaly_id_02_00000031.wav',\n",
       " 'C:\\\\Users\\\\DMT2KOR\\\\OneDrive - Robert Bosch GmbH\\\\Documents\\\\WORK\\\\PROJECTS\\\\PoCs\\\\Machine Sound Monitoring\\\\DATA\\\\DCASE2020\\\\pump_basedir\\\\dev_data\\\\pump\\\\test\\\\anomaly_id_02_00000032.wav',\n",
       " 'C:\\\\Users\\\\DMT2KOR\\\\OneDrive - Robert Bosch GmbH\\\\Documents\\\\WORK\\\\PROJECTS\\\\PoCs\\\\Machine Sound Monitoring\\\\DATA\\\\DCASE2020\\\\pump_basedir\\\\dev_data\\\\pump\\\\test\\\\anomaly_id_02_00000033.wav',\n",
       " 'C:\\\\Users\\\\DMT2KOR\\\\OneDrive - Robert Bosch GmbH\\\\Documents\\\\WORK\\\\PROJECTS\\\\PoCs\\\\Machine Sound Monitoring\\\\DATA\\\\DCASE2020\\\\pump_basedir\\\\dev_data\\\\pump\\\\test\\\\anomaly_id_02_00000034.wav',\n",
       " 'C:\\\\Users\\\\DMT2KOR\\\\OneDrive - Robert Bosch GmbH\\\\Documents\\\\WORK\\\\PROJECTS\\\\PoCs\\\\Machine Sound Monitoring\\\\DATA\\\\DCASE2020\\\\pump_basedir\\\\dev_data\\\\pump\\\\test\\\\anomaly_id_02_00000035.wav',\n",
       " 'C:\\\\Users\\\\DMT2KOR\\\\OneDrive - Robert Bosch GmbH\\\\Documents\\\\WORK\\\\PROJECTS\\\\PoCs\\\\Machine Sound Monitoring\\\\DATA\\\\DCASE2020\\\\pump_basedir\\\\dev_data\\\\pump\\\\test\\\\anomaly_id_02_00000036.wav',\n",
       " 'C:\\\\Users\\\\DMT2KOR\\\\OneDrive - Robert Bosch GmbH\\\\Documents\\\\WORK\\\\PROJECTS\\\\PoCs\\\\Machine Sound Monitoring\\\\DATA\\\\DCASE2020\\\\pump_basedir\\\\dev_data\\\\pump\\\\test\\\\anomaly_id_02_00000037.wav',\n",
       " 'C:\\\\Users\\\\DMT2KOR\\\\OneDrive - Robert Bosch GmbH\\\\Documents\\\\WORK\\\\PROJECTS\\\\PoCs\\\\Machine Sound Monitoring\\\\DATA\\\\DCASE2020\\\\pump_basedir\\\\dev_data\\\\pump\\\\test\\\\anomaly_id_02_00000038.wav',\n",
       " 'C:\\\\Users\\\\DMT2KOR\\\\OneDrive - Robert Bosch GmbH\\\\Documents\\\\WORK\\\\PROJECTS\\\\PoCs\\\\Machine Sound Monitoring\\\\DATA\\\\DCASE2020\\\\pump_basedir\\\\dev_data\\\\pump\\\\test\\\\anomaly_id_02_00000039.wav',\n",
       " 'C:\\\\Users\\\\DMT2KOR\\\\OneDrive - Robert Bosch GmbH\\\\Documents\\\\WORK\\\\PROJECTS\\\\PoCs\\\\Machine Sound Monitoring\\\\DATA\\\\DCASE2020\\\\pump_basedir\\\\dev_data\\\\pump\\\\test\\\\anomaly_id_02_00000040.wav',\n",
       " 'C:\\\\Users\\\\DMT2KOR\\\\OneDrive - Robert Bosch GmbH\\\\Documents\\\\WORK\\\\PROJECTS\\\\PoCs\\\\Machine Sound Monitoring\\\\DATA\\\\DCASE2020\\\\pump_basedir\\\\dev_data\\\\pump\\\\test\\\\anomaly_id_02_00000041.wav',\n",
       " 'C:\\\\Users\\\\DMT2KOR\\\\OneDrive - Robert Bosch GmbH\\\\Documents\\\\WORK\\\\PROJECTS\\\\PoCs\\\\Machine Sound Monitoring\\\\DATA\\\\DCASE2020\\\\pump_basedir\\\\dev_data\\\\pump\\\\test\\\\anomaly_id_02_00000042.wav',\n",
       " 'C:\\\\Users\\\\DMT2KOR\\\\OneDrive - Robert Bosch GmbH\\\\Documents\\\\WORK\\\\PROJECTS\\\\PoCs\\\\Machine Sound Monitoring\\\\DATA\\\\DCASE2020\\\\pump_basedir\\\\dev_data\\\\pump\\\\test\\\\anomaly_id_02_00000043.wav',\n",
       " 'C:\\\\Users\\\\DMT2KOR\\\\OneDrive - Robert Bosch GmbH\\\\Documents\\\\WORK\\\\PROJECTS\\\\PoCs\\\\Machine Sound Monitoring\\\\DATA\\\\DCASE2020\\\\pump_basedir\\\\dev_data\\\\pump\\\\test\\\\anomaly_id_02_00000044.wav',\n",
       " 'C:\\\\Users\\\\DMT2KOR\\\\OneDrive - Robert Bosch GmbH\\\\Documents\\\\WORK\\\\PROJECTS\\\\PoCs\\\\Machine Sound Monitoring\\\\DATA\\\\DCASE2020\\\\pump_basedir\\\\dev_data\\\\pump\\\\test\\\\anomaly_id_02_00000045.wav',\n",
       " 'C:\\\\Users\\\\DMT2KOR\\\\OneDrive - Robert Bosch GmbH\\\\Documents\\\\WORK\\\\PROJECTS\\\\PoCs\\\\Machine Sound Monitoring\\\\DATA\\\\DCASE2020\\\\pump_basedir\\\\dev_data\\\\pump\\\\test\\\\anomaly_id_02_00000046.wav',\n",
       " 'C:\\\\Users\\\\DMT2KOR\\\\OneDrive - Robert Bosch GmbH\\\\Documents\\\\WORK\\\\PROJECTS\\\\PoCs\\\\Machine Sound Monitoring\\\\DATA\\\\DCASE2020\\\\pump_basedir\\\\dev_data\\\\pump\\\\test\\\\anomaly_id_02_00000047.wav',\n",
       " 'C:\\\\Users\\\\DMT2KOR\\\\OneDrive - Robert Bosch GmbH\\\\Documents\\\\WORK\\\\PROJECTS\\\\PoCs\\\\Machine Sound Monitoring\\\\DATA\\\\DCASE2020\\\\pump_basedir\\\\dev_data\\\\pump\\\\test\\\\anomaly_id_02_00000048.wav',\n",
       " 'C:\\\\Users\\\\DMT2KOR\\\\OneDrive - Robert Bosch GmbH\\\\Documents\\\\WORK\\\\PROJECTS\\\\PoCs\\\\Machine Sound Monitoring\\\\DATA\\\\DCASE2020\\\\pump_basedir\\\\dev_data\\\\pump\\\\test\\\\anomaly_id_02_00000049.wav',\n",
       " 'C:\\\\Users\\\\DMT2KOR\\\\OneDrive - Robert Bosch GmbH\\\\Documents\\\\WORK\\\\PROJECTS\\\\PoCs\\\\Machine Sound Monitoring\\\\DATA\\\\DCASE2020\\\\pump_basedir\\\\dev_data\\\\pump\\\\test\\\\anomaly_id_02_00000050.wav',\n",
       " 'C:\\\\Users\\\\DMT2KOR\\\\OneDrive - Robert Bosch GmbH\\\\Documents\\\\WORK\\\\PROJECTS\\\\PoCs\\\\Machine Sound Monitoring\\\\DATA\\\\DCASE2020\\\\pump_basedir\\\\dev_data\\\\pump\\\\test\\\\anomaly_id_02_00000051.wav',\n",
       " 'C:\\\\Users\\\\DMT2KOR\\\\OneDrive - Robert Bosch GmbH\\\\Documents\\\\WORK\\\\PROJECTS\\\\PoCs\\\\Machine Sound Monitoring\\\\DATA\\\\DCASE2020\\\\pump_basedir\\\\dev_data\\\\pump\\\\test\\\\anomaly_id_02_00000052.wav',\n",
       " 'C:\\\\Users\\\\DMT2KOR\\\\OneDrive - Robert Bosch GmbH\\\\Documents\\\\WORK\\\\PROJECTS\\\\PoCs\\\\Machine Sound Monitoring\\\\DATA\\\\DCASE2020\\\\pump_basedir\\\\dev_data\\\\pump\\\\test\\\\anomaly_id_02_00000053.wav',\n",
       " 'C:\\\\Users\\\\DMT2KOR\\\\OneDrive - Robert Bosch GmbH\\\\Documents\\\\WORK\\\\PROJECTS\\\\PoCs\\\\Machine Sound Monitoring\\\\DATA\\\\DCASE2020\\\\pump_basedir\\\\dev_data\\\\pump\\\\test\\\\anomaly_id_02_00000054.wav',\n",
       " 'C:\\\\Users\\\\DMT2KOR\\\\OneDrive - Robert Bosch GmbH\\\\Documents\\\\WORK\\\\PROJECTS\\\\PoCs\\\\Machine Sound Monitoring\\\\DATA\\\\DCASE2020\\\\pump_basedir\\\\dev_data\\\\pump\\\\test\\\\anomaly_id_02_00000055.wav',\n",
       " 'C:\\\\Users\\\\DMT2KOR\\\\OneDrive - Robert Bosch GmbH\\\\Documents\\\\WORK\\\\PROJECTS\\\\PoCs\\\\Machine Sound Monitoring\\\\DATA\\\\DCASE2020\\\\pump_basedir\\\\dev_data\\\\pump\\\\test\\\\anomaly_id_02_00000056.wav',\n",
       " 'C:\\\\Users\\\\DMT2KOR\\\\OneDrive - Robert Bosch GmbH\\\\Documents\\\\WORK\\\\PROJECTS\\\\PoCs\\\\Machine Sound Monitoring\\\\DATA\\\\DCASE2020\\\\pump_basedir\\\\dev_data\\\\pump\\\\test\\\\anomaly_id_02_00000057.wav',\n",
       " 'C:\\\\Users\\\\DMT2KOR\\\\OneDrive - Robert Bosch GmbH\\\\Documents\\\\WORK\\\\PROJECTS\\\\PoCs\\\\Machine Sound Monitoring\\\\DATA\\\\DCASE2020\\\\pump_basedir\\\\dev_data\\\\pump\\\\test\\\\anomaly_id_02_00000058.wav',\n",
       " 'C:\\\\Users\\\\DMT2KOR\\\\OneDrive - Robert Bosch GmbH\\\\Documents\\\\WORK\\\\PROJECTS\\\\PoCs\\\\Machine Sound Monitoring\\\\DATA\\\\DCASE2020\\\\pump_basedir\\\\dev_data\\\\pump\\\\test\\\\anomaly_id_02_00000059.wav',\n",
       " 'C:\\\\Users\\\\DMT2KOR\\\\OneDrive - Robert Bosch GmbH\\\\Documents\\\\WORK\\\\PROJECTS\\\\PoCs\\\\Machine Sound Monitoring\\\\DATA\\\\DCASE2020\\\\pump_basedir\\\\dev_data\\\\pump\\\\test\\\\anomaly_id_02_00000060.wav',\n",
       " 'C:\\\\Users\\\\DMT2KOR\\\\OneDrive - Robert Bosch GmbH\\\\Documents\\\\WORK\\\\PROJECTS\\\\PoCs\\\\Machine Sound Monitoring\\\\DATA\\\\DCASE2020\\\\pump_basedir\\\\dev_data\\\\pump\\\\test\\\\anomaly_id_02_00000061.wav',\n",
       " 'C:\\\\Users\\\\DMT2KOR\\\\OneDrive - Robert Bosch GmbH\\\\Documents\\\\WORK\\\\PROJECTS\\\\PoCs\\\\Machine Sound Monitoring\\\\DATA\\\\DCASE2020\\\\pump_basedir\\\\dev_data\\\\pump\\\\test\\\\anomaly_id_02_00000062.wav',\n",
       " 'C:\\\\Users\\\\DMT2KOR\\\\OneDrive - Robert Bosch GmbH\\\\Documents\\\\WORK\\\\PROJECTS\\\\PoCs\\\\Machine Sound Monitoring\\\\DATA\\\\DCASE2020\\\\pump_basedir\\\\dev_data\\\\pump\\\\test\\\\anomaly_id_02_00000063.wav',\n",
       " 'C:\\\\Users\\\\DMT2KOR\\\\OneDrive - Robert Bosch GmbH\\\\Documents\\\\WORK\\\\PROJECTS\\\\PoCs\\\\Machine Sound Monitoring\\\\DATA\\\\DCASE2020\\\\pump_basedir\\\\dev_data\\\\pump\\\\test\\\\anomaly_id_02_00000064.wav',\n",
       " 'C:\\\\Users\\\\DMT2KOR\\\\OneDrive - Robert Bosch GmbH\\\\Documents\\\\WORK\\\\PROJECTS\\\\PoCs\\\\Machine Sound Monitoring\\\\DATA\\\\DCASE2020\\\\pump_basedir\\\\dev_data\\\\pump\\\\test\\\\anomaly_id_02_00000065.wav',\n",
       " 'C:\\\\Users\\\\DMT2KOR\\\\OneDrive - Robert Bosch GmbH\\\\Documents\\\\WORK\\\\PROJECTS\\\\PoCs\\\\Machine Sound Monitoring\\\\DATA\\\\DCASE2020\\\\pump_basedir\\\\dev_data\\\\pump\\\\test\\\\anomaly_id_02_00000066.wav',\n",
       " 'C:\\\\Users\\\\DMT2KOR\\\\OneDrive - Robert Bosch GmbH\\\\Documents\\\\WORK\\\\PROJECTS\\\\PoCs\\\\Machine Sound Monitoring\\\\DATA\\\\DCASE2020\\\\pump_basedir\\\\dev_data\\\\pump\\\\test\\\\anomaly_id_02_00000067.wav',\n",
       " 'C:\\\\Users\\\\DMT2KOR\\\\OneDrive - Robert Bosch GmbH\\\\Documents\\\\WORK\\\\PROJECTS\\\\PoCs\\\\Machine Sound Monitoring\\\\DATA\\\\DCASE2020\\\\pump_basedir\\\\dev_data\\\\pump\\\\test\\\\anomaly_id_02_00000068.wav',\n",
       " 'C:\\\\Users\\\\DMT2KOR\\\\OneDrive - Robert Bosch GmbH\\\\Documents\\\\WORK\\\\PROJECTS\\\\PoCs\\\\Machine Sound Monitoring\\\\DATA\\\\DCASE2020\\\\pump_basedir\\\\dev_data\\\\pump\\\\test\\\\anomaly_id_02_00000069.wav',\n",
       " 'C:\\\\Users\\\\DMT2KOR\\\\OneDrive - Robert Bosch GmbH\\\\Documents\\\\WORK\\\\PROJECTS\\\\PoCs\\\\Machine Sound Monitoring\\\\DATA\\\\DCASE2020\\\\pump_basedir\\\\dev_data\\\\pump\\\\test\\\\anomaly_id_02_00000070.wav',\n",
       " 'C:\\\\Users\\\\DMT2KOR\\\\OneDrive - Robert Bosch GmbH\\\\Documents\\\\WORK\\\\PROJECTS\\\\PoCs\\\\Machine Sound Monitoring\\\\DATA\\\\DCASE2020\\\\pump_basedir\\\\dev_data\\\\pump\\\\test\\\\anomaly_id_02_00000071.wav',\n",
       " 'C:\\\\Users\\\\DMT2KOR\\\\OneDrive - Robert Bosch GmbH\\\\Documents\\\\WORK\\\\PROJECTS\\\\PoCs\\\\Machine Sound Monitoring\\\\DATA\\\\DCASE2020\\\\pump_basedir\\\\dev_data\\\\pump\\\\test\\\\anomaly_id_02_00000072.wav',\n",
       " 'C:\\\\Users\\\\DMT2KOR\\\\OneDrive - Robert Bosch GmbH\\\\Documents\\\\WORK\\\\PROJECTS\\\\PoCs\\\\Machine Sound Monitoring\\\\DATA\\\\DCASE2020\\\\pump_basedir\\\\dev_data\\\\pump\\\\test\\\\anomaly_id_02_00000073.wav',\n",
       " 'C:\\\\Users\\\\DMT2KOR\\\\OneDrive - Robert Bosch GmbH\\\\Documents\\\\WORK\\\\PROJECTS\\\\PoCs\\\\Machine Sound Monitoring\\\\DATA\\\\DCASE2020\\\\pump_basedir\\\\dev_data\\\\pump\\\\test\\\\anomaly_id_02_00000074.wav',\n",
       " 'C:\\\\Users\\\\DMT2KOR\\\\OneDrive - Robert Bosch GmbH\\\\Documents\\\\WORK\\\\PROJECTS\\\\PoCs\\\\Machine Sound Monitoring\\\\DATA\\\\DCASE2020\\\\pump_basedir\\\\dev_data\\\\pump\\\\test\\\\anomaly_id_02_00000075.wav',\n",
       " 'C:\\\\Users\\\\DMT2KOR\\\\OneDrive - Robert Bosch GmbH\\\\Documents\\\\WORK\\\\PROJECTS\\\\PoCs\\\\Machine Sound Monitoring\\\\DATA\\\\DCASE2020\\\\pump_basedir\\\\dev_data\\\\pump\\\\test\\\\anomaly_id_02_00000076.wav',\n",
       " 'C:\\\\Users\\\\DMT2KOR\\\\OneDrive - Robert Bosch GmbH\\\\Documents\\\\WORK\\\\PROJECTS\\\\PoCs\\\\Machine Sound Monitoring\\\\DATA\\\\DCASE2020\\\\pump_basedir\\\\dev_data\\\\pump\\\\test\\\\anomaly_id_02_00000077.wav',\n",
       " 'C:\\\\Users\\\\DMT2KOR\\\\OneDrive - Robert Bosch GmbH\\\\Documents\\\\WORK\\\\PROJECTS\\\\PoCs\\\\Machine Sound Monitoring\\\\DATA\\\\DCASE2020\\\\pump_basedir\\\\dev_data\\\\pump\\\\test\\\\anomaly_id_02_00000078.wav',\n",
       " 'C:\\\\Users\\\\DMT2KOR\\\\OneDrive - Robert Bosch GmbH\\\\Documents\\\\WORK\\\\PROJECTS\\\\PoCs\\\\Machine Sound Monitoring\\\\DATA\\\\DCASE2020\\\\pump_basedir\\\\dev_data\\\\pump\\\\test\\\\anomaly_id_02_00000079.wav',\n",
       " 'C:\\\\Users\\\\DMT2KOR\\\\OneDrive - Robert Bosch GmbH\\\\Documents\\\\WORK\\\\PROJECTS\\\\PoCs\\\\Machine Sound Monitoring\\\\DATA\\\\DCASE2020\\\\pump_basedir\\\\dev_data\\\\pump\\\\test\\\\anomaly_id_02_00000080.wav',\n",
       " 'C:\\\\Users\\\\DMT2KOR\\\\OneDrive - Robert Bosch GmbH\\\\Documents\\\\WORK\\\\PROJECTS\\\\PoCs\\\\Machine Sound Monitoring\\\\DATA\\\\DCASE2020\\\\pump_basedir\\\\dev_data\\\\pump\\\\test\\\\anomaly_id_02_00000081.wav',\n",
       " 'C:\\\\Users\\\\DMT2KOR\\\\OneDrive - Robert Bosch GmbH\\\\Documents\\\\WORK\\\\PROJECTS\\\\PoCs\\\\Machine Sound Monitoring\\\\DATA\\\\DCASE2020\\\\pump_basedir\\\\dev_data\\\\pump\\\\test\\\\anomaly_id_02_00000082.wav',\n",
       " 'C:\\\\Users\\\\DMT2KOR\\\\OneDrive - Robert Bosch GmbH\\\\Documents\\\\WORK\\\\PROJECTS\\\\PoCs\\\\Machine Sound Monitoring\\\\DATA\\\\DCASE2020\\\\pump_basedir\\\\dev_data\\\\pump\\\\test\\\\anomaly_id_02_00000083.wav',\n",
       " 'C:\\\\Users\\\\DMT2KOR\\\\OneDrive - Robert Bosch GmbH\\\\Documents\\\\WORK\\\\PROJECTS\\\\PoCs\\\\Machine Sound Monitoring\\\\DATA\\\\DCASE2020\\\\pump_basedir\\\\dev_data\\\\pump\\\\test\\\\anomaly_id_02_00000084.wav',\n",
       " 'C:\\\\Users\\\\DMT2KOR\\\\OneDrive - Robert Bosch GmbH\\\\Documents\\\\WORK\\\\PROJECTS\\\\PoCs\\\\Machine Sound Monitoring\\\\DATA\\\\DCASE2020\\\\pump_basedir\\\\dev_data\\\\pump\\\\test\\\\anomaly_id_02_00000085.wav',\n",
       " 'C:\\\\Users\\\\DMT2KOR\\\\OneDrive - Robert Bosch GmbH\\\\Documents\\\\WORK\\\\PROJECTS\\\\PoCs\\\\Machine Sound Monitoring\\\\DATA\\\\DCASE2020\\\\pump_basedir\\\\dev_data\\\\pump\\\\test\\\\anomaly_id_02_00000086.wav',\n",
       " 'C:\\\\Users\\\\DMT2KOR\\\\OneDrive - Robert Bosch GmbH\\\\Documents\\\\WORK\\\\PROJECTS\\\\PoCs\\\\Machine Sound Monitoring\\\\DATA\\\\DCASE2020\\\\pump_basedir\\\\dev_data\\\\pump\\\\test\\\\anomaly_id_02_00000087.wav',\n",
       " 'C:\\\\Users\\\\DMT2KOR\\\\OneDrive - Robert Bosch GmbH\\\\Documents\\\\WORK\\\\PROJECTS\\\\PoCs\\\\Machine Sound Monitoring\\\\DATA\\\\DCASE2020\\\\pump_basedir\\\\dev_data\\\\pump\\\\test\\\\anomaly_id_02_00000088.wav',\n",
       " 'C:\\\\Users\\\\DMT2KOR\\\\OneDrive - Robert Bosch GmbH\\\\Documents\\\\WORK\\\\PROJECTS\\\\PoCs\\\\Machine Sound Monitoring\\\\DATA\\\\DCASE2020\\\\pump_basedir\\\\dev_data\\\\pump\\\\test\\\\anomaly_id_02_00000089.wav',\n",
       " 'C:\\\\Users\\\\DMT2KOR\\\\OneDrive - Robert Bosch GmbH\\\\Documents\\\\WORK\\\\PROJECTS\\\\PoCs\\\\Machine Sound Monitoring\\\\DATA\\\\DCASE2020\\\\pump_basedir\\\\dev_data\\\\pump\\\\test\\\\anomaly_id_02_00000090.wav',\n",
       " 'C:\\\\Users\\\\DMT2KOR\\\\OneDrive - Robert Bosch GmbH\\\\Documents\\\\WORK\\\\PROJECTS\\\\PoCs\\\\Machine Sound Monitoring\\\\DATA\\\\DCASE2020\\\\pump_basedir\\\\dev_data\\\\pump\\\\test\\\\anomaly_id_02_00000091.wav',\n",
       " 'C:\\\\Users\\\\DMT2KOR\\\\OneDrive - Robert Bosch GmbH\\\\Documents\\\\WORK\\\\PROJECTS\\\\PoCs\\\\Machine Sound Monitoring\\\\DATA\\\\DCASE2020\\\\pump_basedir\\\\dev_data\\\\pump\\\\test\\\\anomaly_id_02_00000092.wav',\n",
       " 'C:\\\\Users\\\\DMT2KOR\\\\OneDrive - Robert Bosch GmbH\\\\Documents\\\\WORK\\\\PROJECTS\\\\PoCs\\\\Machine Sound Monitoring\\\\DATA\\\\DCASE2020\\\\pump_basedir\\\\dev_data\\\\pump\\\\test\\\\anomaly_id_02_00000093.wav',\n",
       " 'C:\\\\Users\\\\DMT2KOR\\\\OneDrive - Robert Bosch GmbH\\\\Documents\\\\WORK\\\\PROJECTS\\\\PoCs\\\\Machine Sound Monitoring\\\\DATA\\\\DCASE2020\\\\pump_basedir\\\\dev_data\\\\pump\\\\test\\\\anomaly_id_02_00000094.wav',\n",
       " 'C:\\\\Users\\\\DMT2KOR\\\\OneDrive - Robert Bosch GmbH\\\\Documents\\\\WORK\\\\PROJECTS\\\\PoCs\\\\Machine Sound Monitoring\\\\DATA\\\\DCASE2020\\\\pump_basedir\\\\dev_data\\\\pump\\\\test\\\\anomaly_id_02_00000095.wav',\n",
       " 'C:\\\\Users\\\\DMT2KOR\\\\OneDrive - Robert Bosch GmbH\\\\Documents\\\\WORK\\\\PROJECTS\\\\PoCs\\\\Machine Sound Monitoring\\\\DATA\\\\DCASE2020\\\\pump_basedir\\\\dev_data\\\\pump\\\\test\\\\anomaly_id_02_00000096.wav',\n",
       " 'C:\\\\Users\\\\DMT2KOR\\\\OneDrive - Robert Bosch GmbH\\\\Documents\\\\WORK\\\\PROJECTS\\\\PoCs\\\\Machine Sound Monitoring\\\\DATA\\\\DCASE2020\\\\pump_basedir\\\\dev_data\\\\pump\\\\test\\\\anomaly_id_02_00000097.wav',\n",
       " 'C:\\\\Users\\\\DMT2KOR\\\\OneDrive - Robert Bosch GmbH\\\\Documents\\\\WORK\\\\PROJECTS\\\\PoCs\\\\Machine Sound Monitoring\\\\DATA\\\\DCASE2020\\\\pump_basedir\\\\dev_data\\\\pump\\\\test\\\\anomaly_id_02_00000098.wav',\n",
       " 'C:\\\\Users\\\\DMT2KOR\\\\OneDrive - Robert Bosch GmbH\\\\Documents\\\\WORK\\\\PROJECTS\\\\PoCs\\\\Machine Sound Monitoring\\\\DATA\\\\DCASE2020\\\\pump_basedir\\\\dev_data\\\\pump\\\\test\\\\anomaly_id_02_00000099.wav',\n",
       " 'C:\\\\Users\\\\DMT2KOR\\\\OneDrive - Robert Bosch GmbH\\\\Documents\\\\WORK\\\\PROJECTS\\\\PoCs\\\\Machine Sound Monitoring\\\\DATA\\\\DCASE2020\\\\pump_basedir\\\\dev_data\\\\pump\\\\test\\\\anomaly_id_02_00000100.wav',\n",
       " 'C:\\\\Users\\\\DMT2KOR\\\\OneDrive - Robert Bosch GmbH\\\\Documents\\\\WORK\\\\PROJECTS\\\\PoCs\\\\Machine Sound Monitoring\\\\DATA\\\\DCASE2020\\\\pump_basedir\\\\dev_data\\\\pump\\\\test\\\\anomaly_id_02_00000101.wav',\n",
       " 'C:\\\\Users\\\\DMT2KOR\\\\OneDrive - Robert Bosch GmbH\\\\Documents\\\\WORK\\\\PROJECTS\\\\PoCs\\\\Machine Sound Monitoring\\\\DATA\\\\DCASE2020\\\\pump_basedir\\\\dev_data\\\\pump\\\\test\\\\anomaly_id_02_00000102.wav',\n",
       " 'C:\\\\Users\\\\DMT2KOR\\\\OneDrive - Robert Bosch GmbH\\\\Documents\\\\WORK\\\\PROJECTS\\\\PoCs\\\\Machine Sound Monitoring\\\\DATA\\\\DCASE2020\\\\pump_basedir\\\\dev_data\\\\pump\\\\test\\\\anomaly_id_02_00000103.wav',\n",
       " 'C:\\\\Users\\\\DMT2KOR\\\\OneDrive - Robert Bosch GmbH\\\\Documents\\\\WORK\\\\PROJECTS\\\\PoCs\\\\Machine Sound Monitoring\\\\DATA\\\\DCASE2020\\\\pump_basedir\\\\dev_data\\\\pump\\\\test\\\\anomaly_id_02_00000104.wav',\n",
       " 'C:\\\\Users\\\\DMT2KOR\\\\OneDrive - Robert Bosch GmbH\\\\Documents\\\\WORK\\\\PROJECTS\\\\PoCs\\\\Machine Sound Monitoring\\\\DATA\\\\DCASE2020\\\\pump_basedir\\\\dev_data\\\\pump\\\\test\\\\anomaly_id_02_00000105.wav',\n",
       " 'C:\\\\Users\\\\DMT2KOR\\\\OneDrive - Robert Bosch GmbH\\\\Documents\\\\WORK\\\\PROJECTS\\\\PoCs\\\\Machine Sound Monitoring\\\\DATA\\\\DCASE2020\\\\pump_basedir\\\\dev_data\\\\pump\\\\test\\\\anomaly_id_02_00000106.wav',\n",
       " 'C:\\\\Users\\\\DMT2KOR\\\\OneDrive - Robert Bosch GmbH\\\\Documents\\\\WORK\\\\PROJECTS\\\\PoCs\\\\Machine Sound Monitoring\\\\DATA\\\\DCASE2020\\\\pump_basedir\\\\dev_data\\\\pump\\\\test\\\\anomaly_id_02_00000107.wav',\n",
       " 'C:\\\\Users\\\\DMT2KOR\\\\OneDrive - Robert Bosch GmbH\\\\Documents\\\\WORK\\\\PROJECTS\\\\PoCs\\\\Machine Sound Monitoring\\\\DATA\\\\DCASE2020\\\\pump_basedir\\\\dev_data\\\\pump\\\\test\\\\anomaly_id_02_00000108.wav',\n",
       " 'C:\\\\Users\\\\DMT2KOR\\\\OneDrive - Robert Bosch GmbH\\\\Documents\\\\WORK\\\\PROJECTS\\\\PoCs\\\\Machine Sound Monitoring\\\\DATA\\\\DCASE2020\\\\pump_basedir\\\\dev_data\\\\pump\\\\test\\\\anomaly_id_02_00000109.wav',\n",
       " 'C:\\\\Users\\\\DMT2KOR\\\\OneDrive - Robert Bosch GmbH\\\\Documents\\\\WORK\\\\PROJECTS\\\\PoCs\\\\Machine Sound Monitoring\\\\DATA\\\\DCASE2020\\\\pump_basedir\\\\dev_data\\\\pump\\\\test\\\\anomaly_id_02_00000110.wav',\n",
       " 'C:\\\\Users\\\\DMT2KOR\\\\OneDrive - Robert Bosch GmbH\\\\Documents\\\\WORK\\\\PROJECTS\\\\PoCs\\\\Machine Sound Monitoring\\\\DATA\\\\DCASE2020\\\\pump_basedir\\\\dev_data\\\\pump\\\\test\\\\anomaly_id_04_00000000.wav',\n",
       " 'C:\\\\Users\\\\DMT2KOR\\\\OneDrive - Robert Bosch GmbH\\\\Documents\\\\WORK\\\\PROJECTS\\\\PoCs\\\\Machine Sound Monitoring\\\\DATA\\\\DCASE2020\\\\pump_basedir\\\\dev_data\\\\pump\\\\test\\\\anomaly_id_04_00000001.wav',\n",
       " 'C:\\\\Users\\\\DMT2KOR\\\\OneDrive - Robert Bosch GmbH\\\\Documents\\\\WORK\\\\PROJECTS\\\\PoCs\\\\Machine Sound Monitoring\\\\DATA\\\\DCASE2020\\\\pump_basedir\\\\dev_data\\\\pump\\\\test\\\\anomaly_id_04_00000002.wav',\n",
       " 'C:\\\\Users\\\\DMT2KOR\\\\OneDrive - Robert Bosch GmbH\\\\Documents\\\\WORK\\\\PROJECTS\\\\PoCs\\\\Machine Sound Monitoring\\\\DATA\\\\DCASE2020\\\\pump_basedir\\\\dev_data\\\\pump\\\\test\\\\anomaly_id_04_00000003.wav',\n",
       " 'C:\\\\Users\\\\DMT2KOR\\\\OneDrive - Robert Bosch GmbH\\\\Documents\\\\WORK\\\\PROJECTS\\\\PoCs\\\\Machine Sound Monitoring\\\\DATA\\\\DCASE2020\\\\pump_basedir\\\\dev_data\\\\pump\\\\test\\\\anomaly_id_04_00000004.wav',\n",
       " 'C:\\\\Users\\\\DMT2KOR\\\\OneDrive - Robert Bosch GmbH\\\\Documents\\\\WORK\\\\PROJECTS\\\\PoCs\\\\Machine Sound Monitoring\\\\DATA\\\\DCASE2020\\\\pump_basedir\\\\dev_data\\\\pump\\\\test\\\\anomaly_id_04_00000005.wav',\n",
       " 'C:\\\\Users\\\\DMT2KOR\\\\OneDrive - Robert Bosch GmbH\\\\Documents\\\\WORK\\\\PROJECTS\\\\PoCs\\\\Machine Sound Monitoring\\\\DATA\\\\DCASE2020\\\\pump_basedir\\\\dev_data\\\\pump\\\\test\\\\anomaly_id_04_00000006.wav',\n",
       " 'C:\\\\Users\\\\DMT2KOR\\\\OneDrive - Robert Bosch GmbH\\\\Documents\\\\WORK\\\\PROJECTS\\\\PoCs\\\\Machine Sound Monitoring\\\\DATA\\\\DCASE2020\\\\pump_basedir\\\\dev_data\\\\pump\\\\test\\\\anomaly_id_04_00000007.wav',\n",
       " 'C:\\\\Users\\\\DMT2KOR\\\\OneDrive - Robert Bosch GmbH\\\\Documents\\\\WORK\\\\PROJECTS\\\\PoCs\\\\Machine Sound Monitoring\\\\DATA\\\\DCASE2020\\\\pump_basedir\\\\dev_data\\\\pump\\\\test\\\\anomaly_id_04_00000008.wav',\n",
       " 'C:\\\\Users\\\\DMT2KOR\\\\OneDrive - Robert Bosch GmbH\\\\Documents\\\\WORK\\\\PROJECTS\\\\PoCs\\\\Machine Sound Monitoring\\\\DATA\\\\DCASE2020\\\\pump_basedir\\\\dev_data\\\\pump\\\\test\\\\anomaly_id_04_00000009.wav',\n",
       " 'C:\\\\Users\\\\DMT2KOR\\\\OneDrive - Robert Bosch GmbH\\\\Documents\\\\WORK\\\\PROJECTS\\\\PoCs\\\\Machine Sound Monitoring\\\\DATA\\\\DCASE2020\\\\pump_basedir\\\\dev_data\\\\pump\\\\test\\\\anomaly_id_04_00000010.wav',\n",
       " 'C:\\\\Users\\\\DMT2KOR\\\\OneDrive - Robert Bosch GmbH\\\\Documents\\\\WORK\\\\PROJECTS\\\\PoCs\\\\Machine Sound Monitoring\\\\DATA\\\\DCASE2020\\\\pump_basedir\\\\dev_data\\\\pump\\\\test\\\\anomaly_id_04_00000011.wav',\n",
       " 'C:\\\\Users\\\\DMT2KOR\\\\OneDrive - Robert Bosch GmbH\\\\Documents\\\\WORK\\\\PROJECTS\\\\PoCs\\\\Machine Sound Monitoring\\\\DATA\\\\DCASE2020\\\\pump_basedir\\\\dev_data\\\\pump\\\\test\\\\anomaly_id_04_00000012.wav',\n",
       " 'C:\\\\Users\\\\DMT2KOR\\\\OneDrive - Robert Bosch GmbH\\\\Documents\\\\WORK\\\\PROJECTS\\\\PoCs\\\\Machine Sound Monitoring\\\\DATA\\\\DCASE2020\\\\pump_basedir\\\\dev_data\\\\pump\\\\test\\\\anomaly_id_04_00000013.wav',\n",
       " 'C:\\\\Users\\\\DMT2KOR\\\\OneDrive - Robert Bosch GmbH\\\\Documents\\\\WORK\\\\PROJECTS\\\\PoCs\\\\Machine Sound Monitoring\\\\DATA\\\\DCASE2020\\\\pump_basedir\\\\dev_data\\\\pump\\\\test\\\\anomaly_id_04_00000014.wav',\n",
       " 'C:\\\\Users\\\\DMT2KOR\\\\OneDrive - Robert Bosch GmbH\\\\Documents\\\\WORK\\\\PROJECTS\\\\PoCs\\\\Machine Sound Monitoring\\\\DATA\\\\DCASE2020\\\\pump_basedir\\\\dev_data\\\\pump\\\\test\\\\anomaly_id_04_00000015.wav',\n",
       " 'C:\\\\Users\\\\DMT2KOR\\\\OneDrive - Robert Bosch GmbH\\\\Documents\\\\WORK\\\\PROJECTS\\\\PoCs\\\\Machine Sound Monitoring\\\\DATA\\\\DCASE2020\\\\pump_basedir\\\\dev_data\\\\pump\\\\test\\\\anomaly_id_04_00000016.wav',\n",
       " 'C:\\\\Users\\\\DMT2KOR\\\\OneDrive - Robert Bosch GmbH\\\\Documents\\\\WORK\\\\PROJECTS\\\\PoCs\\\\Machine Sound Monitoring\\\\DATA\\\\DCASE2020\\\\pump_basedir\\\\dev_data\\\\pump\\\\test\\\\anomaly_id_04_00000017.wav',\n",
       " 'C:\\\\Users\\\\DMT2KOR\\\\OneDrive - Robert Bosch GmbH\\\\Documents\\\\WORK\\\\PROJECTS\\\\PoCs\\\\Machine Sound Monitoring\\\\DATA\\\\DCASE2020\\\\pump_basedir\\\\dev_data\\\\pump\\\\test\\\\anomaly_id_04_00000018.wav',\n",
       " 'C:\\\\Users\\\\DMT2KOR\\\\OneDrive - Robert Bosch GmbH\\\\Documents\\\\WORK\\\\PROJECTS\\\\PoCs\\\\Machine Sound Monitoring\\\\DATA\\\\DCASE2020\\\\pump_basedir\\\\dev_data\\\\pump\\\\test\\\\anomaly_id_04_00000019.wav',\n",
       " 'C:\\\\Users\\\\DMT2KOR\\\\OneDrive - Robert Bosch GmbH\\\\Documents\\\\WORK\\\\PROJECTS\\\\PoCs\\\\Machine Sound Monitoring\\\\DATA\\\\DCASE2020\\\\pump_basedir\\\\dev_data\\\\pump\\\\test\\\\anomaly_id_04_00000020.wav',\n",
       " 'C:\\\\Users\\\\DMT2KOR\\\\OneDrive - Robert Bosch GmbH\\\\Documents\\\\WORK\\\\PROJECTS\\\\PoCs\\\\Machine Sound Monitoring\\\\DATA\\\\DCASE2020\\\\pump_basedir\\\\dev_data\\\\pump\\\\test\\\\anomaly_id_04_00000021.wav',\n",
       " 'C:\\\\Users\\\\DMT2KOR\\\\OneDrive - Robert Bosch GmbH\\\\Documents\\\\WORK\\\\PROJECTS\\\\PoCs\\\\Machine Sound Monitoring\\\\DATA\\\\DCASE2020\\\\pump_basedir\\\\dev_data\\\\pump\\\\test\\\\anomaly_id_04_00000022.wav',\n",
       " 'C:\\\\Users\\\\DMT2KOR\\\\OneDrive - Robert Bosch GmbH\\\\Documents\\\\WORK\\\\PROJECTS\\\\PoCs\\\\Machine Sound Monitoring\\\\DATA\\\\DCASE2020\\\\pump_basedir\\\\dev_data\\\\pump\\\\test\\\\anomaly_id_04_00000023.wav',\n",
       " 'C:\\\\Users\\\\DMT2KOR\\\\OneDrive - Robert Bosch GmbH\\\\Documents\\\\WORK\\\\PROJECTS\\\\PoCs\\\\Machine Sound Monitoring\\\\DATA\\\\DCASE2020\\\\pump_basedir\\\\dev_data\\\\pump\\\\test\\\\anomaly_id_04_00000024.wav',\n",
       " 'C:\\\\Users\\\\DMT2KOR\\\\OneDrive - Robert Bosch GmbH\\\\Documents\\\\WORK\\\\PROJECTS\\\\PoCs\\\\Machine Sound Monitoring\\\\DATA\\\\DCASE2020\\\\pump_basedir\\\\dev_data\\\\pump\\\\test\\\\anomaly_id_04_00000025.wav',\n",
       " 'C:\\\\Users\\\\DMT2KOR\\\\OneDrive - Robert Bosch GmbH\\\\Documents\\\\WORK\\\\PROJECTS\\\\PoCs\\\\Machine Sound Monitoring\\\\DATA\\\\DCASE2020\\\\pump_basedir\\\\dev_data\\\\pump\\\\test\\\\anomaly_id_04_00000026.wav',\n",
       " 'C:\\\\Users\\\\DMT2KOR\\\\OneDrive - Robert Bosch GmbH\\\\Documents\\\\WORK\\\\PROJECTS\\\\PoCs\\\\Machine Sound Monitoring\\\\DATA\\\\DCASE2020\\\\pump_basedir\\\\dev_data\\\\pump\\\\test\\\\anomaly_id_04_00000027.wav',\n",
       " 'C:\\\\Users\\\\DMT2KOR\\\\OneDrive - Robert Bosch GmbH\\\\Documents\\\\WORK\\\\PROJECTS\\\\PoCs\\\\Machine Sound Monitoring\\\\DATA\\\\DCASE2020\\\\pump_basedir\\\\dev_data\\\\pump\\\\test\\\\anomaly_id_04_00000028.wav',\n",
       " 'C:\\\\Users\\\\DMT2KOR\\\\OneDrive - Robert Bosch GmbH\\\\Documents\\\\WORK\\\\PROJECTS\\\\PoCs\\\\Machine Sound Monitoring\\\\DATA\\\\DCASE2020\\\\pump_basedir\\\\dev_data\\\\pump\\\\test\\\\anomaly_id_04_00000029.wav',\n",
       " 'C:\\\\Users\\\\DMT2KOR\\\\OneDrive - Robert Bosch GmbH\\\\Documents\\\\WORK\\\\PROJECTS\\\\PoCs\\\\Machine Sound Monitoring\\\\DATA\\\\DCASE2020\\\\pump_basedir\\\\dev_data\\\\pump\\\\test\\\\anomaly_id_04_00000030.wav',\n",
       " 'C:\\\\Users\\\\DMT2KOR\\\\OneDrive - Robert Bosch GmbH\\\\Documents\\\\WORK\\\\PROJECTS\\\\PoCs\\\\Machine Sound Monitoring\\\\DATA\\\\DCASE2020\\\\pump_basedir\\\\dev_data\\\\pump\\\\test\\\\anomaly_id_04_00000031.wav',\n",
       " 'C:\\\\Users\\\\DMT2KOR\\\\OneDrive - Robert Bosch GmbH\\\\Documents\\\\WORK\\\\PROJECTS\\\\PoCs\\\\Machine Sound Monitoring\\\\DATA\\\\DCASE2020\\\\pump_basedir\\\\dev_data\\\\pump\\\\test\\\\anomaly_id_04_00000032.wav',\n",
       " 'C:\\\\Users\\\\DMT2KOR\\\\OneDrive - Robert Bosch GmbH\\\\Documents\\\\WORK\\\\PROJECTS\\\\PoCs\\\\Machine Sound Monitoring\\\\DATA\\\\DCASE2020\\\\pump_basedir\\\\dev_data\\\\pump\\\\test\\\\anomaly_id_04_00000033.wav',\n",
       " 'C:\\\\Users\\\\DMT2KOR\\\\OneDrive - Robert Bosch GmbH\\\\Documents\\\\WORK\\\\PROJECTS\\\\PoCs\\\\Machine Sound Monitoring\\\\DATA\\\\DCASE2020\\\\pump_basedir\\\\dev_data\\\\pump\\\\test\\\\anomaly_id_04_00000034.wav',\n",
       " 'C:\\\\Users\\\\DMT2KOR\\\\OneDrive - Robert Bosch GmbH\\\\Documents\\\\WORK\\\\PROJECTS\\\\PoCs\\\\Machine Sound Monitoring\\\\DATA\\\\DCASE2020\\\\pump_basedir\\\\dev_data\\\\pump\\\\test\\\\anomaly_id_04_00000035.wav',\n",
       " 'C:\\\\Users\\\\DMT2KOR\\\\OneDrive - Robert Bosch GmbH\\\\Documents\\\\WORK\\\\PROJECTS\\\\PoCs\\\\Machine Sound Monitoring\\\\DATA\\\\DCASE2020\\\\pump_basedir\\\\dev_data\\\\pump\\\\test\\\\anomaly_id_04_00000036.wav',\n",
       " 'C:\\\\Users\\\\DMT2KOR\\\\OneDrive - Robert Bosch GmbH\\\\Documents\\\\WORK\\\\PROJECTS\\\\PoCs\\\\Machine Sound Monitoring\\\\DATA\\\\DCASE2020\\\\pump_basedir\\\\dev_data\\\\pump\\\\test\\\\anomaly_id_04_00000037.wav',\n",
       " 'C:\\\\Users\\\\DMT2KOR\\\\OneDrive - Robert Bosch GmbH\\\\Documents\\\\WORK\\\\PROJECTS\\\\PoCs\\\\Machine Sound Monitoring\\\\DATA\\\\DCASE2020\\\\pump_basedir\\\\dev_data\\\\pump\\\\test\\\\anomaly_id_04_00000038.wav',\n",
       " 'C:\\\\Users\\\\DMT2KOR\\\\OneDrive - Robert Bosch GmbH\\\\Documents\\\\WORK\\\\PROJECTS\\\\PoCs\\\\Machine Sound Monitoring\\\\DATA\\\\DCASE2020\\\\pump_basedir\\\\dev_data\\\\pump\\\\test\\\\anomaly_id_04_00000039.wav',\n",
       " 'C:\\\\Users\\\\DMT2KOR\\\\OneDrive - Robert Bosch GmbH\\\\Documents\\\\WORK\\\\PROJECTS\\\\PoCs\\\\Machine Sound Monitoring\\\\DATA\\\\DCASE2020\\\\pump_basedir\\\\dev_data\\\\pump\\\\test\\\\anomaly_id_04_00000040.wav',\n",
       " 'C:\\\\Users\\\\DMT2KOR\\\\OneDrive - Robert Bosch GmbH\\\\Documents\\\\WORK\\\\PROJECTS\\\\PoCs\\\\Machine Sound Monitoring\\\\DATA\\\\DCASE2020\\\\pump_basedir\\\\dev_data\\\\pump\\\\test\\\\anomaly_id_04_00000041.wav',\n",
       " 'C:\\\\Users\\\\DMT2KOR\\\\OneDrive - Robert Bosch GmbH\\\\Documents\\\\WORK\\\\PROJECTS\\\\PoCs\\\\Machine Sound Monitoring\\\\DATA\\\\DCASE2020\\\\pump_basedir\\\\dev_data\\\\pump\\\\test\\\\anomaly_id_04_00000042.wav',\n",
       " 'C:\\\\Users\\\\DMT2KOR\\\\OneDrive - Robert Bosch GmbH\\\\Documents\\\\WORK\\\\PROJECTS\\\\PoCs\\\\Machine Sound Monitoring\\\\DATA\\\\DCASE2020\\\\pump_basedir\\\\dev_data\\\\pump\\\\test\\\\anomaly_id_04_00000043.wav',\n",
       " 'C:\\\\Users\\\\DMT2KOR\\\\OneDrive - Robert Bosch GmbH\\\\Documents\\\\WORK\\\\PROJECTS\\\\PoCs\\\\Machine Sound Monitoring\\\\DATA\\\\DCASE2020\\\\pump_basedir\\\\dev_data\\\\pump\\\\test\\\\anomaly_id_04_00000044.wav',\n",
       " 'C:\\\\Users\\\\DMT2KOR\\\\OneDrive - Robert Bosch GmbH\\\\Documents\\\\WORK\\\\PROJECTS\\\\PoCs\\\\Machine Sound Monitoring\\\\DATA\\\\DCASE2020\\\\pump_basedir\\\\dev_data\\\\pump\\\\test\\\\anomaly_id_04_00000045.wav',\n",
       " 'C:\\\\Users\\\\DMT2KOR\\\\OneDrive - Robert Bosch GmbH\\\\Documents\\\\WORK\\\\PROJECTS\\\\PoCs\\\\Machine Sound Monitoring\\\\DATA\\\\DCASE2020\\\\pump_basedir\\\\dev_data\\\\pump\\\\test\\\\anomaly_id_04_00000046.wav',\n",
       " 'C:\\\\Users\\\\DMT2KOR\\\\OneDrive - Robert Bosch GmbH\\\\Documents\\\\WORK\\\\PROJECTS\\\\PoCs\\\\Machine Sound Monitoring\\\\DATA\\\\DCASE2020\\\\pump_basedir\\\\dev_data\\\\pump\\\\test\\\\anomaly_id_04_00000047.wav',\n",
       " 'C:\\\\Users\\\\DMT2KOR\\\\OneDrive - Robert Bosch GmbH\\\\Documents\\\\WORK\\\\PROJECTS\\\\PoCs\\\\Machine Sound Monitoring\\\\DATA\\\\DCASE2020\\\\pump_basedir\\\\dev_data\\\\pump\\\\test\\\\anomaly_id_04_00000048.wav',\n",
       " 'C:\\\\Users\\\\DMT2KOR\\\\OneDrive - Robert Bosch GmbH\\\\Documents\\\\WORK\\\\PROJECTS\\\\PoCs\\\\Machine Sound Monitoring\\\\DATA\\\\DCASE2020\\\\pump_basedir\\\\dev_data\\\\pump\\\\test\\\\anomaly_id_04_00000049.wav',\n",
       " 'C:\\\\Users\\\\DMT2KOR\\\\OneDrive - Robert Bosch GmbH\\\\Documents\\\\WORK\\\\PROJECTS\\\\PoCs\\\\Machine Sound Monitoring\\\\DATA\\\\DCASE2020\\\\pump_basedir\\\\dev_data\\\\pump\\\\test\\\\anomaly_id_04_00000050.wav',\n",
       " 'C:\\\\Users\\\\DMT2KOR\\\\OneDrive - Robert Bosch GmbH\\\\Documents\\\\WORK\\\\PROJECTS\\\\PoCs\\\\Machine Sound Monitoring\\\\DATA\\\\DCASE2020\\\\pump_basedir\\\\dev_data\\\\pump\\\\test\\\\anomaly_id_04_00000051.wav',\n",
       " 'C:\\\\Users\\\\DMT2KOR\\\\OneDrive - Robert Bosch GmbH\\\\Documents\\\\WORK\\\\PROJECTS\\\\PoCs\\\\Machine Sound Monitoring\\\\DATA\\\\DCASE2020\\\\pump_basedir\\\\dev_data\\\\pump\\\\test\\\\anomaly_id_04_00000052.wav',\n",
       " 'C:\\\\Users\\\\DMT2KOR\\\\OneDrive - Robert Bosch GmbH\\\\Documents\\\\WORK\\\\PROJECTS\\\\PoCs\\\\Machine Sound Monitoring\\\\DATA\\\\DCASE2020\\\\pump_basedir\\\\dev_data\\\\pump\\\\test\\\\anomaly_id_04_00000053.wav',\n",
       " 'C:\\\\Users\\\\DMT2KOR\\\\OneDrive - Robert Bosch GmbH\\\\Documents\\\\WORK\\\\PROJECTS\\\\PoCs\\\\Machine Sound Monitoring\\\\DATA\\\\DCASE2020\\\\pump_basedir\\\\dev_data\\\\pump\\\\test\\\\anomaly_id_04_00000054.wav',\n",
       " 'C:\\\\Users\\\\DMT2KOR\\\\OneDrive - Robert Bosch GmbH\\\\Documents\\\\WORK\\\\PROJECTS\\\\PoCs\\\\Machine Sound Monitoring\\\\DATA\\\\DCASE2020\\\\pump_basedir\\\\dev_data\\\\pump\\\\test\\\\anomaly_id_04_00000055.wav',\n",
       " 'C:\\\\Users\\\\DMT2KOR\\\\OneDrive - Robert Bosch GmbH\\\\Documents\\\\WORK\\\\PROJECTS\\\\PoCs\\\\Machine Sound Monitoring\\\\DATA\\\\DCASE2020\\\\pump_basedir\\\\dev_data\\\\pump\\\\test\\\\anomaly_id_04_00000056.wav',\n",
       " 'C:\\\\Users\\\\DMT2KOR\\\\OneDrive - Robert Bosch GmbH\\\\Documents\\\\WORK\\\\PROJECTS\\\\PoCs\\\\Machine Sound Monitoring\\\\DATA\\\\DCASE2020\\\\pump_basedir\\\\dev_data\\\\pump\\\\test\\\\anomaly_id_04_00000057.wav',\n",
       " 'C:\\\\Users\\\\DMT2KOR\\\\OneDrive - Robert Bosch GmbH\\\\Documents\\\\WORK\\\\PROJECTS\\\\PoCs\\\\Machine Sound Monitoring\\\\DATA\\\\DCASE2020\\\\pump_basedir\\\\dev_data\\\\pump\\\\test\\\\anomaly_id_04_00000058.wav',\n",
       " 'C:\\\\Users\\\\DMT2KOR\\\\OneDrive - Robert Bosch GmbH\\\\Documents\\\\WORK\\\\PROJECTS\\\\PoCs\\\\Machine Sound Monitoring\\\\DATA\\\\DCASE2020\\\\pump_basedir\\\\dev_data\\\\pump\\\\test\\\\anomaly_id_04_00000059.wav',\n",
       " 'C:\\\\Users\\\\DMT2KOR\\\\OneDrive - Robert Bosch GmbH\\\\Documents\\\\WORK\\\\PROJECTS\\\\PoCs\\\\Machine Sound Monitoring\\\\DATA\\\\DCASE2020\\\\pump_basedir\\\\dev_data\\\\pump\\\\test\\\\anomaly_id_04_00000060.wav',\n",
       " 'C:\\\\Users\\\\DMT2KOR\\\\OneDrive - Robert Bosch GmbH\\\\Documents\\\\WORK\\\\PROJECTS\\\\PoCs\\\\Machine Sound Monitoring\\\\DATA\\\\DCASE2020\\\\pump_basedir\\\\dev_data\\\\pump\\\\test\\\\anomaly_id_04_00000061.wav',\n",
       " 'C:\\\\Users\\\\DMT2KOR\\\\OneDrive - Robert Bosch GmbH\\\\Documents\\\\WORK\\\\PROJECTS\\\\PoCs\\\\Machine Sound Monitoring\\\\DATA\\\\DCASE2020\\\\pump_basedir\\\\dev_data\\\\pump\\\\test\\\\anomaly_id_04_00000062.wav',\n",
       " 'C:\\\\Users\\\\DMT2KOR\\\\OneDrive - Robert Bosch GmbH\\\\Documents\\\\WORK\\\\PROJECTS\\\\PoCs\\\\Machine Sound Monitoring\\\\DATA\\\\DCASE2020\\\\pump_basedir\\\\dev_data\\\\pump\\\\test\\\\anomaly_id_04_00000063.wav',\n",
       " 'C:\\\\Users\\\\DMT2KOR\\\\OneDrive - Robert Bosch GmbH\\\\Documents\\\\WORK\\\\PROJECTS\\\\PoCs\\\\Machine Sound Monitoring\\\\DATA\\\\DCASE2020\\\\pump_basedir\\\\dev_data\\\\pump\\\\test\\\\anomaly_id_04_00000064.wav',\n",
       " 'C:\\\\Users\\\\DMT2KOR\\\\OneDrive - Robert Bosch GmbH\\\\Documents\\\\WORK\\\\PROJECTS\\\\PoCs\\\\Machine Sound Monitoring\\\\DATA\\\\DCASE2020\\\\pump_basedir\\\\dev_data\\\\pump\\\\test\\\\anomaly_id_04_00000065.wav',\n",
       " 'C:\\\\Users\\\\DMT2KOR\\\\OneDrive - Robert Bosch GmbH\\\\Documents\\\\WORK\\\\PROJECTS\\\\PoCs\\\\Machine Sound Monitoring\\\\DATA\\\\DCASE2020\\\\pump_basedir\\\\dev_data\\\\pump\\\\test\\\\anomaly_id_04_00000066.wav',\n",
       " 'C:\\\\Users\\\\DMT2KOR\\\\OneDrive - Robert Bosch GmbH\\\\Documents\\\\WORK\\\\PROJECTS\\\\PoCs\\\\Machine Sound Monitoring\\\\DATA\\\\DCASE2020\\\\pump_basedir\\\\dev_data\\\\pump\\\\test\\\\anomaly_id_04_00000067.wav',\n",
       " 'C:\\\\Users\\\\DMT2KOR\\\\OneDrive - Robert Bosch GmbH\\\\Documents\\\\WORK\\\\PROJECTS\\\\PoCs\\\\Machine Sound Monitoring\\\\DATA\\\\DCASE2020\\\\pump_basedir\\\\dev_data\\\\pump\\\\test\\\\anomaly_id_04_00000068.wav',\n",
       " 'C:\\\\Users\\\\DMT2KOR\\\\OneDrive - Robert Bosch GmbH\\\\Documents\\\\WORK\\\\PROJECTS\\\\PoCs\\\\Machine Sound Monitoring\\\\DATA\\\\DCASE2020\\\\pump_basedir\\\\dev_data\\\\pump\\\\test\\\\anomaly_id_04_00000069.wav',\n",
       " 'C:\\\\Users\\\\DMT2KOR\\\\OneDrive - Robert Bosch GmbH\\\\Documents\\\\WORK\\\\PROJECTS\\\\PoCs\\\\Machine Sound Monitoring\\\\DATA\\\\DCASE2020\\\\pump_basedir\\\\dev_data\\\\pump\\\\test\\\\anomaly_id_04_00000070.wav',\n",
       " 'C:\\\\Users\\\\DMT2KOR\\\\OneDrive - Robert Bosch GmbH\\\\Documents\\\\WORK\\\\PROJECTS\\\\PoCs\\\\Machine Sound Monitoring\\\\DATA\\\\DCASE2020\\\\pump_basedir\\\\dev_data\\\\pump\\\\test\\\\anomaly_id_04_00000071.wav',\n",
       " 'C:\\\\Users\\\\DMT2KOR\\\\OneDrive - Robert Bosch GmbH\\\\Documents\\\\WORK\\\\PROJECTS\\\\PoCs\\\\Machine Sound Monitoring\\\\DATA\\\\DCASE2020\\\\pump_basedir\\\\dev_data\\\\pump\\\\test\\\\anomaly_id_04_00000072.wav',\n",
       " 'C:\\\\Users\\\\DMT2KOR\\\\OneDrive - Robert Bosch GmbH\\\\Documents\\\\WORK\\\\PROJECTS\\\\PoCs\\\\Machine Sound Monitoring\\\\DATA\\\\DCASE2020\\\\pump_basedir\\\\dev_data\\\\pump\\\\test\\\\anomaly_id_04_00000073.wav',\n",
       " 'C:\\\\Users\\\\DMT2KOR\\\\OneDrive - Robert Bosch GmbH\\\\Documents\\\\WORK\\\\PROJECTS\\\\PoCs\\\\Machine Sound Monitoring\\\\DATA\\\\DCASE2020\\\\pump_basedir\\\\dev_data\\\\pump\\\\test\\\\anomaly_id_04_00000074.wav',\n",
       " 'C:\\\\Users\\\\DMT2KOR\\\\OneDrive - Robert Bosch GmbH\\\\Documents\\\\WORK\\\\PROJECTS\\\\PoCs\\\\Machine Sound Monitoring\\\\DATA\\\\DCASE2020\\\\pump_basedir\\\\dev_data\\\\pump\\\\test\\\\anomaly_id_04_00000075.wav',\n",
       " 'C:\\\\Users\\\\DMT2KOR\\\\OneDrive - Robert Bosch GmbH\\\\Documents\\\\WORK\\\\PROJECTS\\\\PoCs\\\\Machine Sound Monitoring\\\\DATA\\\\DCASE2020\\\\pump_basedir\\\\dev_data\\\\pump\\\\test\\\\anomaly_id_04_00000076.wav',\n",
       " 'C:\\\\Users\\\\DMT2KOR\\\\OneDrive - Robert Bosch GmbH\\\\Documents\\\\WORK\\\\PROJECTS\\\\PoCs\\\\Machine Sound Monitoring\\\\DATA\\\\DCASE2020\\\\pump_basedir\\\\dev_data\\\\pump\\\\test\\\\anomaly_id_04_00000077.wav',\n",
       " 'C:\\\\Users\\\\DMT2KOR\\\\OneDrive - Robert Bosch GmbH\\\\Documents\\\\WORK\\\\PROJECTS\\\\PoCs\\\\Machine Sound Monitoring\\\\DATA\\\\DCASE2020\\\\pump_basedir\\\\dev_data\\\\pump\\\\test\\\\anomaly_id_04_00000078.wav',\n",
       " 'C:\\\\Users\\\\DMT2KOR\\\\OneDrive - Robert Bosch GmbH\\\\Documents\\\\WORK\\\\PROJECTS\\\\PoCs\\\\Machine Sound Monitoring\\\\DATA\\\\DCASE2020\\\\pump_basedir\\\\dev_data\\\\pump\\\\test\\\\anomaly_id_04_00000079.wav',\n",
       " 'C:\\\\Users\\\\DMT2KOR\\\\OneDrive - Robert Bosch GmbH\\\\Documents\\\\WORK\\\\PROJECTS\\\\PoCs\\\\Machine Sound Monitoring\\\\DATA\\\\DCASE2020\\\\pump_basedir\\\\dev_data\\\\pump\\\\test\\\\anomaly_id_04_00000080.wav',\n",
       " 'C:\\\\Users\\\\DMT2KOR\\\\OneDrive - Robert Bosch GmbH\\\\Documents\\\\WORK\\\\PROJECTS\\\\PoCs\\\\Machine Sound Monitoring\\\\DATA\\\\DCASE2020\\\\pump_basedir\\\\dev_data\\\\pump\\\\test\\\\anomaly_id_04_00000081.wav',\n",
       " 'C:\\\\Users\\\\DMT2KOR\\\\OneDrive - Robert Bosch GmbH\\\\Documents\\\\WORK\\\\PROJECTS\\\\PoCs\\\\Machine Sound Monitoring\\\\DATA\\\\DCASE2020\\\\pump_basedir\\\\dev_data\\\\pump\\\\test\\\\anomaly_id_04_00000082.wav',\n",
       " 'C:\\\\Users\\\\DMT2KOR\\\\OneDrive - Robert Bosch GmbH\\\\Documents\\\\WORK\\\\PROJECTS\\\\PoCs\\\\Machine Sound Monitoring\\\\DATA\\\\DCASE2020\\\\pump_basedir\\\\dev_data\\\\pump\\\\test\\\\anomaly_id_04_00000083.wav',\n",
       " 'C:\\\\Users\\\\DMT2KOR\\\\OneDrive - Robert Bosch GmbH\\\\Documents\\\\WORK\\\\PROJECTS\\\\PoCs\\\\Machine Sound Monitoring\\\\DATA\\\\DCASE2020\\\\pump_basedir\\\\dev_data\\\\pump\\\\test\\\\anomaly_id_04_00000084.wav',\n",
       " 'C:\\\\Users\\\\DMT2KOR\\\\OneDrive - Robert Bosch GmbH\\\\Documents\\\\WORK\\\\PROJECTS\\\\PoCs\\\\Machine Sound Monitoring\\\\DATA\\\\DCASE2020\\\\pump_basedir\\\\dev_data\\\\pump\\\\test\\\\anomaly_id_04_00000085.wav',\n",
       " 'C:\\\\Users\\\\DMT2KOR\\\\OneDrive - Robert Bosch GmbH\\\\Documents\\\\WORK\\\\PROJECTS\\\\PoCs\\\\Machine Sound Monitoring\\\\DATA\\\\DCASE2020\\\\pump_basedir\\\\dev_data\\\\pump\\\\test\\\\anomaly_id_04_00000086.wav',\n",
       " 'C:\\\\Users\\\\DMT2KOR\\\\OneDrive - Robert Bosch GmbH\\\\Documents\\\\WORK\\\\PROJECTS\\\\PoCs\\\\Machine Sound Monitoring\\\\DATA\\\\DCASE2020\\\\pump_basedir\\\\dev_data\\\\pump\\\\test\\\\anomaly_id_04_00000087.wav',\n",
       " 'C:\\\\Users\\\\DMT2KOR\\\\OneDrive - Robert Bosch GmbH\\\\Documents\\\\WORK\\\\PROJECTS\\\\PoCs\\\\Machine Sound Monitoring\\\\DATA\\\\DCASE2020\\\\pump_basedir\\\\dev_data\\\\pump\\\\test\\\\anomaly_id_04_00000088.wav',\n",
       " 'C:\\\\Users\\\\DMT2KOR\\\\OneDrive - Robert Bosch GmbH\\\\Documents\\\\WORK\\\\PROJECTS\\\\PoCs\\\\Machine Sound Monitoring\\\\DATA\\\\DCASE2020\\\\pump_basedir\\\\dev_data\\\\pump\\\\test\\\\anomaly_id_04_00000089.wav',\n",
       " 'C:\\\\Users\\\\DMT2KOR\\\\OneDrive - Robert Bosch GmbH\\\\Documents\\\\WORK\\\\PROJECTS\\\\PoCs\\\\Machine Sound Monitoring\\\\DATA\\\\DCASE2020\\\\pump_basedir\\\\dev_data\\\\pump\\\\test\\\\anomaly_id_04_00000090.wav',\n",
       " 'C:\\\\Users\\\\DMT2KOR\\\\OneDrive - Robert Bosch GmbH\\\\Documents\\\\WORK\\\\PROJECTS\\\\PoCs\\\\Machine Sound Monitoring\\\\DATA\\\\DCASE2020\\\\pump_basedir\\\\dev_data\\\\pump\\\\test\\\\anomaly_id_04_00000091.wav',\n",
       " 'C:\\\\Users\\\\DMT2KOR\\\\OneDrive - Robert Bosch GmbH\\\\Documents\\\\WORK\\\\PROJECTS\\\\PoCs\\\\Machine Sound Monitoring\\\\DATA\\\\DCASE2020\\\\pump_basedir\\\\dev_data\\\\pump\\\\test\\\\anomaly_id_04_00000092.wav',\n",
       " 'C:\\\\Users\\\\DMT2KOR\\\\OneDrive - Robert Bosch GmbH\\\\Documents\\\\WORK\\\\PROJECTS\\\\PoCs\\\\Machine Sound Monitoring\\\\DATA\\\\DCASE2020\\\\pump_basedir\\\\dev_data\\\\pump\\\\test\\\\anomaly_id_04_00000093.wav',\n",
       " 'C:\\\\Users\\\\DMT2KOR\\\\OneDrive - Robert Bosch GmbH\\\\Documents\\\\WORK\\\\PROJECTS\\\\PoCs\\\\Machine Sound Monitoring\\\\DATA\\\\DCASE2020\\\\pump_basedir\\\\dev_data\\\\pump\\\\test\\\\anomaly_id_04_00000094.wav',\n",
       " 'C:\\\\Users\\\\DMT2KOR\\\\OneDrive - Robert Bosch GmbH\\\\Documents\\\\WORK\\\\PROJECTS\\\\PoCs\\\\Machine Sound Monitoring\\\\DATA\\\\DCASE2020\\\\pump_basedir\\\\dev_data\\\\pump\\\\test\\\\anomaly_id_04_00000095.wav',\n",
       " 'C:\\\\Users\\\\DMT2KOR\\\\OneDrive - Robert Bosch GmbH\\\\Documents\\\\WORK\\\\PROJECTS\\\\PoCs\\\\Machine Sound Monitoring\\\\DATA\\\\DCASE2020\\\\pump_basedir\\\\dev_data\\\\pump\\\\test\\\\anomaly_id_04_00000096.wav',\n",
       " 'C:\\\\Users\\\\DMT2KOR\\\\OneDrive - Robert Bosch GmbH\\\\Documents\\\\WORK\\\\PROJECTS\\\\PoCs\\\\Machine Sound Monitoring\\\\DATA\\\\DCASE2020\\\\pump_basedir\\\\dev_data\\\\pump\\\\test\\\\anomaly_id_04_00000097.wav',\n",
       " 'C:\\\\Users\\\\DMT2KOR\\\\OneDrive - Robert Bosch GmbH\\\\Documents\\\\WORK\\\\PROJECTS\\\\PoCs\\\\Machine Sound Monitoring\\\\DATA\\\\DCASE2020\\\\pump_basedir\\\\dev_data\\\\pump\\\\test\\\\anomaly_id_04_00000098.wav',\n",
       " 'C:\\\\Users\\\\DMT2KOR\\\\OneDrive - Robert Bosch GmbH\\\\Documents\\\\WORK\\\\PROJECTS\\\\PoCs\\\\Machine Sound Monitoring\\\\DATA\\\\DCASE2020\\\\pump_basedir\\\\dev_data\\\\pump\\\\test\\\\anomaly_id_04_00000099.wav',\n",
       " 'C:\\\\Users\\\\DMT2KOR\\\\OneDrive - Robert Bosch GmbH\\\\Documents\\\\WORK\\\\PROJECTS\\\\PoCs\\\\Machine Sound Monitoring\\\\DATA\\\\DCASE2020\\\\pump_basedir\\\\dev_data\\\\pump\\\\test\\\\anomaly_id_06_00000000.wav',\n",
       " 'C:\\\\Users\\\\DMT2KOR\\\\OneDrive - Robert Bosch GmbH\\\\Documents\\\\WORK\\\\PROJECTS\\\\PoCs\\\\Machine Sound Monitoring\\\\DATA\\\\DCASE2020\\\\pump_basedir\\\\dev_data\\\\pump\\\\test\\\\anomaly_id_06_00000001.wav',\n",
       " 'C:\\\\Users\\\\DMT2KOR\\\\OneDrive - Robert Bosch GmbH\\\\Documents\\\\WORK\\\\PROJECTS\\\\PoCs\\\\Machine Sound Monitoring\\\\DATA\\\\DCASE2020\\\\pump_basedir\\\\dev_data\\\\pump\\\\test\\\\anomaly_id_06_00000002.wav',\n",
       " 'C:\\\\Users\\\\DMT2KOR\\\\OneDrive - Robert Bosch GmbH\\\\Documents\\\\WORK\\\\PROJECTS\\\\PoCs\\\\Machine Sound Monitoring\\\\DATA\\\\DCASE2020\\\\pump_basedir\\\\dev_data\\\\pump\\\\test\\\\anomaly_id_06_00000003.wav',\n",
       " 'C:\\\\Users\\\\DMT2KOR\\\\OneDrive - Robert Bosch GmbH\\\\Documents\\\\WORK\\\\PROJECTS\\\\PoCs\\\\Machine Sound Monitoring\\\\DATA\\\\DCASE2020\\\\pump_basedir\\\\dev_data\\\\pump\\\\test\\\\anomaly_id_06_00000004.wav',\n",
       " 'C:\\\\Users\\\\DMT2KOR\\\\OneDrive - Robert Bosch GmbH\\\\Documents\\\\WORK\\\\PROJECTS\\\\PoCs\\\\Machine Sound Monitoring\\\\DATA\\\\DCASE2020\\\\pump_basedir\\\\dev_data\\\\pump\\\\test\\\\anomaly_id_06_00000005.wav',\n",
       " 'C:\\\\Users\\\\DMT2KOR\\\\OneDrive - Robert Bosch GmbH\\\\Documents\\\\WORK\\\\PROJECTS\\\\PoCs\\\\Machine Sound Monitoring\\\\DATA\\\\DCASE2020\\\\pump_basedir\\\\dev_data\\\\pump\\\\test\\\\anomaly_id_06_00000006.wav',\n",
       " 'C:\\\\Users\\\\DMT2KOR\\\\OneDrive - Robert Bosch GmbH\\\\Documents\\\\WORK\\\\PROJECTS\\\\PoCs\\\\Machine Sound Monitoring\\\\DATA\\\\DCASE2020\\\\pump_basedir\\\\dev_data\\\\pump\\\\test\\\\anomaly_id_06_00000007.wav',\n",
       " 'C:\\\\Users\\\\DMT2KOR\\\\OneDrive - Robert Bosch GmbH\\\\Documents\\\\WORK\\\\PROJECTS\\\\PoCs\\\\Machine Sound Monitoring\\\\DATA\\\\DCASE2020\\\\pump_basedir\\\\dev_data\\\\pump\\\\test\\\\anomaly_id_06_00000008.wav',\n",
       " 'C:\\\\Users\\\\DMT2KOR\\\\OneDrive - Robert Bosch GmbH\\\\Documents\\\\WORK\\\\PROJECTS\\\\PoCs\\\\Machine Sound Monitoring\\\\DATA\\\\DCASE2020\\\\pump_basedir\\\\dev_data\\\\pump\\\\test\\\\anomaly_id_06_00000009.wav',\n",
       " 'C:\\\\Users\\\\DMT2KOR\\\\OneDrive - Robert Bosch GmbH\\\\Documents\\\\WORK\\\\PROJECTS\\\\PoCs\\\\Machine Sound Monitoring\\\\DATA\\\\DCASE2020\\\\pump_basedir\\\\dev_data\\\\pump\\\\test\\\\anomaly_id_06_00000010.wav',\n",
       " 'C:\\\\Users\\\\DMT2KOR\\\\OneDrive - Robert Bosch GmbH\\\\Documents\\\\WORK\\\\PROJECTS\\\\PoCs\\\\Machine Sound Monitoring\\\\DATA\\\\DCASE2020\\\\pump_basedir\\\\dev_data\\\\pump\\\\test\\\\anomaly_id_06_00000011.wav',\n",
       " 'C:\\\\Users\\\\DMT2KOR\\\\OneDrive - Robert Bosch GmbH\\\\Documents\\\\WORK\\\\PROJECTS\\\\PoCs\\\\Machine Sound Monitoring\\\\DATA\\\\DCASE2020\\\\pump_basedir\\\\dev_data\\\\pump\\\\test\\\\anomaly_id_06_00000012.wav',\n",
       " 'C:\\\\Users\\\\DMT2KOR\\\\OneDrive - Robert Bosch GmbH\\\\Documents\\\\WORK\\\\PROJECTS\\\\PoCs\\\\Machine Sound Monitoring\\\\DATA\\\\DCASE2020\\\\pump_basedir\\\\dev_data\\\\pump\\\\test\\\\anomaly_id_06_00000013.wav',\n",
       " 'C:\\\\Users\\\\DMT2KOR\\\\OneDrive - Robert Bosch GmbH\\\\Documents\\\\WORK\\\\PROJECTS\\\\PoCs\\\\Machine Sound Monitoring\\\\DATA\\\\DCASE2020\\\\pump_basedir\\\\dev_data\\\\pump\\\\test\\\\anomaly_id_06_00000014.wav',\n",
       " 'C:\\\\Users\\\\DMT2KOR\\\\OneDrive - Robert Bosch GmbH\\\\Documents\\\\WORK\\\\PROJECTS\\\\PoCs\\\\Machine Sound Monitoring\\\\DATA\\\\DCASE2020\\\\pump_basedir\\\\dev_data\\\\pump\\\\test\\\\anomaly_id_06_00000015.wav',\n",
       " 'C:\\\\Users\\\\DMT2KOR\\\\OneDrive - Robert Bosch GmbH\\\\Documents\\\\WORK\\\\PROJECTS\\\\PoCs\\\\Machine Sound Monitoring\\\\DATA\\\\DCASE2020\\\\pump_basedir\\\\dev_data\\\\pump\\\\test\\\\anomaly_id_06_00000016.wav',\n",
       " 'C:\\\\Users\\\\DMT2KOR\\\\OneDrive - Robert Bosch GmbH\\\\Documents\\\\WORK\\\\PROJECTS\\\\PoCs\\\\Machine Sound Monitoring\\\\DATA\\\\DCASE2020\\\\pump_basedir\\\\dev_data\\\\pump\\\\test\\\\anomaly_id_06_00000017.wav',\n",
       " 'C:\\\\Users\\\\DMT2KOR\\\\OneDrive - Robert Bosch GmbH\\\\Documents\\\\WORK\\\\PROJECTS\\\\PoCs\\\\Machine Sound Monitoring\\\\DATA\\\\DCASE2020\\\\pump_basedir\\\\dev_data\\\\pump\\\\test\\\\anomaly_id_06_00000018.wav',\n",
       " 'C:\\\\Users\\\\DMT2KOR\\\\OneDrive - Robert Bosch GmbH\\\\Documents\\\\WORK\\\\PROJECTS\\\\PoCs\\\\Machine Sound Monitoring\\\\DATA\\\\DCASE2020\\\\pump_basedir\\\\dev_data\\\\pump\\\\test\\\\anomaly_id_06_00000019.wav',\n",
       " 'C:\\\\Users\\\\DMT2KOR\\\\OneDrive - Robert Bosch GmbH\\\\Documents\\\\WORK\\\\PROJECTS\\\\PoCs\\\\Machine Sound Monitoring\\\\DATA\\\\DCASE2020\\\\pump_basedir\\\\dev_data\\\\pump\\\\test\\\\anomaly_id_06_00000020.wav',\n",
       " 'C:\\\\Users\\\\DMT2KOR\\\\OneDrive - Robert Bosch GmbH\\\\Documents\\\\WORK\\\\PROJECTS\\\\PoCs\\\\Machine Sound Monitoring\\\\DATA\\\\DCASE2020\\\\pump_basedir\\\\dev_data\\\\pump\\\\test\\\\anomaly_id_06_00000021.wav',\n",
       " 'C:\\\\Users\\\\DMT2KOR\\\\OneDrive - Robert Bosch GmbH\\\\Documents\\\\WORK\\\\PROJECTS\\\\PoCs\\\\Machine Sound Monitoring\\\\DATA\\\\DCASE2020\\\\pump_basedir\\\\dev_data\\\\pump\\\\test\\\\anomaly_id_06_00000022.wav',\n",
       " 'C:\\\\Users\\\\DMT2KOR\\\\OneDrive - Robert Bosch GmbH\\\\Documents\\\\WORK\\\\PROJECTS\\\\PoCs\\\\Machine Sound Monitoring\\\\DATA\\\\DCASE2020\\\\pump_basedir\\\\dev_data\\\\pump\\\\test\\\\anomaly_id_06_00000023.wav',\n",
       " 'C:\\\\Users\\\\DMT2KOR\\\\OneDrive - Robert Bosch GmbH\\\\Documents\\\\WORK\\\\PROJECTS\\\\PoCs\\\\Machine Sound Monitoring\\\\DATA\\\\DCASE2020\\\\pump_basedir\\\\dev_data\\\\pump\\\\test\\\\anomaly_id_06_00000024.wav',\n",
       " 'C:\\\\Users\\\\DMT2KOR\\\\OneDrive - Robert Bosch GmbH\\\\Documents\\\\WORK\\\\PROJECTS\\\\PoCs\\\\Machine Sound Monitoring\\\\DATA\\\\DCASE2020\\\\pump_basedir\\\\dev_data\\\\pump\\\\test\\\\anomaly_id_06_00000025.wav',\n",
       " 'C:\\\\Users\\\\DMT2KOR\\\\OneDrive - Robert Bosch GmbH\\\\Documents\\\\WORK\\\\PROJECTS\\\\PoCs\\\\Machine Sound Monitoring\\\\DATA\\\\DCASE2020\\\\pump_basedir\\\\dev_data\\\\pump\\\\test\\\\anomaly_id_06_00000026.wav',\n",
       " 'C:\\\\Users\\\\DMT2KOR\\\\OneDrive - Robert Bosch GmbH\\\\Documents\\\\WORK\\\\PROJECTS\\\\PoCs\\\\Machine Sound Monitoring\\\\DATA\\\\DCASE2020\\\\pump_basedir\\\\dev_data\\\\pump\\\\test\\\\anomaly_id_06_00000027.wav',\n",
       " 'C:\\\\Users\\\\DMT2KOR\\\\OneDrive - Robert Bosch GmbH\\\\Documents\\\\WORK\\\\PROJECTS\\\\PoCs\\\\Machine Sound Monitoring\\\\DATA\\\\DCASE2020\\\\pump_basedir\\\\dev_data\\\\pump\\\\test\\\\anomaly_id_06_00000028.wav',\n",
       " 'C:\\\\Users\\\\DMT2KOR\\\\OneDrive - Robert Bosch GmbH\\\\Documents\\\\WORK\\\\PROJECTS\\\\PoCs\\\\Machine Sound Monitoring\\\\DATA\\\\DCASE2020\\\\pump_basedir\\\\dev_data\\\\pump\\\\test\\\\anomaly_id_06_00000029.wav',\n",
       " 'C:\\\\Users\\\\DMT2KOR\\\\OneDrive - Robert Bosch GmbH\\\\Documents\\\\WORK\\\\PROJECTS\\\\PoCs\\\\Machine Sound Monitoring\\\\DATA\\\\DCASE2020\\\\pump_basedir\\\\dev_data\\\\pump\\\\test\\\\anomaly_id_06_00000030.wav',\n",
       " 'C:\\\\Users\\\\DMT2KOR\\\\OneDrive - Robert Bosch GmbH\\\\Documents\\\\WORK\\\\PROJECTS\\\\PoCs\\\\Machine Sound Monitoring\\\\DATA\\\\DCASE2020\\\\pump_basedir\\\\dev_data\\\\pump\\\\test\\\\anomaly_id_06_00000031.wav',\n",
       " 'C:\\\\Users\\\\DMT2KOR\\\\OneDrive - Robert Bosch GmbH\\\\Documents\\\\WORK\\\\PROJECTS\\\\PoCs\\\\Machine Sound Monitoring\\\\DATA\\\\DCASE2020\\\\pump_basedir\\\\dev_data\\\\pump\\\\test\\\\anomaly_id_06_00000032.wav',\n",
       " 'C:\\\\Users\\\\DMT2KOR\\\\OneDrive - Robert Bosch GmbH\\\\Documents\\\\WORK\\\\PROJECTS\\\\PoCs\\\\Machine Sound Monitoring\\\\DATA\\\\DCASE2020\\\\pump_basedir\\\\dev_data\\\\pump\\\\test\\\\anomaly_id_06_00000033.wav',\n",
       " 'C:\\\\Users\\\\DMT2KOR\\\\OneDrive - Robert Bosch GmbH\\\\Documents\\\\WORK\\\\PROJECTS\\\\PoCs\\\\Machine Sound Monitoring\\\\DATA\\\\DCASE2020\\\\pump_basedir\\\\dev_data\\\\pump\\\\test\\\\anomaly_id_06_00000034.wav',\n",
       " 'C:\\\\Users\\\\DMT2KOR\\\\OneDrive - Robert Bosch GmbH\\\\Documents\\\\WORK\\\\PROJECTS\\\\PoCs\\\\Machine Sound Monitoring\\\\DATA\\\\DCASE2020\\\\pump_basedir\\\\dev_data\\\\pump\\\\test\\\\anomaly_id_06_00000035.wav',\n",
       " 'C:\\\\Users\\\\DMT2KOR\\\\OneDrive - Robert Bosch GmbH\\\\Documents\\\\WORK\\\\PROJECTS\\\\PoCs\\\\Machine Sound Monitoring\\\\DATA\\\\DCASE2020\\\\pump_basedir\\\\dev_data\\\\pump\\\\test\\\\anomaly_id_06_00000036.wav',\n",
       " 'C:\\\\Users\\\\DMT2KOR\\\\OneDrive - Robert Bosch GmbH\\\\Documents\\\\WORK\\\\PROJECTS\\\\PoCs\\\\Machine Sound Monitoring\\\\DATA\\\\DCASE2020\\\\pump_basedir\\\\dev_data\\\\pump\\\\test\\\\anomaly_id_06_00000037.wav',\n",
       " 'C:\\\\Users\\\\DMT2KOR\\\\OneDrive - Robert Bosch GmbH\\\\Documents\\\\WORK\\\\PROJECTS\\\\PoCs\\\\Machine Sound Monitoring\\\\DATA\\\\DCASE2020\\\\pump_basedir\\\\dev_data\\\\pump\\\\test\\\\anomaly_id_06_00000038.wav',\n",
       " 'C:\\\\Users\\\\DMT2KOR\\\\OneDrive - Robert Bosch GmbH\\\\Documents\\\\WORK\\\\PROJECTS\\\\PoCs\\\\Machine Sound Monitoring\\\\DATA\\\\DCASE2020\\\\pump_basedir\\\\dev_data\\\\pump\\\\test\\\\anomaly_id_06_00000039.wav',\n",
       " 'C:\\\\Users\\\\DMT2KOR\\\\OneDrive - Robert Bosch GmbH\\\\Documents\\\\WORK\\\\PROJECTS\\\\PoCs\\\\Machine Sound Monitoring\\\\DATA\\\\DCASE2020\\\\pump_basedir\\\\dev_data\\\\pump\\\\test\\\\anomaly_id_06_00000040.wav',\n",
       " 'C:\\\\Users\\\\DMT2KOR\\\\OneDrive - Robert Bosch GmbH\\\\Documents\\\\WORK\\\\PROJECTS\\\\PoCs\\\\Machine Sound Monitoring\\\\DATA\\\\DCASE2020\\\\pump_basedir\\\\dev_data\\\\pump\\\\test\\\\anomaly_id_06_00000041.wav',\n",
       " 'C:\\\\Users\\\\DMT2KOR\\\\OneDrive - Robert Bosch GmbH\\\\Documents\\\\WORK\\\\PROJECTS\\\\PoCs\\\\Machine Sound Monitoring\\\\DATA\\\\DCASE2020\\\\pump_basedir\\\\dev_data\\\\pump\\\\test\\\\anomaly_id_06_00000042.wav',\n",
       " 'C:\\\\Users\\\\DMT2KOR\\\\OneDrive - Robert Bosch GmbH\\\\Documents\\\\WORK\\\\PROJECTS\\\\PoCs\\\\Machine Sound Monitoring\\\\DATA\\\\DCASE2020\\\\pump_basedir\\\\dev_data\\\\pump\\\\test\\\\anomaly_id_06_00000043.wav',\n",
       " 'C:\\\\Users\\\\DMT2KOR\\\\OneDrive - Robert Bosch GmbH\\\\Documents\\\\WORK\\\\PROJECTS\\\\PoCs\\\\Machine Sound Monitoring\\\\DATA\\\\DCASE2020\\\\pump_basedir\\\\dev_data\\\\pump\\\\test\\\\anomaly_id_06_00000044.wav',\n",
       " 'C:\\\\Users\\\\DMT2KOR\\\\OneDrive - Robert Bosch GmbH\\\\Documents\\\\WORK\\\\PROJECTS\\\\PoCs\\\\Machine Sound Monitoring\\\\DATA\\\\DCASE2020\\\\pump_basedir\\\\dev_data\\\\pump\\\\test\\\\anomaly_id_06_00000045.wav',\n",
       " 'C:\\\\Users\\\\DMT2KOR\\\\OneDrive - Robert Bosch GmbH\\\\Documents\\\\WORK\\\\PROJECTS\\\\PoCs\\\\Machine Sound Monitoring\\\\DATA\\\\DCASE2020\\\\pump_basedir\\\\dev_data\\\\pump\\\\test\\\\anomaly_id_06_00000046.wav',\n",
       " 'C:\\\\Users\\\\DMT2KOR\\\\OneDrive - Robert Bosch GmbH\\\\Documents\\\\WORK\\\\PROJECTS\\\\PoCs\\\\Machine Sound Monitoring\\\\DATA\\\\DCASE2020\\\\pump_basedir\\\\dev_data\\\\pump\\\\test\\\\anomaly_id_06_00000047.wav',\n",
       " 'C:\\\\Users\\\\DMT2KOR\\\\OneDrive - Robert Bosch GmbH\\\\Documents\\\\WORK\\\\PROJECTS\\\\PoCs\\\\Machine Sound Monitoring\\\\DATA\\\\DCASE2020\\\\pump_basedir\\\\dev_data\\\\pump\\\\test\\\\anomaly_id_06_00000048.wav',\n",
       " 'C:\\\\Users\\\\DMT2KOR\\\\OneDrive - Robert Bosch GmbH\\\\Documents\\\\WORK\\\\PROJECTS\\\\PoCs\\\\Machine Sound Monitoring\\\\DATA\\\\DCASE2020\\\\pump_basedir\\\\dev_data\\\\pump\\\\test\\\\anomaly_id_06_00000049.wav',\n",
       " 'C:\\\\Users\\\\DMT2KOR\\\\OneDrive - Robert Bosch GmbH\\\\Documents\\\\WORK\\\\PROJECTS\\\\PoCs\\\\Machine Sound Monitoring\\\\DATA\\\\DCASE2020\\\\pump_basedir\\\\dev_data\\\\pump\\\\test\\\\anomaly_id_06_00000050.wav',\n",
       " 'C:\\\\Users\\\\DMT2KOR\\\\OneDrive - Robert Bosch GmbH\\\\Documents\\\\WORK\\\\PROJECTS\\\\PoCs\\\\Machine Sound Monitoring\\\\DATA\\\\DCASE2020\\\\pump_basedir\\\\dev_data\\\\pump\\\\test\\\\anomaly_id_06_00000051.wav',\n",
       " 'C:\\\\Users\\\\DMT2KOR\\\\OneDrive - Robert Bosch GmbH\\\\Documents\\\\WORK\\\\PROJECTS\\\\PoCs\\\\Machine Sound Monitoring\\\\DATA\\\\DCASE2020\\\\pump_basedir\\\\dev_data\\\\pump\\\\test\\\\anomaly_id_06_00000052.wav',\n",
       " 'C:\\\\Users\\\\DMT2KOR\\\\OneDrive - Robert Bosch GmbH\\\\Documents\\\\WORK\\\\PROJECTS\\\\PoCs\\\\Machine Sound Monitoring\\\\DATA\\\\DCASE2020\\\\pump_basedir\\\\dev_data\\\\pump\\\\test\\\\anomaly_id_06_00000053.wav',\n",
       " 'C:\\\\Users\\\\DMT2KOR\\\\OneDrive - Robert Bosch GmbH\\\\Documents\\\\WORK\\\\PROJECTS\\\\PoCs\\\\Machine Sound Monitoring\\\\DATA\\\\DCASE2020\\\\pump_basedir\\\\dev_data\\\\pump\\\\test\\\\anomaly_id_06_00000054.wav',\n",
       " 'C:\\\\Users\\\\DMT2KOR\\\\OneDrive - Robert Bosch GmbH\\\\Documents\\\\WORK\\\\PROJECTS\\\\PoCs\\\\Machine Sound Monitoring\\\\DATA\\\\DCASE2020\\\\pump_basedir\\\\dev_data\\\\pump\\\\test\\\\anomaly_id_06_00000055.wav',\n",
       " 'C:\\\\Users\\\\DMT2KOR\\\\OneDrive - Robert Bosch GmbH\\\\Documents\\\\WORK\\\\PROJECTS\\\\PoCs\\\\Machine Sound Monitoring\\\\DATA\\\\DCASE2020\\\\pump_basedir\\\\dev_data\\\\pump\\\\test\\\\anomaly_id_06_00000056.wav',\n",
       " 'C:\\\\Users\\\\DMT2KOR\\\\OneDrive - Robert Bosch GmbH\\\\Documents\\\\WORK\\\\PROJECTS\\\\PoCs\\\\Machine Sound Monitoring\\\\DATA\\\\DCASE2020\\\\pump_basedir\\\\dev_data\\\\pump\\\\test\\\\anomaly_id_06_00000057.wav',\n",
       " 'C:\\\\Users\\\\DMT2KOR\\\\OneDrive - Robert Bosch GmbH\\\\Documents\\\\WORK\\\\PROJECTS\\\\PoCs\\\\Machine Sound Monitoring\\\\DATA\\\\DCASE2020\\\\pump_basedir\\\\dev_data\\\\pump\\\\test\\\\anomaly_id_06_00000058.wav',\n",
       " 'C:\\\\Users\\\\DMT2KOR\\\\OneDrive - Robert Bosch GmbH\\\\Documents\\\\WORK\\\\PROJECTS\\\\PoCs\\\\Machine Sound Monitoring\\\\DATA\\\\DCASE2020\\\\pump_basedir\\\\dev_data\\\\pump\\\\test\\\\anomaly_id_06_00000059.wav',\n",
       " 'C:\\\\Users\\\\DMT2KOR\\\\OneDrive - Robert Bosch GmbH\\\\Documents\\\\WORK\\\\PROJECTS\\\\PoCs\\\\Machine Sound Monitoring\\\\DATA\\\\DCASE2020\\\\pump_basedir\\\\dev_data\\\\pump\\\\test\\\\anomaly_id_06_00000060.wav',\n",
       " 'C:\\\\Users\\\\DMT2KOR\\\\OneDrive - Robert Bosch GmbH\\\\Documents\\\\WORK\\\\PROJECTS\\\\PoCs\\\\Machine Sound Monitoring\\\\DATA\\\\DCASE2020\\\\pump_basedir\\\\dev_data\\\\pump\\\\test\\\\anomaly_id_06_00000061.wav',\n",
       " 'C:\\\\Users\\\\DMT2KOR\\\\OneDrive - Robert Bosch GmbH\\\\Documents\\\\WORK\\\\PROJECTS\\\\PoCs\\\\Machine Sound Monitoring\\\\DATA\\\\DCASE2020\\\\pump_basedir\\\\dev_data\\\\pump\\\\test\\\\anomaly_id_06_00000062.wav',\n",
       " 'C:\\\\Users\\\\DMT2KOR\\\\OneDrive - Robert Bosch GmbH\\\\Documents\\\\WORK\\\\PROJECTS\\\\PoCs\\\\Machine Sound Monitoring\\\\DATA\\\\DCASE2020\\\\pump_basedir\\\\dev_data\\\\pump\\\\test\\\\anomaly_id_06_00000063.wav',\n",
       " 'C:\\\\Users\\\\DMT2KOR\\\\OneDrive - Robert Bosch GmbH\\\\Documents\\\\WORK\\\\PROJECTS\\\\PoCs\\\\Machine Sound Monitoring\\\\DATA\\\\DCASE2020\\\\pump_basedir\\\\dev_data\\\\pump\\\\test\\\\anomaly_id_06_00000064.wav',\n",
       " 'C:\\\\Users\\\\DMT2KOR\\\\OneDrive - Robert Bosch GmbH\\\\Documents\\\\WORK\\\\PROJECTS\\\\PoCs\\\\Machine Sound Monitoring\\\\DATA\\\\DCASE2020\\\\pump_basedir\\\\dev_data\\\\pump\\\\test\\\\anomaly_id_06_00000065.wav',\n",
       " 'C:\\\\Users\\\\DMT2KOR\\\\OneDrive - Robert Bosch GmbH\\\\Documents\\\\WORK\\\\PROJECTS\\\\PoCs\\\\Machine Sound Monitoring\\\\DATA\\\\DCASE2020\\\\pump_basedir\\\\dev_data\\\\pump\\\\test\\\\anomaly_id_06_00000066.wav',\n",
       " 'C:\\\\Users\\\\DMT2KOR\\\\OneDrive - Robert Bosch GmbH\\\\Documents\\\\WORK\\\\PROJECTS\\\\PoCs\\\\Machine Sound Monitoring\\\\DATA\\\\DCASE2020\\\\pump_basedir\\\\dev_data\\\\pump\\\\test\\\\anomaly_id_06_00000067.wav',\n",
       " 'C:\\\\Users\\\\DMT2KOR\\\\OneDrive - Robert Bosch GmbH\\\\Documents\\\\WORK\\\\PROJECTS\\\\PoCs\\\\Machine Sound Monitoring\\\\DATA\\\\DCASE2020\\\\pump_basedir\\\\dev_data\\\\pump\\\\test\\\\anomaly_id_06_00000068.wav',\n",
       " 'C:\\\\Users\\\\DMT2KOR\\\\OneDrive - Robert Bosch GmbH\\\\Documents\\\\WORK\\\\PROJECTS\\\\PoCs\\\\Machine Sound Monitoring\\\\DATA\\\\DCASE2020\\\\pump_basedir\\\\dev_data\\\\pump\\\\test\\\\anomaly_id_06_00000069.wav',\n",
       " 'C:\\\\Users\\\\DMT2KOR\\\\OneDrive - Robert Bosch GmbH\\\\Documents\\\\WORK\\\\PROJECTS\\\\PoCs\\\\Machine Sound Monitoring\\\\DATA\\\\DCASE2020\\\\pump_basedir\\\\dev_data\\\\pump\\\\test\\\\anomaly_id_06_00000070.wav',\n",
       " 'C:\\\\Users\\\\DMT2KOR\\\\OneDrive - Robert Bosch GmbH\\\\Documents\\\\WORK\\\\PROJECTS\\\\PoCs\\\\Machine Sound Monitoring\\\\DATA\\\\DCASE2020\\\\pump_basedir\\\\dev_data\\\\pump\\\\test\\\\anomaly_id_06_00000071.wav',\n",
       " 'C:\\\\Users\\\\DMT2KOR\\\\OneDrive - Robert Bosch GmbH\\\\Documents\\\\WORK\\\\PROJECTS\\\\PoCs\\\\Machine Sound Monitoring\\\\DATA\\\\DCASE2020\\\\pump_basedir\\\\dev_data\\\\pump\\\\test\\\\anomaly_id_06_00000072.wav',\n",
       " 'C:\\\\Users\\\\DMT2KOR\\\\OneDrive - Robert Bosch GmbH\\\\Documents\\\\WORK\\\\PROJECTS\\\\PoCs\\\\Machine Sound Monitoring\\\\DATA\\\\DCASE2020\\\\pump_basedir\\\\dev_data\\\\pump\\\\test\\\\anomaly_id_06_00000073.wav',\n",
       " 'C:\\\\Users\\\\DMT2KOR\\\\OneDrive - Robert Bosch GmbH\\\\Documents\\\\WORK\\\\PROJECTS\\\\PoCs\\\\Machine Sound Monitoring\\\\DATA\\\\DCASE2020\\\\pump_basedir\\\\dev_data\\\\pump\\\\test\\\\anomaly_id_06_00000074.wav',\n",
       " 'C:\\\\Users\\\\DMT2KOR\\\\OneDrive - Robert Bosch GmbH\\\\Documents\\\\WORK\\\\PROJECTS\\\\PoCs\\\\Machine Sound Monitoring\\\\DATA\\\\DCASE2020\\\\pump_basedir\\\\dev_data\\\\pump\\\\test\\\\anomaly_id_06_00000075.wav',\n",
       " 'C:\\\\Users\\\\DMT2KOR\\\\OneDrive - Robert Bosch GmbH\\\\Documents\\\\WORK\\\\PROJECTS\\\\PoCs\\\\Machine Sound Monitoring\\\\DATA\\\\DCASE2020\\\\pump_basedir\\\\dev_data\\\\pump\\\\test\\\\anomaly_id_06_00000076.wav',\n",
       " 'C:\\\\Users\\\\DMT2KOR\\\\OneDrive - Robert Bosch GmbH\\\\Documents\\\\WORK\\\\PROJECTS\\\\PoCs\\\\Machine Sound Monitoring\\\\DATA\\\\DCASE2020\\\\pump_basedir\\\\dev_data\\\\pump\\\\test\\\\anomaly_id_06_00000077.wav',\n",
       " 'C:\\\\Users\\\\DMT2KOR\\\\OneDrive - Robert Bosch GmbH\\\\Documents\\\\WORK\\\\PROJECTS\\\\PoCs\\\\Machine Sound Monitoring\\\\DATA\\\\DCASE2020\\\\pump_basedir\\\\dev_data\\\\pump\\\\test\\\\anomaly_id_06_00000078.wav',\n",
       " 'C:\\\\Users\\\\DMT2KOR\\\\OneDrive - Robert Bosch GmbH\\\\Documents\\\\WORK\\\\PROJECTS\\\\PoCs\\\\Machine Sound Monitoring\\\\DATA\\\\DCASE2020\\\\pump_basedir\\\\dev_data\\\\pump\\\\test\\\\anomaly_id_06_00000079.wav',\n",
       " 'C:\\\\Users\\\\DMT2KOR\\\\OneDrive - Robert Bosch GmbH\\\\Documents\\\\WORK\\\\PROJECTS\\\\PoCs\\\\Machine Sound Monitoring\\\\DATA\\\\DCASE2020\\\\pump_basedir\\\\dev_data\\\\pump\\\\test\\\\anomaly_id_06_00000080.wav',\n",
       " 'C:\\\\Users\\\\DMT2KOR\\\\OneDrive - Robert Bosch GmbH\\\\Documents\\\\WORK\\\\PROJECTS\\\\PoCs\\\\Machine Sound Monitoring\\\\DATA\\\\DCASE2020\\\\pump_basedir\\\\dev_data\\\\pump\\\\test\\\\anomaly_id_06_00000081.wav',\n",
       " 'C:\\\\Users\\\\DMT2KOR\\\\OneDrive - Robert Bosch GmbH\\\\Documents\\\\WORK\\\\PROJECTS\\\\PoCs\\\\Machine Sound Monitoring\\\\DATA\\\\DCASE2020\\\\pump_basedir\\\\dev_data\\\\pump\\\\test\\\\anomaly_id_06_00000082.wav',\n",
       " 'C:\\\\Users\\\\DMT2KOR\\\\OneDrive - Robert Bosch GmbH\\\\Documents\\\\WORK\\\\PROJECTS\\\\PoCs\\\\Machine Sound Monitoring\\\\DATA\\\\DCASE2020\\\\pump_basedir\\\\dev_data\\\\pump\\\\test\\\\anomaly_id_06_00000083.wav',\n",
       " 'C:\\\\Users\\\\DMT2KOR\\\\OneDrive - Robert Bosch GmbH\\\\Documents\\\\WORK\\\\PROJECTS\\\\PoCs\\\\Machine Sound Monitoring\\\\DATA\\\\DCASE2020\\\\pump_basedir\\\\dev_data\\\\pump\\\\test\\\\anomaly_id_06_00000084.wav',\n",
       " 'C:\\\\Users\\\\DMT2KOR\\\\OneDrive - Robert Bosch GmbH\\\\Documents\\\\WORK\\\\PROJECTS\\\\PoCs\\\\Machine Sound Monitoring\\\\DATA\\\\DCASE2020\\\\pump_basedir\\\\dev_data\\\\pump\\\\test\\\\anomaly_id_06_00000085.wav',\n",
       " 'C:\\\\Users\\\\DMT2KOR\\\\OneDrive - Robert Bosch GmbH\\\\Documents\\\\WORK\\\\PROJECTS\\\\PoCs\\\\Machine Sound Monitoring\\\\DATA\\\\DCASE2020\\\\pump_basedir\\\\dev_data\\\\pump\\\\test\\\\anomaly_id_06_00000086.wav',\n",
       " 'C:\\\\Users\\\\DMT2KOR\\\\OneDrive - Robert Bosch GmbH\\\\Documents\\\\WORK\\\\PROJECTS\\\\PoCs\\\\Machine Sound Monitoring\\\\DATA\\\\DCASE2020\\\\pump_basedir\\\\dev_data\\\\pump\\\\test\\\\anomaly_id_06_00000087.wav',\n",
       " 'C:\\\\Users\\\\DMT2KOR\\\\OneDrive - Robert Bosch GmbH\\\\Documents\\\\WORK\\\\PROJECTS\\\\PoCs\\\\Machine Sound Monitoring\\\\DATA\\\\DCASE2020\\\\pump_basedir\\\\dev_data\\\\pump\\\\test\\\\anomaly_id_06_00000088.wav',\n",
       " 'C:\\\\Users\\\\DMT2KOR\\\\OneDrive - Robert Bosch GmbH\\\\Documents\\\\WORK\\\\PROJECTS\\\\PoCs\\\\Machine Sound Monitoring\\\\DATA\\\\DCASE2020\\\\pump_basedir\\\\dev_data\\\\pump\\\\test\\\\anomaly_id_06_00000089.wav',\n",
       " 'C:\\\\Users\\\\DMT2KOR\\\\OneDrive - Robert Bosch GmbH\\\\Documents\\\\WORK\\\\PROJECTS\\\\PoCs\\\\Machine Sound Monitoring\\\\DATA\\\\DCASE2020\\\\pump_basedir\\\\dev_data\\\\pump\\\\test\\\\anomaly_id_06_00000090.wav',\n",
       " 'C:\\\\Users\\\\DMT2KOR\\\\OneDrive - Robert Bosch GmbH\\\\Documents\\\\WORK\\\\PROJECTS\\\\PoCs\\\\Machine Sound Monitoring\\\\DATA\\\\DCASE2020\\\\pump_basedir\\\\dev_data\\\\pump\\\\test\\\\anomaly_id_06_00000091.wav',\n",
       " 'C:\\\\Users\\\\DMT2KOR\\\\OneDrive - Robert Bosch GmbH\\\\Documents\\\\WORK\\\\PROJECTS\\\\PoCs\\\\Machine Sound Monitoring\\\\DATA\\\\DCASE2020\\\\pump_basedir\\\\dev_data\\\\pump\\\\test\\\\anomaly_id_06_00000092.wav',\n",
       " 'C:\\\\Users\\\\DMT2KOR\\\\OneDrive - Robert Bosch GmbH\\\\Documents\\\\WORK\\\\PROJECTS\\\\PoCs\\\\Machine Sound Monitoring\\\\DATA\\\\DCASE2020\\\\pump_basedir\\\\dev_data\\\\pump\\\\test\\\\anomaly_id_06_00000093.wav',\n",
       " 'C:\\\\Users\\\\DMT2KOR\\\\OneDrive - Robert Bosch GmbH\\\\Documents\\\\WORK\\\\PROJECTS\\\\PoCs\\\\Machine Sound Monitoring\\\\DATA\\\\DCASE2020\\\\pump_basedir\\\\dev_data\\\\pump\\\\test\\\\anomaly_id_06_00000094.wav',\n",
       " 'C:\\\\Users\\\\DMT2KOR\\\\OneDrive - Robert Bosch GmbH\\\\Documents\\\\WORK\\\\PROJECTS\\\\PoCs\\\\Machine Sound Monitoring\\\\DATA\\\\DCASE2020\\\\pump_basedir\\\\dev_data\\\\pump\\\\test\\\\anomaly_id_06_00000095.wav',\n",
       " 'C:\\\\Users\\\\DMT2KOR\\\\OneDrive - Robert Bosch GmbH\\\\Documents\\\\WORK\\\\PROJECTS\\\\PoCs\\\\Machine Sound Monitoring\\\\DATA\\\\DCASE2020\\\\pump_basedir\\\\dev_data\\\\pump\\\\test\\\\anomaly_id_06_00000096.wav',\n",
       " 'C:\\\\Users\\\\DMT2KOR\\\\OneDrive - Robert Bosch GmbH\\\\Documents\\\\WORK\\\\PROJECTS\\\\PoCs\\\\Machine Sound Monitoring\\\\DATA\\\\DCASE2020\\\\pump_basedir\\\\dev_data\\\\pump\\\\test\\\\anomaly_id_06_00000097.wav',\n",
       " 'C:\\\\Users\\\\DMT2KOR\\\\OneDrive - Robert Bosch GmbH\\\\Documents\\\\WORK\\\\PROJECTS\\\\PoCs\\\\Machine Sound Monitoring\\\\DATA\\\\DCASE2020\\\\pump_basedir\\\\dev_data\\\\pump\\\\test\\\\anomaly_id_06_00000098.wav',\n",
       " 'C:\\\\Users\\\\DMT2KOR\\\\OneDrive - Robert Bosch GmbH\\\\Documents\\\\WORK\\\\PROJECTS\\\\PoCs\\\\Machine Sound Monitoring\\\\DATA\\\\DCASE2020\\\\pump_basedir\\\\dev_data\\\\pump\\\\test\\\\anomaly_id_06_00000099.wav',\n",
       " 'C:\\\\Users\\\\DMT2KOR\\\\OneDrive - Robert Bosch GmbH\\\\Documents\\\\WORK\\\\PROJECTS\\\\PoCs\\\\Machine Sound Monitoring\\\\DATA\\\\DCASE2020\\\\pump_basedir\\\\dev_data\\\\pump\\\\test\\\\anomaly_id_06_00000100.wav',\n",
       " 'C:\\\\Users\\\\DMT2KOR\\\\OneDrive - Robert Bosch GmbH\\\\Documents\\\\WORK\\\\PROJECTS\\\\PoCs\\\\Machine Sound Monitoring\\\\DATA\\\\DCASE2020\\\\pump_basedir\\\\dev_data\\\\pump\\\\test\\\\anomaly_id_06_00000101.wav',\n",
       " 'C:\\\\Users\\\\DMT2KOR\\\\OneDrive - Robert Bosch GmbH\\\\Documents\\\\WORK\\\\PROJECTS\\\\PoCs\\\\Machine Sound Monitoring\\\\DATA\\\\DCASE2020\\\\pump_basedir\\\\dev_data\\\\pump\\\\test\\\\normal_id_00_00000000.wav',\n",
       " 'C:\\\\Users\\\\DMT2KOR\\\\OneDrive - Robert Bosch GmbH\\\\Documents\\\\WORK\\\\PROJECTS\\\\PoCs\\\\Machine Sound Monitoring\\\\DATA\\\\DCASE2020\\\\pump_basedir\\\\dev_data\\\\pump\\\\test\\\\normal_id_00_00000001.wav',\n",
       " 'C:\\\\Users\\\\DMT2KOR\\\\OneDrive - Robert Bosch GmbH\\\\Documents\\\\WORK\\\\PROJECTS\\\\PoCs\\\\Machine Sound Monitoring\\\\DATA\\\\DCASE2020\\\\pump_basedir\\\\dev_data\\\\pump\\\\test\\\\normal_id_00_00000002.wav',\n",
       " 'C:\\\\Users\\\\DMT2KOR\\\\OneDrive - Robert Bosch GmbH\\\\Documents\\\\WORK\\\\PROJECTS\\\\PoCs\\\\Machine Sound Monitoring\\\\DATA\\\\DCASE2020\\\\pump_basedir\\\\dev_data\\\\pump\\\\test\\\\normal_id_00_00000003.wav',\n",
       " 'C:\\\\Users\\\\DMT2KOR\\\\OneDrive - Robert Bosch GmbH\\\\Documents\\\\WORK\\\\PROJECTS\\\\PoCs\\\\Machine Sound Monitoring\\\\DATA\\\\DCASE2020\\\\pump_basedir\\\\dev_data\\\\pump\\\\test\\\\normal_id_00_00000004.wav',\n",
       " 'C:\\\\Users\\\\DMT2KOR\\\\OneDrive - Robert Bosch GmbH\\\\Documents\\\\WORK\\\\PROJECTS\\\\PoCs\\\\Machine Sound Monitoring\\\\DATA\\\\DCASE2020\\\\pump_basedir\\\\dev_data\\\\pump\\\\test\\\\normal_id_00_00000005.wav',\n",
       " 'C:\\\\Users\\\\DMT2KOR\\\\OneDrive - Robert Bosch GmbH\\\\Documents\\\\WORK\\\\PROJECTS\\\\PoCs\\\\Machine Sound Monitoring\\\\DATA\\\\DCASE2020\\\\pump_basedir\\\\dev_data\\\\pump\\\\test\\\\normal_id_00_00000006.wav',\n",
       " 'C:\\\\Users\\\\DMT2KOR\\\\OneDrive - Robert Bosch GmbH\\\\Documents\\\\WORK\\\\PROJECTS\\\\PoCs\\\\Machine Sound Monitoring\\\\DATA\\\\DCASE2020\\\\pump_basedir\\\\dev_data\\\\pump\\\\test\\\\normal_id_00_00000007.wav',\n",
       " 'C:\\\\Users\\\\DMT2KOR\\\\OneDrive - Robert Bosch GmbH\\\\Documents\\\\WORK\\\\PROJECTS\\\\PoCs\\\\Machine Sound Monitoring\\\\DATA\\\\DCASE2020\\\\pump_basedir\\\\dev_data\\\\pump\\\\test\\\\normal_id_00_00000008.wav',\n",
       " 'C:\\\\Users\\\\DMT2KOR\\\\OneDrive - Robert Bosch GmbH\\\\Documents\\\\WORK\\\\PROJECTS\\\\PoCs\\\\Machine Sound Monitoring\\\\DATA\\\\DCASE2020\\\\pump_basedir\\\\dev_data\\\\pump\\\\test\\\\normal_id_00_00000009.wav',\n",
       " 'C:\\\\Users\\\\DMT2KOR\\\\OneDrive - Robert Bosch GmbH\\\\Documents\\\\WORK\\\\PROJECTS\\\\PoCs\\\\Machine Sound Monitoring\\\\DATA\\\\DCASE2020\\\\pump_basedir\\\\dev_data\\\\pump\\\\test\\\\normal_id_00_00000010.wav',\n",
       " 'C:\\\\Users\\\\DMT2KOR\\\\OneDrive - Robert Bosch GmbH\\\\Documents\\\\WORK\\\\PROJECTS\\\\PoCs\\\\Machine Sound Monitoring\\\\DATA\\\\DCASE2020\\\\pump_basedir\\\\dev_data\\\\pump\\\\test\\\\normal_id_00_00000011.wav',\n",
       " 'C:\\\\Users\\\\DMT2KOR\\\\OneDrive - Robert Bosch GmbH\\\\Documents\\\\WORK\\\\PROJECTS\\\\PoCs\\\\Machine Sound Monitoring\\\\DATA\\\\DCASE2020\\\\pump_basedir\\\\dev_data\\\\pump\\\\test\\\\normal_id_00_00000012.wav',\n",
       " 'C:\\\\Users\\\\DMT2KOR\\\\OneDrive - Robert Bosch GmbH\\\\Documents\\\\WORK\\\\PROJECTS\\\\PoCs\\\\Machine Sound Monitoring\\\\DATA\\\\DCASE2020\\\\pump_basedir\\\\dev_data\\\\pump\\\\test\\\\normal_id_00_00000013.wav',\n",
       " 'C:\\\\Users\\\\DMT2KOR\\\\OneDrive - Robert Bosch GmbH\\\\Documents\\\\WORK\\\\PROJECTS\\\\PoCs\\\\Machine Sound Monitoring\\\\DATA\\\\DCASE2020\\\\pump_basedir\\\\dev_data\\\\pump\\\\test\\\\normal_id_00_00000014.wav',\n",
       " 'C:\\\\Users\\\\DMT2KOR\\\\OneDrive - Robert Bosch GmbH\\\\Documents\\\\WORK\\\\PROJECTS\\\\PoCs\\\\Machine Sound Monitoring\\\\DATA\\\\DCASE2020\\\\pump_basedir\\\\dev_data\\\\pump\\\\test\\\\normal_id_00_00000015.wav',\n",
       " 'C:\\\\Users\\\\DMT2KOR\\\\OneDrive - Robert Bosch GmbH\\\\Documents\\\\WORK\\\\PROJECTS\\\\PoCs\\\\Machine Sound Monitoring\\\\DATA\\\\DCASE2020\\\\pump_basedir\\\\dev_data\\\\pump\\\\test\\\\normal_id_00_00000016.wav',\n",
       " 'C:\\\\Users\\\\DMT2KOR\\\\OneDrive - Robert Bosch GmbH\\\\Documents\\\\WORK\\\\PROJECTS\\\\PoCs\\\\Machine Sound Monitoring\\\\DATA\\\\DCASE2020\\\\pump_basedir\\\\dev_data\\\\pump\\\\test\\\\normal_id_00_00000017.wav',\n",
       " 'C:\\\\Users\\\\DMT2KOR\\\\OneDrive - Robert Bosch GmbH\\\\Documents\\\\WORK\\\\PROJECTS\\\\PoCs\\\\Machine Sound Monitoring\\\\DATA\\\\DCASE2020\\\\pump_basedir\\\\dev_data\\\\pump\\\\test\\\\normal_id_00_00000018.wav',\n",
       " 'C:\\\\Users\\\\DMT2KOR\\\\OneDrive - Robert Bosch GmbH\\\\Documents\\\\WORK\\\\PROJECTS\\\\PoCs\\\\Machine Sound Monitoring\\\\DATA\\\\DCASE2020\\\\pump_basedir\\\\dev_data\\\\pump\\\\test\\\\normal_id_00_00000019.wav',\n",
       " 'C:\\\\Users\\\\DMT2KOR\\\\OneDrive - Robert Bosch GmbH\\\\Documents\\\\WORK\\\\PROJECTS\\\\PoCs\\\\Machine Sound Monitoring\\\\DATA\\\\DCASE2020\\\\pump_basedir\\\\dev_data\\\\pump\\\\test\\\\normal_id_00_00000020.wav',\n",
       " 'C:\\\\Users\\\\DMT2KOR\\\\OneDrive - Robert Bosch GmbH\\\\Documents\\\\WORK\\\\PROJECTS\\\\PoCs\\\\Machine Sound Monitoring\\\\DATA\\\\DCASE2020\\\\pump_basedir\\\\dev_data\\\\pump\\\\test\\\\normal_id_00_00000021.wav',\n",
       " 'C:\\\\Users\\\\DMT2KOR\\\\OneDrive - Robert Bosch GmbH\\\\Documents\\\\WORK\\\\PROJECTS\\\\PoCs\\\\Machine Sound Monitoring\\\\DATA\\\\DCASE2020\\\\pump_basedir\\\\dev_data\\\\pump\\\\test\\\\normal_id_00_00000022.wav',\n",
       " 'C:\\\\Users\\\\DMT2KOR\\\\OneDrive - Robert Bosch GmbH\\\\Documents\\\\WORK\\\\PROJECTS\\\\PoCs\\\\Machine Sound Monitoring\\\\DATA\\\\DCASE2020\\\\pump_basedir\\\\dev_data\\\\pump\\\\test\\\\normal_id_00_00000023.wav',\n",
       " 'C:\\\\Users\\\\DMT2KOR\\\\OneDrive - Robert Bosch GmbH\\\\Documents\\\\WORK\\\\PROJECTS\\\\PoCs\\\\Machine Sound Monitoring\\\\DATA\\\\DCASE2020\\\\pump_basedir\\\\dev_data\\\\pump\\\\test\\\\normal_id_00_00000024.wav',\n",
       " 'C:\\\\Users\\\\DMT2KOR\\\\OneDrive - Robert Bosch GmbH\\\\Documents\\\\WORK\\\\PROJECTS\\\\PoCs\\\\Machine Sound Monitoring\\\\DATA\\\\DCASE2020\\\\pump_basedir\\\\dev_data\\\\pump\\\\test\\\\normal_id_00_00000025.wav',\n",
       " 'C:\\\\Users\\\\DMT2KOR\\\\OneDrive - Robert Bosch GmbH\\\\Documents\\\\WORK\\\\PROJECTS\\\\PoCs\\\\Machine Sound Monitoring\\\\DATA\\\\DCASE2020\\\\pump_basedir\\\\dev_data\\\\pump\\\\test\\\\normal_id_00_00000026.wav',\n",
       " 'C:\\\\Users\\\\DMT2KOR\\\\OneDrive - Robert Bosch GmbH\\\\Documents\\\\WORK\\\\PROJECTS\\\\PoCs\\\\Machine Sound Monitoring\\\\DATA\\\\DCASE2020\\\\pump_basedir\\\\dev_data\\\\pump\\\\test\\\\normal_id_00_00000027.wav',\n",
       " 'C:\\\\Users\\\\DMT2KOR\\\\OneDrive - Robert Bosch GmbH\\\\Documents\\\\WORK\\\\PROJECTS\\\\PoCs\\\\Machine Sound Monitoring\\\\DATA\\\\DCASE2020\\\\pump_basedir\\\\dev_data\\\\pump\\\\test\\\\normal_id_00_00000028.wav',\n",
       " 'C:\\\\Users\\\\DMT2KOR\\\\OneDrive - Robert Bosch GmbH\\\\Documents\\\\WORK\\\\PROJECTS\\\\PoCs\\\\Machine Sound Monitoring\\\\DATA\\\\DCASE2020\\\\pump_basedir\\\\dev_data\\\\pump\\\\test\\\\normal_id_00_00000029.wav',\n",
       " 'C:\\\\Users\\\\DMT2KOR\\\\OneDrive - Robert Bosch GmbH\\\\Documents\\\\WORK\\\\PROJECTS\\\\PoCs\\\\Machine Sound Monitoring\\\\DATA\\\\DCASE2020\\\\pump_basedir\\\\dev_data\\\\pump\\\\test\\\\normal_id_00_00000030.wav',\n",
       " 'C:\\\\Users\\\\DMT2KOR\\\\OneDrive - Robert Bosch GmbH\\\\Documents\\\\WORK\\\\PROJECTS\\\\PoCs\\\\Machine Sound Monitoring\\\\DATA\\\\DCASE2020\\\\pump_basedir\\\\dev_data\\\\pump\\\\test\\\\normal_id_00_00000031.wav',\n",
       " 'C:\\\\Users\\\\DMT2KOR\\\\OneDrive - Robert Bosch GmbH\\\\Documents\\\\WORK\\\\PROJECTS\\\\PoCs\\\\Machine Sound Monitoring\\\\DATA\\\\DCASE2020\\\\pump_basedir\\\\dev_data\\\\pump\\\\test\\\\normal_id_00_00000032.wav',\n",
       " 'C:\\\\Users\\\\DMT2KOR\\\\OneDrive - Robert Bosch GmbH\\\\Documents\\\\WORK\\\\PROJECTS\\\\PoCs\\\\Machine Sound Monitoring\\\\DATA\\\\DCASE2020\\\\pump_basedir\\\\dev_data\\\\pump\\\\test\\\\normal_id_00_00000033.wav',\n",
       " 'C:\\\\Users\\\\DMT2KOR\\\\OneDrive - Robert Bosch GmbH\\\\Documents\\\\WORK\\\\PROJECTS\\\\PoCs\\\\Machine Sound Monitoring\\\\DATA\\\\DCASE2020\\\\pump_basedir\\\\dev_data\\\\pump\\\\test\\\\normal_id_00_00000034.wav',\n",
       " 'C:\\\\Users\\\\DMT2KOR\\\\OneDrive - Robert Bosch GmbH\\\\Documents\\\\WORK\\\\PROJECTS\\\\PoCs\\\\Machine Sound Monitoring\\\\DATA\\\\DCASE2020\\\\pump_basedir\\\\dev_data\\\\pump\\\\test\\\\normal_id_00_00000035.wav',\n",
       " 'C:\\\\Users\\\\DMT2KOR\\\\OneDrive - Robert Bosch GmbH\\\\Documents\\\\WORK\\\\PROJECTS\\\\PoCs\\\\Machine Sound Monitoring\\\\DATA\\\\DCASE2020\\\\pump_basedir\\\\dev_data\\\\pump\\\\test\\\\normal_id_00_00000036.wav',\n",
       " 'C:\\\\Users\\\\DMT2KOR\\\\OneDrive - Robert Bosch GmbH\\\\Documents\\\\WORK\\\\PROJECTS\\\\PoCs\\\\Machine Sound Monitoring\\\\DATA\\\\DCASE2020\\\\pump_basedir\\\\dev_data\\\\pump\\\\test\\\\normal_id_00_00000037.wav',\n",
       " 'C:\\\\Users\\\\DMT2KOR\\\\OneDrive - Robert Bosch GmbH\\\\Documents\\\\WORK\\\\PROJECTS\\\\PoCs\\\\Machine Sound Monitoring\\\\DATA\\\\DCASE2020\\\\pump_basedir\\\\dev_data\\\\pump\\\\test\\\\normal_id_00_00000038.wav',\n",
       " 'C:\\\\Users\\\\DMT2KOR\\\\OneDrive - Robert Bosch GmbH\\\\Documents\\\\WORK\\\\PROJECTS\\\\PoCs\\\\Machine Sound Monitoring\\\\DATA\\\\DCASE2020\\\\pump_basedir\\\\dev_data\\\\pump\\\\test\\\\normal_id_00_00000039.wav',\n",
       " 'C:\\\\Users\\\\DMT2KOR\\\\OneDrive - Robert Bosch GmbH\\\\Documents\\\\WORK\\\\PROJECTS\\\\PoCs\\\\Machine Sound Monitoring\\\\DATA\\\\DCASE2020\\\\pump_basedir\\\\dev_data\\\\pump\\\\test\\\\normal_id_00_00000040.wav',\n",
       " 'C:\\\\Users\\\\DMT2KOR\\\\OneDrive - Robert Bosch GmbH\\\\Documents\\\\WORK\\\\PROJECTS\\\\PoCs\\\\Machine Sound Monitoring\\\\DATA\\\\DCASE2020\\\\pump_basedir\\\\dev_data\\\\pump\\\\test\\\\normal_id_00_00000041.wav',\n",
       " 'C:\\\\Users\\\\DMT2KOR\\\\OneDrive - Robert Bosch GmbH\\\\Documents\\\\WORK\\\\PROJECTS\\\\PoCs\\\\Machine Sound Monitoring\\\\DATA\\\\DCASE2020\\\\pump_basedir\\\\dev_data\\\\pump\\\\test\\\\normal_id_00_00000042.wav',\n",
       " 'C:\\\\Users\\\\DMT2KOR\\\\OneDrive - Robert Bosch GmbH\\\\Documents\\\\WORK\\\\PROJECTS\\\\PoCs\\\\Machine Sound Monitoring\\\\DATA\\\\DCASE2020\\\\pump_basedir\\\\dev_data\\\\pump\\\\test\\\\normal_id_00_00000043.wav',\n",
       " 'C:\\\\Users\\\\DMT2KOR\\\\OneDrive - Robert Bosch GmbH\\\\Documents\\\\WORK\\\\PROJECTS\\\\PoCs\\\\Machine Sound Monitoring\\\\DATA\\\\DCASE2020\\\\pump_basedir\\\\dev_data\\\\pump\\\\test\\\\normal_id_00_00000044.wav',\n",
       " 'C:\\\\Users\\\\DMT2KOR\\\\OneDrive - Robert Bosch GmbH\\\\Documents\\\\WORK\\\\PROJECTS\\\\PoCs\\\\Machine Sound Monitoring\\\\DATA\\\\DCASE2020\\\\pump_basedir\\\\dev_data\\\\pump\\\\test\\\\normal_id_00_00000045.wav',\n",
       " 'C:\\\\Users\\\\DMT2KOR\\\\OneDrive - Robert Bosch GmbH\\\\Documents\\\\WORK\\\\PROJECTS\\\\PoCs\\\\Machine Sound Monitoring\\\\DATA\\\\DCASE2020\\\\pump_basedir\\\\dev_data\\\\pump\\\\test\\\\normal_id_00_00000046.wav',\n",
       " 'C:\\\\Users\\\\DMT2KOR\\\\OneDrive - Robert Bosch GmbH\\\\Documents\\\\WORK\\\\PROJECTS\\\\PoCs\\\\Machine Sound Monitoring\\\\DATA\\\\DCASE2020\\\\pump_basedir\\\\dev_data\\\\pump\\\\test\\\\normal_id_00_00000047.wav',\n",
       " 'C:\\\\Users\\\\DMT2KOR\\\\OneDrive - Robert Bosch GmbH\\\\Documents\\\\WORK\\\\PROJECTS\\\\PoCs\\\\Machine Sound Monitoring\\\\DATA\\\\DCASE2020\\\\pump_basedir\\\\dev_data\\\\pump\\\\test\\\\normal_id_00_00000048.wav',\n",
       " 'C:\\\\Users\\\\DMT2KOR\\\\OneDrive - Robert Bosch GmbH\\\\Documents\\\\WORK\\\\PROJECTS\\\\PoCs\\\\Machine Sound Monitoring\\\\DATA\\\\DCASE2020\\\\pump_basedir\\\\dev_data\\\\pump\\\\test\\\\normal_id_00_00000049.wav',\n",
       " 'C:\\\\Users\\\\DMT2KOR\\\\OneDrive - Robert Bosch GmbH\\\\Documents\\\\WORK\\\\PROJECTS\\\\PoCs\\\\Machine Sound Monitoring\\\\DATA\\\\DCASE2020\\\\pump_basedir\\\\dev_data\\\\pump\\\\test\\\\normal_id_00_00000050.wav',\n",
       " 'C:\\\\Users\\\\DMT2KOR\\\\OneDrive - Robert Bosch GmbH\\\\Documents\\\\WORK\\\\PROJECTS\\\\PoCs\\\\Machine Sound Monitoring\\\\DATA\\\\DCASE2020\\\\pump_basedir\\\\dev_data\\\\pump\\\\test\\\\normal_id_00_00000051.wav',\n",
       " 'C:\\\\Users\\\\DMT2KOR\\\\OneDrive - Robert Bosch GmbH\\\\Documents\\\\WORK\\\\PROJECTS\\\\PoCs\\\\Machine Sound Monitoring\\\\DATA\\\\DCASE2020\\\\pump_basedir\\\\dev_data\\\\pump\\\\test\\\\normal_id_00_00000052.wav',\n",
       " 'C:\\\\Users\\\\DMT2KOR\\\\OneDrive - Robert Bosch GmbH\\\\Documents\\\\WORK\\\\PROJECTS\\\\PoCs\\\\Machine Sound Monitoring\\\\DATA\\\\DCASE2020\\\\pump_basedir\\\\dev_data\\\\pump\\\\test\\\\normal_id_00_00000053.wav',\n",
       " 'C:\\\\Users\\\\DMT2KOR\\\\OneDrive - Robert Bosch GmbH\\\\Documents\\\\WORK\\\\PROJECTS\\\\PoCs\\\\Machine Sound Monitoring\\\\DATA\\\\DCASE2020\\\\pump_basedir\\\\dev_data\\\\pump\\\\test\\\\normal_id_00_00000054.wav',\n",
       " 'C:\\\\Users\\\\DMT2KOR\\\\OneDrive - Robert Bosch GmbH\\\\Documents\\\\WORK\\\\PROJECTS\\\\PoCs\\\\Machine Sound Monitoring\\\\DATA\\\\DCASE2020\\\\pump_basedir\\\\dev_data\\\\pump\\\\test\\\\normal_id_00_00000055.wav',\n",
       " 'C:\\\\Users\\\\DMT2KOR\\\\OneDrive - Robert Bosch GmbH\\\\Documents\\\\WORK\\\\PROJECTS\\\\PoCs\\\\Machine Sound Monitoring\\\\DATA\\\\DCASE2020\\\\pump_basedir\\\\dev_data\\\\pump\\\\test\\\\normal_id_00_00000056.wav',\n",
       " 'C:\\\\Users\\\\DMT2KOR\\\\OneDrive - Robert Bosch GmbH\\\\Documents\\\\WORK\\\\PROJECTS\\\\PoCs\\\\Machine Sound Monitoring\\\\DATA\\\\DCASE2020\\\\pump_basedir\\\\dev_data\\\\pump\\\\test\\\\normal_id_00_00000057.wav',\n",
       " 'C:\\\\Users\\\\DMT2KOR\\\\OneDrive - Robert Bosch GmbH\\\\Documents\\\\WORK\\\\PROJECTS\\\\PoCs\\\\Machine Sound Monitoring\\\\DATA\\\\DCASE2020\\\\pump_basedir\\\\dev_data\\\\pump\\\\test\\\\normal_id_00_00000058.wav',\n",
       " 'C:\\\\Users\\\\DMT2KOR\\\\OneDrive - Robert Bosch GmbH\\\\Documents\\\\WORK\\\\PROJECTS\\\\PoCs\\\\Machine Sound Monitoring\\\\DATA\\\\DCASE2020\\\\pump_basedir\\\\dev_data\\\\pump\\\\test\\\\normal_id_00_00000059.wav',\n",
       " 'C:\\\\Users\\\\DMT2KOR\\\\OneDrive - Robert Bosch GmbH\\\\Documents\\\\WORK\\\\PROJECTS\\\\PoCs\\\\Machine Sound Monitoring\\\\DATA\\\\DCASE2020\\\\pump_basedir\\\\dev_data\\\\pump\\\\test\\\\normal_id_00_00000060.wav',\n",
       " 'C:\\\\Users\\\\DMT2KOR\\\\OneDrive - Robert Bosch GmbH\\\\Documents\\\\WORK\\\\PROJECTS\\\\PoCs\\\\Machine Sound Monitoring\\\\DATA\\\\DCASE2020\\\\pump_basedir\\\\dev_data\\\\pump\\\\test\\\\normal_id_00_00000061.wav',\n",
       " 'C:\\\\Users\\\\DMT2KOR\\\\OneDrive - Robert Bosch GmbH\\\\Documents\\\\WORK\\\\PROJECTS\\\\PoCs\\\\Machine Sound Monitoring\\\\DATA\\\\DCASE2020\\\\pump_basedir\\\\dev_data\\\\pump\\\\test\\\\normal_id_00_00000062.wav',\n",
       " 'C:\\\\Users\\\\DMT2KOR\\\\OneDrive - Robert Bosch GmbH\\\\Documents\\\\WORK\\\\PROJECTS\\\\PoCs\\\\Machine Sound Monitoring\\\\DATA\\\\DCASE2020\\\\pump_basedir\\\\dev_data\\\\pump\\\\test\\\\normal_id_00_00000063.wav',\n",
       " 'C:\\\\Users\\\\DMT2KOR\\\\OneDrive - Robert Bosch GmbH\\\\Documents\\\\WORK\\\\PROJECTS\\\\PoCs\\\\Machine Sound Monitoring\\\\DATA\\\\DCASE2020\\\\pump_basedir\\\\dev_data\\\\pump\\\\test\\\\normal_id_00_00000064.wav',\n",
       " 'C:\\\\Users\\\\DMT2KOR\\\\OneDrive - Robert Bosch GmbH\\\\Documents\\\\WORK\\\\PROJECTS\\\\PoCs\\\\Machine Sound Monitoring\\\\DATA\\\\DCASE2020\\\\pump_basedir\\\\dev_data\\\\pump\\\\test\\\\normal_id_00_00000065.wav',\n",
       " 'C:\\\\Users\\\\DMT2KOR\\\\OneDrive - Robert Bosch GmbH\\\\Documents\\\\WORK\\\\PROJECTS\\\\PoCs\\\\Machine Sound Monitoring\\\\DATA\\\\DCASE2020\\\\pump_basedir\\\\dev_data\\\\pump\\\\test\\\\normal_id_00_00000066.wav',\n",
       " 'C:\\\\Users\\\\DMT2KOR\\\\OneDrive - Robert Bosch GmbH\\\\Documents\\\\WORK\\\\PROJECTS\\\\PoCs\\\\Machine Sound Monitoring\\\\DATA\\\\DCASE2020\\\\pump_basedir\\\\dev_data\\\\pump\\\\test\\\\normal_id_00_00000067.wav',\n",
       " 'C:\\\\Users\\\\DMT2KOR\\\\OneDrive - Robert Bosch GmbH\\\\Documents\\\\WORK\\\\PROJECTS\\\\PoCs\\\\Machine Sound Monitoring\\\\DATA\\\\DCASE2020\\\\pump_basedir\\\\dev_data\\\\pump\\\\test\\\\normal_id_00_00000068.wav',\n",
       " 'C:\\\\Users\\\\DMT2KOR\\\\OneDrive - Robert Bosch GmbH\\\\Documents\\\\WORK\\\\PROJECTS\\\\PoCs\\\\Machine Sound Monitoring\\\\DATA\\\\DCASE2020\\\\pump_basedir\\\\dev_data\\\\pump\\\\test\\\\normal_id_00_00000069.wav',\n",
       " 'C:\\\\Users\\\\DMT2KOR\\\\OneDrive - Robert Bosch GmbH\\\\Documents\\\\WORK\\\\PROJECTS\\\\PoCs\\\\Machine Sound Monitoring\\\\DATA\\\\DCASE2020\\\\pump_basedir\\\\dev_data\\\\pump\\\\test\\\\normal_id_00_00000070.wav',\n",
       " 'C:\\\\Users\\\\DMT2KOR\\\\OneDrive - Robert Bosch GmbH\\\\Documents\\\\WORK\\\\PROJECTS\\\\PoCs\\\\Machine Sound Monitoring\\\\DATA\\\\DCASE2020\\\\pump_basedir\\\\dev_data\\\\pump\\\\test\\\\normal_id_00_00000071.wav',\n",
       " 'C:\\\\Users\\\\DMT2KOR\\\\OneDrive - Robert Bosch GmbH\\\\Documents\\\\WORK\\\\PROJECTS\\\\PoCs\\\\Machine Sound Monitoring\\\\DATA\\\\DCASE2020\\\\pump_basedir\\\\dev_data\\\\pump\\\\test\\\\normal_id_00_00000072.wav',\n",
       " 'C:\\\\Users\\\\DMT2KOR\\\\OneDrive - Robert Bosch GmbH\\\\Documents\\\\WORK\\\\PROJECTS\\\\PoCs\\\\Machine Sound Monitoring\\\\DATA\\\\DCASE2020\\\\pump_basedir\\\\dev_data\\\\pump\\\\test\\\\normal_id_00_00000073.wav',\n",
       " 'C:\\\\Users\\\\DMT2KOR\\\\OneDrive - Robert Bosch GmbH\\\\Documents\\\\WORK\\\\PROJECTS\\\\PoCs\\\\Machine Sound Monitoring\\\\DATA\\\\DCASE2020\\\\pump_basedir\\\\dev_data\\\\pump\\\\test\\\\normal_id_00_00000074.wav',\n",
       " 'C:\\\\Users\\\\DMT2KOR\\\\OneDrive - Robert Bosch GmbH\\\\Documents\\\\WORK\\\\PROJECTS\\\\PoCs\\\\Machine Sound Monitoring\\\\DATA\\\\DCASE2020\\\\pump_basedir\\\\dev_data\\\\pump\\\\test\\\\normal_id_00_00000075.wav',\n",
       " 'C:\\\\Users\\\\DMT2KOR\\\\OneDrive - Robert Bosch GmbH\\\\Documents\\\\WORK\\\\PROJECTS\\\\PoCs\\\\Machine Sound Monitoring\\\\DATA\\\\DCASE2020\\\\pump_basedir\\\\dev_data\\\\pump\\\\test\\\\normal_id_00_00000076.wav',\n",
       " 'C:\\\\Users\\\\DMT2KOR\\\\OneDrive - Robert Bosch GmbH\\\\Documents\\\\WORK\\\\PROJECTS\\\\PoCs\\\\Machine Sound Monitoring\\\\DATA\\\\DCASE2020\\\\pump_basedir\\\\dev_data\\\\pump\\\\test\\\\normal_id_00_00000077.wav',\n",
       " 'C:\\\\Users\\\\DMT2KOR\\\\OneDrive - Robert Bosch GmbH\\\\Documents\\\\WORK\\\\PROJECTS\\\\PoCs\\\\Machine Sound Monitoring\\\\DATA\\\\DCASE2020\\\\pump_basedir\\\\dev_data\\\\pump\\\\test\\\\normal_id_00_00000078.wav',\n",
       " 'C:\\\\Users\\\\DMT2KOR\\\\OneDrive - Robert Bosch GmbH\\\\Documents\\\\WORK\\\\PROJECTS\\\\PoCs\\\\Machine Sound Monitoring\\\\DATA\\\\DCASE2020\\\\pump_basedir\\\\dev_data\\\\pump\\\\test\\\\normal_id_00_00000079.wav',\n",
       " 'C:\\\\Users\\\\DMT2KOR\\\\OneDrive - Robert Bosch GmbH\\\\Documents\\\\WORK\\\\PROJECTS\\\\PoCs\\\\Machine Sound Monitoring\\\\DATA\\\\DCASE2020\\\\pump_basedir\\\\dev_data\\\\pump\\\\test\\\\normal_id_00_00000080.wav',\n",
       " 'C:\\\\Users\\\\DMT2KOR\\\\OneDrive - Robert Bosch GmbH\\\\Documents\\\\WORK\\\\PROJECTS\\\\PoCs\\\\Machine Sound Monitoring\\\\DATA\\\\DCASE2020\\\\pump_basedir\\\\dev_data\\\\pump\\\\test\\\\normal_id_00_00000081.wav',\n",
       " 'C:\\\\Users\\\\DMT2KOR\\\\OneDrive - Robert Bosch GmbH\\\\Documents\\\\WORK\\\\PROJECTS\\\\PoCs\\\\Machine Sound Monitoring\\\\DATA\\\\DCASE2020\\\\pump_basedir\\\\dev_data\\\\pump\\\\test\\\\normal_id_00_00000082.wav',\n",
       " 'C:\\\\Users\\\\DMT2KOR\\\\OneDrive - Robert Bosch GmbH\\\\Documents\\\\WORK\\\\PROJECTS\\\\PoCs\\\\Machine Sound Monitoring\\\\DATA\\\\DCASE2020\\\\pump_basedir\\\\dev_data\\\\pump\\\\test\\\\normal_id_00_00000083.wav',\n",
       " 'C:\\\\Users\\\\DMT2KOR\\\\OneDrive - Robert Bosch GmbH\\\\Documents\\\\WORK\\\\PROJECTS\\\\PoCs\\\\Machine Sound Monitoring\\\\DATA\\\\DCASE2020\\\\pump_basedir\\\\dev_data\\\\pump\\\\test\\\\normal_id_00_00000084.wav',\n",
       " 'C:\\\\Users\\\\DMT2KOR\\\\OneDrive - Robert Bosch GmbH\\\\Documents\\\\WORK\\\\PROJECTS\\\\PoCs\\\\Machine Sound Monitoring\\\\DATA\\\\DCASE2020\\\\pump_basedir\\\\dev_data\\\\pump\\\\test\\\\normal_id_00_00000085.wav',\n",
       " 'C:\\\\Users\\\\DMT2KOR\\\\OneDrive - Robert Bosch GmbH\\\\Documents\\\\WORK\\\\PROJECTS\\\\PoCs\\\\Machine Sound Monitoring\\\\DATA\\\\DCASE2020\\\\pump_basedir\\\\dev_data\\\\pump\\\\test\\\\normal_id_00_00000086.wav',\n",
       " 'C:\\\\Users\\\\DMT2KOR\\\\OneDrive - Robert Bosch GmbH\\\\Documents\\\\WORK\\\\PROJECTS\\\\PoCs\\\\Machine Sound Monitoring\\\\DATA\\\\DCASE2020\\\\pump_basedir\\\\dev_data\\\\pump\\\\test\\\\normal_id_00_00000087.wav',\n",
       " 'C:\\\\Users\\\\DMT2KOR\\\\OneDrive - Robert Bosch GmbH\\\\Documents\\\\WORK\\\\PROJECTS\\\\PoCs\\\\Machine Sound Monitoring\\\\DATA\\\\DCASE2020\\\\pump_basedir\\\\dev_data\\\\pump\\\\test\\\\normal_id_00_00000088.wav',\n",
       " 'C:\\\\Users\\\\DMT2KOR\\\\OneDrive - Robert Bosch GmbH\\\\Documents\\\\WORK\\\\PROJECTS\\\\PoCs\\\\Machine Sound Monitoring\\\\DATA\\\\DCASE2020\\\\pump_basedir\\\\dev_data\\\\pump\\\\test\\\\normal_id_00_00000089.wav',\n",
       " 'C:\\\\Users\\\\DMT2KOR\\\\OneDrive - Robert Bosch GmbH\\\\Documents\\\\WORK\\\\PROJECTS\\\\PoCs\\\\Machine Sound Monitoring\\\\DATA\\\\DCASE2020\\\\pump_basedir\\\\dev_data\\\\pump\\\\test\\\\normal_id_00_00000090.wav',\n",
       " 'C:\\\\Users\\\\DMT2KOR\\\\OneDrive - Robert Bosch GmbH\\\\Documents\\\\WORK\\\\PROJECTS\\\\PoCs\\\\Machine Sound Monitoring\\\\DATA\\\\DCASE2020\\\\pump_basedir\\\\dev_data\\\\pump\\\\test\\\\normal_id_00_00000091.wav',\n",
       " 'C:\\\\Users\\\\DMT2KOR\\\\OneDrive - Robert Bosch GmbH\\\\Documents\\\\WORK\\\\PROJECTS\\\\PoCs\\\\Machine Sound Monitoring\\\\DATA\\\\DCASE2020\\\\pump_basedir\\\\dev_data\\\\pump\\\\test\\\\normal_id_00_00000092.wav',\n",
       " 'C:\\\\Users\\\\DMT2KOR\\\\OneDrive - Robert Bosch GmbH\\\\Documents\\\\WORK\\\\PROJECTS\\\\PoCs\\\\Machine Sound Monitoring\\\\DATA\\\\DCASE2020\\\\pump_basedir\\\\dev_data\\\\pump\\\\test\\\\normal_id_00_00000093.wav',\n",
       " 'C:\\\\Users\\\\DMT2KOR\\\\OneDrive - Robert Bosch GmbH\\\\Documents\\\\WORK\\\\PROJECTS\\\\PoCs\\\\Machine Sound Monitoring\\\\DATA\\\\DCASE2020\\\\pump_basedir\\\\dev_data\\\\pump\\\\test\\\\normal_id_00_00000094.wav',\n",
       " 'C:\\\\Users\\\\DMT2KOR\\\\OneDrive - Robert Bosch GmbH\\\\Documents\\\\WORK\\\\PROJECTS\\\\PoCs\\\\Machine Sound Monitoring\\\\DATA\\\\DCASE2020\\\\pump_basedir\\\\dev_data\\\\pump\\\\test\\\\normal_id_00_00000095.wav',\n",
       " 'C:\\\\Users\\\\DMT2KOR\\\\OneDrive - Robert Bosch GmbH\\\\Documents\\\\WORK\\\\PROJECTS\\\\PoCs\\\\Machine Sound Monitoring\\\\DATA\\\\DCASE2020\\\\pump_basedir\\\\dev_data\\\\pump\\\\test\\\\normal_id_00_00000096.wav',\n",
       " 'C:\\\\Users\\\\DMT2KOR\\\\OneDrive - Robert Bosch GmbH\\\\Documents\\\\WORK\\\\PROJECTS\\\\PoCs\\\\Machine Sound Monitoring\\\\DATA\\\\DCASE2020\\\\pump_basedir\\\\dev_data\\\\pump\\\\test\\\\normal_id_00_00000097.wav',\n",
       " 'C:\\\\Users\\\\DMT2KOR\\\\OneDrive - Robert Bosch GmbH\\\\Documents\\\\WORK\\\\PROJECTS\\\\PoCs\\\\Machine Sound Monitoring\\\\DATA\\\\DCASE2020\\\\pump_basedir\\\\dev_data\\\\pump\\\\test\\\\normal_id_00_00000098.wav',\n",
       " 'C:\\\\Users\\\\DMT2KOR\\\\OneDrive - Robert Bosch GmbH\\\\Documents\\\\WORK\\\\PROJECTS\\\\PoCs\\\\Machine Sound Monitoring\\\\DATA\\\\DCASE2020\\\\pump_basedir\\\\dev_data\\\\pump\\\\test\\\\normal_id_00_00000099.wav',\n",
       " 'C:\\\\Users\\\\DMT2KOR\\\\OneDrive - Robert Bosch GmbH\\\\Documents\\\\WORK\\\\PROJECTS\\\\PoCs\\\\Machine Sound Monitoring\\\\DATA\\\\DCASE2020\\\\pump_basedir\\\\dev_data\\\\pump\\\\test\\\\normal_id_02_00000000.wav',\n",
       " 'C:\\\\Users\\\\DMT2KOR\\\\OneDrive - Robert Bosch GmbH\\\\Documents\\\\WORK\\\\PROJECTS\\\\PoCs\\\\Machine Sound Monitoring\\\\DATA\\\\DCASE2020\\\\pump_basedir\\\\dev_data\\\\pump\\\\test\\\\normal_id_02_00000001.wav',\n",
       " 'C:\\\\Users\\\\DMT2KOR\\\\OneDrive - Robert Bosch GmbH\\\\Documents\\\\WORK\\\\PROJECTS\\\\PoCs\\\\Machine Sound Monitoring\\\\DATA\\\\DCASE2020\\\\pump_basedir\\\\dev_data\\\\pump\\\\test\\\\normal_id_02_00000002.wav',\n",
       " 'C:\\\\Users\\\\DMT2KOR\\\\OneDrive - Robert Bosch GmbH\\\\Documents\\\\WORK\\\\PROJECTS\\\\PoCs\\\\Machine Sound Monitoring\\\\DATA\\\\DCASE2020\\\\pump_basedir\\\\dev_data\\\\pump\\\\test\\\\normal_id_02_00000003.wav',\n",
       " 'C:\\\\Users\\\\DMT2KOR\\\\OneDrive - Robert Bosch GmbH\\\\Documents\\\\WORK\\\\PROJECTS\\\\PoCs\\\\Machine Sound Monitoring\\\\DATA\\\\DCASE2020\\\\pump_basedir\\\\dev_data\\\\pump\\\\test\\\\normal_id_02_00000004.wav',\n",
       " 'C:\\\\Users\\\\DMT2KOR\\\\OneDrive - Robert Bosch GmbH\\\\Documents\\\\WORK\\\\PROJECTS\\\\PoCs\\\\Machine Sound Monitoring\\\\DATA\\\\DCASE2020\\\\pump_basedir\\\\dev_data\\\\pump\\\\test\\\\normal_id_02_00000005.wav',\n",
       " 'C:\\\\Users\\\\DMT2KOR\\\\OneDrive - Robert Bosch GmbH\\\\Documents\\\\WORK\\\\PROJECTS\\\\PoCs\\\\Machine Sound Monitoring\\\\DATA\\\\DCASE2020\\\\pump_basedir\\\\dev_data\\\\pump\\\\test\\\\normal_id_02_00000006.wav',\n",
       " 'C:\\\\Users\\\\DMT2KOR\\\\OneDrive - Robert Bosch GmbH\\\\Documents\\\\WORK\\\\PROJECTS\\\\PoCs\\\\Machine Sound Monitoring\\\\DATA\\\\DCASE2020\\\\pump_basedir\\\\dev_data\\\\pump\\\\test\\\\normal_id_02_00000007.wav',\n",
       " 'C:\\\\Users\\\\DMT2KOR\\\\OneDrive - Robert Bosch GmbH\\\\Documents\\\\WORK\\\\PROJECTS\\\\PoCs\\\\Machine Sound Monitoring\\\\DATA\\\\DCASE2020\\\\pump_basedir\\\\dev_data\\\\pump\\\\test\\\\normal_id_02_00000008.wav',\n",
       " 'C:\\\\Users\\\\DMT2KOR\\\\OneDrive - Robert Bosch GmbH\\\\Documents\\\\WORK\\\\PROJECTS\\\\PoCs\\\\Machine Sound Monitoring\\\\DATA\\\\DCASE2020\\\\pump_basedir\\\\dev_data\\\\pump\\\\test\\\\normal_id_02_00000009.wav',\n",
       " 'C:\\\\Users\\\\DMT2KOR\\\\OneDrive - Robert Bosch GmbH\\\\Documents\\\\WORK\\\\PROJECTS\\\\PoCs\\\\Machine Sound Monitoring\\\\DATA\\\\DCASE2020\\\\pump_basedir\\\\dev_data\\\\pump\\\\test\\\\normal_id_02_00000010.wav',\n",
       " 'C:\\\\Users\\\\DMT2KOR\\\\OneDrive - Robert Bosch GmbH\\\\Documents\\\\WORK\\\\PROJECTS\\\\PoCs\\\\Machine Sound Monitoring\\\\DATA\\\\DCASE2020\\\\pump_basedir\\\\dev_data\\\\pump\\\\test\\\\normal_id_02_00000011.wav',\n",
       " 'C:\\\\Users\\\\DMT2KOR\\\\OneDrive - Robert Bosch GmbH\\\\Documents\\\\WORK\\\\PROJECTS\\\\PoCs\\\\Machine Sound Monitoring\\\\DATA\\\\DCASE2020\\\\pump_basedir\\\\dev_data\\\\pump\\\\test\\\\normal_id_02_00000012.wav',\n",
       " 'C:\\\\Users\\\\DMT2KOR\\\\OneDrive - Robert Bosch GmbH\\\\Documents\\\\WORK\\\\PROJECTS\\\\PoCs\\\\Machine Sound Monitoring\\\\DATA\\\\DCASE2020\\\\pump_basedir\\\\dev_data\\\\pump\\\\test\\\\normal_id_02_00000013.wav',\n",
       " 'C:\\\\Users\\\\DMT2KOR\\\\OneDrive - Robert Bosch GmbH\\\\Documents\\\\WORK\\\\PROJECTS\\\\PoCs\\\\Machine Sound Monitoring\\\\DATA\\\\DCASE2020\\\\pump_basedir\\\\dev_data\\\\pump\\\\test\\\\normal_id_02_00000014.wav',\n",
       " 'C:\\\\Users\\\\DMT2KOR\\\\OneDrive - Robert Bosch GmbH\\\\Documents\\\\WORK\\\\PROJECTS\\\\PoCs\\\\Machine Sound Monitoring\\\\DATA\\\\DCASE2020\\\\pump_basedir\\\\dev_data\\\\pump\\\\test\\\\normal_id_02_00000015.wav',\n",
       " 'C:\\\\Users\\\\DMT2KOR\\\\OneDrive - Robert Bosch GmbH\\\\Documents\\\\WORK\\\\PROJECTS\\\\PoCs\\\\Machine Sound Monitoring\\\\DATA\\\\DCASE2020\\\\pump_basedir\\\\dev_data\\\\pump\\\\test\\\\normal_id_02_00000016.wav',\n",
       " 'C:\\\\Users\\\\DMT2KOR\\\\OneDrive - Robert Bosch GmbH\\\\Documents\\\\WORK\\\\PROJECTS\\\\PoCs\\\\Machine Sound Monitoring\\\\DATA\\\\DCASE2020\\\\pump_basedir\\\\dev_data\\\\pump\\\\test\\\\normal_id_02_00000017.wav',\n",
       " 'C:\\\\Users\\\\DMT2KOR\\\\OneDrive - Robert Bosch GmbH\\\\Documents\\\\WORK\\\\PROJECTS\\\\PoCs\\\\Machine Sound Monitoring\\\\DATA\\\\DCASE2020\\\\pump_basedir\\\\dev_data\\\\pump\\\\test\\\\normal_id_02_00000018.wav',\n",
       " 'C:\\\\Users\\\\DMT2KOR\\\\OneDrive - Robert Bosch GmbH\\\\Documents\\\\WORK\\\\PROJECTS\\\\PoCs\\\\Machine Sound Monitoring\\\\DATA\\\\DCASE2020\\\\pump_basedir\\\\dev_data\\\\pump\\\\test\\\\normal_id_02_00000019.wav',\n",
       " 'C:\\\\Users\\\\DMT2KOR\\\\OneDrive - Robert Bosch GmbH\\\\Documents\\\\WORK\\\\PROJECTS\\\\PoCs\\\\Machine Sound Monitoring\\\\DATA\\\\DCASE2020\\\\pump_basedir\\\\dev_data\\\\pump\\\\test\\\\normal_id_02_00000020.wav',\n",
       " 'C:\\\\Users\\\\DMT2KOR\\\\OneDrive - Robert Bosch GmbH\\\\Documents\\\\WORK\\\\PROJECTS\\\\PoCs\\\\Machine Sound Monitoring\\\\DATA\\\\DCASE2020\\\\pump_basedir\\\\dev_data\\\\pump\\\\test\\\\normal_id_02_00000021.wav',\n",
       " 'C:\\\\Users\\\\DMT2KOR\\\\OneDrive - Robert Bosch GmbH\\\\Documents\\\\WORK\\\\PROJECTS\\\\PoCs\\\\Machine Sound Monitoring\\\\DATA\\\\DCASE2020\\\\pump_basedir\\\\dev_data\\\\pump\\\\test\\\\normal_id_02_00000022.wav',\n",
       " 'C:\\\\Users\\\\DMT2KOR\\\\OneDrive - Robert Bosch GmbH\\\\Documents\\\\WORK\\\\PROJECTS\\\\PoCs\\\\Machine Sound Monitoring\\\\DATA\\\\DCASE2020\\\\pump_basedir\\\\dev_data\\\\pump\\\\test\\\\normal_id_02_00000023.wav',\n",
       " 'C:\\\\Users\\\\DMT2KOR\\\\OneDrive - Robert Bosch GmbH\\\\Documents\\\\WORK\\\\PROJECTS\\\\PoCs\\\\Machine Sound Monitoring\\\\DATA\\\\DCASE2020\\\\pump_basedir\\\\dev_data\\\\pump\\\\test\\\\normal_id_02_00000024.wav',\n",
       " 'C:\\\\Users\\\\DMT2KOR\\\\OneDrive - Robert Bosch GmbH\\\\Documents\\\\WORK\\\\PROJECTS\\\\PoCs\\\\Machine Sound Monitoring\\\\DATA\\\\DCASE2020\\\\pump_basedir\\\\dev_data\\\\pump\\\\test\\\\normal_id_02_00000025.wav',\n",
       " 'C:\\\\Users\\\\DMT2KOR\\\\OneDrive - Robert Bosch GmbH\\\\Documents\\\\WORK\\\\PROJECTS\\\\PoCs\\\\Machine Sound Monitoring\\\\DATA\\\\DCASE2020\\\\pump_basedir\\\\dev_data\\\\pump\\\\test\\\\normal_id_02_00000026.wav',\n",
       " 'C:\\\\Users\\\\DMT2KOR\\\\OneDrive - Robert Bosch GmbH\\\\Documents\\\\WORK\\\\PROJECTS\\\\PoCs\\\\Machine Sound Monitoring\\\\DATA\\\\DCASE2020\\\\pump_basedir\\\\dev_data\\\\pump\\\\test\\\\normal_id_02_00000027.wav',\n",
       " 'C:\\\\Users\\\\DMT2KOR\\\\OneDrive - Robert Bosch GmbH\\\\Documents\\\\WORK\\\\PROJECTS\\\\PoCs\\\\Machine Sound Monitoring\\\\DATA\\\\DCASE2020\\\\pump_basedir\\\\dev_data\\\\pump\\\\test\\\\normal_id_02_00000028.wav',\n",
       " 'C:\\\\Users\\\\DMT2KOR\\\\OneDrive - Robert Bosch GmbH\\\\Documents\\\\WORK\\\\PROJECTS\\\\PoCs\\\\Machine Sound Monitoring\\\\DATA\\\\DCASE2020\\\\pump_basedir\\\\dev_data\\\\pump\\\\test\\\\normal_id_02_00000029.wav',\n",
       " 'C:\\\\Users\\\\DMT2KOR\\\\OneDrive - Robert Bosch GmbH\\\\Documents\\\\WORK\\\\PROJECTS\\\\PoCs\\\\Machine Sound Monitoring\\\\DATA\\\\DCASE2020\\\\pump_basedir\\\\dev_data\\\\pump\\\\test\\\\normal_id_02_00000030.wav',\n",
       " 'C:\\\\Users\\\\DMT2KOR\\\\OneDrive - Robert Bosch GmbH\\\\Documents\\\\WORK\\\\PROJECTS\\\\PoCs\\\\Machine Sound Monitoring\\\\DATA\\\\DCASE2020\\\\pump_basedir\\\\dev_data\\\\pump\\\\test\\\\normal_id_02_00000031.wav',\n",
       " 'C:\\\\Users\\\\DMT2KOR\\\\OneDrive - Robert Bosch GmbH\\\\Documents\\\\WORK\\\\PROJECTS\\\\PoCs\\\\Machine Sound Monitoring\\\\DATA\\\\DCASE2020\\\\pump_basedir\\\\dev_data\\\\pump\\\\test\\\\normal_id_02_00000032.wav',\n",
       " 'C:\\\\Users\\\\DMT2KOR\\\\OneDrive - Robert Bosch GmbH\\\\Documents\\\\WORK\\\\PROJECTS\\\\PoCs\\\\Machine Sound Monitoring\\\\DATA\\\\DCASE2020\\\\pump_basedir\\\\dev_data\\\\pump\\\\test\\\\normal_id_02_00000033.wav',\n",
       " 'C:\\\\Users\\\\DMT2KOR\\\\OneDrive - Robert Bosch GmbH\\\\Documents\\\\WORK\\\\PROJECTS\\\\PoCs\\\\Machine Sound Monitoring\\\\DATA\\\\DCASE2020\\\\pump_basedir\\\\dev_data\\\\pump\\\\test\\\\normal_id_02_00000034.wav',\n",
       " 'C:\\\\Users\\\\DMT2KOR\\\\OneDrive - Robert Bosch GmbH\\\\Documents\\\\WORK\\\\PROJECTS\\\\PoCs\\\\Machine Sound Monitoring\\\\DATA\\\\DCASE2020\\\\pump_basedir\\\\dev_data\\\\pump\\\\test\\\\normal_id_02_00000035.wav',\n",
       " 'C:\\\\Users\\\\DMT2KOR\\\\OneDrive - Robert Bosch GmbH\\\\Documents\\\\WORK\\\\PROJECTS\\\\PoCs\\\\Machine Sound Monitoring\\\\DATA\\\\DCASE2020\\\\pump_basedir\\\\dev_data\\\\pump\\\\test\\\\normal_id_02_00000036.wav',\n",
       " 'C:\\\\Users\\\\DMT2KOR\\\\OneDrive - Robert Bosch GmbH\\\\Documents\\\\WORK\\\\PROJECTS\\\\PoCs\\\\Machine Sound Monitoring\\\\DATA\\\\DCASE2020\\\\pump_basedir\\\\dev_data\\\\pump\\\\test\\\\normal_id_02_00000037.wav',\n",
       " 'C:\\\\Users\\\\DMT2KOR\\\\OneDrive - Robert Bosch GmbH\\\\Documents\\\\WORK\\\\PROJECTS\\\\PoCs\\\\Machine Sound Monitoring\\\\DATA\\\\DCASE2020\\\\pump_basedir\\\\dev_data\\\\pump\\\\test\\\\normal_id_02_00000038.wav',\n",
       " 'C:\\\\Users\\\\DMT2KOR\\\\OneDrive - Robert Bosch GmbH\\\\Documents\\\\WORK\\\\PROJECTS\\\\PoCs\\\\Machine Sound Monitoring\\\\DATA\\\\DCASE2020\\\\pump_basedir\\\\dev_data\\\\pump\\\\test\\\\normal_id_02_00000039.wav',\n",
       " 'C:\\\\Users\\\\DMT2KOR\\\\OneDrive - Robert Bosch GmbH\\\\Documents\\\\WORK\\\\PROJECTS\\\\PoCs\\\\Machine Sound Monitoring\\\\DATA\\\\DCASE2020\\\\pump_basedir\\\\dev_data\\\\pump\\\\test\\\\normal_id_02_00000040.wav',\n",
       " 'C:\\\\Users\\\\DMT2KOR\\\\OneDrive - Robert Bosch GmbH\\\\Documents\\\\WORK\\\\PROJECTS\\\\PoCs\\\\Machine Sound Monitoring\\\\DATA\\\\DCASE2020\\\\pump_basedir\\\\dev_data\\\\pump\\\\test\\\\normal_id_02_00000041.wav',\n",
       " 'C:\\\\Users\\\\DMT2KOR\\\\OneDrive - Robert Bosch GmbH\\\\Documents\\\\WORK\\\\PROJECTS\\\\PoCs\\\\Machine Sound Monitoring\\\\DATA\\\\DCASE2020\\\\pump_basedir\\\\dev_data\\\\pump\\\\test\\\\normal_id_02_00000042.wav',\n",
       " 'C:\\\\Users\\\\DMT2KOR\\\\OneDrive - Robert Bosch GmbH\\\\Documents\\\\WORK\\\\PROJECTS\\\\PoCs\\\\Machine Sound Monitoring\\\\DATA\\\\DCASE2020\\\\pump_basedir\\\\dev_data\\\\pump\\\\test\\\\normal_id_02_00000043.wav',\n",
       " 'C:\\\\Users\\\\DMT2KOR\\\\OneDrive - Robert Bosch GmbH\\\\Documents\\\\WORK\\\\PROJECTS\\\\PoCs\\\\Machine Sound Monitoring\\\\DATA\\\\DCASE2020\\\\pump_basedir\\\\dev_data\\\\pump\\\\test\\\\normal_id_02_00000044.wav',\n",
       " 'C:\\\\Users\\\\DMT2KOR\\\\OneDrive - Robert Bosch GmbH\\\\Documents\\\\WORK\\\\PROJECTS\\\\PoCs\\\\Machine Sound Monitoring\\\\DATA\\\\DCASE2020\\\\pump_basedir\\\\dev_data\\\\pump\\\\test\\\\normal_id_02_00000045.wav',\n",
       " 'C:\\\\Users\\\\DMT2KOR\\\\OneDrive - Robert Bosch GmbH\\\\Documents\\\\WORK\\\\PROJECTS\\\\PoCs\\\\Machine Sound Monitoring\\\\DATA\\\\DCASE2020\\\\pump_basedir\\\\dev_data\\\\pump\\\\test\\\\normal_id_02_00000046.wav',\n",
       " 'C:\\\\Users\\\\DMT2KOR\\\\OneDrive - Robert Bosch GmbH\\\\Documents\\\\WORK\\\\PROJECTS\\\\PoCs\\\\Machine Sound Monitoring\\\\DATA\\\\DCASE2020\\\\pump_basedir\\\\dev_data\\\\pump\\\\test\\\\normal_id_02_00000047.wav',\n",
       " 'C:\\\\Users\\\\DMT2KOR\\\\OneDrive - Robert Bosch GmbH\\\\Documents\\\\WORK\\\\PROJECTS\\\\PoCs\\\\Machine Sound Monitoring\\\\DATA\\\\DCASE2020\\\\pump_basedir\\\\dev_data\\\\pump\\\\test\\\\normal_id_02_00000048.wav',\n",
       " 'C:\\\\Users\\\\DMT2KOR\\\\OneDrive - Robert Bosch GmbH\\\\Documents\\\\WORK\\\\PROJECTS\\\\PoCs\\\\Machine Sound Monitoring\\\\DATA\\\\DCASE2020\\\\pump_basedir\\\\dev_data\\\\pump\\\\test\\\\normal_id_02_00000049.wav',\n",
       " 'C:\\\\Users\\\\DMT2KOR\\\\OneDrive - Robert Bosch GmbH\\\\Documents\\\\WORK\\\\PROJECTS\\\\PoCs\\\\Machine Sound Monitoring\\\\DATA\\\\DCASE2020\\\\pump_basedir\\\\dev_data\\\\pump\\\\test\\\\normal_id_02_00000050.wav',\n",
       " 'C:\\\\Users\\\\DMT2KOR\\\\OneDrive - Robert Bosch GmbH\\\\Documents\\\\WORK\\\\PROJECTS\\\\PoCs\\\\Machine Sound Monitoring\\\\DATA\\\\DCASE2020\\\\pump_basedir\\\\dev_data\\\\pump\\\\test\\\\normal_id_02_00000051.wav',\n",
       " 'C:\\\\Users\\\\DMT2KOR\\\\OneDrive - Robert Bosch GmbH\\\\Documents\\\\WORK\\\\PROJECTS\\\\PoCs\\\\Machine Sound Monitoring\\\\DATA\\\\DCASE2020\\\\pump_basedir\\\\dev_data\\\\pump\\\\test\\\\normal_id_02_00000052.wav',\n",
       " 'C:\\\\Users\\\\DMT2KOR\\\\OneDrive - Robert Bosch GmbH\\\\Documents\\\\WORK\\\\PROJECTS\\\\PoCs\\\\Machine Sound Monitoring\\\\DATA\\\\DCASE2020\\\\pump_basedir\\\\dev_data\\\\pump\\\\test\\\\normal_id_02_00000053.wav',\n",
       " 'C:\\\\Users\\\\DMT2KOR\\\\OneDrive - Robert Bosch GmbH\\\\Documents\\\\WORK\\\\PROJECTS\\\\PoCs\\\\Machine Sound Monitoring\\\\DATA\\\\DCASE2020\\\\pump_basedir\\\\dev_data\\\\pump\\\\test\\\\normal_id_02_00000054.wav',\n",
       " 'C:\\\\Users\\\\DMT2KOR\\\\OneDrive - Robert Bosch GmbH\\\\Documents\\\\WORK\\\\PROJECTS\\\\PoCs\\\\Machine Sound Monitoring\\\\DATA\\\\DCASE2020\\\\pump_basedir\\\\dev_data\\\\pump\\\\test\\\\normal_id_02_00000055.wav',\n",
       " 'C:\\\\Users\\\\DMT2KOR\\\\OneDrive - Robert Bosch GmbH\\\\Documents\\\\WORK\\\\PROJECTS\\\\PoCs\\\\Machine Sound Monitoring\\\\DATA\\\\DCASE2020\\\\pump_basedir\\\\dev_data\\\\pump\\\\test\\\\normal_id_02_00000056.wav',\n",
       " 'C:\\\\Users\\\\DMT2KOR\\\\OneDrive - Robert Bosch GmbH\\\\Documents\\\\WORK\\\\PROJECTS\\\\PoCs\\\\Machine Sound Monitoring\\\\DATA\\\\DCASE2020\\\\pump_basedir\\\\dev_data\\\\pump\\\\test\\\\normal_id_02_00000057.wav',\n",
       " 'C:\\\\Users\\\\DMT2KOR\\\\OneDrive - Robert Bosch GmbH\\\\Documents\\\\WORK\\\\PROJECTS\\\\PoCs\\\\Machine Sound Monitoring\\\\DATA\\\\DCASE2020\\\\pump_basedir\\\\dev_data\\\\pump\\\\test\\\\normal_id_02_00000058.wav',\n",
       " 'C:\\\\Users\\\\DMT2KOR\\\\OneDrive - Robert Bosch GmbH\\\\Documents\\\\WORK\\\\PROJECTS\\\\PoCs\\\\Machine Sound Monitoring\\\\DATA\\\\DCASE2020\\\\pump_basedir\\\\dev_data\\\\pump\\\\test\\\\normal_id_02_00000059.wav',\n",
       " 'C:\\\\Users\\\\DMT2KOR\\\\OneDrive - Robert Bosch GmbH\\\\Documents\\\\WORK\\\\PROJECTS\\\\PoCs\\\\Machine Sound Monitoring\\\\DATA\\\\DCASE2020\\\\pump_basedir\\\\dev_data\\\\pump\\\\test\\\\normal_id_02_00000060.wav',\n",
       " 'C:\\\\Users\\\\DMT2KOR\\\\OneDrive - Robert Bosch GmbH\\\\Documents\\\\WORK\\\\PROJECTS\\\\PoCs\\\\Machine Sound Monitoring\\\\DATA\\\\DCASE2020\\\\pump_basedir\\\\dev_data\\\\pump\\\\test\\\\normal_id_02_00000061.wav',\n",
       " 'C:\\\\Users\\\\DMT2KOR\\\\OneDrive - Robert Bosch GmbH\\\\Documents\\\\WORK\\\\PROJECTS\\\\PoCs\\\\Machine Sound Monitoring\\\\DATA\\\\DCASE2020\\\\pump_basedir\\\\dev_data\\\\pump\\\\test\\\\normal_id_02_00000062.wav',\n",
       " 'C:\\\\Users\\\\DMT2KOR\\\\OneDrive - Robert Bosch GmbH\\\\Documents\\\\WORK\\\\PROJECTS\\\\PoCs\\\\Machine Sound Monitoring\\\\DATA\\\\DCASE2020\\\\pump_basedir\\\\dev_data\\\\pump\\\\test\\\\normal_id_02_00000063.wav',\n",
       " 'C:\\\\Users\\\\DMT2KOR\\\\OneDrive - Robert Bosch GmbH\\\\Documents\\\\WORK\\\\PROJECTS\\\\PoCs\\\\Machine Sound Monitoring\\\\DATA\\\\DCASE2020\\\\pump_basedir\\\\dev_data\\\\pump\\\\test\\\\normal_id_02_00000064.wav',\n",
       " 'C:\\\\Users\\\\DMT2KOR\\\\OneDrive - Robert Bosch GmbH\\\\Documents\\\\WORK\\\\PROJECTS\\\\PoCs\\\\Machine Sound Monitoring\\\\DATA\\\\DCASE2020\\\\pump_basedir\\\\dev_data\\\\pump\\\\test\\\\normal_id_02_00000065.wav',\n",
       " 'C:\\\\Users\\\\DMT2KOR\\\\OneDrive - Robert Bosch GmbH\\\\Documents\\\\WORK\\\\PROJECTS\\\\PoCs\\\\Machine Sound Monitoring\\\\DATA\\\\DCASE2020\\\\pump_basedir\\\\dev_data\\\\pump\\\\test\\\\normal_id_02_00000066.wav',\n",
       " 'C:\\\\Users\\\\DMT2KOR\\\\OneDrive - Robert Bosch GmbH\\\\Documents\\\\WORK\\\\PROJECTS\\\\PoCs\\\\Machine Sound Monitoring\\\\DATA\\\\DCASE2020\\\\pump_basedir\\\\dev_data\\\\pump\\\\test\\\\normal_id_02_00000067.wav',\n",
       " 'C:\\\\Users\\\\DMT2KOR\\\\OneDrive - Robert Bosch GmbH\\\\Documents\\\\WORK\\\\PROJECTS\\\\PoCs\\\\Machine Sound Monitoring\\\\DATA\\\\DCASE2020\\\\pump_basedir\\\\dev_data\\\\pump\\\\test\\\\normal_id_02_00000068.wav',\n",
       " 'C:\\\\Users\\\\DMT2KOR\\\\OneDrive - Robert Bosch GmbH\\\\Documents\\\\WORK\\\\PROJECTS\\\\PoCs\\\\Machine Sound Monitoring\\\\DATA\\\\DCASE2020\\\\pump_basedir\\\\dev_data\\\\pump\\\\test\\\\normal_id_02_00000069.wav',\n",
       " 'C:\\\\Users\\\\DMT2KOR\\\\OneDrive - Robert Bosch GmbH\\\\Documents\\\\WORK\\\\PROJECTS\\\\PoCs\\\\Machine Sound Monitoring\\\\DATA\\\\DCASE2020\\\\pump_basedir\\\\dev_data\\\\pump\\\\test\\\\normal_id_02_00000070.wav',\n",
       " 'C:\\\\Users\\\\DMT2KOR\\\\OneDrive - Robert Bosch GmbH\\\\Documents\\\\WORK\\\\PROJECTS\\\\PoCs\\\\Machine Sound Monitoring\\\\DATA\\\\DCASE2020\\\\pump_basedir\\\\dev_data\\\\pump\\\\test\\\\normal_id_02_00000071.wav',\n",
       " 'C:\\\\Users\\\\DMT2KOR\\\\OneDrive - Robert Bosch GmbH\\\\Documents\\\\WORK\\\\PROJECTS\\\\PoCs\\\\Machine Sound Monitoring\\\\DATA\\\\DCASE2020\\\\pump_basedir\\\\dev_data\\\\pump\\\\test\\\\normal_id_02_00000072.wav',\n",
       " 'C:\\\\Users\\\\DMT2KOR\\\\OneDrive - Robert Bosch GmbH\\\\Documents\\\\WORK\\\\PROJECTS\\\\PoCs\\\\Machine Sound Monitoring\\\\DATA\\\\DCASE2020\\\\pump_basedir\\\\dev_data\\\\pump\\\\test\\\\normal_id_02_00000073.wav',\n",
       " 'C:\\\\Users\\\\DMT2KOR\\\\OneDrive - Robert Bosch GmbH\\\\Documents\\\\WORK\\\\PROJECTS\\\\PoCs\\\\Machine Sound Monitoring\\\\DATA\\\\DCASE2020\\\\pump_basedir\\\\dev_data\\\\pump\\\\test\\\\normal_id_02_00000074.wav',\n",
       " 'C:\\\\Users\\\\DMT2KOR\\\\OneDrive - Robert Bosch GmbH\\\\Documents\\\\WORK\\\\PROJECTS\\\\PoCs\\\\Machine Sound Monitoring\\\\DATA\\\\DCASE2020\\\\pump_basedir\\\\dev_data\\\\pump\\\\test\\\\normal_id_02_00000075.wav',\n",
       " 'C:\\\\Users\\\\DMT2KOR\\\\OneDrive - Robert Bosch GmbH\\\\Documents\\\\WORK\\\\PROJECTS\\\\PoCs\\\\Machine Sound Monitoring\\\\DATA\\\\DCASE2020\\\\pump_basedir\\\\dev_data\\\\pump\\\\test\\\\normal_id_02_00000076.wav',\n",
       " 'C:\\\\Users\\\\DMT2KOR\\\\OneDrive - Robert Bosch GmbH\\\\Documents\\\\WORK\\\\PROJECTS\\\\PoCs\\\\Machine Sound Monitoring\\\\DATA\\\\DCASE2020\\\\pump_basedir\\\\dev_data\\\\pump\\\\test\\\\normal_id_02_00000077.wav',\n",
       " 'C:\\\\Users\\\\DMT2KOR\\\\OneDrive - Robert Bosch GmbH\\\\Documents\\\\WORK\\\\PROJECTS\\\\PoCs\\\\Machine Sound Monitoring\\\\DATA\\\\DCASE2020\\\\pump_basedir\\\\dev_data\\\\pump\\\\test\\\\normal_id_02_00000078.wav',\n",
       " 'C:\\\\Users\\\\DMT2KOR\\\\OneDrive - Robert Bosch GmbH\\\\Documents\\\\WORK\\\\PROJECTS\\\\PoCs\\\\Machine Sound Monitoring\\\\DATA\\\\DCASE2020\\\\pump_basedir\\\\dev_data\\\\pump\\\\test\\\\normal_id_02_00000079.wav',\n",
       " 'C:\\\\Users\\\\DMT2KOR\\\\OneDrive - Robert Bosch GmbH\\\\Documents\\\\WORK\\\\PROJECTS\\\\PoCs\\\\Machine Sound Monitoring\\\\DATA\\\\DCASE2020\\\\pump_basedir\\\\dev_data\\\\pump\\\\test\\\\normal_id_02_00000080.wav',\n",
       " 'C:\\\\Users\\\\DMT2KOR\\\\OneDrive - Robert Bosch GmbH\\\\Documents\\\\WORK\\\\PROJECTS\\\\PoCs\\\\Machine Sound Monitoring\\\\DATA\\\\DCASE2020\\\\pump_basedir\\\\dev_data\\\\pump\\\\test\\\\normal_id_02_00000081.wav',\n",
       " 'C:\\\\Users\\\\DMT2KOR\\\\OneDrive - Robert Bosch GmbH\\\\Documents\\\\WORK\\\\PROJECTS\\\\PoCs\\\\Machine Sound Monitoring\\\\DATA\\\\DCASE2020\\\\pump_basedir\\\\dev_data\\\\pump\\\\test\\\\normal_id_02_00000082.wav',\n",
       " 'C:\\\\Users\\\\DMT2KOR\\\\OneDrive - Robert Bosch GmbH\\\\Documents\\\\WORK\\\\PROJECTS\\\\PoCs\\\\Machine Sound Monitoring\\\\DATA\\\\DCASE2020\\\\pump_basedir\\\\dev_data\\\\pump\\\\test\\\\normal_id_02_00000083.wav',\n",
       " 'C:\\\\Users\\\\DMT2KOR\\\\OneDrive - Robert Bosch GmbH\\\\Documents\\\\WORK\\\\PROJECTS\\\\PoCs\\\\Machine Sound Monitoring\\\\DATA\\\\DCASE2020\\\\pump_basedir\\\\dev_data\\\\pump\\\\test\\\\normal_id_02_00000084.wav',\n",
       " 'C:\\\\Users\\\\DMT2KOR\\\\OneDrive - Robert Bosch GmbH\\\\Documents\\\\WORK\\\\PROJECTS\\\\PoCs\\\\Machine Sound Monitoring\\\\DATA\\\\DCASE2020\\\\pump_basedir\\\\dev_data\\\\pump\\\\test\\\\normal_id_02_00000085.wav',\n",
       " 'C:\\\\Users\\\\DMT2KOR\\\\OneDrive - Robert Bosch GmbH\\\\Documents\\\\WORK\\\\PROJECTS\\\\PoCs\\\\Machine Sound Monitoring\\\\DATA\\\\DCASE2020\\\\pump_basedir\\\\dev_data\\\\pump\\\\test\\\\normal_id_02_00000086.wav',\n",
       " 'C:\\\\Users\\\\DMT2KOR\\\\OneDrive - Robert Bosch GmbH\\\\Documents\\\\WORK\\\\PROJECTS\\\\PoCs\\\\Machine Sound Monitoring\\\\DATA\\\\DCASE2020\\\\pump_basedir\\\\dev_data\\\\pump\\\\test\\\\normal_id_02_00000087.wav',\n",
       " 'C:\\\\Users\\\\DMT2KOR\\\\OneDrive - Robert Bosch GmbH\\\\Documents\\\\WORK\\\\PROJECTS\\\\PoCs\\\\Machine Sound Monitoring\\\\DATA\\\\DCASE2020\\\\pump_basedir\\\\dev_data\\\\pump\\\\test\\\\normal_id_02_00000088.wav',\n",
       " 'C:\\\\Users\\\\DMT2KOR\\\\OneDrive - Robert Bosch GmbH\\\\Documents\\\\WORK\\\\PROJECTS\\\\PoCs\\\\Machine Sound Monitoring\\\\DATA\\\\DCASE2020\\\\pump_basedir\\\\dev_data\\\\pump\\\\test\\\\normal_id_02_00000089.wav',\n",
       " 'C:\\\\Users\\\\DMT2KOR\\\\OneDrive - Robert Bosch GmbH\\\\Documents\\\\WORK\\\\PROJECTS\\\\PoCs\\\\Machine Sound Monitoring\\\\DATA\\\\DCASE2020\\\\pump_basedir\\\\dev_data\\\\pump\\\\test\\\\normal_id_02_00000090.wav',\n",
       " 'C:\\\\Users\\\\DMT2KOR\\\\OneDrive - Robert Bosch GmbH\\\\Documents\\\\WORK\\\\PROJECTS\\\\PoCs\\\\Machine Sound Monitoring\\\\DATA\\\\DCASE2020\\\\pump_basedir\\\\dev_data\\\\pump\\\\test\\\\normal_id_02_00000091.wav',\n",
       " 'C:\\\\Users\\\\DMT2KOR\\\\OneDrive - Robert Bosch GmbH\\\\Documents\\\\WORK\\\\PROJECTS\\\\PoCs\\\\Machine Sound Monitoring\\\\DATA\\\\DCASE2020\\\\pump_basedir\\\\dev_data\\\\pump\\\\test\\\\normal_id_02_00000092.wav',\n",
       " 'C:\\\\Users\\\\DMT2KOR\\\\OneDrive - Robert Bosch GmbH\\\\Documents\\\\WORK\\\\PROJECTS\\\\PoCs\\\\Machine Sound Monitoring\\\\DATA\\\\DCASE2020\\\\pump_basedir\\\\dev_data\\\\pump\\\\test\\\\normal_id_02_00000093.wav',\n",
       " 'C:\\\\Users\\\\DMT2KOR\\\\OneDrive - Robert Bosch GmbH\\\\Documents\\\\WORK\\\\PROJECTS\\\\PoCs\\\\Machine Sound Monitoring\\\\DATA\\\\DCASE2020\\\\pump_basedir\\\\dev_data\\\\pump\\\\test\\\\normal_id_02_00000094.wav',\n",
       " 'C:\\\\Users\\\\DMT2KOR\\\\OneDrive - Robert Bosch GmbH\\\\Documents\\\\WORK\\\\PROJECTS\\\\PoCs\\\\Machine Sound Monitoring\\\\DATA\\\\DCASE2020\\\\pump_basedir\\\\dev_data\\\\pump\\\\test\\\\normal_id_02_00000095.wav',\n",
       " 'C:\\\\Users\\\\DMT2KOR\\\\OneDrive - Robert Bosch GmbH\\\\Documents\\\\WORK\\\\PROJECTS\\\\PoCs\\\\Machine Sound Monitoring\\\\DATA\\\\DCASE2020\\\\pump_basedir\\\\dev_data\\\\pump\\\\test\\\\normal_id_02_00000096.wav',\n",
       " 'C:\\\\Users\\\\DMT2KOR\\\\OneDrive - Robert Bosch GmbH\\\\Documents\\\\WORK\\\\PROJECTS\\\\PoCs\\\\Machine Sound Monitoring\\\\DATA\\\\DCASE2020\\\\pump_basedir\\\\dev_data\\\\pump\\\\test\\\\normal_id_02_00000097.wav',\n",
       " 'C:\\\\Users\\\\DMT2KOR\\\\OneDrive - Robert Bosch GmbH\\\\Documents\\\\WORK\\\\PROJECTS\\\\PoCs\\\\Machine Sound Monitoring\\\\DATA\\\\DCASE2020\\\\pump_basedir\\\\dev_data\\\\pump\\\\test\\\\normal_id_02_00000098.wav',\n",
       " 'C:\\\\Users\\\\DMT2KOR\\\\OneDrive - Robert Bosch GmbH\\\\Documents\\\\WORK\\\\PROJECTS\\\\PoCs\\\\Machine Sound Monitoring\\\\DATA\\\\DCASE2020\\\\pump_basedir\\\\dev_data\\\\pump\\\\test\\\\normal_id_02_00000099.wav',\n",
       " 'C:\\\\Users\\\\DMT2KOR\\\\OneDrive - Robert Bosch GmbH\\\\Documents\\\\WORK\\\\PROJECTS\\\\PoCs\\\\Machine Sound Monitoring\\\\DATA\\\\DCASE2020\\\\pump_basedir\\\\dev_data\\\\pump\\\\test\\\\normal_id_04_00000000.wav',\n",
       " 'C:\\\\Users\\\\DMT2KOR\\\\OneDrive - Robert Bosch GmbH\\\\Documents\\\\WORK\\\\PROJECTS\\\\PoCs\\\\Machine Sound Monitoring\\\\DATA\\\\DCASE2020\\\\pump_basedir\\\\dev_data\\\\pump\\\\test\\\\normal_id_04_00000001.wav',\n",
       " 'C:\\\\Users\\\\DMT2KOR\\\\OneDrive - Robert Bosch GmbH\\\\Documents\\\\WORK\\\\PROJECTS\\\\PoCs\\\\Machine Sound Monitoring\\\\DATA\\\\DCASE2020\\\\pump_basedir\\\\dev_data\\\\pump\\\\test\\\\normal_id_04_00000002.wav',\n",
       " 'C:\\\\Users\\\\DMT2KOR\\\\OneDrive - Robert Bosch GmbH\\\\Documents\\\\WORK\\\\PROJECTS\\\\PoCs\\\\Machine Sound Monitoring\\\\DATA\\\\DCASE2020\\\\pump_basedir\\\\dev_data\\\\pump\\\\test\\\\normal_id_04_00000003.wav',\n",
       " 'C:\\\\Users\\\\DMT2KOR\\\\OneDrive - Robert Bosch GmbH\\\\Documents\\\\WORK\\\\PROJECTS\\\\PoCs\\\\Machine Sound Monitoring\\\\DATA\\\\DCASE2020\\\\pump_basedir\\\\dev_data\\\\pump\\\\test\\\\normal_id_04_00000004.wav',\n",
       " 'C:\\\\Users\\\\DMT2KOR\\\\OneDrive - Robert Bosch GmbH\\\\Documents\\\\WORK\\\\PROJECTS\\\\PoCs\\\\Machine Sound Monitoring\\\\DATA\\\\DCASE2020\\\\pump_basedir\\\\dev_data\\\\pump\\\\test\\\\normal_id_04_00000005.wav',\n",
       " 'C:\\\\Users\\\\DMT2KOR\\\\OneDrive - Robert Bosch GmbH\\\\Documents\\\\WORK\\\\PROJECTS\\\\PoCs\\\\Machine Sound Monitoring\\\\DATA\\\\DCASE2020\\\\pump_basedir\\\\dev_data\\\\pump\\\\test\\\\normal_id_04_00000006.wav',\n",
       " 'C:\\\\Users\\\\DMT2KOR\\\\OneDrive - Robert Bosch GmbH\\\\Documents\\\\WORK\\\\PROJECTS\\\\PoCs\\\\Machine Sound Monitoring\\\\DATA\\\\DCASE2020\\\\pump_basedir\\\\dev_data\\\\pump\\\\test\\\\normal_id_04_00000007.wav',\n",
       " 'C:\\\\Users\\\\DMT2KOR\\\\OneDrive - Robert Bosch GmbH\\\\Documents\\\\WORK\\\\PROJECTS\\\\PoCs\\\\Machine Sound Monitoring\\\\DATA\\\\DCASE2020\\\\pump_basedir\\\\dev_data\\\\pump\\\\test\\\\normal_id_04_00000008.wav',\n",
       " 'C:\\\\Users\\\\DMT2KOR\\\\OneDrive - Robert Bosch GmbH\\\\Documents\\\\WORK\\\\PROJECTS\\\\PoCs\\\\Machine Sound Monitoring\\\\DATA\\\\DCASE2020\\\\pump_basedir\\\\dev_data\\\\pump\\\\test\\\\normal_id_04_00000009.wav',\n",
       " 'C:\\\\Users\\\\DMT2KOR\\\\OneDrive - Robert Bosch GmbH\\\\Documents\\\\WORK\\\\PROJECTS\\\\PoCs\\\\Machine Sound Monitoring\\\\DATA\\\\DCASE2020\\\\pump_basedir\\\\dev_data\\\\pump\\\\test\\\\normal_id_04_00000010.wav',\n",
       " 'C:\\\\Users\\\\DMT2KOR\\\\OneDrive - Robert Bosch GmbH\\\\Documents\\\\WORK\\\\PROJECTS\\\\PoCs\\\\Machine Sound Monitoring\\\\DATA\\\\DCASE2020\\\\pump_basedir\\\\dev_data\\\\pump\\\\test\\\\normal_id_04_00000011.wav',\n",
       " 'C:\\\\Users\\\\DMT2KOR\\\\OneDrive - Robert Bosch GmbH\\\\Documents\\\\WORK\\\\PROJECTS\\\\PoCs\\\\Machine Sound Monitoring\\\\DATA\\\\DCASE2020\\\\pump_basedir\\\\dev_data\\\\pump\\\\test\\\\normal_id_04_00000012.wav',\n",
       " 'C:\\\\Users\\\\DMT2KOR\\\\OneDrive - Robert Bosch GmbH\\\\Documents\\\\WORK\\\\PROJECTS\\\\PoCs\\\\Machine Sound Monitoring\\\\DATA\\\\DCASE2020\\\\pump_basedir\\\\dev_data\\\\pump\\\\test\\\\normal_id_04_00000013.wav',\n",
       " 'C:\\\\Users\\\\DMT2KOR\\\\OneDrive - Robert Bosch GmbH\\\\Documents\\\\WORK\\\\PROJECTS\\\\PoCs\\\\Machine Sound Monitoring\\\\DATA\\\\DCASE2020\\\\pump_basedir\\\\dev_data\\\\pump\\\\test\\\\normal_id_04_00000014.wav',\n",
       " 'C:\\\\Users\\\\DMT2KOR\\\\OneDrive - Robert Bosch GmbH\\\\Documents\\\\WORK\\\\PROJECTS\\\\PoCs\\\\Machine Sound Monitoring\\\\DATA\\\\DCASE2020\\\\pump_basedir\\\\dev_data\\\\pump\\\\test\\\\normal_id_04_00000015.wav',\n",
       " 'C:\\\\Users\\\\DMT2KOR\\\\OneDrive - Robert Bosch GmbH\\\\Documents\\\\WORK\\\\PROJECTS\\\\PoCs\\\\Machine Sound Monitoring\\\\DATA\\\\DCASE2020\\\\pump_basedir\\\\dev_data\\\\pump\\\\test\\\\normal_id_04_00000016.wav',\n",
       " 'C:\\\\Users\\\\DMT2KOR\\\\OneDrive - Robert Bosch GmbH\\\\Documents\\\\WORK\\\\PROJECTS\\\\PoCs\\\\Machine Sound Monitoring\\\\DATA\\\\DCASE2020\\\\pump_basedir\\\\dev_data\\\\pump\\\\test\\\\normal_id_04_00000017.wav',\n",
       " 'C:\\\\Users\\\\DMT2KOR\\\\OneDrive - Robert Bosch GmbH\\\\Documents\\\\WORK\\\\PROJECTS\\\\PoCs\\\\Machine Sound Monitoring\\\\DATA\\\\DCASE2020\\\\pump_basedir\\\\dev_data\\\\pump\\\\test\\\\normal_id_04_00000018.wav',\n",
       " 'C:\\\\Users\\\\DMT2KOR\\\\OneDrive - Robert Bosch GmbH\\\\Documents\\\\WORK\\\\PROJECTS\\\\PoCs\\\\Machine Sound Monitoring\\\\DATA\\\\DCASE2020\\\\pump_basedir\\\\dev_data\\\\pump\\\\test\\\\normal_id_04_00000019.wav',\n",
       " 'C:\\\\Users\\\\DMT2KOR\\\\OneDrive - Robert Bosch GmbH\\\\Documents\\\\WORK\\\\PROJECTS\\\\PoCs\\\\Machine Sound Monitoring\\\\DATA\\\\DCASE2020\\\\pump_basedir\\\\dev_data\\\\pump\\\\test\\\\normal_id_04_00000020.wav',\n",
       " 'C:\\\\Users\\\\DMT2KOR\\\\OneDrive - Robert Bosch GmbH\\\\Documents\\\\WORK\\\\PROJECTS\\\\PoCs\\\\Machine Sound Monitoring\\\\DATA\\\\DCASE2020\\\\pump_basedir\\\\dev_data\\\\pump\\\\test\\\\normal_id_04_00000021.wav',\n",
       " 'C:\\\\Users\\\\DMT2KOR\\\\OneDrive - Robert Bosch GmbH\\\\Documents\\\\WORK\\\\PROJECTS\\\\PoCs\\\\Machine Sound Monitoring\\\\DATA\\\\DCASE2020\\\\pump_basedir\\\\dev_data\\\\pump\\\\test\\\\normal_id_04_00000022.wav',\n",
       " 'C:\\\\Users\\\\DMT2KOR\\\\OneDrive - Robert Bosch GmbH\\\\Documents\\\\WORK\\\\PROJECTS\\\\PoCs\\\\Machine Sound Monitoring\\\\DATA\\\\DCASE2020\\\\pump_basedir\\\\dev_data\\\\pump\\\\test\\\\normal_id_04_00000023.wav',\n",
       " 'C:\\\\Users\\\\DMT2KOR\\\\OneDrive - Robert Bosch GmbH\\\\Documents\\\\WORK\\\\PROJECTS\\\\PoCs\\\\Machine Sound Monitoring\\\\DATA\\\\DCASE2020\\\\pump_basedir\\\\dev_data\\\\pump\\\\test\\\\normal_id_04_00000024.wav',\n",
       " 'C:\\\\Users\\\\DMT2KOR\\\\OneDrive - Robert Bosch GmbH\\\\Documents\\\\WORK\\\\PROJECTS\\\\PoCs\\\\Machine Sound Monitoring\\\\DATA\\\\DCASE2020\\\\pump_basedir\\\\dev_data\\\\pump\\\\test\\\\normal_id_04_00000025.wav',\n",
       " 'C:\\\\Users\\\\DMT2KOR\\\\OneDrive - Robert Bosch GmbH\\\\Documents\\\\WORK\\\\PROJECTS\\\\PoCs\\\\Machine Sound Monitoring\\\\DATA\\\\DCASE2020\\\\pump_basedir\\\\dev_data\\\\pump\\\\test\\\\normal_id_04_00000026.wav',\n",
       " 'C:\\\\Users\\\\DMT2KOR\\\\OneDrive - Robert Bosch GmbH\\\\Documents\\\\WORK\\\\PROJECTS\\\\PoCs\\\\Machine Sound Monitoring\\\\DATA\\\\DCASE2020\\\\pump_basedir\\\\dev_data\\\\pump\\\\test\\\\normal_id_04_00000027.wav',\n",
       " 'C:\\\\Users\\\\DMT2KOR\\\\OneDrive - Robert Bosch GmbH\\\\Documents\\\\WORK\\\\PROJECTS\\\\PoCs\\\\Machine Sound Monitoring\\\\DATA\\\\DCASE2020\\\\pump_basedir\\\\dev_data\\\\pump\\\\test\\\\normal_id_04_00000028.wav',\n",
       " 'C:\\\\Users\\\\DMT2KOR\\\\OneDrive - Robert Bosch GmbH\\\\Documents\\\\WORK\\\\PROJECTS\\\\PoCs\\\\Machine Sound Monitoring\\\\DATA\\\\DCASE2020\\\\pump_basedir\\\\dev_data\\\\pump\\\\test\\\\normal_id_04_00000029.wav',\n",
       " 'C:\\\\Users\\\\DMT2KOR\\\\OneDrive - Robert Bosch GmbH\\\\Documents\\\\WORK\\\\PROJECTS\\\\PoCs\\\\Machine Sound Monitoring\\\\DATA\\\\DCASE2020\\\\pump_basedir\\\\dev_data\\\\pump\\\\test\\\\normal_id_04_00000030.wav',\n",
       " 'C:\\\\Users\\\\DMT2KOR\\\\OneDrive - Robert Bosch GmbH\\\\Documents\\\\WORK\\\\PROJECTS\\\\PoCs\\\\Machine Sound Monitoring\\\\DATA\\\\DCASE2020\\\\pump_basedir\\\\dev_data\\\\pump\\\\test\\\\normal_id_04_00000031.wav',\n",
       " 'C:\\\\Users\\\\DMT2KOR\\\\OneDrive - Robert Bosch GmbH\\\\Documents\\\\WORK\\\\PROJECTS\\\\PoCs\\\\Machine Sound Monitoring\\\\DATA\\\\DCASE2020\\\\pump_basedir\\\\dev_data\\\\pump\\\\test\\\\normal_id_04_00000032.wav',\n",
       " 'C:\\\\Users\\\\DMT2KOR\\\\OneDrive - Robert Bosch GmbH\\\\Documents\\\\WORK\\\\PROJECTS\\\\PoCs\\\\Machine Sound Monitoring\\\\DATA\\\\DCASE2020\\\\pump_basedir\\\\dev_data\\\\pump\\\\test\\\\normal_id_04_00000033.wav',\n",
       " 'C:\\\\Users\\\\DMT2KOR\\\\OneDrive - Robert Bosch GmbH\\\\Documents\\\\WORK\\\\PROJECTS\\\\PoCs\\\\Machine Sound Monitoring\\\\DATA\\\\DCASE2020\\\\pump_basedir\\\\dev_data\\\\pump\\\\test\\\\normal_id_04_00000034.wav',\n",
       " 'C:\\\\Users\\\\DMT2KOR\\\\OneDrive - Robert Bosch GmbH\\\\Documents\\\\WORK\\\\PROJECTS\\\\PoCs\\\\Machine Sound Monitoring\\\\DATA\\\\DCASE2020\\\\pump_basedir\\\\dev_data\\\\pump\\\\test\\\\normal_id_04_00000035.wav',\n",
       " 'C:\\\\Users\\\\DMT2KOR\\\\OneDrive - Robert Bosch GmbH\\\\Documents\\\\WORK\\\\PROJECTS\\\\PoCs\\\\Machine Sound Monitoring\\\\DATA\\\\DCASE2020\\\\pump_basedir\\\\dev_data\\\\pump\\\\test\\\\normal_id_04_00000036.wav',\n",
       " 'C:\\\\Users\\\\DMT2KOR\\\\OneDrive - Robert Bosch GmbH\\\\Documents\\\\WORK\\\\PROJECTS\\\\PoCs\\\\Machine Sound Monitoring\\\\DATA\\\\DCASE2020\\\\pump_basedir\\\\dev_data\\\\pump\\\\test\\\\normal_id_04_00000037.wav',\n",
       " 'C:\\\\Users\\\\DMT2KOR\\\\OneDrive - Robert Bosch GmbH\\\\Documents\\\\WORK\\\\PROJECTS\\\\PoCs\\\\Machine Sound Monitoring\\\\DATA\\\\DCASE2020\\\\pump_basedir\\\\dev_data\\\\pump\\\\test\\\\normal_id_04_00000038.wav',\n",
       " 'C:\\\\Users\\\\DMT2KOR\\\\OneDrive - Robert Bosch GmbH\\\\Documents\\\\WORK\\\\PROJECTS\\\\PoCs\\\\Machine Sound Monitoring\\\\DATA\\\\DCASE2020\\\\pump_basedir\\\\dev_data\\\\pump\\\\test\\\\normal_id_04_00000039.wav',\n",
       " 'C:\\\\Users\\\\DMT2KOR\\\\OneDrive - Robert Bosch GmbH\\\\Documents\\\\WORK\\\\PROJECTS\\\\PoCs\\\\Machine Sound Monitoring\\\\DATA\\\\DCASE2020\\\\pump_basedir\\\\dev_data\\\\pump\\\\test\\\\normal_id_04_00000040.wav',\n",
       " 'C:\\\\Users\\\\DMT2KOR\\\\OneDrive - Robert Bosch GmbH\\\\Documents\\\\WORK\\\\PROJECTS\\\\PoCs\\\\Machine Sound Monitoring\\\\DATA\\\\DCASE2020\\\\pump_basedir\\\\dev_data\\\\pump\\\\test\\\\normal_id_04_00000041.wav',\n",
       " 'C:\\\\Users\\\\DMT2KOR\\\\OneDrive - Robert Bosch GmbH\\\\Documents\\\\WORK\\\\PROJECTS\\\\PoCs\\\\Machine Sound Monitoring\\\\DATA\\\\DCASE2020\\\\pump_basedir\\\\dev_data\\\\pump\\\\test\\\\normal_id_04_00000042.wav',\n",
       " 'C:\\\\Users\\\\DMT2KOR\\\\OneDrive - Robert Bosch GmbH\\\\Documents\\\\WORK\\\\PROJECTS\\\\PoCs\\\\Machine Sound Monitoring\\\\DATA\\\\DCASE2020\\\\pump_basedir\\\\dev_data\\\\pump\\\\test\\\\normal_id_04_00000043.wav',\n",
       " 'C:\\\\Users\\\\DMT2KOR\\\\OneDrive - Robert Bosch GmbH\\\\Documents\\\\WORK\\\\PROJECTS\\\\PoCs\\\\Machine Sound Monitoring\\\\DATA\\\\DCASE2020\\\\pump_basedir\\\\dev_data\\\\pump\\\\test\\\\normal_id_04_00000044.wav',\n",
       " 'C:\\\\Users\\\\DMT2KOR\\\\OneDrive - Robert Bosch GmbH\\\\Documents\\\\WORK\\\\PROJECTS\\\\PoCs\\\\Machine Sound Monitoring\\\\DATA\\\\DCASE2020\\\\pump_basedir\\\\dev_data\\\\pump\\\\test\\\\normal_id_04_00000045.wav',\n",
       " 'C:\\\\Users\\\\DMT2KOR\\\\OneDrive - Robert Bosch GmbH\\\\Documents\\\\WORK\\\\PROJECTS\\\\PoCs\\\\Machine Sound Monitoring\\\\DATA\\\\DCASE2020\\\\pump_basedir\\\\dev_data\\\\pump\\\\test\\\\normal_id_04_00000046.wav',\n",
       " 'C:\\\\Users\\\\DMT2KOR\\\\OneDrive - Robert Bosch GmbH\\\\Documents\\\\WORK\\\\PROJECTS\\\\PoCs\\\\Machine Sound Monitoring\\\\DATA\\\\DCASE2020\\\\pump_basedir\\\\dev_data\\\\pump\\\\test\\\\normal_id_04_00000047.wav',\n",
       " 'C:\\\\Users\\\\DMT2KOR\\\\OneDrive - Robert Bosch GmbH\\\\Documents\\\\WORK\\\\PROJECTS\\\\PoCs\\\\Machine Sound Monitoring\\\\DATA\\\\DCASE2020\\\\pump_basedir\\\\dev_data\\\\pump\\\\test\\\\normal_id_04_00000048.wav',\n",
       " 'C:\\\\Users\\\\DMT2KOR\\\\OneDrive - Robert Bosch GmbH\\\\Documents\\\\WORK\\\\PROJECTS\\\\PoCs\\\\Machine Sound Monitoring\\\\DATA\\\\DCASE2020\\\\pump_basedir\\\\dev_data\\\\pump\\\\test\\\\normal_id_04_00000049.wav',\n",
       " 'C:\\\\Users\\\\DMT2KOR\\\\OneDrive - Robert Bosch GmbH\\\\Documents\\\\WORK\\\\PROJECTS\\\\PoCs\\\\Machine Sound Monitoring\\\\DATA\\\\DCASE2020\\\\pump_basedir\\\\dev_data\\\\pump\\\\test\\\\normal_id_04_00000050.wav',\n",
       " 'C:\\\\Users\\\\DMT2KOR\\\\OneDrive - Robert Bosch GmbH\\\\Documents\\\\WORK\\\\PROJECTS\\\\PoCs\\\\Machine Sound Monitoring\\\\DATA\\\\DCASE2020\\\\pump_basedir\\\\dev_data\\\\pump\\\\test\\\\normal_id_04_00000051.wav',\n",
       " 'C:\\\\Users\\\\DMT2KOR\\\\OneDrive - Robert Bosch GmbH\\\\Documents\\\\WORK\\\\PROJECTS\\\\PoCs\\\\Machine Sound Monitoring\\\\DATA\\\\DCASE2020\\\\pump_basedir\\\\dev_data\\\\pump\\\\test\\\\normal_id_04_00000052.wav',\n",
       " 'C:\\\\Users\\\\DMT2KOR\\\\OneDrive - Robert Bosch GmbH\\\\Documents\\\\WORK\\\\PROJECTS\\\\PoCs\\\\Machine Sound Monitoring\\\\DATA\\\\DCASE2020\\\\pump_basedir\\\\dev_data\\\\pump\\\\test\\\\normal_id_04_00000053.wav',\n",
       " 'C:\\\\Users\\\\DMT2KOR\\\\OneDrive - Robert Bosch GmbH\\\\Documents\\\\WORK\\\\PROJECTS\\\\PoCs\\\\Machine Sound Monitoring\\\\DATA\\\\DCASE2020\\\\pump_basedir\\\\dev_data\\\\pump\\\\test\\\\normal_id_04_00000054.wav',\n",
       " 'C:\\\\Users\\\\DMT2KOR\\\\OneDrive - Robert Bosch GmbH\\\\Documents\\\\WORK\\\\PROJECTS\\\\PoCs\\\\Machine Sound Monitoring\\\\DATA\\\\DCASE2020\\\\pump_basedir\\\\dev_data\\\\pump\\\\test\\\\normal_id_04_00000055.wav',\n",
       " 'C:\\\\Users\\\\DMT2KOR\\\\OneDrive - Robert Bosch GmbH\\\\Documents\\\\WORK\\\\PROJECTS\\\\PoCs\\\\Machine Sound Monitoring\\\\DATA\\\\DCASE2020\\\\pump_basedir\\\\dev_data\\\\pump\\\\test\\\\normal_id_04_00000056.wav',\n",
       " 'C:\\\\Users\\\\DMT2KOR\\\\OneDrive - Robert Bosch GmbH\\\\Documents\\\\WORK\\\\PROJECTS\\\\PoCs\\\\Machine Sound Monitoring\\\\DATA\\\\DCASE2020\\\\pump_basedir\\\\dev_data\\\\pump\\\\test\\\\normal_id_04_00000057.wav',\n",
       " 'C:\\\\Users\\\\DMT2KOR\\\\OneDrive - Robert Bosch GmbH\\\\Documents\\\\WORK\\\\PROJECTS\\\\PoCs\\\\Machine Sound Monitoring\\\\DATA\\\\DCASE2020\\\\pump_basedir\\\\dev_data\\\\pump\\\\test\\\\normal_id_04_00000058.wav',\n",
       " 'C:\\\\Users\\\\DMT2KOR\\\\OneDrive - Robert Bosch GmbH\\\\Documents\\\\WORK\\\\PROJECTS\\\\PoCs\\\\Machine Sound Monitoring\\\\DATA\\\\DCASE2020\\\\pump_basedir\\\\dev_data\\\\pump\\\\test\\\\normal_id_04_00000059.wav',\n",
       " 'C:\\\\Users\\\\DMT2KOR\\\\OneDrive - Robert Bosch GmbH\\\\Documents\\\\WORK\\\\PROJECTS\\\\PoCs\\\\Machine Sound Monitoring\\\\DATA\\\\DCASE2020\\\\pump_basedir\\\\dev_data\\\\pump\\\\test\\\\normal_id_04_00000060.wav',\n",
       " 'C:\\\\Users\\\\DMT2KOR\\\\OneDrive - Robert Bosch GmbH\\\\Documents\\\\WORK\\\\PROJECTS\\\\PoCs\\\\Machine Sound Monitoring\\\\DATA\\\\DCASE2020\\\\pump_basedir\\\\dev_data\\\\pump\\\\test\\\\normal_id_04_00000061.wav',\n",
       " 'C:\\\\Users\\\\DMT2KOR\\\\OneDrive - Robert Bosch GmbH\\\\Documents\\\\WORK\\\\PROJECTS\\\\PoCs\\\\Machine Sound Monitoring\\\\DATA\\\\DCASE2020\\\\pump_basedir\\\\dev_data\\\\pump\\\\test\\\\normal_id_04_00000062.wav',\n",
       " 'C:\\\\Users\\\\DMT2KOR\\\\OneDrive - Robert Bosch GmbH\\\\Documents\\\\WORK\\\\PROJECTS\\\\PoCs\\\\Machine Sound Monitoring\\\\DATA\\\\DCASE2020\\\\pump_basedir\\\\dev_data\\\\pump\\\\test\\\\normal_id_04_00000063.wav',\n",
       " 'C:\\\\Users\\\\DMT2KOR\\\\OneDrive - Robert Bosch GmbH\\\\Documents\\\\WORK\\\\PROJECTS\\\\PoCs\\\\Machine Sound Monitoring\\\\DATA\\\\DCASE2020\\\\pump_basedir\\\\dev_data\\\\pump\\\\test\\\\normal_id_04_00000064.wav',\n",
       " 'C:\\\\Users\\\\DMT2KOR\\\\OneDrive - Robert Bosch GmbH\\\\Documents\\\\WORK\\\\PROJECTS\\\\PoCs\\\\Machine Sound Monitoring\\\\DATA\\\\DCASE2020\\\\pump_basedir\\\\dev_data\\\\pump\\\\test\\\\normal_id_04_00000065.wav',\n",
       " 'C:\\\\Users\\\\DMT2KOR\\\\OneDrive - Robert Bosch GmbH\\\\Documents\\\\WORK\\\\PROJECTS\\\\PoCs\\\\Machine Sound Monitoring\\\\DATA\\\\DCASE2020\\\\pump_basedir\\\\dev_data\\\\pump\\\\test\\\\normal_id_04_00000066.wav',\n",
       " 'C:\\\\Users\\\\DMT2KOR\\\\OneDrive - Robert Bosch GmbH\\\\Documents\\\\WORK\\\\PROJECTS\\\\PoCs\\\\Machine Sound Monitoring\\\\DATA\\\\DCASE2020\\\\pump_basedir\\\\dev_data\\\\pump\\\\test\\\\normal_id_04_00000067.wav',\n",
       " 'C:\\\\Users\\\\DMT2KOR\\\\OneDrive - Robert Bosch GmbH\\\\Documents\\\\WORK\\\\PROJECTS\\\\PoCs\\\\Machine Sound Monitoring\\\\DATA\\\\DCASE2020\\\\pump_basedir\\\\dev_data\\\\pump\\\\test\\\\normal_id_04_00000068.wav',\n",
       " 'C:\\\\Users\\\\DMT2KOR\\\\OneDrive - Robert Bosch GmbH\\\\Documents\\\\WORK\\\\PROJECTS\\\\PoCs\\\\Machine Sound Monitoring\\\\DATA\\\\DCASE2020\\\\pump_basedir\\\\dev_data\\\\pump\\\\test\\\\normal_id_04_00000069.wav',\n",
       " 'C:\\\\Users\\\\DMT2KOR\\\\OneDrive - Robert Bosch GmbH\\\\Documents\\\\WORK\\\\PROJECTS\\\\PoCs\\\\Machine Sound Monitoring\\\\DATA\\\\DCASE2020\\\\pump_basedir\\\\dev_data\\\\pump\\\\test\\\\normal_id_04_00000070.wav',\n",
       " 'C:\\\\Users\\\\DMT2KOR\\\\OneDrive - Robert Bosch GmbH\\\\Documents\\\\WORK\\\\PROJECTS\\\\PoCs\\\\Machine Sound Monitoring\\\\DATA\\\\DCASE2020\\\\pump_basedir\\\\dev_data\\\\pump\\\\test\\\\normal_id_04_00000071.wav',\n",
       " 'C:\\\\Users\\\\DMT2KOR\\\\OneDrive - Robert Bosch GmbH\\\\Documents\\\\WORK\\\\PROJECTS\\\\PoCs\\\\Machine Sound Monitoring\\\\DATA\\\\DCASE2020\\\\pump_basedir\\\\dev_data\\\\pump\\\\test\\\\normal_id_04_00000072.wav',\n",
       " 'C:\\\\Users\\\\DMT2KOR\\\\OneDrive - Robert Bosch GmbH\\\\Documents\\\\WORK\\\\PROJECTS\\\\PoCs\\\\Machine Sound Monitoring\\\\DATA\\\\DCASE2020\\\\pump_basedir\\\\dev_data\\\\pump\\\\test\\\\normal_id_04_00000073.wav',\n",
       " 'C:\\\\Users\\\\DMT2KOR\\\\OneDrive - Robert Bosch GmbH\\\\Documents\\\\WORK\\\\PROJECTS\\\\PoCs\\\\Machine Sound Monitoring\\\\DATA\\\\DCASE2020\\\\pump_basedir\\\\dev_data\\\\pump\\\\test\\\\normal_id_04_00000074.wav',\n",
       " 'C:\\\\Users\\\\DMT2KOR\\\\OneDrive - Robert Bosch GmbH\\\\Documents\\\\WORK\\\\PROJECTS\\\\PoCs\\\\Machine Sound Monitoring\\\\DATA\\\\DCASE2020\\\\pump_basedir\\\\dev_data\\\\pump\\\\test\\\\normal_id_04_00000075.wav',\n",
       " 'C:\\\\Users\\\\DMT2KOR\\\\OneDrive - Robert Bosch GmbH\\\\Documents\\\\WORK\\\\PROJECTS\\\\PoCs\\\\Machine Sound Monitoring\\\\DATA\\\\DCASE2020\\\\pump_basedir\\\\dev_data\\\\pump\\\\test\\\\normal_id_04_00000076.wav',\n",
       " 'C:\\\\Users\\\\DMT2KOR\\\\OneDrive - Robert Bosch GmbH\\\\Documents\\\\WORK\\\\PROJECTS\\\\PoCs\\\\Machine Sound Monitoring\\\\DATA\\\\DCASE2020\\\\pump_basedir\\\\dev_data\\\\pump\\\\test\\\\normal_id_04_00000077.wav',\n",
       " 'C:\\\\Users\\\\DMT2KOR\\\\OneDrive - Robert Bosch GmbH\\\\Documents\\\\WORK\\\\PROJECTS\\\\PoCs\\\\Machine Sound Monitoring\\\\DATA\\\\DCASE2020\\\\pump_basedir\\\\dev_data\\\\pump\\\\test\\\\normal_id_04_00000078.wav',\n",
       " 'C:\\\\Users\\\\DMT2KOR\\\\OneDrive - Robert Bosch GmbH\\\\Documents\\\\WORK\\\\PROJECTS\\\\PoCs\\\\Machine Sound Monitoring\\\\DATA\\\\DCASE2020\\\\pump_basedir\\\\dev_data\\\\pump\\\\test\\\\normal_id_04_00000079.wav',\n",
       " 'C:\\\\Users\\\\DMT2KOR\\\\OneDrive - Robert Bosch GmbH\\\\Documents\\\\WORK\\\\PROJECTS\\\\PoCs\\\\Machine Sound Monitoring\\\\DATA\\\\DCASE2020\\\\pump_basedir\\\\dev_data\\\\pump\\\\test\\\\normal_id_04_00000080.wav',\n",
       " 'C:\\\\Users\\\\DMT2KOR\\\\OneDrive - Robert Bosch GmbH\\\\Documents\\\\WORK\\\\PROJECTS\\\\PoCs\\\\Machine Sound Monitoring\\\\DATA\\\\DCASE2020\\\\pump_basedir\\\\dev_data\\\\pump\\\\test\\\\normal_id_04_00000081.wav',\n",
       " 'C:\\\\Users\\\\DMT2KOR\\\\OneDrive - Robert Bosch GmbH\\\\Documents\\\\WORK\\\\PROJECTS\\\\PoCs\\\\Machine Sound Monitoring\\\\DATA\\\\DCASE2020\\\\pump_basedir\\\\dev_data\\\\pump\\\\test\\\\normal_id_04_00000082.wav',\n",
       " 'C:\\\\Users\\\\DMT2KOR\\\\OneDrive - Robert Bosch GmbH\\\\Documents\\\\WORK\\\\PROJECTS\\\\PoCs\\\\Machine Sound Monitoring\\\\DATA\\\\DCASE2020\\\\pump_basedir\\\\dev_data\\\\pump\\\\test\\\\normal_id_04_00000083.wav',\n",
       " 'C:\\\\Users\\\\DMT2KOR\\\\OneDrive - Robert Bosch GmbH\\\\Documents\\\\WORK\\\\PROJECTS\\\\PoCs\\\\Machine Sound Monitoring\\\\DATA\\\\DCASE2020\\\\pump_basedir\\\\dev_data\\\\pump\\\\test\\\\normal_id_04_00000084.wav',\n",
       " 'C:\\\\Users\\\\DMT2KOR\\\\OneDrive - Robert Bosch GmbH\\\\Documents\\\\WORK\\\\PROJECTS\\\\PoCs\\\\Machine Sound Monitoring\\\\DATA\\\\DCASE2020\\\\pump_basedir\\\\dev_data\\\\pump\\\\test\\\\normal_id_04_00000085.wav',\n",
       " 'C:\\\\Users\\\\DMT2KOR\\\\OneDrive - Robert Bosch GmbH\\\\Documents\\\\WORK\\\\PROJECTS\\\\PoCs\\\\Machine Sound Monitoring\\\\DATA\\\\DCASE2020\\\\pump_basedir\\\\dev_data\\\\pump\\\\test\\\\normal_id_04_00000086.wav',\n",
       " 'C:\\\\Users\\\\DMT2KOR\\\\OneDrive - Robert Bosch GmbH\\\\Documents\\\\WORK\\\\PROJECTS\\\\PoCs\\\\Machine Sound Monitoring\\\\DATA\\\\DCASE2020\\\\pump_basedir\\\\dev_data\\\\pump\\\\test\\\\normal_id_04_00000087.wav',\n",
       " 'C:\\\\Users\\\\DMT2KOR\\\\OneDrive - Robert Bosch GmbH\\\\Documents\\\\WORK\\\\PROJECTS\\\\PoCs\\\\Machine Sound Monitoring\\\\DATA\\\\DCASE2020\\\\pump_basedir\\\\dev_data\\\\pump\\\\test\\\\normal_id_04_00000088.wav',\n",
       " 'C:\\\\Users\\\\DMT2KOR\\\\OneDrive - Robert Bosch GmbH\\\\Documents\\\\WORK\\\\PROJECTS\\\\PoCs\\\\Machine Sound Monitoring\\\\DATA\\\\DCASE2020\\\\pump_basedir\\\\dev_data\\\\pump\\\\test\\\\normal_id_04_00000089.wav',\n",
       " 'C:\\\\Users\\\\DMT2KOR\\\\OneDrive - Robert Bosch GmbH\\\\Documents\\\\WORK\\\\PROJECTS\\\\PoCs\\\\Machine Sound Monitoring\\\\DATA\\\\DCASE2020\\\\pump_basedir\\\\dev_data\\\\pump\\\\test\\\\normal_id_04_00000090.wav',\n",
       " 'C:\\\\Users\\\\DMT2KOR\\\\OneDrive - Robert Bosch GmbH\\\\Documents\\\\WORK\\\\PROJECTS\\\\PoCs\\\\Machine Sound Monitoring\\\\DATA\\\\DCASE2020\\\\pump_basedir\\\\dev_data\\\\pump\\\\test\\\\normal_id_04_00000091.wav',\n",
       " 'C:\\\\Users\\\\DMT2KOR\\\\OneDrive - Robert Bosch GmbH\\\\Documents\\\\WORK\\\\PROJECTS\\\\PoCs\\\\Machine Sound Monitoring\\\\DATA\\\\DCASE2020\\\\pump_basedir\\\\dev_data\\\\pump\\\\test\\\\normal_id_04_00000092.wav',\n",
       " 'C:\\\\Users\\\\DMT2KOR\\\\OneDrive - Robert Bosch GmbH\\\\Documents\\\\WORK\\\\PROJECTS\\\\PoCs\\\\Machine Sound Monitoring\\\\DATA\\\\DCASE2020\\\\pump_basedir\\\\dev_data\\\\pump\\\\test\\\\normal_id_04_00000093.wav',\n",
       " 'C:\\\\Users\\\\DMT2KOR\\\\OneDrive - Robert Bosch GmbH\\\\Documents\\\\WORK\\\\PROJECTS\\\\PoCs\\\\Machine Sound Monitoring\\\\DATA\\\\DCASE2020\\\\pump_basedir\\\\dev_data\\\\pump\\\\test\\\\normal_id_04_00000094.wav',\n",
       " 'C:\\\\Users\\\\DMT2KOR\\\\OneDrive - Robert Bosch GmbH\\\\Documents\\\\WORK\\\\PROJECTS\\\\PoCs\\\\Machine Sound Monitoring\\\\DATA\\\\DCASE2020\\\\pump_basedir\\\\dev_data\\\\pump\\\\test\\\\normal_id_04_00000095.wav',\n",
       " 'C:\\\\Users\\\\DMT2KOR\\\\OneDrive - Robert Bosch GmbH\\\\Documents\\\\WORK\\\\PROJECTS\\\\PoCs\\\\Machine Sound Monitoring\\\\DATA\\\\DCASE2020\\\\pump_basedir\\\\dev_data\\\\pump\\\\test\\\\normal_id_04_00000096.wav',\n",
       " 'C:\\\\Users\\\\DMT2KOR\\\\OneDrive - Robert Bosch GmbH\\\\Documents\\\\WORK\\\\PROJECTS\\\\PoCs\\\\Machine Sound Monitoring\\\\DATA\\\\DCASE2020\\\\pump_basedir\\\\dev_data\\\\pump\\\\test\\\\normal_id_04_00000097.wav',\n",
       " 'C:\\\\Users\\\\DMT2KOR\\\\OneDrive - Robert Bosch GmbH\\\\Documents\\\\WORK\\\\PROJECTS\\\\PoCs\\\\Machine Sound Monitoring\\\\DATA\\\\DCASE2020\\\\pump_basedir\\\\dev_data\\\\pump\\\\test\\\\normal_id_04_00000098.wav',\n",
       " 'C:\\\\Users\\\\DMT2KOR\\\\OneDrive - Robert Bosch GmbH\\\\Documents\\\\WORK\\\\PROJECTS\\\\PoCs\\\\Machine Sound Monitoring\\\\DATA\\\\DCASE2020\\\\pump_basedir\\\\dev_data\\\\pump\\\\test\\\\normal_id_04_00000099.wav',\n",
       " 'C:\\\\Users\\\\DMT2KOR\\\\OneDrive - Robert Bosch GmbH\\\\Documents\\\\WORK\\\\PROJECTS\\\\PoCs\\\\Machine Sound Monitoring\\\\DATA\\\\DCASE2020\\\\pump_basedir\\\\dev_data\\\\pump\\\\test\\\\normal_id_06_00000000.wav',\n",
       " 'C:\\\\Users\\\\DMT2KOR\\\\OneDrive - Robert Bosch GmbH\\\\Documents\\\\WORK\\\\PROJECTS\\\\PoCs\\\\Machine Sound Monitoring\\\\DATA\\\\DCASE2020\\\\pump_basedir\\\\dev_data\\\\pump\\\\test\\\\normal_id_06_00000001.wav',\n",
       " 'C:\\\\Users\\\\DMT2KOR\\\\OneDrive - Robert Bosch GmbH\\\\Documents\\\\WORK\\\\PROJECTS\\\\PoCs\\\\Machine Sound Monitoring\\\\DATA\\\\DCASE2020\\\\pump_basedir\\\\dev_data\\\\pump\\\\test\\\\normal_id_06_00000002.wav',\n",
       " 'C:\\\\Users\\\\DMT2KOR\\\\OneDrive - Robert Bosch GmbH\\\\Documents\\\\WORK\\\\PROJECTS\\\\PoCs\\\\Machine Sound Monitoring\\\\DATA\\\\DCASE2020\\\\pump_basedir\\\\dev_data\\\\pump\\\\test\\\\normal_id_06_00000003.wav',\n",
       " 'C:\\\\Users\\\\DMT2KOR\\\\OneDrive - Robert Bosch GmbH\\\\Documents\\\\WORK\\\\PROJECTS\\\\PoCs\\\\Machine Sound Monitoring\\\\DATA\\\\DCASE2020\\\\pump_basedir\\\\dev_data\\\\pump\\\\test\\\\normal_id_06_00000004.wav',\n",
       " 'C:\\\\Users\\\\DMT2KOR\\\\OneDrive - Robert Bosch GmbH\\\\Documents\\\\WORK\\\\PROJECTS\\\\PoCs\\\\Machine Sound Monitoring\\\\DATA\\\\DCASE2020\\\\pump_basedir\\\\dev_data\\\\pump\\\\test\\\\normal_id_06_00000005.wav',\n",
       " 'C:\\\\Users\\\\DMT2KOR\\\\OneDrive - Robert Bosch GmbH\\\\Documents\\\\WORK\\\\PROJECTS\\\\PoCs\\\\Machine Sound Monitoring\\\\DATA\\\\DCASE2020\\\\pump_basedir\\\\dev_data\\\\pump\\\\test\\\\normal_id_06_00000006.wav',\n",
       " 'C:\\\\Users\\\\DMT2KOR\\\\OneDrive - Robert Bosch GmbH\\\\Documents\\\\WORK\\\\PROJECTS\\\\PoCs\\\\Machine Sound Monitoring\\\\DATA\\\\DCASE2020\\\\pump_basedir\\\\dev_data\\\\pump\\\\test\\\\normal_id_06_00000007.wav',\n",
       " 'C:\\\\Users\\\\DMT2KOR\\\\OneDrive - Robert Bosch GmbH\\\\Documents\\\\WORK\\\\PROJECTS\\\\PoCs\\\\Machine Sound Monitoring\\\\DATA\\\\DCASE2020\\\\pump_basedir\\\\dev_data\\\\pump\\\\test\\\\normal_id_06_00000008.wav',\n",
       " 'C:\\\\Users\\\\DMT2KOR\\\\OneDrive - Robert Bosch GmbH\\\\Documents\\\\WORK\\\\PROJECTS\\\\PoCs\\\\Machine Sound Monitoring\\\\DATA\\\\DCASE2020\\\\pump_basedir\\\\dev_data\\\\pump\\\\test\\\\normal_id_06_00000009.wav',\n",
       " 'C:\\\\Users\\\\DMT2KOR\\\\OneDrive - Robert Bosch GmbH\\\\Documents\\\\WORK\\\\PROJECTS\\\\PoCs\\\\Machine Sound Monitoring\\\\DATA\\\\DCASE2020\\\\pump_basedir\\\\dev_data\\\\pump\\\\test\\\\normal_id_06_00000010.wav',\n",
       " 'C:\\\\Users\\\\DMT2KOR\\\\OneDrive - Robert Bosch GmbH\\\\Documents\\\\WORK\\\\PROJECTS\\\\PoCs\\\\Machine Sound Monitoring\\\\DATA\\\\DCASE2020\\\\pump_basedir\\\\dev_data\\\\pump\\\\test\\\\normal_id_06_00000011.wav',\n",
       " 'C:\\\\Users\\\\DMT2KOR\\\\OneDrive - Robert Bosch GmbH\\\\Documents\\\\WORK\\\\PROJECTS\\\\PoCs\\\\Machine Sound Monitoring\\\\DATA\\\\DCASE2020\\\\pump_basedir\\\\dev_data\\\\pump\\\\test\\\\normal_id_06_00000012.wav',\n",
       " 'C:\\\\Users\\\\DMT2KOR\\\\OneDrive - Robert Bosch GmbH\\\\Documents\\\\WORK\\\\PROJECTS\\\\PoCs\\\\Machine Sound Monitoring\\\\DATA\\\\DCASE2020\\\\pump_basedir\\\\dev_data\\\\pump\\\\test\\\\normal_id_06_00000013.wav',\n",
       " 'C:\\\\Users\\\\DMT2KOR\\\\OneDrive - Robert Bosch GmbH\\\\Documents\\\\WORK\\\\PROJECTS\\\\PoCs\\\\Machine Sound Monitoring\\\\DATA\\\\DCASE2020\\\\pump_basedir\\\\dev_data\\\\pump\\\\test\\\\normal_id_06_00000014.wav',\n",
       " 'C:\\\\Users\\\\DMT2KOR\\\\OneDrive - Robert Bosch GmbH\\\\Documents\\\\WORK\\\\PROJECTS\\\\PoCs\\\\Machine Sound Monitoring\\\\DATA\\\\DCASE2020\\\\pump_basedir\\\\dev_data\\\\pump\\\\test\\\\normal_id_06_00000015.wav',\n",
       " 'C:\\\\Users\\\\DMT2KOR\\\\OneDrive - Robert Bosch GmbH\\\\Documents\\\\WORK\\\\PROJECTS\\\\PoCs\\\\Machine Sound Monitoring\\\\DATA\\\\DCASE2020\\\\pump_basedir\\\\dev_data\\\\pump\\\\test\\\\normal_id_06_00000016.wav',\n",
       " 'C:\\\\Users\\\\DMT2KOR\\\\OneDrive - Robert Bosch GmbH\\\\Documents\\\\WORK\\\\PROJECTS\\\\PoCs\\\\Machine Sound Monitoring\\\\DATA\\\\DCASE2020\\\\pump_basedir\\\\dev_data\\\\pump\\\\test\\\\normal_id_06_00000017.wav',\n",
       " 'C:\\\\Users\\\\DMT2KOR\\\\OneDrive - Robert Bosch GmbH\\\\Documents\\\\WORK\\\\PROJECTS\\\\PoCs\\\\Machine Sound Monitoring\\\\DATA\\\\DCASE2020\\\\pump_basedir\\\\dev_data\\\\pump\\\\test\\\\normal_id_06_00000018.wav',\n",
       " 'C:\\\\Users\\\\DMT2KOR\\\\OneDrive - Robert Bosch GmbH\\\\Documents\\\\WORK\\\\PROJECTS\\\\PoCs\\\\Machine Sound Monitoring\\\\DATA\\\\DCASE2020\\\\pump_basedir\\\\dev_data\\\\pump\\\\test\\\\normal_id_06_00000019.wav',\n",
       " 'C:\\\\Users\\\\DMT2KOR\\\\OneDrive - Robert Bosch GmbH\\\\Documents\\\\WORK\\\\PROJECTS\\\\PoCs\\\\Machine Sound Monitoring\\\\DATA\\\\DCASE2020\\\\pump_basedir\\\\dev_data\\\\pump\\\\test\\\\normal_id_06_00000020.wav',\n",
       " 'C:\\\\Users\\\\DMT2KOR\\\\OneDrive - Robert Bosch GmbH\\\\Documents\\\\WORK\\\\PROJECTS\\\\PoCs\\\\Machine Sound Monitoring\\\\DATA\\\\DCASE2020\\\\pump_basedir\\\\dev_data\\\\pump\\\\test\\\\normal_id_06_00000021.wav',\n",
       " 'C:\\\\Users\\\\DMT2KOR\\\\OneDrive - Robert Bosch GmbH\\\\Documents\\\\WORK\\\\PROJECTS\\\\PoCs\\\\Machine Sound Monitoring\\\\DATA\\\\DCASE2020\\\\pump_basedir\\\\dev_data\\\\pump\\\\test\\\\normal_id_06_00000022.wav',\n",
       " 'C:\\\\Users\\\\DMT2KOR\\\\OneDrive - Robert Bosch GmbH\\\\Documents\\\\WORK\\\\PROJECTS\\\\PoCs\\\\Machine Sound Monitoring\\\\DATA\\\\DCASE2020\\\\pump_basedir\\\\dev_data\\\\pump\\\\test\\\\normal_id_06_00000023.wav',\n",
       " 'C:\\\\Users\\\\DMT2KOR\\\\OneDrive - Robert Bosch GmbH\\\\Documents\\\\WORK\\\\PROJECTS\\\\PoCs\\\\Machine Sound Monitoring\\\\DATA\\\\DCASE2020\\\\pump_basedir\\\\dev_data\\\\pump\\\\test\\\\normal_id_06_00000024.wav',\n",
       " 'C:\\\\Users\\\\DMT2KOR\\\\OneDrive - Robert Bosch GmbH\\\\Documents\\\\WORK\\\\PROJECTS\\\\PoCs\\\\Machine Sound Monitoring\\\\DATA\\\\DCASE2020\\\\pump_basedir\\\\dev_data\\\\pump\\\\test\\\\normal_id_06_00000025.wav',\n",
       " 'C:\\\\Users\\\\DMT2KOR\\\\OneDrive - Robert Bosch GmbH\\\\Documents\\\\WORK\\\\PROJECTS\\\\PoCs\\\\Machine Sound Monitoring\\\\DATA\\\\DCASE2020\\\\pump_basedir\\\\dev_data\\\\pump\\\\test\\\\normal_id_06_00000026.wav',\n",
       " 'C:\\\\Users\\\\DMT2KOR\\\\OneDrive - Robert Bosch GmbH\\\\Documents\\\\WORK\\\\PROJECTS\\\\PoCs\\\\Machine Sound Monitoring\\\\DATA\\\\DCASE2020\\\\pump_basedir\\\\dev_data\\\\pump\\\\test\\\\normal_id_06_00000027.wav',\n",
       " 'C:\\\\Users\\\\DMT2KOR\\\\OneDrive - Robert Bosch GmbH\\\\Documents\\\\WORK\\\\PROJECTS\\\\PoCs\\\\Machine Sound Monitoring\\\\DATA\\\\DCASE2020\\\\pump_basedir\\\\dev_data\\\\pump\\\\test\\\\normal_id_06_00000028.wav',\n",
       " 'C:\\\\Users\\\\DMT2KOR\\\\OneDrive - Robert Bosch GmbH\\\\Documents\\\\WORK\\\\PROJECTS\\\\PoCs\\\\Machine Sound Monitoring\\\\DATA\\\\DCASE2020\\\\pump_basedir\\\\dev_data\\\\pump\\\\test\\\\normal_id_06_00000029.wav',\n",
       " 'C:\\\\Users\\\\DMT2KOR\\\\OneDrive - Robert Bosch GmbH\\\\Documents\\\\WORK\\\\PROJECTS\\\\PoCs\\\\Machine Sound Monitoring\\\\DATA\\\\DCASE2020\\\\pump_basedir\\\\dev_data\\\\pump\\\\test\\\\normal_id_06_00000030.wav',\n",
       " 'C:\\\\Users\\\\DMT2KOR\\\\OneDrive - Robert Bosch GmbH\\\\Documents\\\\WORK\\\\PROJECTS\\\\PoCs\\\\Machine Sound Monitoring\\\\DATA\\\\DCASE2020\\\\pump_basedir\\\\dev_data\\\\pump\\\\test\\\\normal_id_06_00000031.wav',\n",
       " 'C:\\\\Users\\\\DMT2KOR\\\\OneDrive - Robert Bosch GmbH\\\\Documents\\\\WORK\\\\PROJECTS\\\\PoCs\\\\Machine Sound Monitoring\\\\DATA\\\\DCASE2020\\\\pump_basedir\\\\dev_data\\\\pump\\\\test\\\\normal_id_06_00000032.wav',\n",
       " 'C:\\\\Users\\\\DMT2KOR\\\\OneDrive - Robert Bosch GmbH\\\\Documents\\\\WORK\\\\PROJECTS\\\\PoCs\\\\Machine Sound Monitoring\\\\DATA\\\\DCASE2020\\\\pump_basedir\\\\dev_data\\\\pump\\\\test\\\\normal_id_06_00000033.wav',\n",
       " 'C:\\\\Users\\\\DMT2KOR\\\\OneDrive - Robert Bosch GmbH\\\\Documents\\\\WORK\\\\PROJECTS\\\\PoCs\\\\Machine Sound Monitoring\\\\DATA\\\\DCASE2020\\\\pump_basedir\\\\dev_data\\\\pump\\\\test\\\\normal_id_06_00000034.wav',\n",
       " 'C:\\\\Users\\\\DMT2KOR\\\\OneDrive - Robert Bosch GmbH\\\\Documents\\\\WORK\\\\PROJECTS\\\\PoCs\\\\Machine Sound Monitoring\\\\DATA\\\\DCASE2020\\\\pump_basedir\\\\dev_data\\\\pump\\\\test\\\\normal_id_06_00000035.wav',\n",
       " 'C:\\\\Users\\\\DMT2KOR\\\\OneDrive - Robert Bosch GmbH\\\\Documents\\\\WORK\\\\PROJECTS\\\\PoCs\\\\Machine Sound Monitoring\\\\DATA\\\\DCASE2020\\\\pump_basedir\\\\dev_data\\\\pump\\\\test\\\\normal_id_06_00000036.wav',\n",
       " 'C:\\\\Users\\\\DMT2KOR\\\\OneDrive - Robert Bosch GmbH\\\\Documents\\\\WORK\\\\PROJECTS\\\\PoCs\\\\Machine Sound Monitoring\\\\DATA\\\\DCASE2020\\\\pump_basedir\\\\dev_data\\\\pump\\\\test\\\\normal_id_06_00000037.wav',\n",
       " 'C:\\\\Users\\\\DMT2KOR\\\\OneDrive - Robert Bosch GmbH\\\\Documents\\\\WORK\\\\PROJECTS\\\\PoCs\\\\Machine Sound Monitoring\\\\DATA\\\\DCASE2020\\\\pump_basedir\\\\dev_data\\\\pump\\\\test\\\\normal_id_06_00000038.wav',\n",
       " 'C:\\\\Users\\\\DMT2KOR\\\\OneDrive - Robert Bosch GmbH\\\\Documents\\\\WORK\\\\PROJECTS\\\\PoCs\\\\Machine Sound Monitoring\\\\DATA\\\\DCASE2020\\\\pump_basedir\\\\dev_data\\\\pump\\\\test\\\\normal_id_06_00000039.wav',\n",
       " 'C:\\\\Users\\\\DMT2KOR\\\\OneDrive - Robert Bosch GmbH\\\\Documents\\\\WORK\\\\PROJECTS\\\\PoCs\\\\Machine Sound Monitoring\\\\DATA\\\\DCASE2020\\\\pump_basedir\\\\dev_data\\\\pump\\\\test\\\\normal_id_06_00000040.wav',\n",
       " 'C:\\\\Users\\\\DMT2KOR\\\\OneDrive - Robert Bosch GmbH\\\\Documents\\\\WORK\\\\PROJECTS\\\\PoCs\\\\Machine Sound Monitoring\\\\DATA\\\\DCASE2020\\\\pump_basedir\\\\dev_data\\\\pump\\\\test\\\\normal_id_06_00000041.wav',\n",
       " 'C:\\\\Users\\\\DMT2KOR\\\\OneDrive - Robert Bosch GmbH\\\\Documents\\\\WORK\\\\PROJECTS\\\\PoCs\\\\Machine Sound Monitoring\\\\DATA\\\\DCASE2020\\\\pump_basedir\\\\dev_data\\\\pump\\\\test\\\\normal_id_06_00000042.wav',\n",
       " 'C:\\\\Users\\\\DMT2KOR\\\\OneDrive - Robert Bosch GmbH\\\\Documents\\\\WORK\\\\PROJECTS\\\\PoCs\\\\Machine Sound Monitoring\\\\DATA\\\\DCASE2020\\\\pump_basedir\\\\dev_data\\\\pump\\\\test\\\\normal_id_06_00000043.wav',\n",
       " 'C:\\\\Users\\\\DMT2KOR\\\\OneDrive - Robert Bosch GmbH\\\\Documents\\\\WORK\\\\PROJECTS\\\\PoCs\\\\Machine Sound Monitoring\\\\DATA\\\\DCASE2020\\\\pump_basedir\\\\dev_data\\\\pump\\\\test\\\\normal_id_06_00000044.wav',\n",
       " 'C:\\\\Users\\\\DMT2KOR\\\\OneDrive - Robert Bosch GmbH\\\\Documents\\\\WORK\\\\PROJECTS\\\\PoCs\\\\Machine Sound Monitoring\\\\DATA\\\\DCASE2020\\\\pump_basedir\\\\dev_data\\\\pump\\\\test\\\\normal_id_06_00000045.wav',\n",
       " 'C:\\\\Users\\\\DMT2KOR\\\\OneDrive - Robert Bosch GmbH\\\\Documents\\\\WORK\\\\PROJECTS\\\\PoCs\\\\Machine Sound Monitoring\\\\DATA\\\\DCASE2020\\\\pump_basedir\\\\dev_data\\\\pump\\\\test\\\\normal_id_06_00000046.wav',\n",
       " 'C:\\\\Users\\\\DMT2KOR\\\\OneDrive - Robert Bosch GmbH\\\\Documents\\\\WORK\\\\PROJECTS\\\\PoCs\\\\Machine Sound Monitoring\\\\DATA\\\\DCASE2020\\\\pump_basedir\\\\dev_data\\\\pump\\\\test\\\\normal_id_06_00000047.wav',\n",
       " 'C:\\\\Users\\\\DMT2KOR\\\\OneDrive - Robert Bosch GmbH\\\\Documents\\\\WORK\\\\PROJECTS\\\\PoCs\\\\Machine Sound Monitoring\\\\DATA\\\\DCASE2020\\\\pump_basedir\\\\dev_data\\\\pump\\\\test\\\\normal_id_06_00000048.wav',\n",
       " 'C:\\\\Users\\\\DMT2KOR\\\\OneDrive - Robert Bosch GmbH\\\\Documents\\\\WORK\\\\PROJECTS\\\\PoCs\\\\Machine Sound Monitoring\\\\DATA\\\\DCASE2020\\\\pump_basedir\\\\dev_data\\\\pump\\\\test\\\\normal_id_06_00000049.wav',\n",
       " 'C:\\\\Users\\\\DMT2KOR\\\\OneDrive - Robert Bosch GmbH\\\\Documents\\\\WORK\\\\PROJECTS\\\\PoCs\\\\Machine Sound Monitoring\\\\DATA\\\\DCASE2020\\\\pump_basedir\\\\dev_data\\\\pump\\\\test\\\\normal_id_06_00000050.wav',\n",
       " 'C:\\\\Users\\\\DMT2KOR\\\\OneDrive - Robert Bosch GmbH\\\\Documents\\\\WORK\\\\PROJECTS\\\\PoCs\\\\Machine Sound Monitoring\\\\DATA\\\\DCASE2020\\\\pump_basedir\\\\dev_data\\\\pump\\\\test\\\\normal_id_06_00000051.wav',\n",
       " 'C:\\\\Users\\\\DMT2KOR\\\\OneDrive - Robert Bosch GmbH\\\\Documents\\\\WORK\\\\PROJECTS\\\\PoCs\\\\Machine Sound Monitoring\\\\DATA\\\\DCASE2020\\\\pump_basedir\\\\dev_data\\\\pump\\\\test\\\\normal_id_06_00000052.wav',\n",
       " 'C:\\\\Users\\\\DMT2KOR\\\\OneDrive - Robert Bosch GmbH\\\\Documents\\\\WORK\\\\PROJECTS\\\\PoCs\\\\Machine Sound Monitoring\\\\DATA\\\\DCASE2020\\\\pump_basedir\\\\dev_data\\\\pump\\\\test\\\\normal_id_06_00000053.wav',\n",
       " 'C:\\\\Users\\\\DMT2KOR\\\\OneDrive - Robert Bosch GmbH\\\\Documents\\\\WORK\\\\PROJECTS\\\\PoCs\\\\Machine Sound Monitoring\\\\DATA\\\\DCASE2020\\\\pump_basedir\\\\dev_data\\\\pump\\\\test\\\\normal_id_06_00000054.wav',\n",
       " 'C:\\\\Users\\\\DMT2KOR\\\\OneDrive - Robert Bosch GmbH\\\\Documents\\\\WORK\\\\PROJECTS\\\\PoCs\\\\Machine Sound Monitoring\\\\DATA\\\\DCASE2020\\\\pump_basedir\\\\dev_data\\\\pump\\\\test\\\\normal_id_06_00000055.wav',\n",
       " 'C:\\\\Users\\\\DMT2KOR\\\\OneDrive - Robert Bosch GmbH\\\\Documents\\\\WORK\\\\PROJECTS\\\\PoCs\\\\Machine Sound Monitoring\\\\DATA\\\\DCASE2020\\\\pump_basedir\\\\dev_data\\\\pump\\\\test\\\\normal_id_06_00000056.wav',\n",
       " 'C:\\\\Users\\\\DMT2KOR\\\\OneDrive - Robert Bosch GmbH\\\\Documents\\\\WORK\\\\PROJECTS\\\\PoCs\\\\Machine Sound Monitoring\\\\DATA\\\\DCASE2020\\\\pump_basedir\\\\dev_data\\\\pump\\\\test\\\\normal_id_06_00000057.wav',\n",
       " 'C:\\\\Users\\\\DMT2KOR\\\\OneDrive - Robert Bosch GmbH\\\\Documents\\\\WORK\\\\PROJECTS\\\\PoCs\\\\Machine Sound Monitoring\\\\DATA\\\\DCASE2020\\\\pump_basedir\\\\dev_data\\\\pump\\\\test\\\\normal_id_06_00000058.wav',\n",
       " 'C:\\\\Users\\\\DMT2KOR\\\\OneDrive - Robert Bosch GmbH\\\\Documents\\\\WORK\\\\PROJECTS\\\\PoCs\\\\Machine Sound Monitoring\\\\DATA\\\\DCASE2020\\\\pump_basedir\\\\dev_data\\\\pump\\\\test\\\\normal_id_06_00000059.wav',\n",
       " 'C:\\\\Users\\\\DMT2KOR\\\\OneDrive - Robert Bosch GmbH\\\\Documents\\\\WORK\\\\PROJECTS\\\\PoCs\\\\Machine Sound Monitoring\\\\DATA\\\\DCASE2020\\\\pump_basedir\\\\dev_data\\\\pump\\\\test\\\\normal_id_06_00000060.wav',\n",
       " 'C:\\\\Users\\\\DMT2KOR\\\\OneDrive - Robert Bosch GmbH\\\\Documents\\\\WORK\\\\PROJECTS\\\\PoCs\\\\Machine Sound Monitoring\\\\DATA\\\\DCASE2020\\\\pump_basedir\\\\dev_data\\\\pump\\\\test\\\\normal_id_06_00000061.wav',\n",
       " 'C:\\\\Users\\\\DMT2KOR\\\\OneDrive - Robert Bosch GmbH\\\\Documents\\\\WORK\\\\PROJECTS\\\\PoCs\\\\Machine Sound Monitoring\\\\DATA\\\\DCASE2020\\\\pump_basedir\\\\dev_data\\\\pump\\\\test\\\\normal_id_06_00000062.wav',\n",
       " 'C:\\\\Users\\\\DMT2KOR\\\\OneDrive - Robert Bosch GmbH\\\\Documents\\\\WORK\\\\PROJECTS\\\\PoCs\\\\Machine Sound Monitoring\\\\DATA\\\\DCASE2020\\\\pump_basedir\\\\dev_data\\\\pump\\\\test\\\\normal_id_06_00000063.wav',\n",
       " 'C:\\\\Users\\\\DMT2KOR\\\\OneDrive - Robert Bosch GmbH\\\\Documents\\\\WORK\\\\PROJECTS\\\\PoCs\\\\Machine Sound Monitoring\\\\DATA\\\\DCASE2020\\\\pump_basedir\\\\dev_data\\\\pump\\\\test\\\\normal_id_06_00000064.wav',\n",
       " 'C:\\\\Users\\\\DMT2KOR\\\\OneDrive - Robert Bosch GmbH\\\\Documents\\\\WORK\\\\PROJECTS\\\\PoCs\\\\Machine Sound Monitoring\\\\DATA\\\\DCASE2020\\\\pump_basedir\\\\dev_data\\\\pump\\\\test\\\\normal_id_06_00000065.wav',\n",
       " 'C:\\\\Users\\\\DMT2KOR\\\\OneDrive - Robert Bosch GmbH\\\\Documents\\\\WORK\\\\PROJECTS\\\\PoCs\\\\Machine Sound Monitoring\\\\DATA\\\\DCASE2020\\\\pump_basedir\\\\dev_data\\\\pump\\\\test\\\\normal_id_06_00000066.wav',\n",
       " 'C:\\\\Users\\\\DMT2KOR\\\\OneDrive - Robert Bosch GmbH\\\\Documents\\\\WORK\\\\PROJECTS\\\\PoCs\\\\Machine Sound Monitoring\\\\DATA\\\\DCASE2020\\\\pump_basedir\\\\dev_data\\\\pump\\\\test\\\\normal_id_06_00000067.wav',\n",
       " 'C:\\\\Users\\\\DMT2KOR\\\\OneDrive - Robert Bosch GmbH\\\\Documents\\\\WORK\\\\PROJECTS\\\\PoCs\\\\Machine Sound Monitoring\\\\DATA\\\\DCASE2020\\\\pump_basedir\\\\dev_data\\\\pump\\\\test\\\\normal_id_06_00000068.wav',\n",
       " 'C:\\\\Users\\\\DMT2KOR\\\\OneDrive - Robert Bosch GmbH\\\\Documents\\\\WORK\\\\PROJECTS\\\\PoCs\\\\Machine Sound Monitoring\\\\DATA\\\\DCASE2020\\\\pump_basedir\\\\dev_data\\\\pump\\\\test\\\\normal_id_06_00000069.wav',\n",
       " 'C:\\\\Users\\\\DMT2KOR\\\\OneDrive - Robert Bosch GmbH\\\\Documents\\\\WORK\\\\PROJECTS\\\\PoCs\\\\Machine Sound Monitoring\\\\DATA\\\\DCASE2020\\\\pump_basedir\\\\dev_data\\\\pump\\\\test\\\\normal_id_06_00000070.wav',\n",
       " 'C:\\\\Users\\\\DMT2KOR\\\\OneDrive - Robert Bosch GmbH\\\\Documents\\\\WORK\\\\PROJECTS\\\\PoCs\\\\Machine Sound Monitoring\\\\DATA\\\\DCASE2020\\\\pump_basedir\\\\dev_data\\\\pump\\\\test\\\\normal_id_06_00000071.wav',\n",
       " 'C:\\\\Users\\\\DMT2KOR\\\\OneDrive - Robert Bosch GmbH\\\\Documents\\\\WORK\\\\PROJECTS\\\\PoCs\\\\Machine Sound Monitoring\\\\DATA\\\\DCASE2020\\\\pump_basedir\\\\dev_data\\\\pump\\\\test\\\\normal_id_06_00000072.wav',\n",
       " 'C:\\\\Users\\\\DMT2KOR\\\\OneDrive - Robert Bosch GmbH\\\\Documents\\\\WORK\\\\PROJECTS\\\\PoCs\\\\Machine Sound Monitoring\\\\DATA\\\\DCASE2020\\\\pump_basedir\\\\dev_data\\\\pump\\\\test\\\\normal_id_06_00000073.wav',\n",
       " 'C:\\\\Users\\\\DMT2KOR\\\\OneDrive - Robert Bosch GmbH\\\\Documents\\\\WORK\\\\PROJECTS\\\\PoCs\\\\Machine Sound Monitoring\\\\DATA\\\\DCASE2020\\\\pump_basedir\\\\dev_data\\\\pump\\\\test\\\\normal_id_06_00000074.wav',\n",
       " 'C:\\\\Users\\\\DMT2KOR\\\\OneDrive - Robert Bosch GmbH\\\\Documents\\\\WORK\\\\PROJECTS\\\\PoCs\\\\Machine Sound Monitoring\\\\DATA\\\\DCASE2020\\\\pump_basedir\\\\dev_data\\\\pump\\\\test\\\\normal_id_06_00000075.wav',\n",
       " 'C:\\\\Users\\\\DMT2KOR\\\\OneDrive - Robert Bosch GmbH\\\\Documents\\\\WORK\\\\PROJECTS\\\\PoCs\\\\Machine Sound Monitoring\\\\DATA\\\\DCASE2020\\\\pump_basedir\\\\dev_data\\\\pump\\\\test\\\\normal_id_06_00000076.wav',\n",
       " 'C:\\\\Users\\\\DMT2KOR\\\\OneDrive - Robert Bosch GmbH\\\\Documents\\\\WORK\\\\PROJECTS\\\\PoCs\\\\Machine Sound Monitoring\\\\DATA\\\\DCASE2020\\\\pump_basedir\\\\dev_data\\\\pump\\\\test\\\\normal_id_06_00000077.wav',\n",
       " 'C:\\\\Users\\\\DMT2KOR\\\\OneDrive - Robert Bosch GmbH\\\\Documents\\\\WORK\\\\PROJECTS\\\\PoCs\\\\Machine Sound Monitoring\\\\DATA\\\\DCASE2020\\\\pump_basedir\\\\dev_data\\\\pump\\\\test\\\\normal_id_06_00000078.wav',\n",
       " 'C:\\\\Users\\\\DMT2KOR\\\\OneDrive - Robert Bosch GmbH\\\\Documents\\\\WORK\\\\PROJECTS\\\\PoCs\\\\Machine Sound Monitoring\\\\DATA\\\\DCASE2020\\\\pump_basedir\\\\dev_data\\\\pump\\\\test\\\\normal_id_06_00000079.wav',\n",
       " 'C:\\\\Users\\\\DMT2KOR\\\\OneDrive - Robert Bosch GmbH\\\\Documents\\\\WORK\\\\PROJECTS\\\\PoCs\\\\Machine Sound Monitoring\\\\DATA\\\\DCASE2020\\\\pump_basedir\\\\dev_data\\\\pump\\\\test\\\\normal_id_06_00000080.wav',\n",
       " 'C:\\\\Users\\\\DMT2KOR\\\\OneDrive - Robert Bosch GmbH\\\\Documents\\\\WORK\\\\PROJECTS\\\\PoCs\\\\Machine Sound Monitoring\\\\DATA\\\\DCASE2020\\\\pump_basedir\\\\dev_data\\\\pump\\\\test\\\\normal_id_06_00000081.wav',\n",
       " 'C:\\\\Users\\\\DMT2KOR\\\\OneDrive - Robert Bosch GmbH\\\\Documents\\\\WORK\\\\PROJECTS\\\\PoCs\\\\Machine Sound Monitoring\\\\DATA\\\\DCASE2020\\\\pump_basedir\\\\dev_data\\\\pump\\\\test\\\\normal_id_06_00000082.wav',\n",
       " 'C:\\\\Users\\\\DMT2KOR\\\\OneDrive - Robert Bosch GmbH\\\\Documents\\\\WORK\\\\PROJECTS\\\\PoCs\\\\Machine Sound Monitoring\\\\DATA\\\\DCASE2020\\\\pump_basedir\\\\dev_data\\\\pump\\\\test\\\\normal_id_06_00000083.wav',\n",
       " 'C:\\\\Users\\\\DMT2KOR\\\\OneDrive - Robert Bosch GmbH\\\\Documents\\\\WORK\\\\PROJECTS\\\\PoCs\\\\Machine Sound Monitoring\\\\DATA\\\\DCASE2020\\\\pump_basedir\\\\dev_data\\\\pump\\\\test\\\\normal_id_06_00000084.wav',\n",
       " 'C:\\\\Users\\\\DMT2KOR\\\\OneDrive - Robert Bosch GmbH\\\\Documents\\\\WORK\\\\PROJECTS\\\\PoCs\\\\Machine Sound Monitoring\\\\DATA\\\\DCASE2020\\\\pump_basedir\\\\dev_data\\\\pump\\\\test\\\\normal_id_06_00000085.wav',\n",
       " 'C:\\\\Users\\\\DMT2KOR\\\\OneDrive - Robert Bosch GmbH\\\\Documents\\\\WORK\\\\PROJECTS\\\\PoCs\\\\Machine Sound Monitoring\\\\DATA\\\\DCASE2020\\\\pump_basedir\\\\dev_data\\\\pump\\\\test\\\\normal_id_06_00000086.wav',\n",
       " 'C:\\\\Users\\\\DMT2KOR\\\\OneDrive - Robert Bosch GmbH\\\\Documents\\\\WORK\\\\PROJECTS\\\\PoCs\\\\Machine Sound Monitoring\\\\DATA\\\\DCASE2020\\\\pump_basedir\\\\dev_data\\\\pump\\\\test\\\\normal_id_06_00000087.wav',\n",
       " 'C:\\\\Users\\\\DMT2KOR\\\\OneDrive - Robert Bosch GmbH\\\\Documents\\\\WORK\\\\PROJECTS\\\\PoCs\\\\Machine Sound Monitoring\\\\DATA\\\\DCASE2020\\\\pump_basedir\\\\dev_data\\\\pump\\\\test\\\\normal_id_06_00000088.wav',\n",
       " 'C:\\\\Users\\\\DMT2KOR\\\\OneDrive - Robert Bosch GmbH\\\\Documents\\\\WORK\\\\PROJECTS\\\\PoCs\\\\Machine Sound Monitoring\\\\DATA\\\\DCASE2020\\\\pump_basedir\\\\dev_data\\\\pump\\\\test\\\\normal_id_06_00000089.wav',\n",
       " 'C:\\\\Users\\\\DMT2KOR\\\\OneDrive - Robert Bosch GmbH\\\\Documents\\\\WORK\\\\PROJECTS\\\\PoCs\\\\Machine Sound Monitoring\\\\DATA\\\\DCASE2020\\\\pump_basedir\\\\dev_data\\\\pump\\\\test\\\\normal_id_06_00000090.wav',\n",
       " 'C:\\\\Users\\\\DMT2KOR\\\\OneDrive - Robert Bosch GmbH\\\\Documents\\\\WORK\\\\PROJECTS\\\\PoCs\\\\Machine Sound Monitoring\\\\DATA\\\\DCASE2020\\\\pump_basedir\\\\dev_data\\\\pump\\\\test\\\\normal_id_06_00000091.wav',\n",
       " 'C:\\\\Users\\\\DMT2KOR\\\\OneDrive - Robert Bosch GmbH\\\\Documents\\\\WORK\\\\PROJECTS\\\\PoCs\\\\Machine Sound Monitoring\\\\DATA\\\\DCASE2020\\\\pump_basedir\\\\dev_data\\\\pump\\\\test\\\\normal_id_06_00000092.wav',\n",
       " 'C:\\\\Users\\\\DMT2KOR\\\\OneDrive - Robert Bosch GmbH\\\\Documents\\\\WORK\\\\PROJECTS\\\\PoCs\\\\Machine Sound Monitoring\\\\DATA\\\\DCASE2020\\\\pump_basedir\\\\dev_data\\\\pump\\\\test\\\\normal_id_06_00000093.wav',\n",
       " 'C:\\\\Users\\\\DMT2KOR\\\\OneDrive - Robert Bosch GmbH\\\\Documents\\\\WORK\\\\PROJECTS\\\\PoCs\\\\Machine Sound Monitoring\\\\DATA\\\\DCASE2020\\\\pump_basedir\\\\dev_data\\\\pump\\\\test\\\\normal_id_06_00000094.wav',\n",
       " 'C:\\\\Users\\\\DMT2KOR\\\\OneDrive - Robert Bosch GmbH\\\\Documents\\\\WORK\\\\PROJECTS\\\\PoCs\\\\Machine Sound Monitoring\\\\DATA\\\\DCASE2020\\\\pump_basedir\\\\dev_data\\\\pump\\\\test\\\\normal_id_06_00000095.wav',\n",
       " 'C:\\\\Users\\\\DMT2KOR\\\\OneDrive - Robert Bosch GmbH\\\\Documents\\\\WORK\\\\PROJECTS\\\\PoCs\\\\Machine Sound Monitoring\\\\DATA\\\\DCASE2020\\\\pump_basedir\\\\dev_data\\\\pump\\\\test\\\\normal_id_06_00000096.wav',\n",
       " 'C:\\\\Users\\\\DMT2KOR\\\\OneDrive - Robert Bosch GmbH\\\\Documents\\\\WORK\\\\PROJECTS\\\\PoCs\\\\Machine Sound Monitoring\\\\DATA\\\\DCASE2020\\\\pump_basedir\\\\dev_data\\\\pump\\\\test\\\\normal_id_06_00000097.wav',\n",
       " 'C:\\\\Users\\\\DMT2KOR\\\\OneDrive - Robert Bosch GmbH\\\\Documents\\\\WORK\\\\PROJECTS\\\\PoCs\\\\Machine Sound Monitoring\\\\DATA\\\\DCASE2020\\\\pump_basedir\\\\dev_data\\\\pump\\\\test\\\\normal_id_06_00000098.wav',\n",
       " 'C:\\\\Users\\\\DMT2KOR\\\\OneDrive - Robert Bosch GmbH\\\\Documents\\\\WORK\\\\PROJECTS\\\\PoCs\\\\Machine Sound Monitoring\\\\DATA\\\\DCASE2020\\\\pump_basedir\\\\dev_data\\\\pump\\\\test\\\\normal_id_06_00000099.wav']"
      ]
     },
     "execution_count": 277,
     "metadata": {},
     "output_type": "execute_result"
    }
   ],
   "source": [
    "file_paths"
   ]
  },
  {
   "cell_type": "code",
   "execution_count": 278,
   "metadata": {},
   "outputs": [
    {
     "data": {
      "text/plain": [
       "['id_00', 'id_02', 'id_04', 'id_06']"
      ]
     },
     "execution_count": 278,
     "metadata": {},
     "output_type": "execute_result"
    }
   ],
   "source": [
    "machine_id_list"
   ]
  },
  {
   "cell_type": "code",
   "execution_count": 279,
   "metadata": {},
   "outputs": [
    {
     "name": "stderr",
     "output_type": "stream",
     "text": [
      "2020-09-10 22:19:35,390 - INFO - test_file  num : 243\n"
     ]
    },
    {
     "name": "stdout",
     "output_type": "stream",
     "text": [
      "\n",
      "=========================================\n"
     ]
    },
    {
     "name": "stderr",
     "output_type": "stream",
     "text": [
      "2020-09-10 22:19:35,399 - INFO - test_file  num : 211\n"
     ]
    },
    {
     "name": "stdout",
     "output_type": "stream",
     "text": [
      "\n",
      "=========================================\n"
     ]
    },
    {
     "name": "stderr",
     "output_type": "stream",
     "text": [
      "2020-09-10 22:19:35,409 - INFO - test_file  num : 200\n"
     ]
    },
    {
     "name": "stdout",
     "output_type": "stream",
     "text": [
      "\n",
      "=========================================\n"
     ]
    },
    {
     "name": "stderr",
     "output_type": "stream",
     "text": [
      "2020-09-10 22:19:35,418 - INFO - test_file  num : 202\n"
     ]
    },
    {
     "name": "stdout",
     "output_type": "stream",
     "text": [
      "\n",
      "=========================================\n"
     ]
    }
   ],
   "source": [
    "for id_str in machine_id_list:\n",
    "    files = sorted(\n",
    "        glob.glob(\"{dir}/{dir_name}/*{id_name}*.{ext}\".format(dir=target_dir,\n",
    "                                                              dir_name=dir_name,\n",
    "                                                              id_name=id_str,\n",
    "                                                              ext=ext)))\n",
    "    labels = None\n",
    "    logger.info(\"test_file  num : {num}\".format(num=len(files)))\n",
    "    if len(files) == 0:\n",
    "        logger.exception(\"no_wav_file!!\")\n",
    "    print(\"\\n=========================================\")"
   ]
  },
  {
   "cell_type": "markdown",
   "metadata": {},
   "source": [
    "### Inspecting Predictions for Pump Machine Id 06"
   ]
  },
  {
   "cell_type": "code",
   "execution_count": 280,
   "metadata": {},
   "outputs": [
    {
     "data": {
      "text/plain": [
       "'id_06'"
      ]
     },
     "execution_count": 280,
     "metadata": {},
     "output_type": "execute_result"
    }
   ],
   "source": [
    "id_str"
   ]
  },
  {
   "cell_type": "code",
   "execution_count": 281,
   "metadata": {},
   "outputs": [
    {
     "data": {
      "text/plain": [
       "array([0., 0., 0., 0., 0., 0., 0., 0., 0., 0., 0., 0., 0., 0., 0., 0., 0.,\n",
       "       0., 0., 0., 0., 0., 0., 0., 0., 0., 0., 0., 0., 0., 0., 0., 0., 0.,\n",
       "       0., 0., 0., 0., 0., 0., 0., 0., 0., 0., 0., 0., 0., 0., 0., 0., 0.,\n",
       "       0., 0., 0., 0., 0., 0., 0., 0., 0., 0., 0., 0., 0., 0., 0., 0., 0.,\n",
       "       0., 0., 0., 0., 0., 0., 0., 0., 0., 0., 0., 0., 0., 0., 0., 0., 0.,\n",
       "       0., 0., 0., 0., 0., 0., 0., 0., 0., 0., 0., 0., 0., 0., 0., 1., 1.,\n",
       "       1., 1., 1., 1., 1., 1., 1., 1., 1., 1., 1., 1., 1., 1., 1., 1., 1.,\n",
       "       1., 1., 1., 1., 1., 1., 1., 1., 1., 1., 1., 1., 1., 1., 1., 1., 1.,\n",
       "       1., 1., 1., 1., 1., 1., 1., 1., 1., 1., 1., 1., 1., 1., 1., 1., 1.,\n",
       "       1., 1., 1., 1., 1., 1., 1., 1., 1., 1., 1., 1., 1., 1., 1., 1., 1.,\n",
       "       1., 1., 1., 1., 1., 1., 1., 1., 1., 1., 1., 1., 1., 1., 1., 1., 1.,\n",
       "       1., 1., 1., 1., 1., 1., 1., 1., 1., 1., 1., 1., 1., 1., 1.])"
      ]
     },
     "execution_count": 281,
     "metadata": {},
     "output_type": "execute_result"
    }
   ],
   "source": [
    "y_true"
   ]
  },
  {
   "cell_type": "code",
   "execution_count": 282,
   "metadata": {},
   "outputs": [
    {
     "data": {
      "text/plain": [
       "[0.7695162115351915,\n",
       " 1.4423119912340034,\n",
       " 0.9614107331340205,\n",
       " 0.9243421231725744,\n",
       " 0.8181931401210863,\n",
       " 1.342310869104572,\n",
       " 1.0746268762518385,\n",
       " 0.6505837823594974,\n",
       " 0.6734717279641204,\n",
       " 1.3052654629614848,\n",
       " 0.6486980107231127,\n",
       " 0.8178654469101694,\n",
       " 0.7942005355753289,\n",
       " 0.9178461247593931,\n",
       " 0.6832419266229461,\n",
       " 1.0670651408247809,\n",
       " 0.7127060833534109,\n",
       " 0.9206717568316491,\n",
       " 1.0034948488552908,\n",
       " 1.1449676312586443,\n",
       " 0.6723116760788358,\n",
       " 0.6522538740439667,\n",
       " 1.3987855881526612,\n",
       " 0.832089210719073,\n",
       " 1.1453929529367288,\n",
       " 1.0755834192637657,\n",
       " 0.7719339166332054,\n",
       " 1.1260974374717172,\n",
       " 1.3297300676781898,\n",
       " 1.137644005981,\n",
       " 1.2740154373326955,\n",
       " 1.4040702202281055,\n",
       " 0.6760710360803756,\n",
       " 1.3121836575711217,\n",
       " 0.659042328229411,\n",
       " 0.9139663414225295,\n",
       " 1.191672675627551,\n",
       " 0.9218854015374602,\n",
       " 0.8974489066097193,\n",
       " 2.621329337569174,\n",
       " 1.3406995675434639,\n",
       " 0.7957855906058645,\n",
       " 0.7847928900798042,\n",
       " 1.482507433356312,\n",
       " 0.9036088453940789,\n",
       " 1.431998699024108,\n",
       " 1.2786658763721659,\n",
       " 1.0415045291617877,\n",
       " 1.306176269878321,\n",
       " 0.791844903681797,\n",
       " 1.2501205123405668,\n",
       " 0.7162127549382229,\n",
       " 1.1911876472820433,\n",
       " 0.8234958723657948,\n",
       " 0.9172582830038766,\n",
       " 0.6667331199675891,\n",
       " 1.037587687814706,\n",
       " 1.21239792550958,\n",
       " 0.8060141478467124,\n",
       " 1.3810822032717964,\n",
       " 0.6278815604872459,\n",
       " 1.061156148620564,\n",
       " 0.6298766723238405,\n",
       " 1.2098963956889073,\n",
       " 0.9169569866976897,\n",
       " 1.71037860683757,\n",
       " 1.2570714686360842,\n",
       " 0.6433621222520368,\n",
       " 1.4810702509318596,\n",
       " 1.2684968596417339,\n",
       " 1.1550741515892322,\n",
       " 1.3439577913344554,\n",
       " 1.1925229917630917,\n",
       " 0.7253735878313291,\n",
       " 2.033343480045478,\n",
       " 0.8732315699756211,\n",
       " 0.7487257386993733,\n",
       " 0.6649808754625671,\n",
       " 1.4009606420943657,\n",
       " 1.0723092399558922,\n",
       " 0.9797092890535468,\n",
       " 0.6645999715424523,\n",
       " 0.8228829483532705,\n",
       " 0.8822376447127678,\n",
       " 1.1832742335241238,\n",
       " 0.8293219070165218,\n",
       " 1.2190497253189914,\n",
       " 1.0366014074848255,\n",
       " 0.7413616266517845,\n",
       " 0.9861657846022412,\n",
       " 0.6454339375755196,\n",
       " 1.2654891341600898,\n",
       " 1.5695380888990418,\n",
       " 1.2317657974480327,\n",
       " 1.3881733007050017,\n",
       " 0.892176860495108,\n",
       " 1.0626004320496927,\n",
       " 1.0313241595000424,\n",
       " 1.004175038465899,\n",
       " 1.780765084004295,\n",
       " 0.9956579328602334,\n",
       " 0.8769442683695625,\n",
       " 1.468209235348486,\n",
       " 1.4225985153247447,\n",
       " 0.7745214532062891,\n",
       " 0.8916097573797307,\n",
       " 1.1540171950646074,\n",
       " 1.3786343452338972,\n",
       " 0.8228104265349337,\n",
       " 0.8000757331480575,\n",
       " 0.9747641386205446,\n",
       " 1.3416465595539286,\n",
       " 1.2378956782139912,\n",
       " 0.7643298427508299,\n",
       " 1.2396975376934063,\n",
       " 1.4218157304027075,\n",
       " 1.0478043052515893,\n",
       " 1.004987213548264,\n",
       " 1.2850840197243332,\n",
       " 0.9548591654399953,\n",
       " 1.4500607251504443,\n",
       " 1.5389796219646739,\n",
       " 1.5301985791675483,\n",
       " 0.9870036085664546,\n",
       " 0.8185812827937815,\n",
       " 0.7825782050400903,\n",
       " 0.7930166832691304,\n",
       " 0.6691725113525223,\n",
       " 1.063214422885702,\n",
       " 1.7039291980658138,\n",
       " 1.6540450932670834,\n",
       " 1.2142454425130564,\n",
       " 1.3452545308421475,\n",
       " 0.9572376369447215,\n",
       " 1.465114992820033,\n",
       " 0.7058032289020432,\n",
       " 1.5126816561266287,\n",
       " 0.8030370347400155,\n",
       " 1.8123784254353885,\n",
       " 1.3951953884161403,\n",
       " 1.0269136792667735,\n",
       " 1.3752214122911637,\n",
       " 0.7888530334134417,\n",
       " 1.7150936928496872,\n",
       " 0.8599585175847247,\n",
       " 1.3217251646043888,\n",
       " 1.6393570794806867,\n",
       " 1.1300683221137213,\n",
       " 0.96191380000782,\n",
       " 1.1623976164374308,\n",
       " 1.349248699507139,\n",
       " 1.2793472255126948,\n",
       " 1.0653490275241841,\n",
       " 1.608199720773137,\n",
       " 0.9132199033830903,\n",
       " 1.1667273124735054,\n",
       " 1.3146152275597827,\n",
       " 1.4296616706846357,\n",
       " 2.0809692754224502,\n",
       " 1.373639853970562,\n",
       " 2.2603824836908464,\n",
       " 0.9014312618570093,\n",
       " 1.6396012286237203,\n",
       " 1.307655898199651,\n",
       " 1.3115702041677662,\n",
       " 1.2720515128795102,\n",
       " 0.8393753616948672,\n",
       " 1.0889195274310224,\n",
       " 1.4171506407028533,\n",
       " 1.0358840299556522,\n",
       " 1.7035020808027028,\n",
       " 0.7915285340050371,\n",
       " 1.40626878623271,\n",
       " 2.0995344648544196,\n",
       " 2.4149344497187464,\n",
       " 0.9869958452639122,\n",
       " 1.1649738334238509,\n",
       " 1.3739154657719324,\n",
       " 0.9398723642264641,\n",
       " 0.9115688155647439,\n",
       " 0.7044431436753477,\n",
       " 0.9663050923046781,\n",
       " 1.2057719651658299,\n",
       " 0.9194534220828371,\n",
       " 0.7445880570080111,\n",
       " 1.5730681886858235,\n",
       " 0.7248446336442677,\n",
       " 0.92501901198937,\n",
       " 1.8106824167428204,\n",
       " 1.4364161616225708,\n",
       " 1.3524865983390217,\n",
       " 0.8170532136690795,\n",
       " 0.8190617485440845,\n",
       " 0.8394522942117804,\n",
       " 1.1248418869026426,\n",
       " 1.3256615293801202,\n",
       " 0.8845808561827042,\n",
       " 0.7789705757031754,\n",
       " 1.0804633257139011,\n",
       " 0.9012093645779508,\n",
       " 1.6299367548031771,\n",
       " 1.4218239491457796]"
      ]
     },
     "execution_count": 282,
     "metadata": {},
     "output_type": "execute_result"
    }
   ],
   "source": [
    "y_pred"
   ]
  },
  {
   "cell_type": "code",
   "execution_count": 283,
   "metadata": {},
   "outputs": [
    {
     "data": {
      "text/plain": [
       "0.6308823529411764"
      ]
     },
     "execution_count": 283,
     "metadata": {},
     "output_type": "execute_result"
    }
   ],
   "source": [
    "metrics.roc_auc_score(y_true, y_pred)"
   ]
  },
  {
   "cell_type": "code",
   "execution_count": 284,
   "metadata": {},
   "outputs": [
    {
     "data": {
      "text/plain": [
       "(array([49., 41., 37., 43., 15., 11.,  0.,  3.,  2.,  1.]),\n",
       " array([0.62788156, 0.82722634, 1.02657112, 1.22591589, 1.42526067,\n",
       "        1.62460545, 1.82395023, 2.023295  , 2.22263978, 2.42198456,\n",
       "        2.62132934]),\n",
       " <a list of 10 Patch objects>)"
      ]
     },
     "execution_count": 284,
     "metadata": {},
     "output_type": "execute_result"
    },
    {
     "data": {
      "image/png": "[encoded data removed]",
      "text/plain": [
       "<Figure size 432x288 with 1 Axes>"
      ]
     },
     "metadata": {
      "needs_background": "light"
     },
     "output_type": "display_data"
    }
   ],
   "source": [
    "plt.hist(y_pred)"
   ]
  },
  {
   "cell_type": "code",
   "execution_count": 285,
   "metadata": {},
   "outputs": [
    {
     "data": {
      "text/plain": [
       "202"
      ]
     },
     "execution_count": 285,
     "metadata": {},
     "output_type": "execute_result"
    }
   ],
   "source": [
    "len(y_pred)"
   ]
  },
  {
   "cell_type": "code",
   "execution_count": 286,
   "metadata": {},
   "outputs": [
    {
     "data": {
      "text/plain": [
       "0.0    202\n",
       "dtype: int64"
      ]
     },
     "execution_count": 286,
     "metadata": {},
     "output_type": "execute_result"
    }
   ],
   "source": [
    "temp = pd.Series(y_pred)\n",
    "temp[temp <= 10] = 0\n",
    "temp[temp > 10] = 1\n",
    "temp.value_counts()"
   ]
  },
  {
   "cell_type": "code",
   "execution_count": 287,
   "metadata": {},
   "outputs": [],
   "source": [
    "temp1 = list(temp.values)"
   ]
  },
  {
   "cell_type": "code",
   "execution_count": 288,
   "metadata": {},
   "outputs": [
    {
     "data": {
      "text/plain": [
       "1.0    102\n",
       "0.0    100\n",
       "dtype: int64"
      ]
     },
     "execution_count": 288,
     "metadata": {},
     "output_type": "execute_result"
    }
   ],
   "source": [
    "pd.Series(y_true).value_counts()"
   ]
  },
  {
   "cell_type": "code",
   "execution_count": 289,
   "metadata": {},
   "outputs": [
    {
     "data": {
      "text/plain": [
       "0.49504950495049505"
      ]
     },
     "execution_count": 289,
     "metadata": {},
     "output_type": "execute_result"
    }
   ],
   "source": [
    "metrics.accuracy_score(y_true, temp1)"
   ]
  },
  {
   "cell_type": "code",
   "execution_count": 213,
   "metadata": {},
   "outputs": [
    {
     "data": {
      "text/plain": [
       "'C:\\\\Users\\\\DMT2KOR\\\\OneDrive - Robert Bosch GmbH\\\\Documents\\\\WORK\\\\PROJECTS\\\\PoCs\\\\Machine Sound Monitoring\\\\DATA\\\\DCASE2020\\\\pump_basedir'"
      ]
     },
     "execution_count": 213,
     "metadata": {},
     "output_type": "execute_result"
    }
   ],
   "source": [
    "os.getcwd()"
   ]
  },
  {
   "cell_type": "code",
   "execution_count": 214,
   "metadata": {},
   "outputs": [
    {
     "ename": "FileNotFoundError",
     "evalue": "[Errno 2] No such file or directory: 'Pump_machine02_mse.xlsx'",
     "output_type": "error",
     "traceback": [
      "\u001b[1;31m---------------------------------------------------------------------------\u001b[0m",
      "\u001b[1;31mFileNotFoundError\u001b[0m                         Traceback (most recent call last)",
      "\u001b[1;32m<ipython-input-214-a4fc9791e778>\u001b[0m in \u001b[0;36m<module>\u001b[1;34m\u001b[0m\n\u001b[1;32m----> 1\u001b[1;33m \u001b[0mdf\u001b[0m \u001b[1;33m=\u001b[0m \u001b[0mpd\u001b[0m\u001b[1;33m.\u001b[0m\u001b[0mread_excel\u001b[0m\u001b[1;33m(\u001b[0m\u001b[1;34m'Pump_machine02_mse.xlsx'\u001b[0m\u001b[1;33m)\u001b[0m\u001b[1;33m\u001b[0m\u001b[1;33m\u001b[0m\u001b[0m\n\u001b[0m",
      "\u001b[1;32m~\\AppData\\Local\\Continuum\\anaconda3\\lib\\site-packages\\pandas\\util\\_decorators.py\u001b[0m in \u001b[0;36mwrapper\u001b[1;34m(*args, **kwargs)\u001b[0m\n\u001b[0;32m    186\u001b[0m                 \u001b[1;32melse\u001b[0m\u001b[1;33m:\u001b[0m\u001b[1;33m\u001b[0m\u001b[1;33m\u001b[0m\u001b[0m\n\u001b[0;32m    187\u001b[0m                     \u001b[0mkwargs\u001b[0m\u001b[1;33m[\u001b[0m\u001b[0mnew_arg_name\u001b[0m\u001b[1;33m]\u001b[0m \u001b[1;33m=\u001b[0m \u001b[0mnew_arg_value\u001b[0m\u001b[1;33m\u001b[0m\u001b[1;33m\u001b[0m\u001b[0m\n\u001b[1;32m--> 188\u001b[1;33m             \u001b[1;32mreturn\u001b[0m \u001b[0mfunc\u001b[0m\u001b[1;33m(\u001b[0m\u001b[1;33m*\u001b[0m\u001b[0margs\u001b[0m\u001b[1;33m,\u001b[0m \u001b[1;33m**\u001b[0m\u001b[0mkwargs\u001b[0m\u001b[1;33m)\u001b[0m\u001b[1;33m\u001b[0m\u001b[1;33m\u001b[0m\u001b[0m\n\u001b[0m\u001b[0;32m    189\u001b[0m         \u001b[1;32mreturn\u001b[0m \u001b[0mwrapper\u001b[0m\u001b[1;33m\u001b[0m\u001b[1;33m\u001b[0m\u001b[0m\n\u001b[0;32m    190\u001b[0m     \u001b[1;32mreturn\u001b[0m \u001b[0m_deprecate_kwarg\u001b[0m\u001b[1;33m\u001b[0m\u001b[1;33m\u001b[0m\u001b[0m\n",
      "\u001b[1;32m~\\AppData\\Local\\Continuum\\anaconda3\\lib\\site-packages\\pandas\\util\\_decorators.py\u001b[0m in \u001b[0;36mwrapper\u001b[1;34m(*args, **kwargs)\u001b[0m\n\u001b[0;32m    186\u001b[0m                 \u001b[1;32melse\u001b[0m\u001b[1;33m:\u001b[0m\u001b[1;33m\u001b[0m\u001b[1;33m\u001b[0m\u001b[0m\n\u001b[0;32m    187\u001b[0m                     \u001b[0mkwargs\u001b[0m\u001b[1;33m[\u001b[0m\u001b[0mnew_arg_name\u001b[0m\u001b[1;33m]\u001b[0m \u001b[1;33m=\u001b[0m \u001b[0mnew_arg_value\u001b[0m\u001b[1;33m\u001b[0m\u001b[1;33m\u001b[0m\u001b[0m\n\u001b[1;32m--> 188\u001b[1;33m             \u001b[1;32mreturn\u001b[0m \u001b[0mfunc\u001b[0m\u001b[1;33m(\u001b[0m\u001b[1;33m*\u001b[0m\u001b[0margs\u001b[0m\u001b[1;33m,\u001b[0m \u001b[1;33m**\u001b[0m\u001b[0mkwargs\u001b[0m\u001b[1;33m)\u001b[0m\u001b[1;33m\u001b[0m\u001b[1;33m\u001b[0m\u001b[0m\n\u001b[0m\u001b[0;32m    189\u001b[0m         \u001b[1;32mreturn\u001b[0m \u001b[0mwrapper\u001b[0m\u001b[1;33m\u001b[0m\u001b[1;33m\u001b[0m\u001b[0m\n\u001b[0;32m    190\u001b[0m     \u001b[1;32mreturn\u001b[0m \u001b[0m_deprecate_kwarg\u001b[0m\u001b[1;33m\u001b[0m\u001b[1;33m\u001b[0m\u001b[0m\n",
      "\u001b[1;32m~\\AppData\\Local\\Continuum\\anaconda3\\lib\\site-packages\\pandas\\io\\excel.py\u001b[0m in \u001b[0;36mread_excel\u001b[1;34m(io, sheet_name, header, names, index_col, parse_cols, usecols, squeeze, dtype, engine, converters, true_values, false_values, skiprows, nrows, na_values, keep_default_na, verbose, parse_dates, date_parser, thousands, comment, skip_footer, skipfooter, convert_float, mangle_dupe_cols, **kwds)\u001b[0m\n\u001b[0;32m    348\u001b[0m \u001b[1;33m\u001b[0m\u001b[0m\n\u001b[0;32m    349\u001b[0m     \u001b[1;32mif\u001b[0m \u001b[1;32mnot\u001b[0m \u001b[0misinstance\u001b[0m\u001b[1;33m(\u001b[0m\u001b[0mio\u001b[0m\u001b[1;33m,\u001b[0m \u001b[0mExcelFile\u001b[0m\u001b[1;33m)\u001b[0m\u001b[1;33m:\u001b[0m\u001b[1;33m\u001b[0m\u001b[1;33m\u001b[0m\u001b[0m\n\u001b[1;32m--> 350\u001b[1;33m         \u001b[0mio\u001b[0m \u001b[1;33m=\u001b[0m \u001b[0mExcelFile\u001b[0m\u001b[1;33m(\u001b[0m\u001b[0mio\u001b[0m\u001b[1;33m,\u001b[0m \u001b[0mengine\u001b[0m\u001b[1;33m=\u001b[0m\u001b[0mengine\u001b[0m\u001b[1;33m)\u001b[0m\u001b[1;33m\u001b[0m\u001b[1;33m\u001b[0m\u001b[0m\n\u001b[0m\u001b[0;32m    351\u001b[0m \u001b[1;33m\u001b[0m\u001b[0m\n\u001b[0;32m    352\u001b[0m     return io.parse(\n",
      "\u001b[1;32m~\\AppData\\Local\\Continuum\\anaconda3\\lib\\site-packages\\pandas\\io\\excel.py\u001b[0m in \u001b[0;36m__init__\u001b[1;34m(self, io, engine)\u001b[0m\n\u001b[0;32m    651\u001b[0m         \u001b[0mself\u001b[0m\u001b[1;33m.\u001b[0m\u001b[0m_io\u001b[0m \u001b[1;33m=\u001b[0m \u001b[0m_stringify_path\u001b[0m\u001b[1;33m(\u001b[0m\u001b[0mio\u001b[0m\u001b[1;33m)\u001b[0m\u001b[1;33m\u001b[0m\u001b[1;33m\u001b[0m\u001b[0m\n\u001b[0;32m    652\u001b[0m \u001b[1;33m\u001b[0m\u001b[0m\n\u001b[1;32m--> 653\u001b[1;33m         \u001b[0mself\u001b[0m\u001b[1;33m.\u001b[0m\u001b[0m_reader\u001b[0m \u001b[1;33m=\u001b[0m \u001b[0mself\u001b[0m\u001b[1;33m.\u001b[0m\u001b[0m_engines\u001b[0m\u001b[1;33m[\u001b[0m\u001b[0mengine\u001b[0m\u001b[1;33m]\u001b[0m\u001b[1;33m(\u001b[0m\u001b[0mself\u001b[0m\u001b[1;33m.\u001b[0m\u001b[0m_io\u001b[0m\u001b[1;33m)\u001b[0m\u001b[1;33m\u001b[0m\u001b[1;33m\u001b[0m\u001b[0m\n\u001b[0m\u001b[0;32m    654\u001b[0m \u001b[1;33m\u001b[0m\u001b[0m\n\u001b[0;32m    655\u001b[0m     \u001b[1;32mdef\u001b[0m \u001b[0m__fspath__\u001b[0m\u001b[1;33m(\u001b[0m\u001b[0mself\u001b[0m\u001b[1;33m)\u001b[0m\u001b[1;33m:\u001b[0m\u001b[1;33m\u001b[0m\u001b[1;33m\u001b[0m\u001b[0m\n",
      "\u001b[1;32m~\\AppData\\Local\\Continuum\\anaconda3\\lib\\site-packages\\pandas\\io\\excel.py\u001b[0m in \u001b[0;36m__init__\u001b[1;34m(self, filepath_or_buffer)\u001b[0m\n\u001b[0;32m    422\u001b[0m             \u001b[0mself\u001b[0m\u001b[1;33m.\u001b[0m\u001b[0mbook\u001b[0m \u001b[1;33m=\u001b[0m \u001b[0mxlrd\u001b[0m\u001b[1;33m.\u001b[0m\u001b[0mopen_workbook\u001b[0m\u001b[1;33m(\u001b[0m\u001b[0mfile_contents\u001b[0m\u001b[1;33m=\u001b[0m\u001b[0mdata\u001b[0m\u001b[1;33m)\u001b[0m\u001b[1;33m\u001b[0m\u001b[1;33m\u001b[0m\u001b[0m\n\u001b[0;32m    423\u001b[0m         \u001b[1;32melif\u001b[0m \u001b[0misinstance\u001b[0m\u001b[1;33m(\u001b[0m\u001b[0mfilepath_or_buffer\u001b[0m\u001b[1;33m,\u001b[0m \u001b[0mcompat\u001b[0m\u001b[1;33m.\u001b[0m\u001b[0mstring_types\u001b[0m\u001b[1;33m)\u001b[0m\u001b[1;33m:\u001b[0m\u001b[1;33m\u001b[0m\u001b[1;33m\u001b[0m\u001b[0m\n\u001b[1;32m--> 424\u001b[1;33m             \u001b[0mself\u001b[0m\u001b[1;33m.\u001b[0m\u001b[0mbook\u001b[0m \u001b[1;33m=\u001b[0m \u001b[0mxlrd\u001b[0m\u001b[1;33m.\u001b[0m\u001b[0mopen_workbook\u001b[0m\u001b[1;33m(\u001b[0m\u001b[0mfilepath_or_buffer\u001b[0m\u001b[1;33m)\u001b[0m\u001b[1;33m\u001b[0m\u001b[1;33m\u001b[0m\u001b[0m\n\u001b[0m\u001b[0;32m    425\u001b[0m         \u001b[1;32melse\u001b[0m\u001b[1;33m:\u001b[0m\u001b[1;33m\u001b[0m\u001b[1;33m\u001b[0m\u001b[0m\n\u001b[0;32m    426\u001b[0m             raise ValueError('Must explicitly set engine if not passing in'\n",
      "\u001b[1;32m~\\AppData\\Local\\Continuum\\anaconda3\\lib\\site-packages\\xlrd\\__init__.py\u001b[0m in \u001b[0;36mopen_workbook\u001b[1;34m(filename, logfile, verbosity, use_mmap, file_contents, encoding_override, formatting_info, on_demand, ragged_rows)\u001b[0m\n\u001b[0;32m    109\u001b[0m     \u001b[1;32melse\u001b[0m\u001b[1;33m:\u001b[0m\u001b[1;33m\u001b[0m\u001b[1;33m\u001b[0m\u001b[0m\n\u001b[0;32m    110\u001b[0m         \u001b[0mfilename\u001b[0m \u001b[1;33m=\u001b[0m \u001b[0mos\u001b[0m\u001b[1;33m.\u001b[0m\u001b[0mpath\u001b[0m\u001b[1;33m.\u001b[0m\u001b[0mexpanduser\u001b[0m\u001b[1;33m(\u001b[0m\u001b[0mfilename\u001b[0m\u001b[1;33m)\u001b[0m\u001b[1;33m\u001b[0m\u001b[1;33m\u001b[0m\u001b[0m\n\u001b[1;32m--> 111\u001b[1;33m         \u001b[1;32mwith\u001b[0m \u001b[0mopen\u001b[0m\u001b[1;33m(\u001b[0m\u001b[0mfilename\u001b[0m\u001b[1;33m,\u001b[0m \u001b[1;34m\"rb\"\u001b[0m\u001b[1;33m)\u001b[0m \u001b[1;32mas\u001b[0m \u001b[0mf\u001b[0m\u001b[1;33m:\u001b[0m\u001b[1;33m\u001b[0m\u001b[1;33m\u001b[0m\u001b[0m\n\u001b[0m\u001b[0;32m    112\u001b[0m             \u001b[0mpeek\u001b[0m \u001b[1;33m=\u001b[0m \u001b[0mf\u001b[0m\u001b[1;33m.\u001b[0m\u001b[0mread\u001b[0m\u001b[1;33m(\u001b[0m\u001b[0mpeeksz\u001b[0m\u001b[1;33m)\u001b[0m\u001b[1;33m\u001b[0m\u001b[1;33m\u001b[0m\u001b[0m\n\u001b[0;32m    113\u001b[0m     \u001b[1;32mif\u001b[0m \u001b[0mpeek\u001b[0m \u001b[1;33m==\u001b[0m \u001b[1;34mb\"PK\\x03\\x04\"\u001b[0m\u001b[1;33m:\u001b[0m \u001b[1;31m# a ZIP file\u001b[0m\u001b[1;33m\u001b[0m\u001b[1;33m\u001b[0m\u001b[0m\n",
      "\u001b[1;31mFileNotFoundError\u001b[0m: [Errno 2] No such file or directory: 'Pump_machine02_mse.xlsx'"
     ]
    }
   ],
   "source": [
    "df = pd.read_excel('Pump_machine02_mse.xlsx')"
   ]
  },
  {
   "cell_type": "code",
   "execution_count": 215,
   "metadata": {},
   "outputs": [
    {
     "ename": "NameError",
     "evalue": "name 'df' is not defined",
     "output_type": "error",
     "traceback": [
      "\u001b[1;31m---------------------------------------------------------------------------\u001b[0m",
      "\u001b[1;31mNameError\u001b[0m                                 Traceback (most recent call last)",
      "\u001b[1;32m<ipython-input-215-c42a15b2c7cf>\u001b[0m in \u001b[0;36m<module>\u001b[1;34m\u001b[0m\n\u001b[1;32m----> 1\u001b[1;33m \u001b[0mdf\u001b[0m\u001b[1;33m.\u001b[0m\u001b[0mhead\u001b[0m\u001b[1;33m(\u001b[0m\u001b[1;33m)\u001b[0m\u001b[1;33m\u001b[0m\u001b[1;33m\u001b[0m\u001b[0m\n\u001b[0m",
      "\u001b[1;31mNameError\u001b[0m: name 'df' is not defined"
     ]
    }
   ],
   "source": [
    "df.head()"
   ]
  },
  {
   "cell_type": "code",
   "execution_count": 216,
   "metadata": {},
   "outputs": [
    {
     "ename": "NameError",
     "evalue": "name 'df' is not defined",
     "output_type": "error",
     "traceback": [
      "\u001b[1;31m---------------------------------------------------------------------------\u001b[0m",
      "\u001b[1;31mNameError\u001b[0m                                 Traceback (most recent call last)",
      "\u001b[1;32m<ipython-input-216-d7164f699c7d>\u001b[0m in \u001b[0;36m<module>\u001b[1;34m\u001b[0m\n\u001b[0;32m      1\u001b[0m \u001b[1;32mfrom\u001b[0m \u001b[0mmatplotlib\u001b[0m \u001b[1;32mimport\u001b[0m \u001b[0mpyplot\u001b[0m\u001b[1;33m\u001b[0m\u001b[1;33m\u001b[0m\u001b[0m\n\u001b[1;32m----> 2\u001b[1;33m \u001b[0mdf1\u001b[0m \u001b[1;33m=\u001b[0m \u001b[0mdf\u001b[0m\u001b[1;33m[\u001b[0m\u001b[0mdf\u001b[0m\u001b[1;33m[\u001b[0m\u001b[1;34m'Data Type'\u001b[0m\u001b[1;33m]\u001b[0m \u001b[1;33m==\u001b[0m \u001b[1;34m'Normal'\u001b[0m\u001b[1;33m]\u001b[0m\u001b[1;33m\u001b[0m\u001b[1;33m\u001b[0m\u001b[0m\n\u001b[0m\u001b[0;32m      3\u001b[0m \u001b[0mdf2\u001b[0m \u001b[1;33m=\u001b[0m \u001b[0mdf\u001b[0m\u001b[1;33m[\u001b[0m\u001b[0mdf\u001b[0m\u001b[1;33m[\u001b[0m\u001b[1;34m'Data Type'\u001b[0m\u001b[1;33m]\u001b[0m \u001b[1;33m==\u001b[0m \u001b[1;34m'Anomaly'\u001b[0m\u001b[1;33m]\u001b[0m\u001b[1;33m\u001b[0m\u001b[1;33m\u001b[0m\u001b[0m\n",
      "\u001b[1;31mNameError\u001b[0m: name 'df' is not defined"
     ]
    }
   ],
   "source": [
    "from matplotlib import pyplot\n",
    "df1 = df[df['Data Type'] == 'Normal']\n",
    "df2 = df[df['Data Type'] == 'Anomaly']"
   ]
  },
  {
   "cell_type": "code",
   "execution_count": 217,
   "metadata": {},
   "outputs": [
    {
     "ename": "NameError",
     "evalue": "name 'df' is not defined",
     "output_type": "error",
     "traceback": [
      "\u001b[1;31m---------------------------------------------------------------------------\u001b[0m",
      "\u001b[1;31mNameError\u001b[0m                                 Traceback (most recent call last)",
      "\u001b[1;32m<ipython-input-217-96203ce22776>\u001b[0m in \u001b[0;36m<module>\u001b[1;34m\u001b[0m\n\u001b[1;32m----> 1\u001b[1;33m \u001b[0mplt\u001b[0m\u001b[1;33m.\u001b[0m\u001b[0mhist\u001b[0m\u001b[1;33m(\u001b[0m\u001b[0mdf\u001b[0m\u001b[1;33m[\u001b[0m\u001b[1;34m'MSE Score'\u001b[0m\u001b[1;33m]\u001b[0m\u001b[1;33m,\u001b[0m \u001b[1;36m10\u001b[0m\u001b[1;33m,\u001b[0m \u001b[0mdensity\u001b[0m\u001b[1;33m=\u001b[0m\u001b[1;32mTrue\u001b[0m\u001b[1;33m,\u001b[0m \u001b[0mhisttype\u001b[0m\u001b[1;33m=\u001b[0m\u001b[1;34m'bar'\u001b[0m\u001b[1;33m,\u001b[0m \u001b[0mlabel\u001b[0m\u001b[1;33m=\u001b[0m\u001b[0mdf\u001b[0m\u001b[1;33m[\u001b[0m\u001b[1;34m'Data Type'\u001b[0m\u001b[1;33m]\u001b[0m\u001b[1;33m)\u001b[0m\u001b[1;33m\u001b[0m\u001b[1;33m\u001b[0m\u001b[0m\n\u001b[0m",
      "\u001b[1;31mNameError\u001b[0m: name 'df' is not defined"
     ]
    }
   ],
   "source": [
    "plt.hist(df['MSE Score'], 10, density=True, histtype='bar', label=df['Data Type'])"
   ]
  },
  {
   "cell_type": "code",
   "execution_count": 218,
   "metadata": {},
   "outputs": [
    {
     "ename": "NameError",
     "evalue": "name 'df2' is not defined",
     "output_type": "error",
     "traceback": [
      "\u001b[1;31m---------------------------------------------------------------------------\u001b[0m",
      "\u001b[1;31mNameError\u001b[0m                                 Traceback (most recent call last)",
      "\u001b[1;32m<ipython-input-218-3583703be3df>\u001b[0m in \u001b[0;36m<module>\u001b[1;34m\u001b[0m\n\u001b[1;32m----> 1\u001b[1;33m \u001b[0mpyplot\u001b[0m\u001b[1;33m.\u001b[0m\u001b[0mhist\u001b[0m\u001b[1;33m(\u001b[0m\u001b[0mdf2\u001b[0m\u001b[1;33m[\u001b[0m\u001b[1;34m'MSE Score'\u001b[0m\u001b[1;33m]\u001b[0m\u001b[1;33m,\u001b[0m \u001b[1;36m10\u001b[0m\u001b[1;33m,\u001b[0m \u001b[0mdensity\u001b[0m\u001b[1;33m=\u001b[0m\u001b[1;32mTrue\u001b[0m\u001b[1;33m,\u001b[0m \u001b[0mhisttype\u001b[0m\u001b[1;33m=\u001b[0m\u001b[1;34m'bar'\u001b[0m\u001b[1;33m,\u001b[0m \u001b[0mlabel\u001b[0m\u001b[1;33m=\u001b[0m\u001b[1;34m'Anomaly'\u001b[0m\u001b[1;33m,\u001b[0m \u001b[0mcolor\u001b[0m \u001b[1;33m=\u001b[0m \u001b[1;34m'r'\u001b[0m\u001b[1;33m,\u001b[0m \u001b[0malpha\u001b[0m\u001b[1;33m=\u001b[0m\u001b[1;36m0.5\u001b[0m\u001b[1;33m)\u001b[0m\u001b[1;33m\u001b[0m\u001b[1;33m\u001b[0m\u001b[0m\n\u001b[0m\u001b[0;32m      2\u001b[0m \u001b[0mpyplot\u001b[0m\u001b[1;33m.\u001b[0m\u001b[0mhist\u001b[0m\u001b[1;33m(\u001b[0m\u001b[0mdf1\u001b[0m\u001b[1;33m[\u001b[0m\u001b[1;34m'MSE Score'\u001b[0m\u001b[1;33m]\u001b[0m\u001b[1;33m,\u001b[0m \u001b[1;36m10\u001b[0m\u001b[1;33m,\u001b[0m \u001b[0mdensity\u001b[0m\u001b[1;33m=\u001b[0m\u001b[1;32mTrue\u001b[0m\u001b[1;33m,\u001b[0m \u001b[0mhisttype\u001b[0m\u001b[1;33m=\u001b[0m\u001b[1;34m'bar'\u001b[0m\u001b[1;33m,\u001b[0m \u001b[0mlabel\u001b[0m\u001b[1;33m=\u001b[0m\u001b[1;34m'Normal'\u001b[0m\u001b[1;33m,\u001b[0m \u001b[0mcolor\u001b[0m \u001b[1;33m=\u001b[0m \u001b[1;34m'g'\u001b[0m\u001b[1;33m,\u001b[0m \u001b[0malpha\u001b[0m\u001b[1;33m=\u001b[0m\u001b[1;36m0.5\u001b[0m\u001b[1;33m)\u001b[0m\u001b[1;33m\u001b[0m\u001b[1;33m\u001b[0m\u001b[0m\n\u001b[0;32m      3\u001b[0m \u001b[0mplt\u001b[0m\u001b[1;33m.\u001b[0m\u001b[0mlegend\u001b[0m\u001b[1;33m(\u001b[0m\u001b[1;33m[\u001b[0m\u001b[1;34m'Anomaly'\u001b[0m\u001b[1;33m,\u001b[0m \u001b[1;34m'Normal'\u001b[0m\u001b[1;33m]\u001b[0m\u001b[1;33m)\u001b[0m\u001b[1;33m\u001b[0m\u001b[1;33m\u001b[0m\u001b[0m\n\u001b[0;32m      4\u001b[0m \u001b[0mplt\u001b[0m\u001b[1;33m.\u001b[0m\u001b[0mxlabel\u001b[0m\u001b[1;33m(\u001b[0m\u001b[1;34m'MSE Value Bins'\u001b[0m\u001b[1;33m)\u001b[0m\u001b[1;33m\u001b[0m\u001b[1;33m\u001b[0m\u001b[0m\n\u001b[0;32m      5\u001b[0m \u001b[0mplt\u001b[0m\u001b[1;33m.\u001b[0m\u001b[0mylabel\u001b[0m\u001b[1;33m(\u001b[0m\u001b[1;34m'Frequency Density'\u001b[0m\u001b[1;33m)\u001b[0m\u001b[1;33m\u001b[0m\u001b[1;33m\u001b[0m\u001b[0m\n",
      "\u001b[1;31mNameError\u001b[0m: name 'df2' is not defined"
     ]
    }
   ],
   "source": [
    "pyplot.hist(df2['MSE Score'], 10, density=True, histtype='bar', label='Anomaly', color = 'r', alpha=0.5)\n",
    "pyplot.hist(df1['MSE Score'], 10, density=True, histtype='bar', label='Normal', color = 'g', alpha=0.5)\n",
    "plt.legend(['Anomaly', 'Normal'])\n",
    "plt.xlabel('MSE Value Bins')\n",
    "plt.ylabel('Frequency Density')\n",
    "plt.title('MSE Values Distribution for Pump Machine 02')"
   ]
  },
  {
   "cell_type": "code",
   "execution_count": null,
   "metadata": {},
   "outputs": [],
   "source": []
  }
 ],
 "metadata": {
  "accelerator": "GPU",
  "colab": {
   "collapsed_sections": [],
   "name": "Sound_AnomalyDetection_1.1.ipynb",
   "provenance": []
  },
  "kernelspec": {
   "display_name": "Python 3",
   "language": "python",
   "name": "python3"
  },
  "language_info": {
   "codemirror_mode": {
    "name": "ipython",
    "version": 3
   },
   "file_extension": ".py",
   "mimetype": "text/x-python",
   "name": "python",
   "nbconvert_exporter": "python",
   "pygments_lexer": "ipython3",
   "version": "3.7.3"
  }
 },
 "nbformat": 4,
 "nbformat_minor": 1
}
